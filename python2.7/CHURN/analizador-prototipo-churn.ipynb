{
 "cells": [
  {
   "cell_type": "code",
   "execution_count": null,
   "metadata": {
    "collapsed": true
   },
   "outputs": [],
   "source": [
    "# DATA SET CANCER DE MAMA https://archive.ics.uci.edu/ml/datasets/Breast+Cancer+Wisconsin+%28Original%29"
   ]
  },
  {
   "cell_type": "markdown",
   "metadata": {},
   "source": [
    "from __future__ import division\n",
    "churn_df = pd.read_csv('churn-data.csv')\n",
    "col_names = churn_df.columns.tolist()\n",
    "\n",
    "print \"Column names:\"\n",
    "print col_names\n",
    "\n",
    "to_show = col_names[:6] + col_names[-6:]\n",
    "\n",
    "print \"\\nSample data:\"\n",
    "churn_df[to_show].head(6)"
   ]
  },
  {
   "cell_type": "code",
   "execution_count": null,
   "metadata": {
    "collapsed": false
   },
   "outputs": [],
   "source": [
    "import numpy as np\n",
    "# from sklearn import preprocessing, cross_validation, neighbors\n",
    "import pandas as pd\n",
    "\n",
    "df = pd.read_csv('churn-data_prototipo.csv')\n",
    "df.head()"
   ]
  },
  {
   "cell_type": "code",
   "execution_count": null,
   "metadata": {
    "collapsed": true
   },
   "outputs": [],
   "source": []
  },
  {
   "cell_type": "code",
   "execution_count": 2,
   "metadata": {
    "collapsed": false
   },
   "outputs": [],
   "source": [
    "# preprocesamiento ELIMINAR CAMPOS\n",
    "to_drop = ['State','Area_Code','Phone']\n",
    "df.drop(to_drop, 1, inplace=True)\n"
   ]
  },
  {
   "cell_type": "code",
   "execution_count": 3,
   "metadata": {
    "collapsed": true
   },
   "outputs": [],
   "source": [
    "#PREPROCESAMIENTO\n",
    "df.replace('?',-99999, inplace=True)\n",
    "for col in df.columns:\n",
    "    # esto equivale a eliminar la fila\n",
    "    df = df[df[col] != -99999]\n",
    "    "
   ]
  },
  {
   "cell_type": "code",
   "execution_count": 5,
   "metadata": {
    "collapsed": false
   },
   "outputs": [
    {
     "name": "stdout",
     "output_type": "stream",
     "text": [
      "   Account_Length  Int_Plan  VMail_Plan  VMail_Message  Day_Mins  Day_Calls  \\\n",
      "0             128         0           1             25     265.1        110   \n",
      "1             107         0           1             26     161.6        123   \n",
      "2             137         0           0              0     243.4        114   \n",
      "3              84         1           0              0     299.4         71   \n",
      "4              75         1           0              0     166.7        113   \n",
      "\n",
      "   Day_Charge  Eve_Mins  Eve_Calls  Eve_Charge  Night_Mins  Night_Calls  \\\n",
      "0       45.07     197.4         99       16.78       244.7           91   \n",
      "1       27.47     195.5        103       16.62       254.4          103   \n",
      "2       41.38     121.2        110       10.30       162.6          104   \n",
      "3       50.90      61.9         88        5.26       196.9           89   \n",
      "4       28.34     148.3        122       12.61       186.9          121   \n",
      "\n",
      "   Night_Charge  Intl_Mins  Intl_Calls  Intl_Charge  CustServ_Calls  Churn  \n",
      "0         11.01       10.0           3         2.70               1      0  \n",
      "1         11.45       13.7           3         3.70               1      0  \n",
      "2          7.32       12.2           5         3.29               0      0  \n",
      "3          8.86        6.6           7         1.78               2      0  \n",
      "4          8.41       10.1           3         2.73               3      0  \n",
      "3333\n"
     ]
    }
   ],
   "source": [
    "# info\n",
    "print df.head()\n",
    "print df.shape[0]"
   ]
  },
  {
   "cell_type": "code",
   "execution_count": null,
   "metadata": {
    "collapsed": false
   },
   "outputs": [],
   "source": [
    "print(df.columns)"
   ]
  },
  {
   "cell_type": "code",
   "execution_count": null,
   "metadata": {
    "collapsed": false
   },
   "outputs": [],
   "source": [
    "#print(df.values)"
   ]
  },
  {
   "cell_type": "code",
   "execution_count": null,
   "metadata": {
    "collapsed": false
   },
   "outputs": [],
   "source": [
    "#print(df.describe)"
   ]
  },
  {
   "cell_type": "code",
   "execution_count": null,
   "metadata": {
    "collapsed": false
   },
   "outputs": [],
   "source": [
    "#df['Class']    # Class es el Churn en este proyecto"
   ]
  },
  {
   "cell_type": "code",
   "execution_count": null,
   "metadata": {
    "collapsed": false
   },
   "outputs": [],
   "source": [
    "#df[0:2]"
   ]
  },
  {
   "cell_type": "code",
   "execution_count": null,
   "metadata": {
    "collapsed": false
   },
   "outputs": [],
   "source": [
    "#df.iloc[2]"
   ]
  },
  {
   "cell_type": "code",
   "execution_count": null,
   "metadata": {
    "collapsed": false
   },
   "outputs": [],
   "source": [
    "# Ponemos condiciones así\n",
    "#df[df.Class > 3]"
   ]
  },
  {
   "cell_type": "code",
   "execution_count": 6,
   "metadata": {
    "collapsed": false
   },
   "outputs": [],
   "source": [
    "# CLASIFICADOR montamos los arrays de NUMPY. Modifico Class por Churn\n",
    "\n",
    "X = np.array(df.drop(['Churn'], 1), dtype=int)   \n",
    "y = np.array(df['Churn'], dtype=int)"
   ]
  },
  {
   "cell_type": "markdown",
   "metadata": {},
   "source": [
    "### VARIOS CLASIFICADORES CON CROSSFOLDER "
   ]
  },
  {
   "cell_type": "code",
   "execution_count": 7,
   "metadata": {
    "collapsed": true
   },
   "outputs": [],
   "source": [
    "# -VARIOS CLASIFICADORES SVC, RF, KNN, LOG_REG ----------------------------\n",
    "\n",
    "from sklearn.cross_validation import KFold\n",
    "\n",
    "#  definimos la funcion de cross validation\n",
    "def run_cv(X,y,clf_class,**kwargs):\n",
    "    # Construimos el objeto kfolds \n",
    "    kf = KFold(len(y),n_folds=5,shuffle=True)\n",
    "    y_pred = y.copy()\n",
    "    \n",
    "    # tenemos  que iterar sobre todos los kfolds\n",
    "    for train_index, test_index in kf:\n",
    "        X_train, X_test = X[train_index], X[test_index]\n",
    "        y_train = y[train_index]\n",
    "        \n",
    "        \n",
    "        # Iniciamos el clasificador con los keywords arguments...\n",
    "        clf = clf_class(**kwargs)\n",
    "        clf.fit(X_train,y_train)\n",
    "        y_pred[test_index] = clf.predict(X_test)\n",
    "    return y_pred"
   ]
  },
  {
   "cell_type": "code",
   "execution_count": 8,
   "metadata": {
    "collapsed": false
   },
   "outputs": [
    {
     "name": "stdout",
     "output_type": "stream",
     "text": [
      "--------  Confianzas de los calsificadores: \n",
      " \n",
      " \n",
      "Confianza de SVC =  0.855085508551\n",
      "MATRIZ DE CONFUSION de SVC \n",
      "[[2850    0]\n",
      " [ 483    0]] \n",
      "\n",
      "Confianza de KNN =  0.882388238824\n",
      "MATRIZ DE CONFUSION de KNN \n",
      "[[2797   53]\n",
      " [ 339  144]] \n",
      "\n",
      "Confianza de  Log. Regression =  0.859585958596\n",
      "MATRIZ DE CONFUSION de Log. Regression \n",
      "[[2781   69]\n",
      " [ 399   84]] \n",
      "\n",
      "Confianza de Random forest: 0.938793879388\n",
      "MATRIZ DE CONFUSION de RANDOM FOREST \n",
      "[[2816   34]\n",
      " [ 170  313]] \n",
      "\n"
     ]
    }
   ],
   "source": [
    "from sklearn.svm import SVC\n",
    "from sklearn.ensemble import RandomForestClassifier as RF\n",
    "from sklearn.neighbors import KNeighborsClassifier as KNN\n",
    "from sklearn.linear_model import LogisticRegression as LOG_REG\n",
    "\n",
    "from sklearn.metrics import accuracy_score as accuracy\n",
    "from sklearn.metrics import confusion_matrix\n",
    "from sklearn.metrics import silhouette_score\n",
    "from sklearn.preprocessing import StandardScaler\n",
    "\n",
    "\n",
    "\n",
    "# ------- CONFIANZA, RECALL, PRECISION, ETC. ---------------\n",
    "print \"--------  Confianzas de los calsificadores: \\n \\n \"\n",
    "pred_SVC = run_cv(X,y,SVC)\n",
    "print \"Confianza de SVC = \", accuracy(y, pred_SVC)\n",
    "print \"MATRIZ DE CONFUSION de SVC \\n\", confusion_matrix(y, pred_SVC), \"\\n\"\n",
    "\n",
    "pred_KNN = run_cv(X,y,KNN)\n",
    "print \"Confianza de KNN = \", accuracy(y, pred_KNN)\n",
    "print \"MATRIZ DE CONFUSION de KNN \\n\", confusion_matrix(y, pred_KNN), \"\\n\"\n",
    "\n",
    "pred_LOG_REG = run_cv(X,y,LOG_REG)\n",
    "print \"Confianza de  Log. Regression = \", accuracy(y, pred_LOG_REG)\n",
    "print \"MATRIZ DE CONFUSION de Log. Regression \\n\", confusion_matrix(y, pred_LOG_REG), \"\\n\"\n",
    "\n",
    "#print \"%.3f\" % accuracy(y, run_cv(X,y,RF))\n",
    "pred_RF = run_cv(X,y,RF)\n",
    "print \"Confianza de Random forest:\", accuracy(y, pred_RF)\n",
    "print \"MATRIZ DE CONFUSION de RANDOM FOREST \\n\", confusion_matrix(y, pred_RF), \"\\n\""
   ]
  },
  {
   "cell_type": "markdown",
   "metadata": {},
   "source": [
    "### Calculamos los limites de los SLIDES de BOKEH para que estén derentro del margen de los valores del data set"
   ]
  },
  {
   "cell_type": "code",
   "execution_count": 9,
   "metadata": {
    "collapsed": false
   },
   "outputs": [
    {
     "name": "stdout",
     "output_type": "stream",
     "text": [
      "[ 1  0  0  0  0  0  0  0  0  0 23 33  1  0  0  0  0]\n",
      "[243   1   1  51 350 165  59 363 170  30 395 175  17  20  20   5   9]\n"
     ]
    }
   ],
   "source": [
    "print np.amin(X,axis=0)\n",
    "print np.amax(X,axis=0)"
   ]
  },
  {
   "cell_type": "code",
   "execution_count": null,
   "metadata": {
    "collapsed": false
   },
   "outputs": [],
   "source": [
    "# RECORREMOS AHORA TODO EL DATAFRAME DE FORMA QUE SEA APLICABLE A CUALQUIERA DE LOS DATA FRAMES DE LOS CASOS... \n",
    "\n",
    "lista_minimos_col = []\n",
    "lista_maximos_col = []\n",
    "\n",
    "# recorremos las columnas del DATA FRAME\n",
    "for i in range (df.shape[1]-1):                  # EL -1 es porque exxluyo el ultimo campo de la categoria o label \n",
    "    #print df.iloc[1][i:1]\n",
    "    #print df.values[1][i]\n",
    "    # añadimos el MIN y MAXde esa columna del dataframe\n",
    "    lista_minimos_col.append(df.ix[df[df.columns[i]].idxmin()][df.columns[i]])\n",
    "    lista_maximos_col.append(df.ix[df[df.columns[i]].idxmax()][df.columns[i]])\n",
    "\n",
    "print lista_minimos_col\n",
    "print lista_maximos_col"
   ]
  },
  {
   "cell_type": "markdown",
   "metadata": {},
   "source": [
    "# Ahora calculamos los puntos cercanos a un punto dado para calcular donde están mas proximas los puntos de categoria diferente, (cancerosas). Esto nos ayudará a seleccionar las direcciones más relevantes a la hora de estudiar la evolución del punto en cuestión.\n",
    "##UTLIZAMOS UN EJEMPLO SENCILLO DE DATAFRAME EN SU LUGAR"
   ]
  },
  {
   "cell_type": "code",
   "execution_count": 13,
   "metadata": {
    "collapsed": false
   },
   "outputs": [
    {
     "name": "stdout",
     "output_type": "stream",
     "text": [
      "(2850L, 17L)\n",
      "(483L, 17L)\n"
     ]
    }
   ],
   "source": [
    "# en este caso de CHURN la ETIQUETA de clase es binaria, churn es 1, no-churn = 0\n",
    "print X[y==0].shape\n",
    "print X[y==1].shape"
   ]
  },
  {
   "cell_type": "code",
   "execution_count": 14,
   "metadata": {
    "collapsed": false
   },
   "outputs": [],
   "source": [
    "classes = {}\n",
    "for each in np.unique(y).tolist():\n",
    "    classes[each] = X[y==each]"
   ]
  },
  {
   "cell_type": "code",
   "execution_count": 15,
   "metadata": {
    "collapsed": false
   },
   "outputs": [
    {
     "ename": "SyntaxError",
     "evalue": "invalid syntax (<ipython-input-15-6eb51492b2c8>, line 14)",
     "output_type": "error",
     "traceback": [
      "\u001b[1;36m  File \u001b[1;32m\"<ipython-input-15-6eb51492b2c8>\"\u001b[1;36m, line \u001b[1;32m14\u001b[0m\n\u001b[1;33m    np.tile(no_churn, [1, 1, m_dims[0]]) -\u001b[0m\n\u001b[1;37m                                           ^\u001b[0m\n\u001b[1;31mSyntaxError\u001b[0m\u001b[1;31m:\u001b[0m invalid syntax\n"
     ]
    }
   ],
   "source": [
    "classes = {}\n",
    "for each in np.unique(y).tolist():\n",
    "    classes[each] = X[y==each]   \n",
    "\n",
    "no_churn = classes[labels['no_churn']]   # (0´s, no_churn sustituye a benign)\n",
    "churn = classes[labels['churn']]\n",
    "\n",
    "b_dims = no_churn.shape\n",
    "m_dims = churn.shape\n",
    "\n",
    "no_churn = np.reshape(no_churn, b_dims + (1,))\n",
    "churn = np.reshape(churn, m_dims + (1,))\n",
    "\n",
    "np.tile(no_churn, [1, 1, m_dims[0]]) - "
   ]
  },
  {
   "cell_type": "markdown",
   "metadata": {},
   "source": [
    "# PREDICCIONES CON INPUTS"
   ]
  },
  {
   "cell_type": "code",
   "execution_count": null,
   "metadata": {
    "collapsed": false
   },
   "outputs": [],
   "source": [
    "# vamos a hacer predicciones :\n",
    "\n",
    "example_measures = np.array([[10,5,5,3,6,7,7,10,1]])\n",
    "example_measures = example_measures.reshape(len(example_measures), -1)\n",
    "prediction = clf.predict(example_measures)\n",
    "print(prediction)"
   ]
  },
  {
   "cell_type": "code",
   "execution_count": null,
   "metadata": {
    "collapsed": false
   },
   "outputs": [],
   "source": [
    "print(df.values)"
   ]
  },
  {
   "cell_type": "markdown",
   "metadata": {
    "collapsed": true
   },
   "source": [
    "# 2 PARTE: gráficas-------------------------------------------------------------------------------------------------------------------------------------------------------------------------------------------------------------------------------------------------------------------------------------------------------------------------\n"
   ]
  },
  {
   "cell_type": "code",
   "execution_count": null,
   "metadata": {
    "collapsed": false
   },
   "outputs": [],
   "source": [
    "# condiciones que definen nuevos datasets\n",
    "df_tumoral = df[df.Class > 3]\n",
    "df_NO_tumoral = df[df.Class < 3]\n",
    "\n",
    "df_tumoral.head()"
   ]
  },
  {
   "cell_type": "code",
   "execution_count": null,
   "metadata": {
    "collapsed": false
   },
   "outputs": [],
   "source": [
    "# graficas scattered \n",
    "import matplotlib.pyplot as plt\n",
    "#scattercols = ['price','accommodates', 'number_of_reviews', 'reviews_per_month', 'beds', 'availability_30', 'review_scores_rating']\n",
    "scattercols = df.columns\n",
    "axs = pd.scatter_matrix(df[scattercols],\n",
    "                        figsize=(12, 12), c='red')\n",
    "\n",
    "plt.figure(figsize=(1920,1080))\n",
    "plt.show()"
   ]
  },
  {
   "cell_type": "code",
   "execution_count": null,
   "metadata": {
    "collapsed": true
   },
   "outputs": [],
   "source": [
    "# definimos una funcion distancia de un registro del data se"
   ]
  },
  {
   "cell_type": "code",
   "execution_count": null,
   "metadata": {
    "collapsed": false
   },
   "outputs": [],
   "source": [
    "df_NO_tumoral.head()"
   ]
  },
  {
   "cell_type": "code",
   "execution_count": null,
   "metadata": {
    "collapsed": false
   },
   "outputs": [],
   "source": [
    "from mpl_toolkits.mplot3d import axes3d\n",
    "import matplotlib.pyplot as plt\n",
    "from matplotlib import style\n",
    "\n",
    "style.use('ggplot')\n",
    "\n",
    "fig = plt.figure()\n",
    "ax1 = fig.add_subplot(111, projection='3d')\n",
    "\n",
    "x = df_tumoral.Clump_Thickness\n",
    "y = df_tumoral.Uniform_Cell_Shape\n",
    "z = df_tumoral.Unifom_Cell_Size\n",
    "\n",
    "x2 = df_NO_tumoral.Clump_Thickness\n",
    "y2 = df_NO_tumoral.Uniform_Cell_Shape\n",
    "z2 = df_NO_tumoral.Unifom_Cell_Size\n",
    "\n",
    "\n",
    "ax1.scatter(x, y, z, c='g', marker='o')\n",
    "ax1.scatter(x2, y2, z2, c ='r', marker='o')\n",
    "\n",
    "ax1.set_xlabel('Espesor')\n",
    "ax1.set_ylabel('Forma Celular')\n",
    "ax1.set_zlabel(u'Tamaño Celular')\n",
    "\n",
    "plt.show()"
   ]
  },
  {
   "cell_type": "code",
   "execution_count": null,
   "metadata": {
    "collapsed": false
   },
   "outputs": [],
   "source": [
    "#imprimimos las 3 primeras variables de prueba\n",
    "\n",
    "from mpl_toolkits.mplot3d import axes3d\n",
    "import matplotlib.pyplot as plt\n",
    "from matplotlib import style\n",
    "\n",
    "style.use('ggplot')\n",
    "\n",
    "fig = plt.figure()\n",
    "ax1 = fig.add_subplot(111, projection='3d')\n",
    "\n",
    "\n",
    "\n",
    "x = df_tumoral.eval(df_tumoral.columns[1])\n",
    "y =  df_tumoral.eval(df_tumoral.columns[2])\n",
    "z =  df_tumoral.eval(df_tumoral.columns[3])\n",
    "\n",
    "x2 = df_NO_tumoral.eval(df_NO_tumoral.columns[1])\n",
    "y2 = df_NO_tumoral.eval(df_NO_tumoral.columns[2])\n",
    "z2 = df_NO_tumoral.eval(df_NO_tumoral.columns[3])\n",
    "\n",
    "\n",
    "ax1.scatter(x, y, z, c='g', marker='o')\n",
    "ax1.scatter(x2, y2, z2, c ='r', marker='o')\n",
    "\n",
    "ax1.set_xlabel('Espesor')\n",
    "ax1.set_ylabel('Forma Celular')\n",
    "ax1.set_zlabel(u'Tamaño Celular')\n",
    "\n",
    "plt.show()"
   ]
  },
  {
   "cell_type": "code",
   "execution_count": null,
   "metadata": {
    "collapsed": false
   },
   "outputs": [],
   "source": [
    "print(df.columns)"
   ]
  },
  {
   "cell_type": "code",
   "execution_count": null,
   "metadata": {
    "collapsed": false
   },
   "outputs": [],
   "source": [
    "print(df.columns[9])\n",
    "print(len(df.columns))\n",
    "      "
   ]
  },
  {
   "cell_type": "code",
   "execution_count": null,
   "metadata": {
    "collapsed": false
   },
   "outputs": [],
   "source": [
    "# funcion GENERICA QUE DIBUJA UNA COMBINACION particulr de las variable\n",
    "\n",
    "from mpl_toolkits.mplot3d import axes3d\n",
    "import matplotlib.pyplot as plt\n",
    "from matplotlib import style\n",
    "\n",
    "def dibuja_grafica(i,j,k):\n",
    "\n",
    "    style.use('ggplot')\n",
    "\n",
    "    fig = plt.figure()\n",
    "    ax1 = fig.add_subplot(111, projection='3d')\n",
    "\n",
    "\n",
    "    x = df_tumoral.eval(df_tumoral.columns[i])\n",
    "    y =  df_tumoral.eval(df_tumoral.columns[j])\n",
    "    z =  df_tumoral.eval(df_tumoral.columns[k])\n",
    "\n",
    "    x2 = df_NO_tumoral.eval(df_NO_tumoral.columns[i])\n",
    "    y2 = df_NO_tumoral.eval(df_NO_tumoral.columns[j])\n",
    "    z2 = df_NO_tumoral.eval(df_NO_tumoral.columns[k])\n",
    "\n",
    "    ax1.scatter(x, y, z, c='g', label='TUMORALES', marker='o')\n",
    "    ax1.scatter(x2, y2, z2, c ='r', label='SANAS', marker='o')\n",
    "    \n",
    "    #plt.scatter(x,y, label='TUMORALES', color='g', s=25, marker=\"o\")\n",
    "    #plt.scatter(x2,y2, label='SANAS', color='r', s=25, marker=\"o\")\n",
    " \n",
    "    ax1.set_xlabel(df_tumoral.columns[i])\n",
    "    ax1.set_ylabel(df_tumoral.columns[j])\n",
    "    ax1.set_zlabel(df_tumoral.columns[k])\n",
    "    \n",
    "    plt.title('Breast Cancer Dataset Analysis               ')\n",
    "    plt.legend()\n",
    "\n",
    "    plt.show()  \n",
    "    #plt.savefig('graf_'+df_tumoral.columns[i]+df_tumoral.columns[j]+df_tumoral.columns[k]+'.png')\n",
    "\n",
    "dibuja_grafica(1,2,4)\n",
    "    \n",
    "    \n",
    "\n",
    "    "
   ]
  },
  {
   "cell_type": "code",
   "execution_count": null,
   "metadata": {
    "collapsed": false
   },
   "outputs": [],
   "source": [
    "df.columns[-1]"
   ]
  },
  {
   "cell_type": "code",
   "execution_count": null,
   "metadata": {
    "collapsed": false
   },
   "outputs": [],
   "source": [
    "# representacion de todas las GRAFICAS combinacion total de variables\n",
    "\n",
    "for counter1 in range(0,len(df.columns)-4):\n",
    "    for counter2 in range(counter1 + 1,len(df.columns)):\n",
    "        for counter3 in range(counter2 + 1,len(df.columns)):\n",
    "            try:\n",
    "                dibuja_grafica(counter1,counter2,counter3)\n",
    "                #print counter1,\",\", counter2,\",\", counter3\n",
    "            except Exception:\n",
    "                pass"
   ]
  },
  {
   "cell_type": "code",
   "execution_count": null,
   "metadata": {
    "collapsed": false
   },
   "outputs": [],
   "source": [
    "# recordatorio de graficas en 2D\n",
    "\n",
    "import matplotlib.pyplot as plt\n",
    "\n",
    "x = [1,2,3,4,5,6,7,8]\n",
    "y = [5,2,4,2,1,4,5,2]\n",
    "\n",
    "x2 = [2,3,3,7,5,2,5]\n",
    "y2 = [3,1,0,2,4,5,2]\n",
    "\n",
    "\n",
    "#style.use('ggplot')\n",
    "\n",
    "fig = plt.figure() \n",
    "\n",
    "# AÑADIMOS UN SUBPLOT sobre fig\n",
    "ax1 = fig.add_subplot(111)\n",
    "\n",
    "ax1.scatter(x, y, c='g', marker='o')\n",
    "ax1.scatter(x2, y2, c ='r', marker='o')\n",
    "\n",
    "plt.scatter(x,y, label='TUMORALES', color='g', s=25, marker=\"o\")\n",
    "plt.scatter(x2,y2, label='NORMALES', color='r', s=25, marker=\"o\")\n",
    "\n",
    "plt.xlabel('x')\n",
    "plt.ylabel('y')\n",
    "plt.title('Breast Cancer Analysis')\n",
    "plt.legend()\n",
    "plt.show()"
   ]
  },
  {
   "cell_type": "code",
   "execution_count": null,
   "metadata": {
    "collapsed": false
   },
   "outputs": [],
   "source": [
    "# GRAFICA EN 2D  con la clase como Z\n",
    "import matplotlib.pyplot as plt\n",
    "from matplotlib import style\n",
    "\n",
    "def dibuja_grafica2D(i,j,k):\n",
    "\n",
    "    style.use('ggplot')\n",
    "    \n",
    "    x = df_tumoral.eval(df_tumoral.columns[i])\n",
    "    y =  df_tumoral.eval(df_tumoral.columns[j])\n",
    "\n",
    "    x2 = df_NO_tumoral.eval(df_NO_tumoral.columns[i])\n",
    "    y2 = df_NO_tumoral.eval(df_NO_tumoral.columns[j])\n",
    "    \n",
    "    fig = plt.figure() \n",
    "\n",
    "    # AÑADIMOS UN SUBPLOT sobre fig\n",
    "    ax1 = fig.add_subplot(111)\n",
    "\n",
    "    ax1.scatter(x, y, c='g', marker='o')\n",
    "    ax1.scatter(x2, y2, c ='r', marker='o')\n",
    "\n",
    "    plt.scatter(x,y, label='TUMORALES', color='g', s=25, marker=\"o\")\n",
    "    plt.scatter(x2,y2, label='SANAS', color='r', s=25, marker=\"o\")\n",
    "\n",
    "    # ax1.scatter(x, y, z, c='g', marker='o')\n",
    "    # ax1.scatter(x2, y2, z2, c ='r', marker='o')\n",
    "\n",
    "    ax1.set_xlabel(df_tumoral.columns[i])\n",
    "    ax1.set_ylabel(df_tumoral.columns[j])\n",
    "\n",
    "\n",
    "    plt.title('Breast Cancer Dataset Analysis - Human Forecast')\n",
    "    plt.legend()\n",
    "    #plt.show()\n",
    "    plt.savefig('graficos/graf_'+df_tumoral.columns[i]+df_tumoral.columns[j]+'.png')\n",
    "\n",
    "\n",
    "dibuja_grafica2D(1,2,9)"
   ]
  },
  {
   "cell_type": "code",
   "execution_count": null,
   "metadata": {
    "collapsed": false
   },
   "outputs": [],
   "source": [
    "# pero ahora solo estamos interesados en combinar dos a dos \n",
    "# con z que sea la clase de tumor que es el indice 9\n",
    "\n",
    "for counter1 in range(0,len(df.columns)-2):\n",
    "    for counter2 in range(counter1 + 1,len(df.columns)-1):\n",
    "            try:\n",
    "                dibuja_grafica2D(counter1,counter2,9)\n",
    "                #print counter1,\",\", counter2\n",
    "            except Exception:\n",
    "                pass"
   ]
  },
  {
   "cell_type": "code",
   "execution_count": null,
   "metadata": {
    "collapsed": true
   },
   "outputs": [],
   "source": []
  }
 ],
 "metadata": {
  "anaconda-cloud": {},
  "kernelspec": {
   "display_name": "Python [Root]",
   "language": "python",
   "name": "Python [Root]"
  },
  "language_info": {
   "codemirror_mode": {
    "name": "ipython",
    "version": 2
   },
   "file_extension": ".py",
   "mimetype": "text/x-python",
   "name": "python",
   "nbconvert_exporter": "python",
   "pygments_lexer": "ipython2",
   "version": "2.7.12"
  }
 },
 "nbformat": 4,
 "nbformat_minor": 0
}
