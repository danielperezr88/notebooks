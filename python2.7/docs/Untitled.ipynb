{
 "cells": [
  {
   "cell_type": "code",
   "execution_count": 27,
   "metadata": {
    "collapsed": true
   },
   "outputs": [],
   "source": [
    "import ebooklib\n",
    "from ebooklib import epub\n",
    "from time import sleep\n",
    "from bs4 import BeautifulSoup as bs\n",
    "\n",
    "from nltk.tokenize import word_tokenize as tknz\n",
    "\n",
    "from sklearn.feature_extraction.text import CountVectorizer\n",
    "\n",
    "import re\n",
    "import os\n",
    "import json\n",
    "\n",
    "import pickle\n",
    "\n",
    "from pyprind import ProgBar as pb\n",
    "\n",
    "base_dir = '..\\\\..\\\\projects\\\\epub\\\\'"
   ]
  },
  {
   "cell_type": "code",
   "execution_count": 23,
   "metadata": {
    "collapsed": true
   },
   "outputs": [],
   "source": [
    "count_vect = CountVectorizer(stop_words=None, min_df=50)\n",
    "\n",
    "books = {}\n",
    "corpus_repeated = ''"
   ]
  },
  {
   "cell_type": "code",
   "execution_count": 24,
   "metadata": {
    "collapsed": false
   },
   "outputs": [
    {
     "name": "stderr",
     "output_type": "stream",
     "text": [
      "0%                          100%\n",
      "[###                           ] | ETA: 00:29:36"
     ]
    },
    {
     "ename": "KeyboardInterrupt",
     "evalue": "",
     "output_type": "error",
     "traceback": [
      "\u001b[1;31m---------------------------------------------------------------------------\u001b[0m",
      "\u001b[1;31mKeyboardInterrupt\u001b[0m                         Traceback (most recent call last)",
      "\u001b[1;32m<ipython-input-24-0752f6d8d26b>\u001b[0m in \u001b[0;36m<module>\u001b[1;34m()\u001b[0m\n\u001b[0;32m      6\u001b[0m         \u001b[1;32mfor\u001b[0m \u001b[0mitem\u001b[0m \u001b[1;32min\u001b[0m \u001b[0mbook\u001b[0m\u001b[1;33m.\u001b[0m\u001b[0mget_items_of_type\u001b[0m\u001b[1;33m(\u001b[0m\u001b[0mebooklib\u001b[0m\u001b[1;33m.\u001b[0m\u001b[0mITEM_DOCUMENT\u001b[0m\u001b[1;33m)\u001b[0m\u001b[1;33m:\u001b[0m\u001b[1;33m\u001b[0m\u001b[0m\n\u001b[0;32m      7\u001b[0m \u001b[1;33m\u001b[0m\u001b[0m\n\u001b[1;32m----> 8\u001b[1;33m             \u001b[0msoup\u001b[0m \u001b[1;33m=\u001b[0m \u001b[0mbs\u001b[0m\u001b[1;33m(\u001b[0m\u001b[0mitem\u001b[0m\u001b[1;33m.\u001b[0m\u001b[0mget_content\u001b[0m\u001b[1;33m(\u001b[0m\u001b[1;33m)\u001b[0m\u001b[1;33m,\u001b[0m \u001b[1;34m'lxml'\u001b[0m\u001b[1;33m)\u001b[0m\u001b[1;33m\u001b[0m\u001b[0m\n\u001b[0m\u001b[0;32m      9\u001b[0m \u001b[1;33m\u001b[0m\u001b[0m\n\u001b[0;32m     10\u001b[0m             \u001b[0mtoadd\u001b[0m \u001b[1;33m=\u001b[0m \u001b[1;33m[\u001b[0m\u001b[0mx\u001b[0m \u001b[1;32mfor\u001b[0m \u001b[0mx\u001b[0m \u001b[1;32min\u001b[0m \u001b[1;33m[\u001b[0m\u001b[0mx\u001b[0m \u001b[1;32mfor\u001b[0m \u001b[0mx\u001b[0m \u001b[1;32min\u001b[0m \u001b[0mfilter\u001b[0m\u001b[1;33m(\u001b[0m\u001b[1;32mlambda\u001b[0m \u001b[0mx\u001b[0m\u001b[1;33m:\u001b[0m \u001b[0mx\u001b[0m\u001b[1;33m,\u001b[0m\u001b[0mmap\u001b[0m\u001b[1;33m(\u001b[0m\u001b[1;32mlambda\u001b[0m \u001b[0mx\u001b[0m\u001b[1;33m:\u001b[0m \u001b[0mx\u001b[0m\u001b[1;33m.\u001b[0m\u001b[0mstring\u001b[0m\u001b[1;33m,\u001b[0m\u001b[0msoup\u001b[0m\u001b[1;33m.\u001b[0m\u001b[0mfind_all\u001b[0m\u001b[1;33m(\u001b[0m\u001b[1;33m)\u001b[0m\u001b[1;33m)\u001b[0m\u001b[1;33m)\u001b[0m \u001b[1;32mif\u001b[0m \u001b[0mx\u001b[0m \u001b[1;33m!=\u001b[0m \u001b[1;34m'null'\u001b[0m\u001b[1;33m]\u001b[0m \u001b[1;32mif\u001b[0m \u001b[0mx\u001b[0m\u001b[1;33m]\u001b[0m\u001b[1;33m\u001b[0m\u001b[0m\n",
      "\u001b[1;32mD:\\WinPython-64bit-2.7.10.3\\python-2.7.10.amd64\\lib\\site-packages\\ebooklib\\epub.pyc\u001b[0m in \u001b[0;36mget_content\u001b[1;34m(self, default)\u001b[0m\n\u001b[0;32m    231\u001b[0m \u001b[1;33m\u001b[0m\u001b[0m\n\u001b[0;32m    232\u001b[0m     \u001b[1;32mdef\u001b[0m \u001b[0mget_content\u001b[0m\u001b[1;33m(\u001b[0m\u001b[0mself\u001b[0m\u001b[1;33m,\u001b[0m \u001b[0mdefault\u001b[0m\u001b[1;33m=\u001b[0m\u001b[0mNone\u001b[0m\u001b[1;33m)\u001b[0m\u001b[1;33m:\u001b[0m\u001b[1;33m\u001b[0m\u001b[0m\n\u001b[1;32m--> 233\u001b[1;33m         \u001b[0mtree\u001b[0m \u001b[1;33m=\u001b[0m \u001b[0mparse_string\u001b[0m\u001b[1;33m(\u001b[0m\u001b[0mself\u001b[0m\u001b[1;33m.\u001b[0m\u001b[0mbook\u001b[0m\u001b[1;33m.\u001b[0m\u001b[0mget_template\u001b[0m\u001b[1;33m(\u001b[0m\u001b[0mself\u001b[0m\u001b[1;33m.\u001b[0m\u001b[0m_template_name\u001b[0m\u001b[1;33m)\u001b[0m\u001b[1;33m)\u001b[0m\u001b[1;33m\u001b[0m\u001b[0m\n\u001b[0m\u001b[0;32m    234\u001b[0m         \u001b[0mtree_root\u001b[0m \u001b[1;33m=\u001b[0m \u001b[0mtree\u001b[0m\u001b[1;33m.\u001b[0m\u001b[0mgetroot\u001b[0m\u001b[1;33m(\u001b[0m\u001b[1;33m)\u001b[0m\u001b[1;33m\u001b[0m\u001b[0m\n\u001b[0;32m    235\u001b[0m \u001b[1;33m\u001b[0m\u001b[0m\n",
      "\u001b[1;31mKeyboardInterrupt\u001b[0m: "
     ]
    }
   ],
   "source": [
    "pbar = pb(1032)\n",
    "for filename in os.listdir(base_dir):\n",
    "    if re.match(r'.*.epub',filename):\n",
    "        book = epub.read_epub(base_dir+filename)\n",
    "        books[book.title] = []\n",
    "        for item in book.get_items_of_type(ebooklib.ITEM_DOCUMENT):\n",
    "       \n",
    "            soup = bs(item.get_content(), 'lxml')\n",
    "\n",
    "            toadd = [x for x in [x for x in filter(lambda x: x,map(lambda x: x.string,soup.find_all())) if x != 'null'] if x]\n",
    "\n",
    "            words = []\n",
    "            for each in toadd:\n",
    "                #words += tknz(each,language='spanish')\n",
    "                words += count_vect.build_analyzer().__call__(each)\n",
    "                \n",
    "            books[book.title] += words\n",
    "            corpus_repeated += ' '.join(words)\n",
    "        \n",
    "        count_vect.fit([' '.join(books[book.title])])\n",
    "        pbar.update()"
   ]
  },
  {
   "cell_type": "code",
   "execution_count": 22,
   "metadata": {
    "collapsed": false
   },
   "outputs": [
    {
     "data": {
      "text/plain": [
       "unicode"
      ]
     },
     "execution_count": 22,
     "metadata": {},
     "output_type": "execute_result"
    }
   ],
   "source": [
    "type(' '.join(books[book.title]))"
   ]
  },
  {
   "cell_type": "code",
   "execution_count": 56,
   "metadata": {
    "collapsed": false
   },
   "outputs": [
    {
     "data": {
      "text/plain": [
       "10476"
      ]
     },
     "execution_count": 56,
     "metadata": {},
     "output_type": "execute_result"
    }
   ],
   "source": [
    "fp = open(base_dir+'\\\\pickled_corpora\\\\complete_word_count_vocabulary_dict.pickle')\n",
    "vd2 = pickle.load(fp)\n",
    "fp.close()\n",
    "\n",
    "len(vd2)"
   ]
  },
  {
   "cell_type": "code",
   "execution_count": 57,
   "metadata": {
    "collapsed": true
   },
   "outputs": [],
   "source": [
    "fp = open(base_dir+'\\\\pickled_corpora\\\\dictRAE2010_spanish_tilded_notPref_notSuff.txt')\n",
    "RAE = fp.read()\n",
    "fp.close()"
   ]
  },
  {
   "cell_type": "code",
   "execution_count": 62,
   "metadata": {
    "collapsed": false
   },
   "outputs": [
    {
     "data": {
      "text/plain": [
       "{u'c\\xf3mo': 0, u'est\\xe1s': 1, u'hola': 2, u'luis': 3, u'pepe': 4}"
      ]
     },
     "execution_count": 62,
     "metadata": {},
     "output_type": "execute_result"
    }
   ],
   "source": [
    "cv1 = CountVectorizer(stop_words=None)\n",
    "cv1.fit(['hola pepe'])\n",
    "cv1.fit(['hola pepe. hola luis, ¿cómo estás?'])\n",
    "cv1.vocabulary_"
   ]
  },
  {
   "cell_type": "code",
   "execution_count": 55,
   "metadata": {
    "collapsed": false
   },
   "outputs": [
    {
     "name": "stdout",
     "output_type": "stream",
     "text": [
      "montaña\n",
      "puñado\n",
      "carroñeros\n",
      "añádele\n",
      "campaña\n",
      "diseños\n",
      "extraños\n",
      "española\n",
      "acompañen\n",
      "rasguño\n",
      "montañas\n",
      "diseñado\n",
      "enseñarte\n",
      "brasileño\n",
      "rapiñar\n",
      "mañana\n",
      "niños\n",
      "empuñan\n",
      "dañaban\n",
      "muñón\n",
      "muñeca\n",
      "enseñado\n",
      "daños\n",
      "diseñarlo\n",
      "apuñalar\n",
      "acompañar\n",
      "cañón\n",
      "pequeños\n",
      "gruñendo\n",
      "compañero\n",
      "año\n",
      "diseñaron\n",
      "españa\n",
      "señores\n",
      "añadieron\n",
      "señor\n",
      "dañada\n",
      "dañado\n",
      "hazaña\n",
      "pequeñas\n",
      "diseñadas\n",
      "gruñidos\n",
      "dañarán\n",
      "señuelo\n",
      "arañaban\n",
      "enseñando\n",
      "bañera\n",
      "arañando\n",
      "puños\n",
      "años\n",
      "enseñará\n",
      "empuñó\n",
      "diseñada\n",
      "enseñaba\n",
      "compañeros\n",
      "añadió\n",
      "añadir\n",
      "diseñados\n",
      "desempeñaron\n",
      "añade\n",
      "bañan\n",
      "señal\n",
      "extraña\n",
      "cañones\n",
      "patraña\n",
      "panameña\n",
      "señalará\n",
      "dañarse\n",
      "dañadas\n",
      "diseño\n",
      "pañuelo\n",
      "diseñó\n",
      "español\n",
      "gruñen\n",
      "extraño\n",
      "apañándote\n",
      "dañados\n",
      "señalando\n",
      "íñiguez\n",
      "dueño\n",
      "empuñadura\n",
      "sueño\n",
      "carroña\n",
      "isleños\n",
      "arañazos\n",
      "guadañas\n",
      "cañonazos\n",
      "otoño\n",
      "baño\n",
      "añadirá\n",
      "añadiendo\n",
      "añadirán\n",
      "compañía\n",
      "enseña\n",
      "añadírsele\n",
      "arañar\n",
      "arañas\n",
      "arañan\n",
      "guadaña\n",
      "tamaño\n",
      "enseñen\n",
      "añadirse\n",
      "puño\n",
      "afrocaribeña\n",
      "desempeñará\n",
      "señalada\n",
      "daño\n",
      "pequeño\n",
      "pequeña\n",
      "señalar\n",
      "uñas\n",
      "niño\n",
      "rebaño\n",
      "niña\n",
      "extrañar\n",
      "apiñada\n",
      "carroñeras\n",
      "señales\n",
      "añadido\n",
      "añadida\n",
      "dañen\n",
      "señora\n",
      "señalársela\n"
     ]
    }
   ],
   "source": [
    "for res in filter(lambda x: re.match(ur'(([a-zA-Záéíóú]*[^a-zA-Záéíóú\\r\\n]+)+[a-zA-Záéíóú]*)',unicode(x),re.UNICODE),vd.keys()):\n",
    "    print res"
   ]
  }
 ],
 "metadata": {
  "kernelspec": {
   "display_name": "Python 2",
   "language": "python",
   "name": "python2"
  },
  "language_info": {
   "codemirror_mode": {
    "name": "ipython",
    "version": 2
   },
   "file_extension": ".py",
   "mimetype": "text/x-python",
   "name": "python",
   "nbconvert_exporter": "python",
   "pygments_lexer": "ipython2",
   "version": "2.7.10"
  }
 },
 "nbformat": 4,
 "nbformat_minor": 0
}
