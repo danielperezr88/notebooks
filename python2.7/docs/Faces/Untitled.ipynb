{
 "cells": [
  {
   "cell_type": "code",
   "execution_count": null,
   "metadata": {
    "collapsed": false
   },
   "outputs": [],
   "source": [
    "import cv2\n",
    "import os\n",
    "import re\n",
    "import sys\n",
    "\n",
    "from PIL import Image\n",
    "from PIL.Image import core as _imaging\n",
    "\n",
    "#sys.path.append('C:\\WinPython-64bit-2.7.10.3\\python-2.7.10.amd64\\Lib\\site-packages\\pil-1.1.7-py2.7-win-amd64.egg')\n",
    "#import _imaging\n",
    "#import Image\n",
    "\n",
    "from facerec.feature import Fisherfaces\n",
    "from facerec.distance import EuclideanDistance\n",
    "from facerec.classifier import NearestNeighbor\n",
    "from facerec.model import PredictableModel\n",
    "from facerec.validation import KFoldCrossValidation\n",
    "from facerec.visual import subplot\n",
    "from facerec.util import minmax_normalize\n",
    "\n",
    "import numpy as np"
   ]
  },
  {
   "cell_type": "code",
   "execution_count": null,
   "metadata": {
    "collapsed": false
   },
   "outputs": [],
   "source": [
    "class FisherFaceRec:\n",
    "    \n",
    "    def __init__ (self,datafolder, imagefolder, data=[]):\n",
    "        self._data_, self._X_, self._y_ = [], [], []\n",
    "        logfiles = [f for f in os.listdir(datafolder) if re.search(r'fold_[0-9]+_data.txt$', f)]\n",
    "        \n",
    "        if len(data) <= 0:\n",
    "            for each in logfiles:\n",
    "\n",
    "                fp = open(os.path.join(datafolder,each))\n",
    "                fp.readline()\n",
    "                for line in fp:\n",
    "                    row = re.sub(r'(.*)\\(([0-9]+), ([0-9]+)\\)(.*)$',r'\\1(\\2,\\3)\\4',line).split()\n",
    "                    who = [f for f in os.listdir(os.path.join(imagefolder,row[0])) if re.search(re.compile(r'.*\\.'+row[2]+'\\.'+row[1]+r'$'), f)]\n",
    "                    if len(who) == 1:\n",
    "                        self._data_.append({os.path.join(imagefolder,row[0],who[0]):{'subject_id':row[2],'age_range':row[3],'gender':row[4]}})\n",
    "                    else:\n",
    "                        print(who)\n",
    "\n",
    "                fp.close()\n",
    "        else:\n",
    "            self._data_ = data\n",
    "            \n",
    "    def __del__ (self):\n",
    "        del self._data_\n",
    "\n",
    "    def GetTraining (self,feature):\n",
    "        for item in self._data_:\n",
    "            try:\n",
    "                im = Image.open(item.keys()[0])\n",
    "                im = im.convert('L')\n",
    "                self._X_.append(np.asarray(im,dtype=np.uint8))\n",
    "                self._y_.append(item.values()[0][feature])\n",
    "            except IOError as e:\n",
    "                print \"I/O error: \",str(e)\n",
    "            except:\n",
    "                print \"Unexpected error:\", sys.exc_info()[0]\n",
    "                raise\n",
    "                \n",
    "        return X, y\n",
    "    \n",
    "    def GetModel (self,feature,classifier=NearestNeighbor(dist_metric=EuclideanDistance(), k=1)):\n",
    "        return PredictableModel(feature=Fisherfaces(), classifier=classifier).compute(self.GetTraining(feature))"
   ]
  },
  {
   "cell_type": "code",
   "execution_count": null,
   "metadata": {
    "collapsed": false
   },
   "outputs": [],
   "source": [
    "datafolder = 'data'\n",
    "imagefolder = os.path.join(datafolder,'aligned')\n",
    "\n",
    "rec = FisherFaceRec(datafolder,imagefolder,data=rec._data_)"
   ]
  },
  {
   "cell_type": "code",
   "execution_count": null,
   "metadata": {
    "collapsed": false
   },
   "outputs": [],
   "source": [
    "model = rec.GetModel('gender')\n",
    "cv = KFoldCrossValidation(model,k=10)\n",
    "cv.validate(model._X_, model._y_)\n",
    "print cv"
   ]
  }
 ],
 "metadata": {
  "kernelspec": {
   "display_name": "Python 2",
   "language": "python",
   "name": "python2"
  },
  "language_info": {
   "codemirror_mode": {
    "name": "ipython",
    "version": 2
   },
   "file_extension": ".py",
   "mimetype": "text/x-python",
   "name": "python",
   "nbconvert_exporter": "python",
   "pygments_lexer": "ipython2",
   "version": "2.7.10"
  }
 },
 "nbformat": 4,
 "nbformat_minor": 0
}
