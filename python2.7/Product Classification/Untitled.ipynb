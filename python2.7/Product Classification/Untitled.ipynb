{
 "cells": [
  {
   "cell_type": "code",
   "execution_count": 6,
   "metadata": {
    "collapsed": true
   },
   "outputs": [],
   "source": [
    "import messytables as mt\n",
    "from glob import glob\n",
    "from os import path\n",
    "from tika import parser"
   ]
  },
  {
   "cell_type": "code",
   "execution_count": 2,
   "metadata": {
    "collapsed": true
   },
   "outputs": [],
   "source": [
    "class PDF(object):\n",
    "  def __init__(self, pdf, size=(200,200)):\n",
    "    self.pdf = pdf\n",
    "    self.size = size\n",
    "\n",
    "  def _repr_html_(self):\n",
    "    return '<iframe src={0} width={1[0]} height={1[1]}></iframe>'.format(self.pdf, self.size)\n",
    "\n",
    "  def _repr_latex_(self):\n",
    "    return r'\\includegraphics[width=1.0\\textwidth]{{{0}}}'.format(self.pdf)"
   ]
  },
  {
   "cell_type": "code",
   "execution_count": 3,
   "metadata": {
    "collapsed": false
   },
   "outputs": [],
   "source": [
    "datadir = 'data'\n",
    "formats = {\n",
    "    'PDF': '*.pdf',\n",
    "    'DOC': '*.doc',\n",
    "    'DOCX': '*.docx',\n",
    "    'XLS': '*.xls',\n",
    "    'XLSX': '*.xlsx',\n",
    "    'CSV': '*.csv',\n",
    "    'TSV': '*.tsv',\n",
    "    'JSON': '*.json',\n",
    "    'TXT': '*.txt',\n",
    "}\n",
    "\n",
    "results = {name: dict(format=f, paths=[p for p in glob(path.join(datadir, f))]) for name, f in formats.items()}"
   ]
  },
  {
   "cell_type": "code",
   "execution_count": 4,
   "metadata": {
    "collapsed": false
   },
   "outputs": [
    {
     "data": {
      "text/html": [
       "<iframe src=data\\2016053397_2HABWPZM.pdf width=900 height=350></iframe>"
      ],
      "text/latex": [
       "\\includegraphics[width=1.0\\textwidth]{data\\2016053397_2HABWPZM.pdf}"
      ],
      "text/plain": [
       "<__main__.PDF at 0x453aac8>"
      ]
     },
     "execution_count": 4,
     "metadata": {},
     "output_type": "execute_result"
    }
   ],
   "source": [
    "PDF(results['PDF']['paths'][0], size=(900,350))"
   ]
  },
  {
   "cell_type": "code",
   "execution_count": 8,
   "metadata": {
    "collapsed": false
   },
   "outputs": [],
   "source": [
    "#with open(results['PDF']['paths'][0], 'rb') as fp:\n",
    "#    ts = mt.pdf.PDFTableSet(fp)\n",
    "\n",
    "parsedPDF = parser.from_file(results['PDF']['paths'][0], 'http://localhost:9999')\n",
    "#ps = mt.pdf.PDFTableSet(results['PDF']['paths'][0])"
   ]
  },
  {
   "cell_type": "code",
   "execution_count": 9,
   "metadata": {
    "collapsed": false
   },
   "outputs": [
    {
     "data": {
      "text/plain": [
       "u'\\n\\n\\n\\n\\n\\n\\n\\n\\n\\n\\n\\n\\n\\n\\n\\n\\n\\n\\n\\n\\n\\n\\n\\n\\n\\n\\n\\n\\nPresupuesto 2016053397\\n\\n\\nTipo intervenci\\xf3n: PRESUPUESTO WEB\\n\\nN\\xba Expediente: 2016053397\\nF. presupuesto: 30-10-2016\\nCliente:\\nN\\xba Presupuesto: 25790\\n\\nN\\xba de bastidor: TMBGP41U112459563\\nMatr\\xedcula:\\nMarca: SKODA\\nModelo: OCTAVIA\\nKil\\xf3metros:\\n\\nTaller: SIN TALLER\\nNotas:\\nVALORACI\\xd3N\\n\\nRecambios\\nDescripci\\xf3n Referencia Precio (\\u20ac) Unidades Total (\\u20ac)\\n\\nKIT DISTRIBUCI\\xd3N 145,67 1 145,67 \\u20ac\\nBOMBA DE AGUA 28,02 1 28,02 \\u20ac\\nANTICONGELANTE 14,00 1 14,00 \\u20ac\\nCORREA ALTERNADOR 12,85 1 12,85 \\u20ac\\nTENSORES CORREA ALTERNADOR ( recomendado) 103,26 1 103,26 \\u20ac\\n\\nMano de Obra\\nDescripci\\xf3n Operaci\\xf3n Precio (\\u20ac) Tiempo (Hrs.) Total (\\u20ac)\\n\\nKIT DISTRIBUCI\\xd3N Sustituci\\xf3n 29,00 5 145,00 \\u20ac\\n\\nTotal Recambios 303,80 \\u20ac\\nMano Obra 145,00 \\u20ac\\n\\nTotal Pintura 0,00 \\u20ac\\nSubtotal 448,80 \\u20ac\\n\\nBase Imponible 448,80 \\u20ac\\nImpuestos 94,25 \\u20ac\\n\\nTotal 543,05 \\u20ac\\n\\nEn San Sebasti\\xe1n de los Reyes, a 30 del 10 de 2016 \\n\\nFdo: REPARATUCOCHE.COM \\n\\n     \\n\\n \\n\\nY ahora estamos m\\xe1s cerca de ti.\\nDisponemos de puntos de reparaci\\xf3n repartidos por toda Espa\\xf1a. \\n\\nUpdating DB.\\n\\nOficinas centrales de Reparatucoche.com en:\\nMARKETING DIRECTO INTEGRAL SOLUTIONS, S.L.U.\\nC.I.F.: B-85143626\\nAvda. Puente Cultural, 1bis\\n28702 - San Sebasti\\xe1n de los Reyes (Madrid)\\nTlf.: 911 590 900\\n\\nP\\xe1gina 1 de 2\\n\\n\\n\\nCONDICIONES:\\n- Presupuesto realizado seg\\xfan los datos facilitados por la propiedad del veh\\xedculo, sujeto a variaciones en funci\\xf3n de la disponibilidad de los elementos por\\nparte del fabricante de los mismos.\\n- Este documento no es v\\xe1lido como factura.\\n- La validez del presente presupuesto es de 30 d\\xedas.\\n- Si durante la reparaci\\xf3n del veh\\xedculo aparecen aver\\xedas o defectos ocultos, se informara al cliente de esta circunstancia y del importe que va a suponer su\\narreglo en un plazo m\\xe1ximo de 48 horas. MKD podr\\xe1 realizar la reparaci\\xf3n de esas aver\\xedas no incluidas en el presupuesto inicial, solamente si el cliente da\\nsu conformidad.\\n- Todas las reparaciones tienen una garant\\xeda de tres meses o 2.000 km para mano de obra. La garant\\xeda relativa a la reparaci\\xf3n de veh\\xedculos industriales\\ncaducar\\xe1 a los quince d\\xedas o 2.000 kil\\xf3metros recorridos. Todo ello salvo las piezas nuevas que tendr\\xe1n una garant\\xeda de 2 as, a contar desde la fecha en la\\nque se retire el veh\\xedculo\\n- La garant\\xeda se entiende total, incluyendo mano de obra, piezas sustituidas, servicio de gr\\xfaa, desplazamiento durante ese periodo tienen derecho a que el\\ncentro te solucione todas las aver\\xedas que puedan surgir en las piezas que te arreglaron. Esto incluye los nuevos materiales o repuestos, la mano de obra e\\nincluso los gastos surgidos por desplazamiento de operario e impuestos, y su cumplimiento se realizara sin que quepa postergaci\\xf3n. La manipulaci\\xf3n por\\nterceros de las piezas garantizadas puede invalidar la garant\\xeda. Averiado el veh\\xedculo a m\\xe1s de 25 kil\\xf3metros del taller garante, deber\\xe1 el cliente ponerse\\nen contacto con este para que proceda al cumplimiento de la garant\\xeda directamente o a trav\\xe9s de terceros. A tales efectos, el aviso se realizara mediante\\ncualquier medio que permita tener constancia de su recepci\\xf3n por el taller reparador. Si el taller garante no consta a su requerimiento o se negase al\\ncumplimiento de sus obligaciones, podr\\xe1 el cliente realizar la reparaci\\xf3n en cualquier otro establecimiento de entre los que se encuentren pr\\xf3ximos,\\nquedando el garante obligado al pago de la factura.\\n\\n \\n\\nY ahora estamos m\\xe1s cerca de ti.\\nDisponemos de puntos de reparaci\\xf3n repartidos por toda Espa\\xf1a. \\n\\nUpdating DB.\\n\\nOficinas centrales de Reparatucoche.com en:\\nMARKETING DIRECTO INTEGRAL SOLUTIONS, S.L.U.\\nC.I.F.: B-85143626\\nAvda. Puente Cultural, 1bis\\n28702 - San Sebasti\\xe1n de los Reyes (Madrid)\\nTlf.: 911 590 900\\n\\nP\\xe1gina 2 de 2\\n\\n\\n'"
      ]
     },
     "execution_count": 9,
     "metadata": {},
     "output_type": "execute_result"
    }
   ],
   "source": [
    "parsedPDF['content']"
   ]
  },
  {
   "cell_type": "code",
   "execution_count": null,
   "metadata": {
    "collapsed": false
   },
   "outputs": [],
   "source": [
    "tables = []\n",
    "for table in ts.tables:\n",
    "    tables += [t for t in table]"
   ]
  },
  {
   "cell_type": "code",
   "execution_count": null,
   "metadata": {
    "collapsed": false
   },
   "outputs": [],
   "source": [
    "mt.pdf.TableSet"
   ]
  }
 ],
 "metadata": {
  "kernelspec": {
   "display_name": "Python 2",
   "language": "python",
   "name": "python2"
  },
  "language_info": {
   "codemirror_mode": {
    "name": "ipython",
    "version": 2
   },
   "file_extension": ".py",
   "mimetype": "text/x-python",
   "name": "python",
   "nbconvert_exporter": "python",
   "pygments_lexer": "ipython2",
   "version": "2.7.10"
  }
 },
 "nbformat": 4,
 "nbformat_minor": 0
}
