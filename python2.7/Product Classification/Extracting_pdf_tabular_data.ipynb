{
 "cells": [
  {
   "cell_type": "code",
   "execution_count": 1,
   "metadata": {
    "collapsed": true
   },
   "outputs": [],
   "source": [
    "# warning: pdfminer uses python 2\n",
    "from __future__ import division"
   ]
  },
  {
   "cell_type": "markdown",
   "metadata": {},
   "source": [
    "The UK government regularly releases information about the meetings that various ministers have with external organisations. You can find the releases by searching [here](https://www.gov.uk/government/publications). The hope is that by releasing information like this the public, journalists and other organisations can have some level of scrutiny over who members of parliament are meeting.\n",
    "\n",
    "Unfortunately, the information is released in a number of different formats and styles, making any sort of attempt to automatically catalogue it difficult. On the suggestion of [Transparency International](http://www.transparency.org.uk/), I have been attempting to automate the procedure. If you are interested in the output dataset, you can find it [here](https://github.com/ijmbarr/uk_minister_meetings), the full code I used to parse the documents can be found [here](https://github.com/ijmbarr/ti_intergrity_watch), (warning: it is a mess, currently undocumented and still in progress). \n",
    "\n",
    "To produce the output, I had to extract tabular information from a number of different formats: .csv, .doc, .pdf, .xlsx, .odt and .opd. Of these, by far the most difficult was the PDF file. While there are a number of different tools for extracting tabular information from pdf documents, such as [tabula](https://www.gov.uk/government/publications) and [pdftables](https://pdftables.readthedocs.io/en/latest/), neither of them quite worked on the documents I was looking at, so I decided to create my own.\n",
    "\n",
    "Reading around, you find the the best advice about parsing PDFs is [don't do it unless you have to](https://www.binpress.com/tutorial/manipulating-pdfs-with-python/167). The reason is, as we will see, unlike formats like html or other markup languages where tables and their internal structure are well defined, in PDFs we only have low level information about the location of individual characters and lines on the page. We are going to have to use this information to infer how the table is structured.\n",
    "\n",
    "The results presented here aren't that polished yet, and I don't know how readily they will apply to other pdf formats. However, I hope this method might be of some use to other.\n",
    "\n",
    "## The Problem\n",
    "\n",
    "An example of the document we would like to parse can be found [here](https://www.gov.uk/government/publications/hmt-ministers-meetings-hospitality-gifts-and-overseas-travel-1-april-to-30-june-2014), [here](https://www.gov.uk/government/uploads/system/uploads/attachment_data/file/362728/Ministerial_Quarterly_Transparency_information_-_January_to_March_2014.pdf) and [here](https://www.gov.uk/government/publications/department-of-culture-media-and-sport-ministerial-gifts-hospitality-travel-and-meetings-july-2014-to-march-2015). Let start with the first one as an example. In order to access the content of the PDFs, I'm going to use [pdfminer](http://euske.github.io/pdfminer/index.html). \n",
    "\n",
    "The first job is to find out what sort of object exist within the PDF. pdfminer return a list of LTPage objects describing each page. Each page can contain other objects: text, rectangles, lines figures, etc. (the full hierarchy of objects returned by pdfminer is detailed [here](https://euske.github.io/pdfminer/programming.html#layout)). We can pull out pages of the document using the following code:"
   ]
  },
  {
   "cell_type": "code",
   "execution_count": 9,
   "metadata": {
    "collapsed": false
   },
   "outputs": [],
   "source": [
    "from pdfminer.pdfparser import PDFParser\n",
    "from pdfminer.pdfdocument import PDFDocument\n",
    "from pdfminer.pdfpage import PDFPage\n",
    "from pdfminer.pdfpage import PDFTextExtractionNotAllowed\n",
    "from pdfminer.pdfinterp import PDFResourceManager\n",
    "from pdfminer.pdfinterp import PDFPageInterpreter\n",
    "from pdfminer.layout import LAParams\n",
    "from pdfminer.converter import PDFPageAggregator\n",
    "\n",
    "from glob import glob\n",
    "from os import path\n",
    "\n",
    "import types\n",
    "\n",
    "def extract_layout_by_page(pdf_path):\n",
    "    \"\"\"\n",
    "    Extracts LTPage objects from a pdf file.\n",
    "    \n",
    "    slightly modified from\n",
    "    https://euske.github.io/pdfminer/programming.html\n",
    "    \"\"\"\n",
    "    laparams = LAParams()\n",
    "\n",
    "    fp = open(pdf_path, 'rb')\n",
    "    parser = PDFParser(fp)\n",
    "    document = PDFDocument(parser)\n",
    "\n",
    "    if not document.is_extractable:\n",
    "        raise PDFTextExtractionNotAllowed\n",
    "\n",
    "    rsrcmgr = PDFResourceManager()\n",
    "    device = PDFPageAggregator(rsrcmgr, laparams=laparams)\n",
    "    interpreter = PDFPageInterpreter(rsrcmgr, device)\n",
    "\n",
    "    layouts = []\n",
    "    for page in PDFPage.create_pages(document):\n",
    "        interpreter.process_page(page)\n",
    "        layouts.append(device.get_result())\n",
    "\n",
    "    return layouts\n",
    "\n",
    "\n",
    "class PDF(object):\n",
    "    def __init__(self, pdf, size=(200,200)):\n",
    "        self.pdf = pdf\n",
    "        self.size = size\n",
    "\n",
    "    def _repr_html_(self):\n",
    "        return '<iframe src={0} width={1[0]} height={1[1]}></iframe>'.format(self.pdf, self.size)\n",
    "\n",
    "    def _repr_latex_(self):\n",
    "        return r'\\includegraphics[width=1.0\\textwidth]{{{0}}}'.format(self.pdf)"
   ]
  },
  {
   "cell_type": "code",
   "execution_count": 3,
   "metadata": {
    "collapsed": true
   },
   "outputs": [],
   "source": [
    "datadir = 'data'\n",
    "formats = {\n",
    "    'PDF': '*.pdf',\n",
    "    'DOC': '*.doc',\n",
    "    'DOCX': '*.docx',\n",
    "    'XLS': '*.xls',\n",
    "    'XLSX': '*.xlsx',\n",
    "    'CSV': '*.csv',\n",
    "    'TSV': '*.tsv',\n",
    "    'JSON': '*.json',\n",
    "    'TXT': '*.txt',\n",
    "}\n",
    "\n",
    "results = {name: dict(format=f, paths=[p for p in glob(path.join(datadir, f))]) for name, f in formats.items()}\n",
    "\n",
    "example_file = results['PDF']['paths'][0]\n",
    "page_layouts = extract_layout_by_page(example_file)"
   ]
  },
  {
   "cell_type": "code",
   "execution_count": 4,
   "metadata": {
    "collapsed": false
   },
   "outputs": [
    {
     "data": {
      "text/html": [
       "<iframe src=data\\2016053397_2HABWPZM.pdf width=900 height=350></iframe>"
      ],
      "text/latex": [
       "\\includegraphics[width=1.0\\textwidth]{data\\2016053397_2HABWPZM.pdf}"
      ],
      "text/plain": [
       "<__main__.PDF at 0x3e563c8>"
      ]
     },
     "execution_count": 4,
     "metadata": {},
     "output_type": "execute_result"
    }
   ],
   "source": [
    "PDF(example_file, size=(900,350))"
   ]
  },
  {
   "cell_type": "code",
   "execution_count": 5,
   "metadata": {
    "collapsed": false
   },
   "outputs": [
    {
     "data": {
      "text/plain": [
       "2"
      ]
     },
     "execution_count": 5,
     "metadata": {},
     "output_type": "execute_result"
    }
   ],
   "source": [
    "len(page_layouts)"
   ]
  },
  {
   "cell_type": "markdown",
   "metadata": {},
   "source": [
    "We can now ask what are the types of object in the documents:"
   ]
  },
  {
   "cell_type": "code",
   "execution_count": 5,
   "metadata": {
    "collapsed": false
   },
   "outputs": [
    {
     "data": {
      "text/plain": [
       "{pdfminer.layout.LTRect,\n",
       " pdfminer.layout.LTTextBoxHorizontal,\n",
       " pdfminer.layout.LTFigure}"
      ]
     },
     "execution_count": 5,
     "metadata": {},
     "output_type": "execute_result"
    }
   ],
   "source": [
    "objects_on_page = set(type(o) for o in page_layouts[0])\n",
    "objects_on_page"
   ]
  },
  {
   "cell_type": "markdown",
   "metadata": {},
   "source": [
    "So it looks like we are only dealing with text, or rectangles. The text exists as text boxes, unfortunately they don't always match up with the table columns in a way we would like, so recursively extract each character from the text objects:"
   ]
  },
  {
   "cell_type": "code",
   "execution_count": 6,
   "metadata": {
    "collapsed": false
   },
   "outputs": [],
   "source": [
    "import pdfminer\n",
    "\n",
    "TEXT_ELEMENTS = [\n",
    "    pdfminer.layout.LTTextBox,\n",
    "    pdfminer.layout.LTTextBoxHorizontal,\n",
    "    pdfminer.layout.LTTextLine,\n",
    "    pdfminer.layout.LTTextLineHorizontal\n",
    "]\n",
    "\n",
    "def flatten(lst):\n",
    "    \"\"\"Flattens a list of lists\"\"\"\n",
    "    return [subelem for elem in lst for subelem in elem]\n",
    "\n",
    "\n",
    "def extract_characters(element):\n",
    "    \"\"\"\n",
    "    Recursively extracts individual characters from \n",
    "    text elements. \n",
    "    \"\"\"\n",
    "    if isinstance(element, pdfminer.layout.LTChar):\n",
    "        return [element]\n",
    "\n",
    "    if any(isinstance(element, i) for i in TEXT_ELEMENTS):\n",
    "        return flatten([extract_characters(e) for e in element])\n",
    "\n",
    "    if isinstance(element, list):\n",
    "        return flatten([extract_characters(l) for l in element])\n",
    "\n",
    "    return []\n",
    "\n",
    "\n",
    "class my_char_box:\n",
    "    \n",
    "    def __init__(self, char, x_delta=.1, y_delta=.1):\n",
    "        \n",
    "        self.x0 = char.x0\n",
    "        self.x1 = char.x1\n",
    "        self.y0 = char.y0\n",
    "        self.y1 = char.y1\n",
    "        \n",
    "        self._text = char._text\n",
    "        \n",
    "        self.x_delta = x_delta\n",
    "        self.y_delta = y_delta\n",
    "\n",
    "    def check_adjacency(self, c2):\n",
    "\n",
    "        x01, x02 = self.x0, c2.x0\n",
    "        x11, x12 = self.x1, c2.x1\n",
    "\n",
    "        y01, y02 = self.y0, c2.y0\n",
    "        y11, y12 = self.y1, c2.y1\n",
    "\n",
    "        over = rsbs = lsbs = tsbs = bsbs = False\n",
    "\n",
    "        # Overlapping?\n",
    "        if (any([(x01 - self.x_delta) < w < (x02 + self.x_delta) for w in [x11, x12]] +\n",
    "                [(x11 - self.x_delta) < w < (x12 + self.x_delta) for w in [x01, x02]]) &\n",
    "            any([(y01 - self.y_delta) < w < (y02 + self.y_delta) for w in [y11, y12]] +\n",
    "                [(y11 - self.y_delta) < w < (y12 + self.y_delta) for w in [y01, y02]])):\n",
    "            over = True\n",
    "\n",
    "        # Right side-by-side?\n",
    "        if ((x02 - x11 < self.x_delta) & any([(y01 - self.y_delta) < w < (y02 + self.y_delta) for w in [y11, y12]] +\n",
    "                                             [(y11 - self.y_delta) < w < (y12 + self.y_delta) for w in [y01, y02]])):\n",
    "            rsbs = True\n",
    "\n",
    "        # Left side-by-side?\n",
    "        if ((x01 - x12 < self.x_delta) & any([(y01 - self.y_delta) < w < (y02 + self.y_delta) for w in [y11, y12]] +\n",
    "                                             [(y11 - self.y_delta) < w < (y12 + self.y_delta) for w in [y01, y02]])):\n",
    "            lsbs = True\n",
    "\n",
    "        # Top side-by-side?\n",
    "        if ((y02 - y11 < self.y_delta) & any([(x01 - self.x_delta) < w < (x02 + self.x_delta) for w in [x11, x12]] +\n",
    "                                             [(x11 - self.x_delta) < w < (x12 + self.x_delta) for w in [x01, x02]])):\n",
    "            tsbs = True\n",
    "\n",
    "        # Bottom side-by-side?\n",
    "        if ((y01 - y12 < self.y_delta) & any([(x01 - self.x_delta) < w < (x02 + self.x_delta) for w in [x11, x12]] +\n",
    "                                             [(x11 - self.x_delta) < w < (x12 + self.x_delta) for w in [x01, x02]])):\n",
    "            bsbs = True\n",
    "\n",
    "        return over, rsbs, lsbs, tsbs, bsbs\n",
    "\n",
    "\n",
    "    def maybe_join(self, c2):\n",
    "        \n",
    "        over, rsbs, lsbs, tsbs, bsbs = self.check_adjacency(c2)\n",
    "\n",
    "        if over or rsbs:\n",
    "            self._text += c2._text\n",
    "            self.x1 = c2.x1\n",
    "            self.y0 = min(self.y0, c2.y0)\n",
    "            self.y1 = max(self.y1, c2.y1)\n",
    "            return True\n",
    "        \n",
    "        if lsbs:\n",
    "            self._text = c2._text + self._text\n",
    "            self.x0 = c2.x0\n",
    "            self.y0 = min(self.y0, c2.y0)\n",
    "            self.y1 = max(self.y1, c2.y1)\n",
    "            return True\n",
    "    \n",
    "        return False\n",
    "\n",
    "from pdfminer.layout import LTChar\n",
    "def maybe_join(self, obj):\n",
    "    if (self.vdistance(obj) < .1) and (self.hdistance(obj) < .1):\n",
    "\n",
    "        self_x_cent = (self.x0 + self.x1)/2\n",
    "        obj_x_cent = (obj.x0 + obj.x1)/2\n",
    "\n",
    "        self.x0 = min(self.x0, obj.x0)\n",
    "        self.x1 = max(self.x1, obj.x1)\n",
    "        self.y0 = min(self.y0, obj.y0)\n",
    "        self.y1 = max(self.y1, obj.y1)\n",
    "\n",
    "        if obj_x_cent > self_x_cent:\n",
    "            self._text += obj._text\n",
    "        else:\n",
    "            self._text = obj._text + self._text\n",
    "            "
   ]
  },
  {
   "cell_type": "code",
   "execution_count": 79,
   "metadata": {
    "collapsed": false
   },
   "outputs": [
    {
     "data": {
      "text/plain": [
       "[1, 2, 3]"
      ]
     },
     "execution_count": 79,
     "metadata": {},
     "output_type": "execute_result"
    }
   ],
   "source": [
    "a = [1,2,3]\n",
    "b = list(a)\n",
    "a.pop(1)\n",
    "b"
   ]
  },
  {
   "cell_type": "code",
   "execution_count": 7,
   "metadata": {
    "collapsed": false
   },
   "outputs": [],
   "source": [
    "current_page = page_layouts[0]\n",
    "\n",
    "texts = []\n",
    "rects = []\n",
    "\n",
    "# seperate text and rectangle elements\n",
    "for e in current_page:\n",
    "    if isinstance(e, pdfminer.layout.LTTextBoxHorizontal):\n",
    "        texts.append(e)\n",
    "    elif isinstance(e, pdfminer.layout.LTRect):\n",
    "        rects.append(e)\n",
    "\n",
    "# sort them into \n",
    "characters = extract_characters(texts)\n",
    "#characters = texts"
   ]
  },
  {
   "cell_type": "markdown",
   "metadata": {},
   "source": [
    "Each element of the pdf is described the the bounding box. We can use this to visualise how the page is arranged:"
   ]
  },
  {
   "cell_type": "code",
   "execution_count": 8,
   "metadata": {
    "collapsed": true
   },
   "outputs": [],
   "source": [
    "import matplotlib.pyplot as plt\n",
    "from matplotlib import patches\n",
    "%matplotlib inline\n",
    "\n",
    "   \n",
    "def draw_rect_bbox((x0,y0,x1,y1), ax, color):\n",
    "    \"\"\"\n",
    "    Draws an unfilled rectable onto ax.\n",
    "    \"\"\"\n",
    "    ax.add_patch( \n",
    "        patches.Rectangle(\n",
    "            (x0, y0),\n",
    "            x1 - x0,\n",
    "            y1 - y0,\n",
    "            fill=False,\n",
    "            color=color\n",
    "        )    \n",
    "    )\n",
    "    \n",
    "def draw_rect(rect, ax, color=\"black\"):\n",
    "    draw_rect_bbox(rect.bbox, ax, color)"
   ]
  },
  {
   "cell_type": "code",
   "execution_count": 94,
   "metadata": {
    "collapsed": false
   },
   "outputs": [
    {
     "name": "stderr",
     "output_type": "stream",
     "text": [
      "0%                          100%\n",
      "[                              ]"
     ]
    },
    {
     "ename": "TypeError",
     "evalue": "maybe_join() takes exactly 2 arguments (1 given)",
     "output_type": "error",
     "traceback": [
      "\u001b[1;31m---------------------------------------------------------------------------\u001b[0m",
      "\u001b[1;31mTypeError\u001b[0m                                 Traceback (most recent call last)",
      "\u001b[1;32m<ipython-input-94-42eb3821a7ad>\u001b[0m in \u001b[0;36m<module>\u001b[1;34m()\u001b[0m\n\u001b[0;32m     33\u001b[0m \u001b[1;32mfor\u001b[0m \u001b[0mc\u001b[0m \u001b[1;32min\u001b[0m \u001b[0mcharacters\u001b[0m\u001b[1;33m:\u001b[0m\u001b[1;33m\u001b[0m\u001b[0m\n\u001b[0;32m     34\u001b[0m     \u001b[0mc\u001b[0m\u001b[1;33m.\u001b[0m\u001b[0mmaybe_join\u001b[0m \u001b[1;33m=\u001b[0m \u001b[0mmaybe_join\u001b[0m\u001b[1;33m\u001b[0m\u001b[0m\n\u001b[1;32m---> 35\u001b[1;33m \u001b[0madj_chrbxs\u001b[0m \u001b[1;33m=\u001b[0m \u001b[0mjoin_adjacent_charboxes\u001b[0m\u001b[1;33m(\u001b[0m\u001b[1;33m[\u001b[0m\u001b[0mc\u001b[0m \u001b[1;32mfor\u001b[0m \u001b[0mc\u001b[0m \u001b[1;32min\u001b[0m \u001b[0mcharacters\u001b[0m\u001b[1;33m]\u001b[0m\u001b[1;33m)\u001b[0m\u001b[1;33m\u001b[0m\u001b[0m\n\u001b[0m",
      "\u001b[1;32m<ipython-input-94-42eb3821a7ad>\u001b[0m in \u001b[0;36mjoin_adjacent_charboxes\u001b[1;34m(pretenders)\u001b[0m\n\u001b[0;32m     26\u001b[0m \u001b[1;33m\u001b[0m\u001b[0m\n\u001b[0;32m     27\u001b[0m     \u001b[1;32mwhile\u001b[0m\u001b[1;33m(\u001b[0m\u001b[0many_\u001b[0m\u001b[1;33m)\u001b[0m\u001b[1;33m:\u001b[0m\u001b[1;33m\u001b[0m\u001b[0m\n\u001b[1;32m---> 28\u001b[1;33m         \u001b[0mpretenders\u001b[0m\u001b[1;33m,\u001b[0m \u001b[0many_\u001b[0m \u001b[1;33m=\u001b[0m \u001b[0mtry_join_adjacent_charboxes\u001b[0m\u001b[1;33m(\u001b[0m\u001b[0mpretenders\u001b[0m\u001b[1;33m)\u001b[0m\u001b[1;33m\u001b[0m\u001b[0m\n\u001b[0m\u001b[0;32m     29\u001b[0m         \u001b[0mpbar\u001b[0m\u001b[1;33m.\u001b[0m\u001b[0mupdate\u001b[0m\u001b[1;33m(\u001b[0m\u001b[0mlast_len\u001b[0m \u001b[1;33m-\u001b[0m \u001b[0mlen\u001b[0m\u001b[1;33m(\u001b[0m\u001b[0mpretenders\u001b[0m\u001b[1;33m)\u001b[0m\u001b[1;33m)\u001b[0m\u001b[1;33m\u001b[0m\u001b[0m\n\u001b[0;32m     30\u001b[0m         \u001b[0mlast_len\u001b[0m \u001b[1;33m=\u001b[0m \u001b[0mlen\u001b[0m\u001b[1;33m(\u001b[0m\u001b[0mpretenders\u001b[0m\u001b[1;33m)\u001b[0m\u001b[1;33m\u001b[0m\u001b[0m\n",
      "\u001b[1;32m<ipython-input-94-42eb3821a7ad>\u001b[0m in \u001b[0;36mtry_join_adjacent_charboxes\u001b[1;34m(pretenders)\u001b[0m\n\u001b[0;32m      9\u001b[0m     \u001b[1;32mfor\u001b[0m \u001b[0mi\u001b[0m \u001b[1;32min\u001b[0m \u001b[0mrange\u001b[0m\u001b[1;33m(\u001b[0m\u001b[0mlen\u001b[0m\u001b[1;33m(\u001b[0m\u001b[0mpretenders\u001b[0m\u001b[1;33m)\u001b[0m\u001b[1;33m)\u001b[0m\u001b[1;33m:\u001b[0m\u001b[1;33m\u001b[0m\u001b[0m\n\u001b[0;32m     10\u001b[0m         \u001b[1;32mfor\u001b[0m \u001b[0mj\u001b[0m \u001b[1;32min\u001b[0m \u001b[1;33m[\u001b[0m\u001b[0mj\u001b[0m \u001b[1;32mfor\u001b[0m \u001b[0mj\u001b[0m \u001b[1;32min\u001b[0m \u001b[0mrange\u001b[0m\u001b[1;33m(\u001b[0m\u001b[0mlen\u001b[0m\u001b[1;33m(\u001b[0m\u001b[0mcharboxes\u001b[0m\u001b[1;33m)\u001b[0m\u001b[1;33m)\u001b[0m \u001b[1;32mif\u001b[0m \u001b[0mj\u001b[0m \u001b[1;33m!=\u001b[0m \u001b[0mi\u001b[0m \u001b[1;32mand\u001b[0m \u001b[0mj\u001b[0m \u001b[1;32mnot\u001b[0m \u001b[1;32min\u001b[0m \u001b[0mwhich\u001b[0m \u001b[1;33m+\u001b[0m \u001b[0mexclude\u001b[0m\u001b[1;33m]\u001b[0m\u001b[1;33m:\u001b[0m\u001b[1;33m\u001b[0m\u001b[0m\n\u001b[1;32m---> 11\u001b[1;33m             \u001b[1;32mif\u001b[0m \u001b[0mcharboxes\u001b[0m\u001b[1;33m[\u001b[0m\u001b[0mj\u001b[0m\u001b[1;33m]\u001b[0m\u001b[1;33m.\u001b[0m\u001b[0mmaybe_join\u001b[0m\u001b[1;33m(\u001b[0m\u001b[0mpretenders\u001b[0m\u001b[1;33m[\u001b[0m\u001b[0mi\u001b[0m\u001b[1;33m]\u001b[0m\u001b[1;33m)\u001b[0m\u001b[1;33m:\u001b[0m\u001b[1;33m\u001b[0m\u001b[0m\n\u001b[0m\u001b[0;32m     12\u001b[0m                 \u001b[0mwhich\u001b[0m\u001b[1;33m.\u001b[0m\u001b[0mappend\u001b[0m\u001b[1;33m(\u001b[0m\u001b[0mi\u001b[0m\u001b[1;33m)\u001b[0m\u001b[1;33m\u001b[0m\u001b[0m\n\u001b[0;32m     13\u001b[0m                 \u001b[0mexclude\u001b[0m\u001b[1;33m.\u001b[0m\u001b[0mappend\u001b[0m\u001b[1;33m(\u001b[0m\u001b[0mj\u001b[0m\u001b[1;33m)\u001b[0m\u001b[1;33m\u001b[0m\u001b[0m\n",
      "\u001b[1;31mTypeError\u001b[0m: maybe_join() takes exactly 2 arguments (1 given)"
     ]
    }
   ],
   "source": [
    "from pyprind import ProgBar as pb\n",
    "def try_join_adjacent_charboxes(pretenders):\n",
    "    \n",
    "    which = []\n",
    "    exclude = []\n",
    "    any_ = False\n",
    "    charboxes = list(pretenders)\n",
    "    \n",
    "    for i in range(len(pretenders)):\n",
    "        for j in [j for j in range(len(charboxes)) if j != i and j not in which + exclude]:\n",
    "            if charboxes[j].maybe_join(pretenders[i]):\n",
    "                which.append(i)\n",
    "                exclude.append(j)\n",
    "                any_ = True\n",
    "                break\n",
    "    \n",
    "    [charboxes.pop(i) for i in reversed(which)]\n",
    "    \n",
    "    return charboxes, any_\n",
    "\n",
    "def join_adjacent_charboxes(pretenders):\n",
    "    \n",
    "    any_ = True\n",
    "    last_len = len(pretenders)\n",
    "    pbar = pb(last_len)\n",
    "    \n",
    "    while(any_):\n",
    "        pretenders, any_ = try_join_adjacent_charboxes(pretenders)\n",
    "        pbar.update(last_len - len(pretenders))\n",
    "        last_len = len(pretenders)\n",
    "    \n",
    "    return pretenders\n",
    "\n",
    "for c in characters:\n",
    "    c.maybe_join = types.MethodType( maybe_join, c )\n",
    "adj_chrbxs = join_adjacent_charboxes([c for c in characters])"
   ]
  },
  {
   "cell_type": "code",
   "execution_count": 88,
   "metadata": {
    "collapsed": false
   },
   "outputs": [
    {
     "data": {
      "text/plain": [
       "[u'I1Tdieit',\n",
       " u'N6oo\\xf3sda',\n",
       " u'T t)ntom',\n",
       " u'EFaMRoro',\n",
       " u'Gdlae::s',\n",
       " u'Ro nf3Tt',\n",
       " u'A:Roe0Mo',\n",
       " u'L e r-Bs',\n",
       " u' Rcde1G ',\n",
       " u'SEaen0Pd',\n",
       " u'OPm c-4e',\n",
       " u'LAbOi21 ',\n",
       " u'URiba0Ur',\n",
       " u'TAorK11e',\n",
       " u'ITsaI61p',\n",
       " u'OUM ',\n",
       " u'NCa(',\n",
       " u'SOn\\u20ac',\n",
       " u',Co)',\n",
       " u' H 1P',\n",
       " u'SEO4r',\n",
       " u'..b5e',\n",
       " u'LCr,c',\n",
       " u'.Oa6i',\n",
       " u'UMT7o',\n",
       " u'. o2TCM ',\n",
       " u'C t8 lam',\n",
       " u'. a,Dit\\xe1',\n",
       " u'I l0Iers',\n",
       " u'.  2Sn\\xed ',\n",
       " u'F P1Ttcc',\n",
       " u'. 85t321\\u20ac',\n",
       " u':\\u20ac0,a,,421',\n",
       " u' 0 0l28,84',\n",
       " u'B,\\u20ac0 650,5',\n",
       " u'-01 (  00,',\n",
       " u'804\\u20ac\\u20ac\\u20ac\\u20ac 26',\n",
       " u'5 53511111',\n",
       " u'1\\u20ac,0)',\n",
       " u'44i4Reue',\n",
       " u'34n,I:lr',\n",
       " u'68t0BNac',\n",
       " u'2,u0U\\xba:a',\n",
       " u'68r1C M ',\n",
       " u'A0a2IPad',\n",
       " u'v 031T1\\u20ac 7',\n",
       " u'd\\u20ac0,4o01\\u20ac ',\n",
       " u'a4S,\\xd3rre',\n",
       " u'.4u8Nec ',\n",
       " u' 8b5Bsat',\n",
       " u'P,t1Ou:i',\n",
       " u'u8o0Mp2a',\n",
       " u'e0t3Bu4r',\n",
       " u'n a,Ae5a',\n",
       " u't\\u20acl2 s9c',\n",
       " u'e9B6Dt5i',\n",
       " u' 4aDEo6\\xf3',\n",
       " u'C,se :3n',\n",
       " u'u2esA2S ',\n",
       " u'l5 cG5Kr',\n",
       " u't IrU7Oe',\n",
       " u'u\\u20acmiA9Dp',\n",
       " u'r5ppA0Aa',\n",
       " u'a4ocNTM.',\n",
       " u'l3niTaoD',\n",
       " u',,i\\xf3Ildi',\n",
       " u' 0bnCles',\n",
       " u'15lOOelp',\n",
       " u'b epNroo',\n",
       " u'i\\u20acIeG::n',\n",
       " u'sOmrE Ke',\n",
       " u'2fpaLSim',\n",
       " u'8iucAIlo',\n",
       " u'7ceiNN\\xf3s',\n",
       " u'0is\\xf3T m ',\n",
       " u'2ntnETed',\n",
       " u' aoPCAte',\n",
       " u'-ssrOLr ',\n",
       " u'  TeRLop',\n",
       " u'ScocREsu',\n",
       " u'aetiER:n',\n",
       " u'nnaoANOr',\n",
       " u' tl  oCt',\n",
       " u'SrE(AtTi',\n",
       " u'ean\\u20acLaAd',\n",
       " u'bl )TsVo',\n",
       " u'aeSTE:Is',\n",
       " u'ssaiRVA ',\n",
       " u't neNAU',\n",
       " u'id mALE',\n",
       " u'\\xe1eSpDOS',\n",
       " u'n eoORT',\n",
       " u' Rb RAO',\n",
       " u'dea(TC ',\n",
       " u'epsHEIW',\n",
       " u' atrN\\xd3E',\n",
       " u'lrisSNB',\n",
       " u'oa\\xe1.ORNTa',\n",
       " u'stn)Re\\xbai\\xf1',\n",
       " u' u KEc pa',\n",
       " u'RcdISaEo.',\n",
       " u'eoeT mx  ',\n",
       " u'yc  Cbpi ',\n",
       " u'ehlDOienUp',\n",
       " u'seoIRodtpo',\n",
       " u' .sSRsiedr',\n",
       " u'(c TEUera ',\n",
       " u'MoRRAnnvtt',\n",
       " u'ameI iteio',\n",
       " u'd yBAdennd',\n",
       " u'reeULa:cga',\n",
       " u'insCTd2i  ',\n",
       " u'd:,IEe0\\xf3DE',\n",
       " u')M \\xd3Rs1nBs',\n",
       " u'TAaNNT6:.p',\n",
       " u'lR SAo0P',\n",
       " u'fK3uDt5R',\n",
       " u'.E0sOa3E',\n",
       " u':T tRl3S',\n",
       " u' Idi  9U',\n",
       " u'9Net((7P',\n",
       " u'1Glu \\u20acFNY',\n",
       " u'1  cr).\\xba ',\n",
       " u' D1ieD  a',\n",
       " u'5I0\\xf3cepdh',\n",
       " u'9R nosreo',\n",
       " u'0Ed2mce r',\n",
       " u' Ce9ersba',\n",
       " u'9T ,niua ',\n",
       " u'0O20dppse',\n",
       " u'0 00acuts',\n",
       " u'P',\n",
       " u'\\xe1',\n",
       " u'g',\n",
       " u'i',\n",
       " u'n',\n",
       " u'a',\n",
       " u' ',\n",
       " u'1',\n",
       " u' ',\n",
       " u'd',\n",
       " u'e',\n",
       " u' ',\n",
       " u'2a']"
      ]
     },
     "execution_count": 88,
     "metadata": {},
     "output_type": "execute_result"
    }
   ],
   "source": [
    "[cb._text for cb in adj_chrbxs]"
   ]
  },
  {
   "cell_type": "code",
   "execution_count": 52,
   "metadata": {
    "collapsed": false
   },
   "outputs": [
    {
     "data": {
      "text/plain": [
       "{0: {'field_cnt': 1,\n",
       "  'last_x': 536.8086379880301,\n",
       "  'text': [u'Y ahora estamos m\\xe1s cerca de ti.']},\n",
       " 1: {'field_cnt': 1,\n",
       "  'last_x': 537.7570158124108,\n",
       "  'text': [u'Disponemos de puntos de reparaci\\xf3n repartidos por toda Espa\\xf1a. ']},\n",
       " 2: {'field_cnt': 1, 'last_x': 534.2602419251, 'text': [u' ']},\n",
       " 3: {'field_cnt': 2,\n",
       "  'last_x': 457.2869541924275,\n",
       "  'text': [u'N\\xba de bastidor:', u'TMBGP41U112459563']},\n",
       " 4: {'field_cnt': 1, 'last_x': 338.633027550755, 'text': [u'Matr\\xedcula:']},\n",
       " 5: {'field_cnt': 2,\n",
       "  'last_x': 397.6994868784101,\n",
       "  'text': [u'Marca:', u'SKODA']},\n",
       " 6: {'field_cnt': 2,\n",
       "  'last_x': 404.6742712119725,\n",
       "  'text': [u'Modelo:', u'OCTAVIA']},\n",
       " 7: {'field_cnt': 1, 'last_x': 344.8875243455675, 'text': [u'Kil\\xf3metros:']},\n",
       " 8: {'field_cnt': 1, 'last_x': 114.14053015685002, 'text': [u'Updating DB.']},\n",
       " 9: {'field_cnt': 2,\n",
       "  'last_x': 229.279933801115,\n",
       "  'text': [u'Tipo intervenci\\xf3n:', u'PRESUPUESTO WEB']},\n",
       " 10: {'field_cnt': 2,\n",
       "  'last_x': 182.2331527284275,\n",
       "  'text': [u'N\\xba Expediente:', u'2016053397']},\n",
       " 11: {'field_cnt': 2,\n",
       "  'last_x': 177.9834562498025,\n",
       "  'text': [u'F. presupuesto:', u'30-10-2016']},\n",
       " 12: {'field_cnt': 1, 'last_x': 94.0353841835675, 'text': [u'Cliente:']},\n",
       " 13: {'field_cnt': 1,\n",
       "  'last_x': 157.80340037249,\n",
       "  'text': [u'N\\xba Presupuesto:25790']},\n",
       " 14: {'field_cnt': 1,\n",
       "  'last_x': 127.942199782685,\n",
       "  'text': [u'Taller: SIN TALLER']},\n",
       " 15: {'field_cnt': 1, 'last_x': 83.315104648505, 'text': [u'Notas:']},\n",
       " 16: {'field_cnt': 1, 'last_x': 110.0564998121375, 'text': [u'VALORACI\\xd3N']},\n",
       " 17: {'field_cnt': 1, 'last_x': 104.272590875975, 'text': [u'Recambios']},\n",
       " 18: {'field_cnt': 5,\n",
       "  'last_x': 415.102594197995,\n",
       "  'text': [u'Unidades',\n",
       "   u'Total (\\u20ac)',\n",
       "   u'Descripci\\xf3n',\n",
       "   u'Referencia',\n",
       "   u'Precio (\\u20ac)']},\n",
       " 19: {'field_cnt': 4,\n",
       "  'last_x': 532.5089828225525,\n",
       "  'text': [u'KIT DISTRIBUCI\\xd3N', u'145,67', u'1', u'145,67 \\u20ac']},\n",
       " 20: {'field_cnt': 4,\n",
       "  'last_x': 532.232872599365,\n",
       "  'text': [u'BOMBA DE AGUA', u'28,02', u'1', u'28,02 \\u20ac']},\n",
       " 21: {'field_cnt': 4,\n",
       "  'last_x': 532.232872599365,\n",
       "  'text': [u'ANTICONGELANTE', u'14,00', u'1', u'14,00 \\u20ac']},\n",
       " 22: {'field_cnt': 4,\n",
       "  'last_x': 532.232872599365,\n",
       "  'text': [u'CORREA ALTERNADOR', u'12,85', u'1', u'12,85 \\u20ac']},\n",
       " 23: {'field_cnt': 4,\n",
       "  'last_x': 532.5089828225525,\n",
       "  'text': [u'TENSORES CORREA ALTERNADOR ( recomendado)',\n",
       "   u'103,26',\n",
       "   u'1',\n",
       "   u'103,26 \\u20ac']},\n",
       " 24: {'field_cnt': 1, 'last_x': 117.73332440013499, 'text': [u'Mano de Obra']},\n",
       " 25: {'field_cnt': 5,\n",
       "  'last_x': 524.4782569571826,\n",
       "  'text': [u'Descripci\\xf3n',\n",
       "   u'Operaci\\xf3n',\n",
       "   u'Precio (\\u20ac)',\n",
       "   u'Tiempo (Hrs.)',\n",
       "   u'Total (\\u20ac)']},\n",
       " 26: {'field_cnt': 5,\n",
       "  'last_x': 532.5089828225525,\n",
       "  'text': [u'KIT DISTRIBUCI\\xd3N',\n",
       "   u'Sustituci\\xf3n',\n",
       "   u'29,00',\n",
       "   u'5',\n",
       "   u'145,00 \\u20ac']},\n",
       " 27: {'field_cnt': 2,\n",
       "  'last_x': 532.5089828225525,\n",
       "  'text': [u'Total Recambios', u'303,80 \\u20ac']},\n",
       " 28: {'field_cnt': 2,\n",
       "  'last_x': 532.5089828225525,\n",
       "  'text': [u'Mano Obra', u'145,00 \\u20ac']},\n",
       " 29: {'field_cnt': 2,\n",
       "  'last_x': 532.7250690841774,\n",
       "  'text': [u'Total Pintura', u'0,00 \\u20ac']},\n",
       " 30: {'field_cnt': 2,\n",
       "  'last_x': 532.5089828225525,\n",
       "  'text': [u'Subtotal', u'448,80 \\u20ac']},\n",
       " 31: {'field_cnt': 2,\n",
       "  'last_x': 532.5089828225525,\n",
       "  'text': [u'Base Imponible', u'448,80 \\u20ac']},\n",
       " 32: {'field_cnt': 2,\n",
       "  'last_x': 533.001179307365,\n",
       "  'text': [u'Impuestos', u'94,25 \\u20ac']},\n",
       " 33: {'field_cnt': 2,\n",
       "  'last_x': 532.5089828225525,\n",
       "  'text': [u'Total', u'543,05 \\u20ac']},\n",
       " 34: {'field_cnt': 1,\n",
       "  'last_x': 273.34808580522497,\n",
       "  'text': [u'En San Sebasti\\xe1n de los Reyes, a 30 del 10 de 2016 ']},\n",
       " 35: {'field_cnt': 1,\n",
       "  'last_x': 181.0312329221,\n",
       "  'text': [u'Fdo: REPARATUCOCHE.COM ']},\n",
       " 36: {'field_cnt': 1, 'last_x': 83.02410848285001, 'text': [u'     ']},\n",
       " 37: {'field_cnt': 1,\n",
       "  'last_x': 197.69033123332548,\n",
       "  'text': [u'Oficinas centrales de Reparatucoche.com en:']},\n",
       " 38: {'field_cnt': 1,\n",
       "  'last_x': 234.4370965402265,\n",
       "  'text': [u'MARKETING DIRECTO INTEGRAL SOLUTIONS, S.L.U.']},\n",
       " 39: {'field_cnt': 1,\n",
       "  'last_x': 114.14936568399202,\n",
       "  'text': [u'C.I.F.: B-85143626']},\n",
       " 40: {'field_cnt': 1,\n",
       "  'last_x': 140.91784365908148,\n",
       "  'text': [u'Avda. Puente Cultural, 1bis']},\n",
       " 41: {'field_cnt': 1,\n",
       "  'last_x': 195.824402354609,\n",
       "  'text': [u'28702 - San Sebasti\\xe1n de los Reyes (Madrid)']},\n",
       " 42: {'field_cnt': 1,\n",
       "  'last_x': 109.61155418986701,\n",
       "  'text': [u'Tlf.: 911 590 900']},\n",
       " 43: {'field_cnt': 1,\n",
       "  'last_x': 533.98557227699,\n",
       "  'text': [u'P\\xe1gina 1 de 2']}}"
      ]
     },
     "execution_count": 52,
     "metadata": {},
     "output_type": "execute_result"
    }
   ],
   "source": [
    "linedChars = {}\n",
    "lineIds = {}\n",
    "x_delta = 7.\n",
    "\n",
    "for c in characters:\n",
    "    \n",
    "    line_pos = int((c.y0 + c.y1)/2)\n",
    "    x_pos = (c.x0 + c.x1)/2\n",
    "    \n",
    "    if line_pos not in lineIds:\n",
    "        line_id = len(lineIds)\n",
    "        lineIds.update({line_pos: line_id})\n",
    "    \n",
    "    line_id = lineIds[line_pos]\n",
    "    \n",
    "    if line_id not in linedChars:\n",
    "        linedChars.update({line_id:dict(text=[c._text], last_x=x_pos, field_cnt=1)})#, y_hist=[line_pos])})\n",
    "    else:\n",
    "        x_diff = abs(x_pos - linedChars[line_id]['last_x'])\n",
    "        \n",
    "        if x_diff > x_delta:\n",
    "            linedChars[line_id]['text'] += [c._text]\n",
    "            linedChars[line_id]['field_cnt'] += 1\n",
    "        else:\n",
    "            linedChars[line_id]['text'][-1] += c._text\n",
    "            \n",
    "        #linedChars[line_id]['y_hist'] += [line_pos]\n",
    "    \n",
    "    linedChars[line_id]['last_x'] = x_pos    \n",
    "    \n",
    "    \n",
    "#charNline = [(characters[i]._text, int((characters[i].y0 + characters[i].y1)/2)) for i in range(len(characters))]\n",
    "linedChars"
   ]
  },
  {
   "cell_type": "code",
   "execution_count": 23,
   "metadata": {
    "collapsed": false
   },
   "outputs": [
    {
     "data": {
      "image/png": "[encoded data removed]",
      "text/plain": [
       "<matplotlib.figure.Figure at 0xeb77cc0>"
      ]
     },
     "metadata": {},
     "output_type": "display_data"
    }
   ],
   "source": [
    "xmin, ymin, xmax, ymax = current_page.bbox\n",
    "size = 15\n",
    "\n",
    "fig, ax = plt.subplots(figsize = (size, size * (ymax/xmax)))\n",
    "\n",
    "for rect in rects:\n",
    "    draw_rect(rect, ax)\n",
    "    \n",
    "for c in characters:\n",
    "    draw_rect(c, ax, \"red\")\n",
    "    \n",
    "\n",
    "plt.xlim(xmin, xmax)\n",
    "plt.ylim(ymin, ymax)\n",
    "plt.show()"
   ]
  },
  {
   "cell_type": "markdown",
   "metadata": {},
   "source": [
    "To pull out the information in table format, we need a way to identify the cells of the table, and to identify which cell each character belongs to.\n",
    "\n",
    "It would be nice to think that the rectangles here match the edges of the cells of the tables, however exploring the layout you find that while some rectangles refer to cells, other seem to be used as line segments, and others as pixels. Some investigation suggest that the table can be defined by only looking at the rectangle which are \"line-like\", which we defined as any rectangle narrower then two pixels, with an area greater than one pixel:"
   ]
  },
  {
   "cell_type": "code",
   "execution_count": 17,
   "metadata": {
    "collapsed": true
   },
   "outputs": [],
   "source": [
    "def width(rect):\n",
    "    x0, y0, x1, y1 = rect.bbox\n",
    "    return min(x1 - x0, y1 - y0)\n",
    "\n",
    "def area(rect):\n",
    "    x0, y0, x1, y1 = rect.bbox\n",
    "    return (x1 - x0) * (y1 - y0)\n",
    "\n",
    "\n",
    "def cast_as_line(rect):\n",
    "    \"\"\"\n",
    "    Replaces a retangle with a line based on its longest dimension.\n",
    "    \"\"\"\n",
    "    x0, y0, x1, y1 = rect.bbox\n",
    "\n",
    "    if x1 - x0 > y1 - y0:\n",
    "        return (x0, y0, x1, y0, \"H\")\n",
    "    else:\n",
    "        return (x0, y0, x0, y1, \"V\")\n",
    "    \n",
    "lines = [cast_as_line(r) for r in rects]#\n",
    "         #if width(r) < 2 and\n",
    "         #area(r) > 1"
   ]
  },
  {
   "cell_type": "markdown",
   "metadata": {},
   "source": [
    "Plotting the page again, but only with the lines gives:"
   ]
  },
  {
   "cell_type": "code",
   "execution_count": 18,
   "metadata": {
    "collapsed": false
   },
   "outputs": [
    {
     "data": {
      "image/png": "[encoded data removed]",
      "text/plain": [
       "<matplotlib.figure.Figure at 0xe742550>"
      ]
     },
     "metadata": {},
     "output_type": "display_data"
    }
   ],
   "source": [
    "xmin, ymin, xmax, ymax = current_page.bbox\n",
    "size = 9\n",
    "\n",
    "fig, ax = plt.subplots(figsize = (size, size * (ymax/xmax)))\n",
    "\n",
    "for l in lines:\n",
    "    x0,y0,x1,y1,_ = l\n",
    "    plt.plot([x0, x1], [y0, y1], 'k-')\n",
    "    \n",
    "for c in characters:\n",
    "    draw_rect(c, ax, \"red\")\n",
    "\n",
    "plt.xlim(xmin, xmax)\n",
    "plt.ylim(ymin, ymax)\n",
    "plt.show()"
   ]
  },
  {
   "cell_type": "markdown",
   "metadata": {},
   "source": [
    "Now onto the main question: how do we assign characters to cells? We use a simple idea, for each character, find the line that bounds it from above, below, left and right. Define these four lines as the cell. We do this using the following function"
   ]
  },
  {
   "cell_type": "code",
   "execution_count": 14,
   "metadata": {
    "collapsed": true
   },
   "outputs": [],
   "source": [
    "def does_it_intersect(x, (xmin, xmax)):\n",
    "    return (x <= xmax and x >= xmin)\n",
    "\n",
    "def find_bounding_rectangle((x, y), lines):\n",
    "    \"\"\"\n",
    "    Given a collection of lines, and a point, try to find the rectangle \n",
    "    made from the lines that bounds the point. If the point is not \n",
    "    bounded, return None.\n",
    "    \"\"\"\n",
    "    \n",
    "    v_intersects = [l for l in lines\n",
    "                    if l[4] == \"V\"\n",
    "                    and does_it_intersect(y, (l[1], l[3]))]\n",
    "\n",
    "    h_intersects = [l for l in lines\n",
    "                    if l[4] == \"H\"\n",
    "                    and does_it_intersect(x, (l[0], l[2]))]\n",
    "\n",
    "    if len(v_intersects) < 2 or len(h_intersects) < 2:\n",
    "        return None\n",
    "\n",
    "    v_left = [v[0] for v in v_intersects\n",
    "              if v[0] < x]\n",
    "\n",
    "    v_right = [v[0] for v in v_intersects\n",
    "               if v[0] > x]\n",
    "\n",
    "    if len(v_left) == 0 or len(v_right) == 0:\n",
    "        return None\n",
    "\n",
    "    x0, x1 = max(v_left), min(v_right)\n",
    "\n",
    "    h_down = [h[1] for h in h_intersects\n",
    "              if h[1] < y]\n",
    "\n",
    "    h_up = [h[1] for h in h_intersects\n",
    "            if h[1] > y]\n",
    "\n",
    "    if len(h_down) == 0 or len(h_up) == 0:\n",
    "        return None\n",
    "\n",
    "    y0, y1 = max(h_down), min(h_up)\n",
    "\n",
    "    return (x0, y0, x1, y1)"
   ]
  },
  {
   "cell_type": "markdown",
   "metadata": {},
   "source": [
    "The line segments that make up the cell boundaries aren't always complete - those small pixel sized rectangle we threw away earlier leave gaps in them. Combined with the bbox's of character sometime lying outside their cell, we have to be careful about which point we use to find its cell. To make things robust I use three points: the bottom left corner, the top right corner and the centre. The box that defines that majority of these is the one chosen.\n",
    "\n",
    "We can now run this code over every character. "
   ]
  },
  {
   "cell_type": "code",
   "execution_count": 19,
   "metadata": {
    "collapsed": false
   },
   "outputs": [],
   "source": [
    "from collections import defaultdict\n",
    "import math\n",
    "\n",
    "box_char_dict = {}\n",
    "\n",
    "for c in characters:\n",
    "    # choose the bounding box that occurs the majority of times for each of these:\n",
    "    bboxes = defaultdict(int)\n",
    "    l_x, l_y = c.bbox[0], c.bbox[1]\n",
    "    bbox_l = find_bounding_rectangle((l_x, l_y), lines)\n",
    "    bboxes[bbox_l] += 1\n",
    "\n",
    "    c_x, c_y = math.floor((c.bbox[0] + c.bbox[2]) / 2), math.floor((c.bbox[1] + c.bbox[3]) / 2)\n",
    "    bbox_c = find_bounding_rectangle((c_x, c_y), lines)\n",
    "    bboxes[bbox_c] += 1\n",
    "\n",
    "    u_x, u_y = c.bbox[2], c.bbox[3]\n",
    "    bbox_u = find_bounding_rectangle((u_x, u_y), lines)\n",
    "    bboxes[bbox_u] += 1\n",
    "\n",
    "    # if all values are in different boxes, default to character center.\n",
    "    # otherwise choose the majority.\n",
    "    if max(bboxes.values()) == 1:\n",
    "        bbox = bbox_c\n",
    "    else:\n",
    "        bbox = max(bboxes.items(), key=lambda x: x[1])[0]\n",
    "\n",
    "    if bbox is None:\n",
    "        continue\n",
    "\n",
    "    if bbox in box_char_dict.keys():\n",
    "        box_char_dict[bbox].append(c)\n",
    "        continue\n",
    "\n",
    "    box_char_dict[bbox] = [c]"
   ]
  },
  {
   "cell_type": "markdown",
   "metadata": {},
   "source": [
    "To check that this has works, we can plot the page again, focusing on one particular cell:"
   ]
  },
  {
   "cell_type": "code",
   "execution_count": 20,
   "metadata": {
    "collapsed": false
   },
   "outputs": [
    {
     "ename": "IndexError",
     "evalue": "list index out of range",
     "output_type": "error",
     "traceback": [
      "\u001b[1;31m---------------------------------------------------------------------------\u001b[0m",
      "\u001b[1;31mIndexError\u001b[0m                                Traceback (most recent call last)",
      "\u001b[1;32m<ipython-input-20-589012746756>\u001b[0m in \u001b[0;36m<module>\u001b[1;34m()\u001b[0m\n\u001b[0;32m     13\u001b[0m \u001b[1;33m\u001b[0m\u001b[0m\n\u001b[0;32m     14\u001b[0m \u001b[1;31m# plot the characters of a random cell as green\u001b[0m\u001b[1;33m\u001b[0m\u001b[1;33m\u001b[0m\u001b[0m\n\u001b[1;32m---> 15\u001b[1;33m \u001b[1;32mfor\u001b[0m \u001b[0mc\u001b[0m \u001b[1;32min\u001b[0m \u001b[0mrandom\u001b[0m\u001b[1;33m.\u001b[0m\u001b[0mchoice\u001b[0m\u001b[1;33m(\u001b[0m\u001b[0mbox_char_dict\u001b[0m\u001b[1;33m.\u001b[0m\u001b[0mvalues\u001b[0m\u001b[1;33m(\u001b[0m\u001b[1;33m)\u001b[0m\u001b[1;33m)\u001b[0m\u001b[1;33m:\u001b[0m\u001b[1;33m\u001b[0m\u001b[0m\n\u001b[0m\u001b[0;32m     16\u001b[0m     \u001b[0mdraw_rect\u001b[0m\u001b[1;33m(\u001b[0m\u001b[0mc\u001b[0m\u001b[1;33m,\u001b[0m \u001b[0max\u001b[0m\u001b[1;33m,\u001b[0m \u001b[1;34m\"green\"\u001b[0m\u001b[1;33m)\u001b[0m\u001b[1;33m\u001b[0m\u001b[0m\n\u001b[0;32m     17\u001b[0m \u001b[1;33m\u001b[0m\u001b[0m\n",
      "\u001b[1;32mC:\\WinPython-64bit-2.7.10.3\\python-2.7.10.amd64\\lib\\random.pyc\u001b[0m in \u001b[0;36mchoice\u001b[1;34m(self, seq)\u001b[0m\n\u001b[0;32m    273\u001b[0m     \u001b[1;32mdef\u001b[0m \u001b[0mchoice\u001b[0m\u001b[1;33m(\u001b[0m\u001b[0mself\u001b[0m\u001b[1;33m,\u001b[0m \u001b[0mseq\u001b[0m\u001b[1;33m)\u001b[0m\u001b[1;33m:\u001b[0m\u001b[1;33m\u001b[0m\u001b[0m\n\u001b[0;32m    274\u001b[0m         \u001b[1;34m\"\"\"Choose a random element from a non-empty sequence.\"\"\"\u001b[0m\u001b[1;33m\u001b[0m\u001b[0m\n\u001b[1;32m--> 275\u001b[1;33m         \u001b[1;32mreturn\u001b[0m \u001b[0mseq\u001b[0m\u001b[1;33m[\u001b[0m\u001b[0mint\u001b[0m\u001b[1;33m(\u001b[0m\u001b[0mself\u001b[0m\u001b[1;33m.\u001b[0m\u001b[0mrandom\u001b[0m\u001b[1;33m(\u001b[0m\u001b[1;33m)\u001b[0m \u001b[1;33m*\u001b[0m \u001b[0mlen\u001b[0m\u001b[1;33m(\u001b[0m\u001b[0mseq\u001b[0m\u001b[1;33m)\u001b[0m\u001b[1;33m)\u001b[0m\u001b[1;33m]\u001b[0m  \u001b[1;31m# raises IndexError if seq is empty\u001b[0m\u001b[1;33m\u001b[0m\u001b[0m\n\u001b[0m\u001b[0;32m    276\u001b[0m \u001b[1;33m\u001b[0m\u001b[0m\n\u001b[0;32m    277\u001b[0m     \u001b[1;32mdef\u001b[0m \u001b[0mshuffle\u001b[0m\u001b[1;33m(\u001b[0m\u001b[0mself\u001b[0m\u001b[1;33m,\u001b[0m \u001b[0mx\u001b[0m\u001b[1;33m,\u001b[0m \u001b[0mrandom\u001b[0m\u001b[1;33m=\u001b[0m\u001b[0mNone\u001b[0m\u001b[1;33m)\u001b[0m\u001b[1;33m:\u001b[0m\u001b[1;33m\u001b[0m\u001b[0m\n",
      "\u001b[1;31mIndexError\u001b[0m: list index out of range"
     ]
    },
    {
     "data": {
      "image/png": "[encoded data removed]",
      "text/plain": [
       "<matplotlib.figure.Figure at 0xc6ab518>"
      ]
     },
     "metadata": {},
     "output_type": "display_data"
    }
   ],
   "source": [
    "import random\n",
    "xmin, ymin, xmax, ymax = current_page.bbox\n",
    "size = 6\n",
    "\n",
    "fig, ax = plt.subplots(figsize = (size, size * (ymax/xmax)))\n",
    "\n",
    "for l in lines:\n",
    "    x0,y0,x1,y1,_ = l\n",
    "    plt.plot([x0, x1], [y0, y1], 'k-')\n",
    "    \n",
    "for c in characters:\n",
    "    draw_rect(c, ax, \"red\")\n",
    "    \n",
    "# plot the characters of a random cell as green\n",
    "for c in random.choice(box_char_dict.values()): \n",
    "    draw_rect(c, ax, \"green\")\n",
    "\n",
    "plt.xlim(xmin, xmax)\n",
    "plt.ylim(ymin, ymax)\n",
    "plt.show()"
   ]
  },
  {
   "cell_type": "markdown",
   "metadata": {},
   "source": [
    "To capture empty cells, I choose a grid on points across the page and try to assign them to a cell. If this cell isn't present in box_char_dict, then it is created and left empty."
   ]
  },
  {
   "cell_type": "code",
   "execution_count": 13,
   "metadata": {
    "collapsed": true
   },
   "outputs": [],
   "source": [
    "xmin, ymin, xmax, ymax = current_page.bbox\n",
    "\n",
    "for x in range(int(xmin), int(xmax), 10):\n",
    "    for y in range(int(ymin), int(ymax), 10):\n",
    "        bbox = find_bounding_rectangle((x, y), lines)\n",
    "\n",
    "        if bbox is None:\n",
    "            continue\n",
    "\n",
    "        if bbox in box_char_dict.keys():\n",
    "            continue\n",
    "\n",
    "        box_char_dict[bbox] = []"
   ]
  },
  {
   "cell_type": "markdown",
   "metadata": {},
   "source": [
    "All that remains is to map between the ordering of cells on the page and a python data structure and between the ordering of characters in a cell and a string. The two functions below carry this out:"
   ]
  },
  {
   "cell_type": "code",
   "execution_count": 14,
   "metadata": {
    "collapsed": true
   },
   "outputs": [],
   "source": [
    "def chars_to_string(chars):\n",
    "    \"\"\"\n",
    "    Converts a collection of characters into a string, by ordering them left to right, \n",
    "    then top to bottom.\n",
    "    \"\"\"\n",
    "    if not chars:\n",
    "        return \"\"\n",
    "    rows = sorted(list(set(c.bbox[1] for c in chars)), reverse=True)\n",
    "    text = \"\"\n",
    "    for row in rows:\n",
    "        sorted_row = sorted([c for c in chars if c.bbox[1] == row], key=lambda c: c.bbox[0])\n",
    "        text += \"\".join(c.get_text() for c in sorted_row)\n",
    "    return text\n",
    "\n",
    "\n",
    "def boxes_to_table(box_record_dict):\n",
    "    \"\"\"\n",
    "    Converts a dictionary of cell:characters mapping into a python list\n",
    "    of lists of strings. Tries to split cells into rows, then for each row \n",
    "    breaks it down into columns.\n",
    "    \"\"\"\n",
    "    boxes = box_record_dict.keys()\n",
    "    rows = sorted(list(set(b[1] for b in boxes)), reverse=True)\n",
    "    table = []\n",
    "    for row in rows:\n",
    "        sorted_row = sorted([b for b in boxes if b[1] == row], key=lambda b: b[0])\n",
    "        table.append([chars_to_string(box_record_dict[b]) for b in sorted_row])\n",
    "    return table"
   ]
  },
  {
   "cell_type": "markdown",
   "metadata": {},
   "source": [
    "The results aren't bad:"
   ]
  },
  {
   "cell_type": "code",
   "execution_count": 15,
   "metadata": {
    "collapsed": false
   },
   "outputs": [
    {
     "data": {
      "text/plain": [
       "[[u'The Rt Hon Jeremy Hunt, Secretary of State for Health '],\n",
       " [u'Date of Meeting  ',\n",
       "  u'Name of Organisation ',\n",
       "  u'Purpose of Meeting       '],\n",
       " [u'January 2015 ',\n",
       "  u'College of Emergency Medicine ',\n",
       "  u'Catch-up discussion on NHS winter pressures '],\n",
       " [u'January 2015 ',\n",
       "  u'Ovarian Cancer Action ',\n",
       "  u'Introductory discussion on ovarian cancer services '],\n",
       " [u'January 2015 ',\n",
       "  u'World Health Organisation ',\n",
       "  u'Bi-lateral with Margaret Chan, Director General '],\n",
       " [u'January 2015 ',\n",
       "  u'Greene King ',\n",
       "  u'Discussion on Dementia Friends programme '],\n",
       " [u'January 2015 ',\n",
       "  u'Royal College of General Practitioners ',\n",
       "  u'Catch-up discussion on NHS primary care services '],\n",
       " [u'January 2015 ', u'Unison ', u'Discussion on NHS industrial relations '],\n",
       " [u'January 2015 ',\n",
       "  u'National Association of Primary Care ',\n",
       "  u'Catch-up discussion on NHS primary care services '],\n",
       " [u'February 2015 ',\n",
       "  u'Cambridge Health Network ',\n",
       "  u'Roundtable discussion on healthcare technology '],\n",
       " [u'February 2015 ', u'Eli Lilly ', u'Introductory discussion '],\n",
       " [u'February 2015 ',\n",
       "  u'Air Accidents Investigation Branch ',\n",
       "  u'Introductory discussion on airline safety '],\n",
       " [u'March 2015 ', u'OC&C Stategy Consultants ', u'Discussion on leadership '],\n",
       " [u'March 2015 ',\n",
       "  u'World Health Organisation ',\n",
       "  u'International Summit in Geneva '],\n",
       " [u'March 2015 ',\n",
       "  u'Organisation for Economic Co-operation and Development ',\n",
       "  u'Discussion on healthcare services in England '],\n",
       " [u'March 2015 ',\n",
       "  u'Macmillan, Marie Curie, National Council for Palliative Care, Cicely Saunders International, Motor Neurone Disease Association, Sue Ryder, Hospice Uk ',\n",
       "  u'Roundtable discussion on end of life care '],\n",
       " [u' '],\n",
       " [u'Dr. Dan Poulter / Parliamentary Under-Secretary for State for Health  '],\n",
       " [u'Date of Meeting  ',\n",
       "  u'Name of Organisation ',\n",
       "  u'Purpose of Meeting       '],\n",
       " [u'January 2015 ',\n",
       "  u'Group B Strep Support ',\n",
       "  u'Cross party delegation to discuss concerns of Group B Strep Support Group '],\n",
       " [u'January 2015 ',\n",
       "  u'British Medical Association  ',\n",
       "  u'Discussion on General Medical Council objectives '],\n",
       " [u'January 2015 ',\n",
       "  u'General Medical Council, Health Education England and Medical Schools Council  ',\n",
       "  u'Discussion on point of registration ']]"
      ]
     },
     "execution_count": 15,
     "metadata": {},
     "output_type": "execute_result"
    }
   ],
   "source": [
    "boxes_to_table(box_char_dict)"
   ]
  },
  {
   "cell_type": "markdown",
   "metadata": {},
   "source": [
    "## Conclusions\n",
    "We have achieved what we set out to do: extract tabular information from a PDF into a data structure that we can use.\n",
    "\n",
    "Certain things in this approach get missed, such as distinctions between tables, and distinctions between headers and rows, but depending on the document these things can often be inferred from the structure. \n",
    "\n",
    "Hopefully this will be of use to someone. I had considered packaging the whole thing up into a module, but I am not sure how well this approach generalises to other documents. If there is sufficient interest I'm happy to consider spending the time on it.\n",
    "\n",
    "## How it was Made\n",
    "This post was created as a jupyter notebook. You download a copy [here](https://github.com/ijmbarr/parsing-pdfs)."
   ]
  }
 ],
 "metadata": {
  "kernelspec": {
   "display_name": "Python 2",
   "language": "python",
   "name": "python2"
  },
  "language_info": {
   "codemirror_mode": {
    "name": "ipython",
    "version": 2
   },
   "file_extension": ".py",
   "mimetype": "text/x-python",
   "name": "python",
   "nbconvert_exporter": "python",
   "pygments_lexer": "ipython2",
   "version": "2.7.10"
  }
 },
 "nbformat": 4,
 "nbformat_minor": 0
}
