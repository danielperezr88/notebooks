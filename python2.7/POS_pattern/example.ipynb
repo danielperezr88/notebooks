{
 "cells": [
  {
   "cell_type": "code",
   "execution_count": 1,
   "metadata": {
    "collapsed": true
   },
   "outputs": [],
   "source": [
    "from pattern.es import parse as parse_es\n",
    "from pattern.en import parse as parse_en\n",
    "import pandas as pd\n",
    "from StringIO import StringIO"
   ]
  },
  {
   "cell_type": "code",
   "execution_count": 2,
   "metadata": {
    "collapsed": false
   },
   "outputs": [],
   "source": [
    "def df_pos(text, language='es'):\n",
    "    parsers = dict(es=parse_es,en=parse_en)\n",
    "    text = unicode(text, encoding='latin-1').encode('latin-1')\n",
    "    return pd.read_table(StringIO(\"\\n\".join(parsers[language](text).encode('latin-1').split())), sep='/', header=None, quoting=3, encoding='latin-1')"
   ]
  },
  {
   "cell_type": "code",
   "execution_count": 3,
   "metadata": {
    "collapsed": false
   },
   "outputs": [],
   "source": [
    "def pattern_pos_filter_text(text, types, language):\n",
    "    df = df_pos(text, language)\n",
    "    df = df[[0,1]][~df[1].isin(types)]\n",
    "    return df.values"
   ]
  },
  {
   "cell_type": "code",
   "execution_count": 4,
   "metadata": {
    "collapsed": false
   },
   "outputs": [
    {
     "data": {
      "text/html": [
       "<div>\n",
       "<table border=\"1\" class=\"dataframe\">\n",
       "  <thead>\n",
       "    <tr style=\"text-align: right;\">\n",
       "      <th></th>\n",
       "      <th>0</th>\n",
       "      <th>1</th>\n",
       "      <th>2</th>\n",
       "      <th>3</th>\n",
       "    </tr>\n",
       "  </thead>\n",
       "  <tbody>\n",
       "    <tr>\n",
       "      <th>0</th>\n",
       "      <td>Mientras</td>\n",
       "      <td>IN</td>\n",
       "      <td>B-PP</td>\n",
       "      <td>B-PNP</td>\n",
       "    </tr>\n",
       "    <tr>\n",
       "      <th>1</th>\n",
       "      <td>Esther</td>\n",
       "      <td>NNP</td>\n",
       "      <td>B-NP</td>\n",
       "      <td>I-PNP</td>\n",
       "    </tr>\n",
       "    <tr>\n",
       "      <th>2</th>\n",
       "      <td>cambia</td>\n",
       "      <td>VB</td>\n",
       "      <td>B-VP</td>\n",
       "      <td>O</td>\n",
       "    </tr>\n",
       "    <tr>\n",
       "      <th>3</th>\n",
       "      <td>las</td>\n",
       "      <td>DT</td>\n",
       "      <td>B-NP</td>\n",
       "      <td>O</td>\n",
       "    </tr>\n",
       "    <tr>\n",
       "      <th>4</th>\n",
       "      <td>sábanas</td>\n",
       "      <td>NNS</td>\n",
       "      <td>I-NP</td>\n",
       "      <td>O</td>\n",
       "    </tr>\n",
       "    <tr>\n",
       "      <th>5</th>\n",
       "      <td>,</td>\n",
       "      <td>,</td>\n",
       "      <td>O</td>\n",
       "      <td>O</td>\n",
       "    </tr>\n",
       "    <tr>\n",
       "      <th>6</th>\n",
       "      <td>el</td>\n",
       "      <td>DT</td>\n",
       "      <td>B-NP</td>\n",
       "      <td>O</td>\n",
       "    </tr>\n",
       "    <tr>\n",
       "      <th>7</th>\n",
       "      <td>gato</td>\n",
       "      <td>NN</td>\n",
       "      <td>I-NP</td>\n",
       "      <td>O</td>\n",
       "    </tr>\n",
       "    <tr>\n",
       "      <th>8</th>\n",
       "      <td>negro</td>\n",
       "      <td>JJ</td>\n",
       "      <td>I-NP</td>\n",
       "      <td>O</td>\n",
       "    </tr>\n",
       "    <tr>\n",
       "      <th>9</th>\n",
       "      <td>se</td>\n",
       "      <td>PRP</td>\n",
       "      <td>B-NP</td>\n",
       "      <td>O</td>\n",
       "    </tr>\n",
       "    <tr>\n",
       "      <th>10</th>\n",
       "      <td>sienta</td>\n",
       "      <td>VB</td>\n",
       "      <td>B-VP</td>\n",
       "      <td>O</td>\n",
       "    </tr>\n",
       "    <tr>\n",
       "      <th>11</th>\n",
       "      <td>en</td>\n",
       "      <td>IN</td>\n",
       "      <td>B-PP</td>\n",
       "      <td>B-PNP</td>\n",
       "    </tr>\n",
       "    <tr>\n",
       "      <th>12</th>\n",
       "      <td>la</td>\n",
       "      <td>DT</td>\n",
       "      <td>B-NP</td>\n",
       "      <td>I-PNP</td>\n",
       "    </tr>\n",
       "    <tr>\n",
       "      <th>13</th>\n",
       "      <td>estera</td>\n",
       "      <td>NN</td>\n",
       "      <td>I-NP</td>\n",
       "      <td>I-PNP</td>\n",
       "    </tr>\n",
       "    <tr>\n",
       "      <th>14</th>\n",
       "      <td>.</td>\n",
       "      <td>.</td>\n",
       "      <td>O</td>\n",
       "      <td>O</td>\n",
       "    </tr>\n",
       "  </tbody>\n",
       "</table>\n",
       "</div>"
      ],
      "text/plain": [
       "           0    1     2      3\n",
       "0   Mientras   IN  B-PP  B-PNP\n",
       "1     Esther  NNP  B-NP  I-PNP\n",
       "2     cambia   VB  B-VP      O\n",
       "3        las   DT  B-NP      O\n",
       "4    sábanas  NNS  I-NP      O\n",
       "5          ,    ,     O      O\n",
       "6         el   DT  B-NP      O\n",
       "7       gato   NN  I-NP      O\n",
       "8      negro   JJ  I-NP      O\n",
       "9         se  PRP  B-NP      O\n",
       "10    sienta   VB  B-VP      O\n",
       "11        en   IN  B-PP  B-PNP\n",
       "12        la   DT  B-NP  I-PNP\n",
       "13    estera   NN  I-NP  I-PNP\n",
       "14         .    .     O      O"
      ]
     },
     "execution_count": 4,
     "metadata": {},
     "output_type": "execute_result"
    }
   ],
   "source": [
    "df_pos('Mientras Esther cambia las sábanas, el gato negro se sienta en la estera.')"
   ]
  },
  {
   "cell_type": "code",
   "execution_count": 5,
   "metadata": {
    "collapsed": false
   },
   "outputs": [
    {
     "name": "stdout",
     "output_type": "stream",
     "text": [
      "Esther\tNNP\n",
      "sábanas\tNNS\n",
      "gato\tNN\n",
      "negro\tJJ\n",
      "estera\tNN\n"
     ]
    }
   ],
   "source": [
    "res = pattern_pos_filter_text(\n",
    "    'Mientras Esther cambia las sábanas, el gato negro se sienta en la estera.',\n",
    "    ['VERB','DET','PRON','ADV','AUX','SCONJ','ADP','NUM','SYM','X','PUNCT','VB','DT','CC',\n",
    "     'CD','IN','LS','MD','PDT','POS','PRP','PRP$','RB','RBR','RBS','RP','TO','UH','VB',\n",
    "     'VBZ','VBP','VBD','WDT','WP','WP$','WRB','.',',',':','(',')'],\n",
    "    'es'\n",
    ").tolist()\n",
    "\n",
    "for row in res:\n",
    "    print '\\t'.join(row)"
   ]
  }
 ],
 "metadata": {
  "kernelspec": {
   "display_name": "Python 2",
   "language": "python",
   "name": "python2"
  },
  "language_info": {
   "codemirror_mode": {
    "name": "ipython",
    "version": 2
   },
   "file_extension": ".py",
   "mimetype": "text/x-python",
   "name": "python",
   "nbconvert_exporter": "python",
   "pygments_lexer": "ipython2",
   "version": "2.7.10"
  }
 },
 "nbformat": 4,
 "nbformat_minor": 0
}
