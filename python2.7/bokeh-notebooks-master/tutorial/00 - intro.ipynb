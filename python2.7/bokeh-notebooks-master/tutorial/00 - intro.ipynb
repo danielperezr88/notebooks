{
 "cells": [
  {
   "cell_type": "markdown",
   "metadata": {},
   "source": [
    "<table style=\"float:left; border:none\">\n",
    "   <tr style=\"border:none\">\n",
    "       <td style=\"border:none\">\n",
    "           <a href=\"http://bokeh.pydata.org/\">     \n",
    "           <img \n",
    "               src=\"assets/images/bokeh-transparent.png\" \n",
    "               style=\"width:50px\"\n",
    "           >\n",
    "           </a>    \n",
    "       </td>\n",
    "       <td style=\"border:none\">\n",
    "           <h1>Bokeh Tutorial</h1>\n",
    "       </td>\n",
    "   </tr>\n",
    "</table>\n",
    "<div style=\"float:right;\"><h2>00. Introduction and Setup</h2></div>"
   ]
  },
  {
   "cell_type": "markdown",
   "metadata": {},
   "source": [
    "# Table of Contents\n",
    "\n",
    "* [Tuturial Overview](#Tutorial-Overview)\n",
    "* [What is Bokeh](#What-is-Bokeh) \n",
    "* [What can I *do* with Bokeh](#What-can-I-do-with-Bokeh) \n",
    "* [How does it work](#How-does-it-work)\n",
    "* [Getting set up](#Getting-set-up)"
   ]
  },
  {
   "cell_type": "markdown",
   "metadata": {},
   "source": [
    "## Tutorial Overview\n",
    "\n",
    "The tutorial is broken into several sections, which are each presented in their own notebook:\n",
    "\n",
    "1. [High Level Charts](01%20-%20charts.ipynb) \n",
    "\n",
    "2. [Basic Plotting Interface](02%20-%20plotting.ipynb)\n",
    "\n",
    "3. [Styling Visual Attributes](03%20-%20styling.ipynb) \n",
    "\n",
    "4. [Layouts, Widgets, and Interactions](04%20-%20interactions.ipynb) \n",
    "\n",
    "5. [Sharing and Embedding](05%20-%20sharing.ipynb) \n",
    "\n",
    "6. [Models and Primitives](06%20-%20models.ipynb) \n",
    "\n",
    "7. [Annotations](07%20-%20annotations.ipynb) \n",
    "\n",
    "8. [Bokeh Applications](08%20-%20server.ipynb) \n",
    "\n",
    "9. [Geographic Data](09%20-%20geo.ipynb)\n",
    "\n",
    "10. [Datashader: Visualizaing Large Data](10%20-%20datashader.ipynb)\n",
    "\n",
    "11. [HoloViews and Bokeh](11%20-%20holoviews.ipynb)\n",
    "\n",
    "A1. [Extra Bokeh Topics](A1%20-%20extra.ipynb) \n"
   ]
  },
  {
   "cell_type": "markdown",
   "metadata": {},
   "source": [
    "## What is Bokeh\n",
    "\n",
    "Bokeh is a Data Visualization library for\n",
    "\n",
    "* interactive visualization in modern browsers\n",
    "* standalone HTML documents, or server-backed apps\n",
    "* capable of expressive and verstatile graphics\n",
    "* can handle large, dynamic or streaming data\n",
    "* available from python (or Scala, or R, or Julia, or...)\n",
    "\n",
    "And most importantly:\n",
    "\n",
    "## <center>NO JAVASCRIPT REQUIRED </center>"
   ]
  },
  {
   "cell_type": "markdown",
   "metadata": {},
   "source": [
    "## What can you *do* with Bokeh"
   ]
  },
  {
   "cell_type": "code",
   "execution_count": 5,
   "metadata": {
    "collapsed": false
   },
   "outputs": [
    {
     "data": {
      "text/html": [
       "\n",
       "    <div class=\"bk-root\">\n",
       "        <a href=\"http://bokeh.pydata.org\" target=\"_blank\" class=\"bk-logo bk-logo-small bk-logo-notebook\"></a>\n",
       "        <span id=\"0c398ab2-92be-4887-8cda-419d8cc89fc0\">Loading BokehJS ...</span>\n",
       "    </div>"
      ]
     },
     "metadata": {},
     "output_type": "display_data"
    },
    {
     "data": {
      "application/javascript": [
       "\n",
       "(function(global) {\n",
       "  function now() {\n",
       "    return new Date();\n",
       "  }\n",
       "\n",
       "  if (typeof (window._bokeh_onload_callbacks) === \"undefined\") {\n",
       "    window._bokeh_onload_callbacks = [];\n",
       "  }\n",
       "\n",
       "  function run_callbacks() {\n",
       "    window._bokeh_onload_callbacks.forEach(function(callback) { callback() });\n",
       "    delete window._bokeh_onload_callbacks\n",
       "    console.info(\"Bokeh: all callbacks have finished\");\n",
       "  }\n",
       "\n",
       "  function load_libs(js_urls, callback) {\n",
       "    window._bokeh_onload_callbacks.push(callback);\n",
       "    if (window._bokeh_is_loading > 0) {\n",
       "      console.log(\"Bokeh: BokehJS is being loaded, scheduling callback at\", now());\n",
       "      return null;\n",
       "    }\n",
       "    if (js_urls == null || js_urls.length === 0) {\n",
       "      run_callbacks();\n",
       "      return null;\n",
       "    }\n",
       "    console.log(\"Bokeh: BokehJS not loaded, scheduling load and callback at\", now());\n",
       "    window._bokeh_is_loading = js_urls.length;\n",
       "    for (var i = 0; i < js_urls.length; i++) {\n",
       "      var url = js_urls[i];\n",
       "      var s = document.createElement('script');\n",
       "      s.src = url;\n",
       "      s.async = false;\n",
       "      s.onreadystatechange = s.onload = function() {\n",
       "        window._bokeh_is_loading--;\n",
       "        if (window._bokeh_is_loading === 0) {\n",
       "          console.log(\"Bokeh: all BokehJS libraries loaded\");\n",
       "          run_callbacks()\n",
       "        }\n",
       "      };\n",
       "      s.onerror = function() {\n",
       "        console.warn(\"failed to load library \" + url);\n",
       "      };\n",
       "      console.log(\"Bokeh: injecting script tag for BokehJS library: \", url);\n",
       "      document.getElementsByTagName(\"head\")[0].appendChild(s);\n",
       "    }\n",
       "  };\n",
       "\n",
       "  var js_urls = ['https://cdn.pydata.org/bokeh/release/bokeh-0.12.0.min.js', 'https://cdn.pydata.org/bokeh/release/bokeh-widgets-0.12.0.min.js', 'https://cdn.pydata.org/bokeh/release/bokeh-compiler-0.12.0.min.js'];\n",
       "\n",
       "  var inline_js = [\n",
       "    function(Bokeh) {\n",
       "      Bokeh.set_log_level(\"info\");\n",
       "    },\n",
       "    \n",
       "    function(Bokeh) {\n",
       "      Bokeh.$(\"#0c398ab2-92be-4887-8cda-419d8cc89fc0\").text(\"BokehJS successfully loaded\");\n",
       "    },\n",
       "    function(Bokeh) {\n",
       "      console.log(\"Bokeh: injecting CSS: https://cdn.pydata.org/bokeh/release/bokeh-0.12.0.min.css\");\n",
       "      Bokeh.embed.inject_css(\"https://cdn.pydata.org/bokeh/release/bokeh-0.12.0.min.css\");\n",
       "      console.log(\"Bokeh: injecting CSS: https://cdn.pydata.org/bokeh/release/bokeh-widgets-0.12.0.min.css\");\n",
       "      Bokeh.embed.inject_css(\"https://cdn.pydata.org/bokeh/release/bokeh-widgets-0.12.0.min.css\");\n",
       "    }\n",
       "  ];\n",
       "\n",
       "  function run_inline_js() {\n",
       "    for (var i = 0; i < inline_js.length; i++) {\n",
       "      inline_js[i](window.Bokeh);\n",
       "    }\n",
       "  }\n",
       "\n",
       "  if (window._bokeh_is_loading === 0) {\n",
       "    console.log(\"Bokeh: BokehJS loaded, going straight to plotting\");\n",
       "    run_inline_js();\n",
       "  } else {\n",
       "    load_libs(js_urls, function() {\n",
       "      console.log(\"Bokeh: BokehJS plotting callback run at\", now());\n",
       "      run_inline_js();\n",
       "    });\n",
       "  }\n",
       "}(this));"
      ]
     },
     "metadata": {},
     "output_type": "display_data"
    }
   ],
   "source": [
    "# Standard imports \n",
    "\n",
    "from bokeh.io import output_notebook, show\n",
    "output_notebook()"
   ]
  },
  {
   "cell_type": "code",
   "execution_count": 6,
   "metadata": {
    "collapsed": false,
    "scrolled": false
   },
   "outputs": [
    {
     "data": {
      "text/html": [
       "\n",
       "\n",
       "    <div class=\"bk-root\">\n",
       "        <div class=\"plotdiv\" id=\"3ec91437-6b89-40a2-a6a9-0bf8328dafe1\"></div>\n",
       "    </div>\n",
       "<script type=\"text/javascript\">\n",
       "  \n",
       "  (function(global) {\n",
       "    function now() {\n",
       "      return new Date();\n",
       "    }\n",
       "  \n",
       "    if (typeof (window._bokeh_onload_callbacks) === \"undefined\") {\n",
       "      window._bokeh_onload_callbacks = [];\n",
       "    }\n",
       "  \n",
       "    function run_callbacks() {\n",
       "      window._bokeh_onload_callbacks.forEach(function(callback) { callback() });\n",
       "      delete window._bokeh_onload_callbacks\n",
       "      console.info(\"Bokeh: all callbacks have finished\");\n",
       "    }\n",
       "  \n",
       "    function load_libs(js_urls, callback) {\n",
       "      window._bokeh_onload_callbacks.push(callback);\n",
       "      if (window._bokeh_is_loading > 0) {\n",
       "        console.log(\"Bokeh: BokehJS is being loaded, scheduling callback at\", now());\n",
       "        return null;\n",
       "      }\n",
       "      if (js_urls == null || js_urls.length === 0) {\n",
       "        run_callbacks();\n",
       "        return null;\n",
       "      }\n",
       "      console.log(\"Bokeh: BokehJS not loaded, scheduling load and callback at\", now());\n",
       "      window._bokeh_is_loading = js_urls.length;\n",
       "      for (var i = 0; i < js_urls.length; i++) {\n",
       "        var url = js_urls[i];\n",
       "        var s = document.createElement('script');\n",
       "        s.src = url;\n",
       "        s.async = false;\n",
       "        s.onreadystatechange = s.onload = function() {\n",
       "          window._bokeh_is_loading--;\n",
       "          if (window._bokeh_is_loading === 0) {\n",
       "            console.log(\"Bokeh: all BokehJS libraries loaded\");\n",
       "            run_callbacks()\n",
       "          }\n",
       "        };\n",
       "        s.onerror = function() {\n",
       "          console.warn(\"failed to load library \" + url);\n",
       "        };\n",
       "        console.log(\"Bokeh: injecting script tag for BokehJS library: \", url);\n",
       "        document.getElementsByTagName(\"head\")[0].appendChild(s);\n",
       "      }\n",
       "    };var element = document.getElementById(\"3ec91437-6b89-40a2-a6a9-0bf8328dafe1\");\n",
       "    if (element == null) {\n",
       "      console.log(\"Bokeh: ERROR: autoload.js configured with elementid '3ec91437-6b89-40a2-a6a9-0bf8328dafe1' but no matching script tag was found. \")\n",
       "      return false;\n",
       "    }\n",
       "  \n",
       "    var js_urls = [];\n",
       "  \n",
       "    var inline_js = [\n",
       "      function(Bokeh) {\n",
       "        Bokeh.$(function() {\n",
       "            var docs_json = {\"1a6a84fc-1cf5-45ca-9844-76a388407fde\":{\"roots\":{\"references\":[{\"attributes\":{\"data_source\":{\"id\":\"319717a3-7005-4a30-829e-7c0c37346772\",\"type\":\"ColumnDataSource\"},\"glyph\":{\"id\":\"1e57859d-1943-46ff-adb7-4ce35faef5b9\",\"type\":\"Rect\"},\"hover_glyph\":null,\"nonselection_glyph\":null,\"selection_glyph\":null},\"id\":\"13bc9d72-fdeb-46a8-aa28-7dfb09c0becb\",\"type\":\"GlyphRenderer\"},{\"attributes\":{\"legends\":[[\"setosa\",[{\"id\":\"02f81bfa-d48d-49b0-9b06-b7fae3a31641\",\"type\":\"GlyphRenderer\"},{\"id\":\"c49438d3-4020-4a5c-ab33-eeb096a4a81c\",\"type\":\"GlyphRenderer\"},{\"id\":\"8654cbd1-56b1-4f56-8db1-8d6f7cefce18\",\"type\":\"GlyphRenderer\"},{\"id\":\"340f1e66-859a-461a-9fc8-b2181e2a466c\",\"type\":\"GlyphRenderer\"},{\"id\":\"12155aa4-68b5-486c-b811-f704f5351d20\",\"type\":\"GlyphRenderer\"},{\"id\":\"b1f9a856-348c-48b9-8f2d-db7e982cc88e\",\"type\":\"GlyphRenderer\"},{\"id\":\"aa20c2c4-e009-4d06-a66f-8bc9cca621b6\",\"type\":\"GlyphRenderer\"},{\"id\":\"c6700b30-1f42-4302-89af-dca3b6e84203\",\"type\":\"GlyphRenderer\"},{\"id\":\"323f3c79-3b5b-4179-9936-55c0c99cacc5\",\"type\":\"GlyphRenderer\"},{\"id\":\"cddc7e1e-b7d3-42ec-b6d2-a166c6de2b94\",\"type\":\"GlyphRenderer\"},{\"id\":\"6a6cf46f-c246-482a-aa80-e50588950607\",\"type\":\"GlyphRenderer\"},{\"id\":\"278d9812-120c-4b9f-86f6-8b413454b181\",\"type\":\"GlyphRenderer\"}]],[\"versicolor\",[{\"id\":\"a46eb5da-b793-487b-b2e5-74d5feada576\",\"type\":\"GlyphRenderer\"},{\"id\":\"9b6f3ca5-0634-4ec7-81e7-0c5357c40a43\",\"type\":\"GlyphRenderer\"},{\"id\":\"cce6d74c-40a2-4f47-b3cc-c54d0346324c\",\"type\":\"GlyphRenderer\"},{\"id\":\"e58c0059-5a08-4b56-8ba2-bfb116ce4333\",\"type\":\"GlyphRenderer\"},{\"id\":\"3371f805-0569-4112-b13d-3a7b07a5f023\",\"type\":\"GlyphRenderer\"},{\"id\":\"43635b9f-6732-4cf9-9126-0a1eb4e155fe\",\"type\":\"GlyphRenderer\"},{\"id\":\"c9c5b9b0-c23a-447e-ad7d-89cbf7c6e801\",\"type\":\"GlyphRenderer\"},{\"id\":\"36ba5160-a4fb-471b-9934-02e987712f23\",\"type\":\"GlyphRenderer\"},{\"id\":\"cab0453e-d12e-4456-8b90-7c0a848958cb\",\"type\":\"GlyphRenderer\"},{\"id\":\"896a06f8-1a1f-4853-a6ed-239b32eb064a\",\"type\":\"GlyphRenderer\"},{\"id\":\"99892be5-9efa-45e6-b68a-101d584bc5d1\",\"type\":\"GlyphRenderer\"},{\"id\":\"ead9c042-c48c-4967-abf5-04bf8a60b1fe\",\"type\":\"GlyphRenderer\"}]],[\"virginica\",[{\"id\":\"822e6909-f8c0-49d4-9ec0-04f892072dff\",\"type\":\"GlyphRenderer\"},{\"id\":\"7a1fefc8-c0d8-4f98-9907-8beeaebabb06\",\"type\":\"GlyphRenderer\"},{\"id\":\"13bc9d72-fdeb-46a8-aa28-7dfb09c0becb\",\"type\":\"GlyphRenderer\"},{\"id\":\"626e088a-f994-4215-be0c-d66ed59eea8e\",\"type\":\"GlyphRenderer\"},{\"id\":\"44c25f78-dbbd-486a-b88c-b0eaf65d0b71\",\"type\":\"GlyphRenderer\"},{\"id\":\"cb54a22b-0b72-467d-b8ad-3c5beaeb0d3a\",\"type\":\"GlyphRenderer\"},{\"id\":\"d684ca33-650f-4f0c-aef9-8622df26bcb0\",\"type\":\"GlyphRenderer\"},{\"id\":\"0141d9e6-0aeb-4a39-82aa-0e107390c1a0\",\"type\":\"GlyphRenderer\"},{\"id\":\"a11fb5b1-f096-45bf-9d8f-a0001a2c93eb\",\"type\":\"GlyphRenderer\"},{\"id\":\"af1bfb50-7616-47d3-ad2e-2e853049fbf4\",\"type\":\"GlyphRenderer\"},{\"id\":\"8d562cc3-9ce7-415f-9aa2-cb679f26fb89\",\"type\":\"GlyphRenderer\"},{\"id\":\"0ae9c33c-e4db-4d79-b238-ea3f638d5098\",\"type\":\"GlyphRenderer\"}]]],\"plot\":{\"id\":\"7cd62c17-d0dd-458a-8589-0e6f1a472d8e\",\"subtype\":\"Chart\",\"type\":\"Plot\"}},\"id\":\"208067af-3e90-423a-89d7-1a70164f8955\",\"type\":\"Legend\"},{\"attributes\":{\"overlay\":{\"id\":\"87d77e25-9041-4420-af90-adfaa32ec9c8\",\"type\":\"BoxAnnotation\"},\"plot\":{\"id\":\"7cd62c17-d0dd-458a-8589-0e6f1a472d8e\",\"subtype\":\"Chart\",\"type\":\"Plot\"}},\"id\":\"a19840c7-ccdf-44d1-af62-c23ce359c666\",\"type\":\"BoxZoomTool\"},{\"attributes\":{},\"id\":\"965f11ac-d637-43b4-ac4c-1bfa91f3eda5\",\"type\":\"BasicTicker\"},{\"attributes\":{\"callback\":null,\"column_names\":[\"line_color\",\"line_alpha\",\"color\",\"fill_alpha\",\"height\",\"width\",\"y\",\"x\",\"label\"],\"data\":{\"chart_index\":[\"(1.2, 1.3]\"],\"color\":[\"#f22c40\"],\"fill_alpha\":[0.6],\"height\":[0.0],\"label\":[\"(1.2, 1.3]\"],\"line_alpha\":[1.0],\"line_color\":[\"black\"],\"width\":[0.07499999999999996],\"x\":[\"1.25\"],\"y\":[0.0]}},\"id\":\"9292d490-b74b-43b5-b8d3-45fb1db22adb\",\"type\":\"ColumnDataSource\"},{\"attributes\":{\"fill_alpha\":{\"field\":\"fill_alpha\"},\"fill_color\":{\"field\":\"color\"},\"height\":{\"field\":\"height\",\"units\":\"data\"},\"line_color\":{\"field\":\"line_color\"},\"width\":{\"field\":\"width\",\"units\":\"data\"},\"x\":{\"field\":\"x\"},\"y\":{\"field\":\"y\"}},\"id\":\"5910e088-fe75-40b9-812d-cba85e4b7978\",\"type\":\"Rect\"},{\"attributes\":{\"callback\":null,\"column_names\":[\"line_color\",\"line_alpha\",\"color\",\"fill_alpha\",\"height\",\"width\",\"y\",\"x\",\"label\"],\"data\":{\"chart_index\":[\"(3.7, 3.9]\"],\"color\":[\"#5ab738\"],\"fill_alpha\":[0.6],\"height\":[2.0],\"label\":[\"(3.7, 3.9]\"],\"line_alpha\":[1.0],\"line_color\":[\"black\"],\"width\":[0.17500000000000027],\"x\":[\"3.8\"],\"y\":[1.0]}},\"id\":\"bda18f31-8bab-430f-a754-dbbdee5a0640\",\"type\":\"ColumnDataSource\"},{\"attributes\":{\"callback\":null,\"column_names\":[\"line_color\",\"line_alpha\",\"color\",\"fill_alpha\",\"height\",\"width\",\"y\",\"x\",\"label\"],\"data\":{\"chart_index\":[\"(6.7, 6.9]\"],\"color\":[\"#407ee7\"],\"fill_alpha\":[0.6],\"height\":[1.0],\"label\":[\"(6.7, 6.9]\"],\"line_alpha\":[1.0],\"line_color\":[\"black\"],\"width\":[0.1999999999999993],\"x\":[\"6.8\"],\"y\":[0.5]}},\"id\":\"42c9e784-cbbd-4911-8c8e-b619f89a7f6e\",\"type\":\"ColumnDataSource\"},{\"attributes\":{\"data_source\":{\"id\":\"b5c8113a-459e-4d6c-b01d-7315f678a451\",\"type\":\"ColumnDataSource\"},\"glyph\":{\"id\":\"8d208a2f-e138-4b15-a540-654517f4db7e\",\"type\":\"Rect\"},\"hover_glyph\":null,\"nonselection_glyph\":null,\"selection_glyph\":null},\"id\":\"d684ca33-650f-4f0c-aef9-8622df26bcb0\",\"type\":\"GlyphRenderer\"},{\"attributes\":{\"fill_alpha\":{\"field\":\"fill_alpha\"},\"fill_color\":{\"field\":\"color\"},\"height\":{\"field\":\"height\",\"units\":\"data\"},\"line_color\":{\"field\":\"line_color\"},\"width\":{\"field\":\"width\",\"units\":\"data\"},\"x\":{\"field\":\"x\"},\"y\":{\"field\":\"y\"}},\"id\":\"a5676a9d-527b-40e4-8771-52eaf128e31c\",\"type\":\"Rect\"},{\"attributes\":{\"dimension\":1,\"plot\":{\"id\":\"7cd62c17-d0dd-458a-8589-0e6f1a472d8e\",\"subtype\":\"Chart\",\"type\":\"Plot\"},\"ticker\":{\"id\":\"965f11ac-d637-43b4-ac4c-1bfa91f3eda5\",\"type\":\"BasicTicker\"}},\"id\":\"b8a3b1ab-d778-4ac3-95ca-ef0fdfe571c7\",\"type\":\"Grid\"},{\"attributes\":{\"fill_alpha\":{\"field\":\"fill_alpha\"},\"fill_color\":{\"field\":\"color\"},\"height\":{\"field\":\"height\",\"units\":\"data\"},\"line_color\":{\"field\":\"line_color\"},\"width\":{\"field\":\"width\",\"units\":\"data\"},\"x\":{\"field\":\"x\"},\"y\":{\"field\":\"y\"}},\"id\":\"bdb04b02-76a0-4ff8-b2e9-8bf5d5f046a9\",\"type\":\"Rect\"},{\"attributes\":{\"fill_alpha\":{\"field\":\"fill_alpha\"},\"fill_color\":{\"field\":\"color\"},\"height\":{\"field\":\"height\",\"units\":\"data\"},\"line_color\":{\"field\":\"line_color\"},\"width\":{\"field\":\"width\",\"units\":\"data\"},\"x\":{\"field\":\"x\"},\"y\":{\"field\":\"y\"}},\"id\":\"709a9d1e-35e1-4fa1-9645-96dbac5e3a6b\",\"type\":\"Rect\"},{\"attributes\":{\"callback\":null,\"column_names\":[\"line_color\",\"line_alpha\",\"color\",\"fill_alpha\",\"height\",\"width\",\"y\",\"x\",\"label\"],\"data\":{\"chart_index\":[\"(5.9, 6.1]\"],\"color\":[\"#407ee7\"],\"fill_alpha\":[0.6],\"height\":[7.0],\"label\":[\"(5.9, 6.1]\"],\"line_alpha\":[1.0],\"line_color\":[\"black\"],\"width\":[0.20000000000000018],\"x\":[\"6.0\"],\"y\":[3.5]}},\"id\":\"43bc0855-63aa-4580-a0fb-33573dd098d2\",\"type\":\"ColumnDataSource\"},{\"attributes\":{\"callback\":null,\"column_names\":[\"line_color\",\"line_alpha\",\"color\",\"fill_alpha\",\"height\",\"width\",\"y\",\"x\",\"label\"],\"data\":{\"chart_index\":[\"[1.0, 1.1]\"],\"color\":[\"#f22c40\"],\"fill_alpha\":[0.6],\"height\":[1.0],\"label\":[\"[1.0, 1.1]\"],\"line_alpha\":[1.0],\"line_color\":[\"black\"],\"width\":[0.07499999999999996],\"x\":[\"1.05\"],\"y\":[0.5]}},\"id\":\"4fe486b2-81bf-4e78-bef4-13085a057a27\",\"type\":\"ColumnDataSource\"},{\"attributes\":{\"data_source\":{\"id\":\"76862ff1-558a-4125-a4fd-f45a7ca169fc\",\"type\":\"ColumnDataSource\"},\"glyph\":{\"id\":\"a5676a9d-527b-40e4-8771-52eaf128e31c\",\"type\":\"Rect\"},\"hover_glyph\":null,\"nonselection_glyph\":null,\"selection_glyph\":null},\"id\":\"a11fb5b1-f096-45bf-9d8f-a0001a2c93eb\",\"type\":\"GlyphRenderer\"},{\"attributes\":{\"data_source\":{\"id\":\"30328f1a-d9ad-4401-8f10-3a3431409f84\",\"type\":\"ColumnDataSource\"},\"glyph\":{\"id\":\"f1ed5cec-3fc5-495a-8b3a-18129ba500b7\",\"type\":\"Rect\"},\"hover_glyph\":null,\"nonselection_glyph\":null,\"selection_glyph\":null},\"id\":\"12155aa4-68b5-486c-b811-f704f5351d20\",\"type\":\"GlyphRenderer\"},{\"attributes\":{\"callback\":null,\"column_names\":[\"line_color\",\"line_alpha\",\"color\",\"fill_alpha\",\"height\",\"width\",\"y\",\"x\",\"label\"],\"data\":{\"chart_index\":[\"(1.8, 1.8]\"],\"color\":[\"#f22c40\"],\"fill_alpha\":[0.6],\"height\":[0.0],\"label\":[\"(1.8, 1.8]\"],\"line_alpha\":[1.0],\"line_color\":[\"black\"],\"width\":[0.07499999999999996],\"x\":[\"1.8\"],\"y\":[0.0]}},\"id\":\"a5412adb-00c4-4117-9226-5a1c243271bd\",\"type\":\"ColumnDataSource\"},{\"attributes\":{\"callback\":null,\"column_names\":[\"line_color\",\"line_alpha\",\"color\",\"fill_alpha\",\"height\",\"width\",\"y\",\"x\",\"label\"],\"data\":{\"chart_index\":[\"(4.0, 4.2]\"],\"color\":[\"#5ab738\"],\"fill_alpha\":[0.6],\"height\":[7.0],\"label\":[\"(4.0, 4.2]\"],\"line_alpha\":[1.0],\"line_color\":[\"black\"],\"width\":[0.17499999999999982],\"x\":[\"4.1\"],\"y\":[3.5]}},\"id\":\"de55c679-988a-41e6-90ea-485556ebc73b\",\"type\":\"ColumnDataSource\"},{\"attributes\":{\"data_source\":{\"id\":\"bd164558-8fb9-4b5f-a142-acc31e7ffd19\",\"type\":\"ColumnDataSource\"},\"glyph\":{\"id\":\"a99a619f-39cb-42a4-9a74-5ceb13e99397\",\"type\":\"Rect\"},\"hover_glyph\":null,\"nonselection_glyph\":null,\"selection_glyph\":null},\"id\":\"7a1fefc8-c0d8-4f98-9907-8beeaebabb06\",\"type\":\"GlyphRenderer\"},{\"attributes\":{\"fill_alpha\":{\"field\":\"fill_alpha\"},\"fill_color\":{\"field\":\"color\"},\"height\":{\"field\":\"height\",\"units\":\"data\"},\"line_color\":{\"field\":\"line_color\"},\"width\":{\"field\":\"width\",\"units\":\"data\"},\"x\":{\"field\":\"x\"},\"y\":{\"field\":\"y\"}},\"id\":\"a0905fe2-b22f-49ff-8eb8-528094cf7706\",\"type\":\"Rect\"},{\"attributes\":{\"callback\":null,\"column_names\":[\"line_color\",\"line_alpha\",\"color\",\"fill_alpha\",\"height\",\"width\",\"y\",\"x\",\"label\"],\"data\":{\"chart_index\":[\"(1.1, 1.2]\"],\"color\":[\"#f22c40\"],\"fill_alpha\":[0.6],\"height\":[2.0],\"label\":[\"(1.1, 1.2]\"],\"line_alpha\":[1.0],\"line_color\":[\"black\"],\"width\":[0.07500000000000018],\"x\":[\"1.15\"],\"y\":[1.0]}},\"id\":\"5dce65bb-84e2-401e-8a65-94b7be05b6da\",\"type\":\"ColumnDataSource\"},{\"attributes\":{\"data_source\":{\"id\":\"3496ba98-1f81-4de7-b0ae-5ee38b517325\",\"type\":\"ColumnDataSource\"},\"glyph\":{\"id\":\"51ed1e0d-b1d0-4905-8c27-6be835311fe1\",\"type\":\"Rect\"},\"hover_glyph\":null,\"nonselection_glyph\":null,\"selection_glyph\":null},\"id\":\"af1bfb50-7616-47d3-ad2e-2e853049fbf4\",\"type\":\"GlyphRenderer\"},{\"attributes\":{\"data_source\":{\"id\":\"1221401a-9180-403d-9231-c2e8222740a8\",\"type\":\"ColumnDataSource\"},\"glyph\":{\"id\":\"85ccfdad-dcf0-482f-bf97-70ab7448e3e0\",\"type\":\"Rect\"},\"hover_glyph\":null,\"nonselection_glyph\":null,\"selection_glyph\":null},\"id\":\"626e088a-f994-4215-be0c-d66ed59eea8e\",\"type\":\"GlyphRenderer\"},{\"attributes\":{\"data_source\":{\"id\":\"5dce65bb-84e2-401e-8a65-94b7be05b6da\",\"type\":\"ColumnDataSource\"},\"glyph\":{\"id\":\"664e4eba-666f-4f6f-a663-8fa047001a6b\",\"type\":\"Rect\"},\"hover_glyph\":null,\"nonselection_glyph\":null,\"selection_glyph\":null},\"id\":\"8654cbd1-56b1-4f56-8db1-8d6f7cefce18\",\"type\":\"GlyphRenderer\"},{\"attributes\":{\"callback\":null,\"column_names\":[\"line_color\",\"line_alpha\",\"color\",\"fill_alpha\",\"height\",\"width\",\"y\",\"x\",\"label\"],\"data\":{\"chart_index\":[\"(1.7, 1.8]\"],\"color\":[\"#f22c40\"],\"fill_alpha\":[0.6],\"height\":[4.0],\"label\":[\"(1.7, 1.8]\"],\"line_alpha\":[1.0],\"line_color\":[\"black\"],\"width\":[0.07500000000000018],\"x\":[\"1.75\"],\"y\":[2.0]}},\"id\":\"ab7e9d4a-93ed-4b1a-879f-f036f79300fc\",\"type\":\"ColumnDataSource\"},{\"attributes\":{\"fill_alpha\":{\"field\":\"fill_alpha\"},\"fill_color\":{\"field\":\"color\"},\"height\":{\"field\":\"height\",\"units\":\"data\"},\"line_color\":{\"field\":\"line_color\"},\"width\":{\"field\":\"width\",\"units\":\"data\"},\"x\":{\"field\":\"x\"},\"y\":{\"field\":\"y\"}},\"id\":\"d1bc6d71-54ca-431d-af0b-e163f66d1833\",\"type\":\"Rect\"},{\"attributes\":{\"fill_alpha\":{\"field\":\"fill_alpha\"},\"fill_color\":{\"field\":\"color\"},\"height\":{\"field\":\"height\",\"units\":\"data\"},\"line_color\":{\"field\":\"line_color\"},\"width\":{\"field\":\"width\",\"units\":\"data\"},\"x\":{\"field\":\"x\"},\"y\":{\"field\":\"y\"}},\"id\":\"e436576c-b858-45f0-97f5-f46fec508a46\",\"type\":\"Rect\"},{\"attributes\":{\"callback\":null,\"column_names\":[\"line_color\",\"line_alpha\",\"color\",\"fill_alpha\",\"height\",\"width\",\"y\",\"x\",\"label\"],\"data\":{\"chart_index\":[\"(5.5, 5.7]\"],\"color\":[\"#407ee7\"],\"fill_alpha\":[0.6],\"height\":[9.0],\"label\":[\"(5.5, 5.7]\"],\"line_alpha\":[1.0],\"line_color\":[\"black\"],\"width\":[0.20000000000000018],\"x\":[\"5.6\"],\"y\":[4.5]}},\"id\":\"6575b8f9-a5ed-4e58-bad5-34c75e634fb4\",\"type\":\"ColumnDataSource\"},{\"attributes\":{\"callback\":null,\"column_names\":[\"line_color\",\"line_alpha\",\"color\",\"fill_alpha\",\"height\",\"width\",\"y\",\"x\",\"label\"],\"data\":{\"chart_index\":[\"(1.1, 1.1]\"],\"color\":[\"#f22c40\"],\"fill_alpha\":[0.6],\"height\":[1.0],\"label\":[\"(1.1, 1.1]\"],\"line_alpha\":[1.0],\"line_color\":[\"black\"],\"width\":[0.07499999999999996],\"x\":[\"1.1\"],\"y\":[0.5]}},\"id\":\"4106d088-5ddc-4a28-9d46-3914a5824ee6\",\"type\":\"ColumnDataSource\"},{\"attributes\":{\"data_source\":{\"id\":\"870b9671-0829-4c44-9ee3-2d60d99d1b15\",\"type\":\"ColumnDataSource\"},\"glyph\":{\"id\":\"2223ca43-94b7-470c-9300-f039dd90ca12\",\"type\":\"Rect\"},\"hover_glyph\":null,\"nonselection_glyph\":null,\"selection_glyph\":null},\"id\":\"822e6909-f8c0-49d4-9ec0-04f892072dff\",\"type\":\"GlyphRenderer\"},{\"attributes\":{\"fill_alpha\":{\"field\":\"fill_alpha\"},\"fill_color\":{\"field\":\"color\"},\"height\":{\"field\":\"height\",\"units\":\"data\"},\"line_color\":{\"field\":\"line_color\"},\"width\":{\"field\":\"width\",\"units\":\"data\"},\"x\":{\"field\":\"x\"},\"y\":{\"field\":\"y\"}},\"id\":\"1e57859d-1943-46ff-adb7-4ce35faef5b9\",\"type\":\"Rect\"},{\"attributes\":{\"data_source\":{\"id\":\"de55c679-988a-41e6-90ea-485556ebc73b\",\"type\":\"ColumnDataSource\"},\"glyph\":{\"id\":\"7bc881d6-e70d-48bd-b16d-001d76e9db92\",\"type\":\"Rect\"},\"hover_glyph\":null,\"nonselection_glyph\":null,\"selection_glyph\":null},\"id\":\"c9c5b9b0-c23a-447e-ad7d-89cbf7c6e801\",\"type\":\"GlyphRenderer\"},{\"attributes\":{\"fill_alpha\":{\"field\":\"fill_alpha\"},\"fill_color\":{\"field\":\"color\"},\"height\":{\"field\":\"height\",\"units\":\"data\"},\"line_color\":{\"field\":\"line_color\"},\"width\":{\"field\":\"width\",\"units\":\"data\"},\"x\":{\"field\":\"x\"},\"y\":{\"field\":\"y\"}},\"id\":\"51ed1e0d-b1d0-4905-8c27-6be835311fe1\",\"type\":\"Rect\"},{\"attributes\":{\"fill_alpha\":{\"field\":\"fill_alpha\"},\"fill_color\":{\"field\":\"color\"},\"height\":{\"field\":\"height\",\"units\":\"data\"},\"line_color\":{\"field\":\"line_color\"},\"width\":{\"field\":\"width\",\"units\":\"data\"},\"x\":{\"field\":\"x\"},\"y\":{\"field\":\"y\"}},\"id\":\"e5f92382-a964-4575-ae71-90f8f3edf3e8\",\"type\":\"Rect\"},{\"attributes\":{\"fill_alpha\":{\"field\":\"fill_alpha\"},\"fill_color\":{\"field\":\"color\"},\"height\":{\"field\":\"height\",\"units\":\"data\"},\"line_color\":{\"field\":\"line_color\"},\"width\":{\"field\":\"width\",\"units\":\"data\"},\"x\":{\"field\":\"x\"},\"y\":{\"field\":\"y\"}},\"id\":\"7bc881d6-e70d-48bd-b16d-001d76e9db92\",\"type\":\"Rect\"},{\"attributes\":{\"data_source\":{\"id\":\"4fe486b2-81bf-4e78-bef4-13085a057a27\",\"type\":\"ColumnDataSource\"},\"glyph\":{\"id\":\"ffe8f3dc-7872-4bab-85c3-6c7221f13d0b\",\"type\":\"Rect\"},\"hover_glyph\":null,\"nonselection_glyph\":null,\"selection_glyph\":null},\"id\":\"02f81bfa-d48d-49b0-9b06-b7fae3a31641\",\"type\":\"GlyphRenderer\"},{\"attributes\":{\"below\":[{\"id\":\"28626c5d-1906-4411-ac88-8d213517c3da\",\"type\":\"LinearAxis\"}],\"left\":[{\"id\":\"451c9123-06d0-4aa4-a56f-af3d3043d83a\",\"type\":\"LinearAxis\"}],\"renderers\":[{\"id\":\"87d77e25-9041-4420-af90-adfaa32ec9c8\",\"type\":\"BoxAnnotation\"},{\"id\":\"02f81bfa-d48d-49b0-9b06-b7fae3a31641\",\"type\":\"GlyphRenderer\"},{\"id\":\"c49438d3-4020-4a5c-ab33-eeb096a4a81c\",\"type\":\"GlyphRenderer\"},{\"id\":\"8654cbd1-56b1-4f56-8db1-8d6f7cefce18\",\"type\":\"GlyphRenderer\"},{\"id\":\"340f1e66-859a-461a-9fc8-b2181e2a466c\",\"type\":\"GlyphRenderer\"},{\"id\":\"12155aa4-68b5-486c-b811-f704f5351d20\",\"type\":\"GlyphRenderer\"},{\"id\":\"b1f9a856-348c-48b9-8f2d-db7e982cc88e\",\"type\":\"GlyphRenderer\"},{\"id\":\"aa20c2c4-e009-4d06-a66f-8bc9cca621b6\",\"type\":\"GlyphRenderer\"},{\"id\":\"c6700b30-1f42-4302-89af-dca3b6e84203\",\"type\":\"GlyphRenderer\"},{\"id\":\"323f3c79-3b5b-4179-9936-55c0c99cacc5\",\"type\":\"GlyphRenderer\"},{\"id\":\"cddc7e1e-b7d3-42ec-b6d2-a166c6de2b94\",\"type\":\"GlyphRenderer\"},{\"id\":\"6a6cf46f-c246-482a-aa80-e50588950607\",\"type\":\"GlyphRenderer\"},{\"id\":\"278d9812-120c-4b9f-86f6-8b413454b181\",\"type\":\"GlyphRenderer\"},{\"id\":\"a46eb5da-b793-487b-b2e5-74d5feada576\",\"type\":\"GlyphRenderer\"},{\"id\":\"9b6f3ca5-0634-4ec7-81e7-0c5357c40a43\",\"type\":\"GlyphRenderer\"},{\"id\":\"cce6d74c-40a2-4f47-b3cc-c54d0346324c\",\"type\":\"GlyphRenderer\"},{\"id\":\"e58c0059-5a08-4b56-8ba2-bfb116ce4333\",\"type\":\"GlyphRenderer\"},{\"id\":\"3371f805-0569-4112-b13d-3a7b07a5f023\",\"type\":\"GlyphRenderer\"},{\"id\":\"43635b9f-6732-4cf9-9126-0a1eb4e155fe\",\"type\":\"GlyphRenderer\"},{\"id\":\"c9c5b9b0-c23a-447e-ad7d-89cbf7c6e801\",\"type\":\"GlyphRenderer\"},{\"id\":\"36ba5160-a4fb-471b-9934-02e987712f23\",\"type\":\"GlyphRenderer\"},{\"id\":\"cab0453e-d12e-4456-8b90-7c0a848958cb\",\"type\":\"GlyphRenderer\"},{\"id\":\"896a06f8-1a1f-4853-a6ed-239b32eb064a\",\"type\":\"GlyphRenderer\"},{\"id\":\"99892be5-9efa-45e6-b68a-101d584bc5d1\",\"type\":\"GlyphRenderer\"},{\"id\":\"ead9c042-c48c-4967-abf5-04bf8a60b1fe\",\"type\":\"GlyphRenderer\"},{\"id\":\"822e6909-f8c0-49d4-9ec0-04f892072dff\",\"type\":\"GlyphRenderer\"},{\"id\":\"7a1fefc8-c0d8-4f98-9907-8beeaebabb06\",\"type\":\"GlyphRenderer\"},{\"id\":\"13bc9d72-fdeb-46a8-aa28-7dfb09c0becb\",\"type\":\"GlyphRenderer\"},{\"id\":\"626e088a-f994-4215-be0c-d66ed59eea8e\",\"type\":\"GlyphRenderer\"},{\"id\":\"44c25f78-dbbd-486a-b88c-b0eaf65d0b71\",\"type\":\"GlyphRenderer\"},{\"id\":\"cb54a22b-0b72-467d-b8ad-3c5beaeb0d3a\",\"type\":\"GlyphRenderer\"},{\"id\":\"d684ca33-650f-4f0c-aef9-8622df26bcb0\",\"type\":\"GlyphRenderer\"},{\"id\":\"0141d9e6-0aeb-4a39-82aa-0e107390c1a0\",\"type\":\"GlyphRenderer\"},{\"id\":\"a11fb5b1-f096-45bf-9d8f-a0001a2c93eb\",\"type\":\"GlyphRenderer\"},{\"id\":\"af1bfb50-7616-47d3-ad2e-2e853049fbf4\",\"type\":\"GlyphRenderer\"},{\"id\":\"8d562cc3-9ce7-415f-9aa2-cb679f26fb89\",\"type\":\"GlyphRenderer\"},{\"id\":\"0ae9c33c-e4db-4d79-b238-ea3f638d5098\",\"type\":\"GlyphRenderer\"},{\"id\":\"208067af-3e90-423a-89d7-1a70164f8955\",\"type\":\"Legend\"},{\"id\":\"28626c5d-1906-4411-ac88-8d213517c3da\",\"type\":\"LinearAxis\"},{\"id\":\"451c9123-06d0-4aa4-a56f-af3d3043d83a\",\"type\":\"LinearAxis\"},{\"id\":\"b8a3b1ab-d778-4ac3-95ca-ef0fdfe571c7\",\"type\":\"Grid\"}],\"title\":{\"id\":\"4539ef9a-6e0b-469a-be74-aa1cb03f0857\",\"type\":\"Title\"},\"tool_events\":{\"id\":\"705eefd5-3095-449c-a2b3-2717e3fd072e\",\"type\":\"ToolEvents\"},\"toolbar\":{\"id\":\"7b22b104-3339-4079-8e1b-03b594c87058\",\"type\":\"Toolbar\"},\"x_mapper_type\":\"auto\",\"x_range\":{\"id\":\"eac21327-7c69-4c35-90cd-e2bd5b0e442e\",\"type\":\"Range1d\"},\"y_mapper_type\":\"auto\",\"y_range\":{\"id\":\"712ec583-6a22-45b4-a37a-8b539e6f7060\",\"type\":\"Range1d\"}},\"id\":\"7cd62c17-d0dd-458a-8589-0e6f1a472d8e\",\"subtype\":\"Chart\",\"type\":\"Plot\"},{\"attributes\":{\"callback\":null,\"end\":14.3},\"id\":\"712ec583-6a22-45b4-a37a-8b539e6f7060\",\"type\":\"Range1d\"},{\"attributes\":{\"fill_alpha\":{\"field\":\"fill_alpha\"},\"fill_color\":{\"field\":\"color\"},\"height\":{\"field\":\"height\",\"units\":\"data\"},\"line_color\":{\"field\":\"line_color\"},\"width\":{\"field\":\"width\",\"units\":\"data\"},\"x\":{\"field\":\"x\"},\"y\":{\"field\":\"y\"}},\"id\":\"e1d88c8b-176d-42c9-a121-5f7595bb28d6\",\"type\":\"Rect\"},{\"attributes\":{\"data_source\":{\"id\":\"43bc0855-63aa-4580-a0fb-33573dd098d2\",\"type\":\"ColumnDataSource\"},\"glyph\":{\"id\":\"daf9a4d9-d6db-48bd-803f-3cff4e36b3d0\",\"type\":\"Rect\"},\"hover_glyph\":null,\"nonselection_glyph\":null,\"selection_glyph\":null},\"id\":\"0141d9e6-0aeb-4a39-82aa-0e107390c1a0\",\"type\":\"GlyphRenderer\"},{\"attributes\":{\"callback\":null,\"column_names\":[\"line_color\",\"line_alpha\",\"color\",\"fill_alpha\",\"height\",\"width\",\"y\",\"x\",\"label\"],\"data\":{\"chart_index\":[\"(5.1, 5.3]\"],\"color\":[\"#407ee7\"],\"fill_alpha\":[0.6],\"height\":[9.0],\"label\":[\"(5.1, 5.3]\"],\"line_alpha\":[1.0],\"line_color\":[\"black\"],\"width\":[0.20000000000000018],\"x\":[\"5.2\"],\"y\":[4.5]}},\"id\":\"1221401a-9180-403d-9231-c2e8222740a8\",\"type\":\"ColumnDataSource\"},{\"attributes\":{\"data_source\":{\"id\":\"6575b8f9-a5ed-4e58-bad5-34c75e634fb4\",\"type\":\"ColumnDataSource\"},\"glyph\":{\"id\":\"d1bc6d71-54ca-431d-af0b-e163f66d1833\",\"type\":\"Rect\"},\"hover_glyph\":null,\"nonselection_glyph\":null,\"selection_glyph\":null},\"id\":\"cb54a22b-0b72-467d-b8ad-3c5beaeb0d3a\",\"type\":\"GlyphRenderer\"},{\"attributes\":{\"fill_alpha\":{\"field\":\"fill_alpha\"},\"fill_color\":{\"field\":\"color\"},\"height\":{\"field\":\"height\",\"units\":\"data\"},\"line_color\":{\"field\":\"line_color\"},\"width\":{\"field\":\"width\",\"units\":\"data\"},\"x\":{\"field\":\"x\"},\"y\":{\"field\":\"y\"}},\"id\":\"cdf95b09-9886-4324-9728-63348d511610\",\"type\":\"Rect\"},{\"attributes\":{\"data_source\":{\"id\":\"609e5baa-6c0b-4fac-abbc-9381ad49d475\",\"type\":\"ColumnDataSource\"},\"glyph\":{\"id\":\"cdf95b09-9886-4324-9728-63348d511610\",\"type\":\"Rect\"},\"hover_glyph\":null,\"nonselection_glyph\":null,\"selection_glyph\":null},\"id\":\"ead9c042-c48c-4967-abf5-04bf8a60b1fe\",\"type\":\"GlyphRenderer\"},{\"attributes\":{\"fill_alpha\":{\"field\":\"fill_alpha\"},\"fill_color\":{\"field\":\"color\"},\"height\":{\"field\":\"height\",\"units\":\"data\"},\"line_color\":{\"field\":\"line_color\"},\"width\":{\"field\":\"width\",\"units\":\"data\"},\"x\":{\"field\":\"x\"},\"y\":{\"field\":\"y\"}},\"id\":\"daf9a4d9-d6db-48bd-803f-3cff4e36b3d0\",\"type\":\"Rect\"},{\"attributes\":{\"data_source\":{\"id\":\"c841d2cc-c241-4dda-ad39-71b185600a54\",\"type\":\"ColumnDataSource\"},\"glyph\":{\"id\":\"709a9d1e-35e1-4fa1-9645-96dbac5e3a6b\",\"type\":\"Rect\"},\"hover_glyph\":null,\"nonselection_glyph\":null,\"selection_glyph\":null},\"id\":\"99892be5-9efa-45e6-b68a-101d584bc5d1\",\"type\":\"GlyphRenderer\"},{\"attributes\":{\"callback\":null,\"column_names\":[\"line_color\",\"line_alpha\",\"color\",\"fill_alpha\",\"height\",\"width\",\"y\",\"x\",\"label\"],\"data\":{\"chart_index\":[\"(4.9, 5.1]\"],\"color\":[\"#5ab738\"],\"fill_alpha\":[0.6],\"height\":[2.0],\"label\":[\"(4.9, 5.1]\"],\"line_alpha\":[1.0],\"line_color\":[\"black\"],\"width\":[0.17499999999999982],\"x\":[\"5.0\"],\"y\":[1.0]}},\"id\":\"609e5baa-6c0b-4fac-abbc-9381ad49d475\",\"type\":\"ColumnDataSource\"},{\"attributes\":{\"plot\":null,\"text\":null},\"id\":\"4539ef9a-6e0b-469a-be74-aa1cb03f0857\",\"type\":\"Title\"},{\"attributes\":{\"fill_alpha\":{\"field\":\"fill_alpha\"},\"fill_color\":{\"field\":\"color\"},\"height\":{\"field\":\"height\",\"units\":\"data\"},\"line_color\":{\"field\":\"line_color\"},\"width\":{\"field\":\"width\",\"units\":\"data\"},\"x\":{\"field\":\"x\"},\"y\":{\"field\":\"y\"}},\"id\":\"ee9d6d7c-2a43-4f49-a020-3fcfd96b7dbf\",\"type\":\"Rect\"},{\"attributes\":{\"callback\":null,\"column_names\":[\"line_color\",\"line_alpha\",\"color\",\"fill_alpha\",\"height\",\"width\",\"y\",\"x\",\"label\"],\"data\":{\"chart_index\":[\"(1.8, 1.9]\"],\"color\":[\"#f22c40\"],\"fill_alpha\":[0.6],\"height\":[2.0],\"label\":[\"(1.8, 1.9]\"],\"line_alpha\":[1.0],\"line_color\":[\"black\"],\"width\":[0.07499999999999996],\"x\":[\"1.85\"],\"y\":[1.0]}},\"id\":\"56f330c9-52f6-45b8-8734-ed1ab0665947\",\"type\":\"ColumnDataSource\"},{\"attributes\":{\"fill_alpha\":{\"field\":\"fill_alpha\"},\"fill_color\":{\"field\":\"color\"},\"height\":{\"field\":\"height\",\"units\":\"data\"},\"line_color\":{\"field\":\"line_color\"},\"width\":{\"field\":\"width\",\"units\":\"data\"},\"x\":{\"field\":\"x\"},\"y\":{\"field\":\"y\"}},\"id\":\"279e1c6d-4c4b-43ce-9380-0ba81f84c3e2\",\"type\":\"Rect\"},{\"attributes\":{\"fill_alpha\":{\"field\":\"fill_alpha\"},\"fill_color\":{\"field\":\"color\"},\"height\":{\"field\":\"height\",\"units\":\"data\"},\"line_color\":{\"field\":\"line_color\"},\"width\":{\"field\":\"width\",\"units\":\"data\"},\"x\":{\"field\":\"x\"},\"y\":{\"field\":\"y\"}},\"id\":\"c102c1c0-9c63-44c5-8474-91f85bbf4397\",\"type\":\"Rect\"},{\"attributes\":{\"fill_alpha\":{\"field\":\"fill_alpha\"},\"fill_color\":{\"field\":\"color\"},\"height\":{\"field\":\"height\",\"units\":\"data\"},\"line_color\":{\"field\":\"line_color\"},\"width\":{\"field\":\"width\",\"units\":\"data\"},\"x\":{\"field\":\"x\"},\"y\":{\"field\":\"y\"}},\"id\":\"2929d83c-de2d-44df-aee1-3e6221d3e0c6\",\"type\":\"Rect\"},{\"attributes\":{\"fill_alpha\":{\"field\":\"fill_alpha\"},\"fill_color\":{\"field\":\"color\"},\"height\":{\"field\":\"height\",\"units\":\"data\"},\"line_color\":{\"field\":\"line_color\"},\"width\":{\"field\":\"width\",\"units\":\"data\"},\"x\":{\"field\":\"x\"},\"y\":{\"field\":\"y\"}},\"id\":\"2311d422-7f24-4590-8ade-37ca5e474e55\",\"type\":\"Rect\"},{\"attributes\":{\"plot\":{\"id\":\"7cd62c17-d0dd-458a-8589-0e6f1a472d8e\",\"subtype\":\"Chart\",\"type\":\"Plot\"}},\"id\":\"48a99814-ca3b-4c25-a527-3d8b9c117355\",\"type\":\"SaveTool\"},{\"attributes\":{\"data_source\":{\"id\":\"be3f2803-efff-47a6-b277-8d98f7d00407\",\"type\":\"ColumnDataSource\"},\"glyph\":{\"id\":\"4cd14a04-1118-4a2a-a50d-d3fefa799c72\",\"type\":\"Rect\"},\"hover_glyph\":null,\"nonselection_glyph\":null,\"selection_glyph\":null},\"id\":\"323f3c79-3b5b-4179-9936-55c0c99cacc5\",\"type\":\"GlyphRenderer\"},{\"attributes\":{\"plot\":{\"id\":\"7cd62c17-d0dd-458a-8589-0e6f1a472d8e\",\"subtype\":\"Chart\",\"type\":\"Plot\"}},\"id\":\"4500f616-cc06-4389-9a63-efcc0ca03a07\",\"type\":\"PanTool\"},{\"attributes\":{},\"id\":\"98e80922-ffb6-4eca-b212-f2958870e92d\",\"type\":\"BasicTickFormatter\"},{\"attributes\":{\"fill_alpha\":{\"field\":\"fill_alpha\"},\"fill_color\":{\"field\":\"color\"},\"height\":{\"field\":\"height\",\"units\":\"data\"},\"line_color\":{\"field\":\"line_color\"},\"width\":{\"field\":\"width\",\"units\":\"data\"},\"x\":{\"field\":\"x\"},\"y\":{\"field\":\"y\"}},\"id\":\"b2b7907f-c6ee-4b93-83e4-797fe783b50b\",\"type\":\"Rect\"},{\"attributes\":{\"callback\":null,\"column_names\":[\"line_color\",\"line_alpha\",\"color\",\"fill_alpha\",\"height\",\"width\",\"y\",\"x\",\"label\"],\"data\":{\"chart_index\":[\"(3.2, 3.4]\"],\"color\":[\"#5ab738\"],\"fill_alpha\":[0.6],\"height\":[2.0],\"label\":[\"(3.2, 3.4]\"],\"line_alpha\":[1.0],\"line_color\":[\"black\"],\"width\":[0.17500000000000027],\"x\":[\"3.3\"],\"y\":[1.0]}},\"id\":\"6b5daf59-1f62-4ea2-8483-b6a651ea82d2\",\"type\":\"ColumnDataSource\"},{\"attributes\":{\"callback\":null,\"column_names\":[\"line_color\",\"line_alpha\",\"color\",\"fill_alpha\",\"height\",\"width\",\"y\",\"x\",\"label\"],\"data\":{\"chart_index\":[\"(3.4, 3.5]\"],\"color\":[\"#5ab738\"],\"fill_alpha\":[0.6],\"height\":[2.0],\"label\":[\"(3.4, 3.5]\"],\"line_alpha\":[1.0],\"line_color\":[\"black\"],\"width\":[0.17499999999999982],\"x\":[\"3.45\"],\"y\":[1.0]}},\"id\":\"f2039632-6f0e-44f9-84c3-bb2b65863121\",\"type\":\"ColumnDataSource\"},{\"attributes\":{\"data_source\":{\"id\":\"f2039632-6f0e-44f9-84c3-bb2b65863121\",\"type\":\"ColumnDataSource\"},\"glyph\":{\"id\":\"bdb04b02-76a0-4ff8-b2e9-8bf5d5f046a9\",\"type\":\"Rect\"},\"hover_glyph\":null,\"nonselection_glyph\":null,\"selection_glyph\":null},\"id\":\"cce6d74c-40a2-4f47-b3cc-c54d0346324c\",\"type\":\"GlyphRenderer\"},{\"attributes\":{\"callback\":null,\"column_names\":[\"line_color\",\"line_alpha\",\"color\",\"fill_alpha\",\"height\",\"width\",\"y\",\"x\",\"label\"],\"data\":{\"chart_index\":[\"(5.3, 5.5]\"],\"color\":[\"#407ee7\"],\"fill_alpha\":[0.6],\"height\":[4.0],\"label\":[\"(5.3, 5.5]\"],\"line_alpha\":[1.0],\"line_color\":[\"black\"],\"width\":[0.20000000000000018],\"x\":[\"5.4\"],\"y\":[2.0]}},\"id\":\"a1bc952a-1115-4c93-a8ce-eef46bf64ced\",\"type\":\"ColumnDataSource\"},{\"attributes\":{\"callback\":null,\"column_names\":[\"line_color\",\"line_alpha\",\"color\",\"fill_alpha\",\"height\",\"width\",\"y\",\"x\",\"label\"],\"data\":{\"chart_index\":[\"(4.9, 5.1]\"],\"color\":[\"#407ee7\"],\"fill_alpha\":[0.6],\"height\":[6.0],\"label\":[\"(4.9, 5.1]\"],\"line_alpha\":[1.0],\"line_color\":[\"black\"],\"width\":[0.1999999999999993],\"x\":[\"5.0\"],\"y\":[3.0]}},\"id\":\"319717a3-7005-4a30-829e-7c0c37346772\",\"type\":\"ColumnDataSource\"},{\"attributes\":{\"fill_alpha\":{\"field\":\"fill_alpha\"},\"fill_color\":{\"field\":\"color\"},\"height\":{\"field\":\"height\",\"units\":\"data\"},\"line_color\":{\"field\":\"line_color\"},\"width\":{\"field\":\"width\",\"units\":\"data\"},\"x\":{\"field\":\"x\"},\"y\":{\"field\":\"y\"}},\"id\":\"f1ed5cec-3fc5-495a-8b3a-18129ba500b7\",\"type\":\"Rect\"},{\"attributes\":{\"axis_label\":\"petal_length\",\"formatter\":{\"id\":\"d9e5d460-e0b4-4c04-8632-73889a69fb9a\",\"type\":\"BasicTickFormatter\"},\"plot\":{\"id\":\"7cd62c17-d0dd-458a-8589-0e6f1a472d8e\",\"subtype\":\"Chart\",\"type\":\"Plot\"},\"ticker\":{\"id\":\"f8b463df-3a99-452e-8bad-565767c3149a\",\"type\":\"BasicTicker\"}},\"id\":\"28626c5d-1906-4411-ac88-8d213517c3da\",\"type\":\"LinearAxis\"},{\"attributes\":{\"fill_alpha\":{\"field\":\"fill_alpha\"},\"fill_color\":{\"field\":\"color\"},\"height\":{\"field\":\"height\",\"units\":\"data\"},\"line_color\":{\"field\":\"line_color\"},\"width\":{\"field\":\"width\",\"units\":\"data\"},\"x\":{\"field\":\"x\"},\"y\":{\"field\":\"y\"}},\"id\":\"a99a619f-39cb-42a4-9a74-5ceb13e99397\",\"type\":\"Rect\"},{\"attributes\":{},\"id\":\"d9e5d460-e0b4-4c04-8632-73889a69fb9a\",\"type\":\"BasicTickFormatter\"},{\"attributes\":{\"callback\":null,\"column_names\":[\"line_color\",\"line_alpha\",\"color\",\"fill_alpha\",\"height\",\"width\",\"y\",\"x\",\"label\"],\"data\":{\"chart_index\":[\"(1.4, 1.4]\"],\"color\":[\"#f22c40\"],\"fill_alpha\":[0.6],\"height\":[13.0],\"label\":[\"(1.4, 1.4]\"],\"line_alpha\":[1.0],\"line_color\":[\"black\"],\"width\":[0.07499999999999996],\"x\":[\"1.4\"],\"y\":[6.5]}},\"id\":\"6a59df32-4705-4d26-8fe8-e54f87803aab\",\"type\":\"ColumnDataSource\"},{\"attributes\":{\"active_drag\":\"auto\",\"active_scroll\":\"auto\",\"active_tap\":\"auto\",\"tools\":[{\"id\":\"4500f616-cc06-4389-9a63-efcc0ca03a07\",\"type\":\"PanTool\"},{\"id\":\"56ebc9ce-1d2f-4133-a676-d61709c9d13f\",\"type\":\"WheelZoomTool\"},{\"id\":\"a19840c7-ccdf-44d1-af62-c23ce359c666\",\"type\":\"BoxZoomTool\"},{\"id\":\"48a99814-ca3b-4c25-a527-3d8b9c117355\",\"type\":\"SaveTool\"},{\"id\":\"048e482d-9fc8-4386-9939-5160951da424\",\"type\":\"ResetTool\"},{\"id\":\"2831d550-2286-41d6-94a3-b8869ad16da5\",\"type\":\"HelpTool\"}]},\"id\":\"7b22b104-3339-4079-8e1b-03b594c87058\",\"type\":\"Toolbar\"},{\"attributes\":{\"data_source\":{\"id\":\"6b5daf59-1f62-4ea2-8483-b6a651ea82d2\",\"type\":\"ColumnDataSource\"},\"glyph\":{\"id\":\"c52ac9b4-fc79-488f-881a-ed8a01c29077\",\"type\":\"Rect\"},\"hover_glyph\":null,\"nonselection_glyph\":null,\"selection_glyph\":null},\"id\":\"9b6f3ca5-0634-4ec7-81e7-0c5357c40a43\",\"type\":\"GlyphRenderer\"},{\"attributes\":{\"data_source\":{\"id\":\"9292d490-b74b-43b5-b8d3-45fb1db22adb\",\"type\":\"ColumnDataSource\"},\"glyph\":{\"id\":\"2000a1a5-e92e-45b5-abaf-bc0d18077141\",\"type\":\"Rect\"},\"hover_glyph\":null,\"nonselection_glyph\":null,\"selection_glyph\":null},\"id\":\"340f1e66-859a-461a-9fc8-b2181e2a466c\",\"type\":\"GlyphRenderer\"},{\"attributes\":{\"callback\":null,\"column_names\":[\"line_color\",\"line_alpha\",\"color\",\"fill_alpha\",\"height\",\"width\",\"y\",\"x\",\"label\"],\"data\":{\"chart_index\":[\"(1.4, 1.5]\"],\"color\":[\"#f22c40\"],\"fill_alpha\":[0.6],\"height\":[13.0],\"label\":[\"(1.4, 1.5]\"],\"line_alpha\":[1.0],\"line_color\":[\"black\"],\"width\":[0.07499999999999996],\"x\":[\"1.45\"],\"y\":[6.5]}},\"id\":\"768d1e54-9510-427a-808f-edc6703de906\",\"type\":\"ColumnDataSource\"},{\"attributes\":{\"data_source\":{\"id\":\"ab7e9d4a-93ed-4b1a-879f-f036f79300fc\",\"type\":\"ColumnDataSource\"},\"glyph\":{\"id\":\"ee9d6d7c-2a43-4f49-a020-3fcfd96b7dbf\",\"type\":\"Rect\"},\"hover_glyph\":null,\"nonselection_glyph\":null,\"selection_glyph\":null},\"id\":\"cddc7e1e-b7d3-42ec-b6d2-a166c6de2b94\",\"type\":\"GlyphRenderer\"},{\"attributes\":{\"fill_alpha\":{\"field\":\"fill_alpha\"},\"fill_color\":{\"field\":\"color\"},\"height\":{\"field\":\"height\",\"units\":\"data\"},\"line_color\":{\"field\":\"line_color\"},\"width\":{\"field\":\"width\",\"units\":\"data\"},\"x\":{\"field\":\"x\"},\"y\":{\"field\":\"y\"}},\"id\":\"ffe8f3dc-7872-4bab-85c3-6c7221f13d0b\",\"type\":\"Rect\"},{\"attributes\":{\"data_source\":{\"id\":\"40c99ba2-8b5b-4691-8ff9-2eede9df4ef6\",\"type\":\"ColumnDataSource\"},\"glyph\":{\"id\":\"a0905fe2-b22f-49ff-8eb8-528094cf7706\",\"type\":\"Rect\"},\"hover_glyph\":null,\"nonselection_glyph\":null,\"selection_glyph\":null},\"id\":\"36ba5160-a4fb-471b-9934-02e987712f23\",\"type\":\"GlyphRenderer\"},{\"attributes\":{\"fill_alpha\":{\"field\":\"fill_alpha\"},\"fill_color\":{\"field\":\"color\"},\"height\":{\"field\":\"height\",\"units\":\"data\"},\"line_color\":{\"field\":\"line_color\"},\"width\":{\"field\":\"width\",\"units\":\"data\"},\"x\":{\"field\":\"x\"},\"y\":{\"field\":\"y\"}},\"id\":\"85ccfdad-dcf0-482f-bf97-70ab7448e3e0\",\"type\":\"Rect\"},{\"attributes\":{\"callback\":null,\"column_names\":[\"line_color\",\"line_alpha\",\"color\",\"fill_alpha\",\"height\",\"width\",\"y\",\"x\",\"label\"],\"data\":{\"chart_index\":[\"(6.3, 6.5]\"],\"color\":[\"#407ee7\"],\"fill_alpha\":[0.6],\"height\":[1.0],\"label\":[\"(6.3, 6.5]\"],\"line_alpha\":[1.0],\"line_color\":[\"black\"],\"width\":[0.1999999999999993],\"x\":[\"6.4\"],\"y\":[0.5]}},\"id\":\"3496ba98-1f81-4de7-b0ae-5ee38b517325\",\"type\":\"ColumnDataSource\"},{\"attributes\":{\"callback\":null,\"column_names\":[\"line_color\",\"line_alpha\",\"color\",\"fill_alpha\",\"height\",\"width\",\"y\",\"x\",\"label\"],\"data\":{\"chart_index\":[\"(1.6, 1.7]\"],\"color\":[\"#f22c40\"],\"fill_alpha\":[0.6],\"height\":[7.0],\"label\":[\"(1.6, 1.7]\"],\"line_alpha\":[1.0],\"line_color\":[\"black\"],\"width\":[0.07499999999999973],\"x\":[\"1.65\"],\"y\":[3.5]}},\"id\":\"be3f2803-efff-47a6-b277-8d98f7d00407\",\"type\":\"ColumnDataSource\"},{\"attributes\":{\"callback\":null,\"column_names\":[\"line_color\",\"line_alpha\",\"color\",\"fill_alpha\",\"height\",\"width\",\"y\",\"x\",\"label\"],\"data\":{\"chart_index\":[\"(3.5, 3.7]\"],\"color\":[\"#5ab738\"],\"fill_alpha\":[0.6],\"height\":[1.0],\"label\":[\"(3.5, 3.7]\"],\"line_alpha\":[1.0],\"line_color\":[\"black\"],\"width\":[0.17499999999999982],\"x\":[\"3.6\"],\"y\":[0.5]}},\"id\":\"0ae78f7b-c323-44e8-9b1a-1df2dc1e5464\",\"type\":\"ColumnDataSource\"},{\"attributes\":{\"data_source\":{\"id\":\"768d1e54-9510-427a-808f-edc6703de906\",\"type\":\"ColumnDataSource\"},\"glyph\":{\"id\":\"9485fe9f-5e8c-47b8-802c-1f3598f0dc35\",\"type\":\"Rect\"},\"hover_glyph\":null,\"nonselection_glyph\":null,\"selection_glyph\":null},\"id\":\"aa20c2c4-e009-4d06-a66f-8bc9cca621b6\",\"type\":\"GlyphRenderer\"},{\"attributes\":{\"data_source\":{\"id\":\"bcd71388-d1a1-4c66-95a9-195c76897e66\",\"type\":\"ColumnDataSource\"},\"glyph\":{\"id\":\"c102c1c0-9c63-44c5-8474-91f85bbf4397\",\"type\":\"Rect\"},\"hover_glyph\":null,\"nonselection_glyph\":null,\"selection_glyph\":null},\"id\":\"8d562cc3-9ce7-415f-9aa2-cb679f26fb89\",\"type\":\"GlyphRenderer\"},{\"attributes\":{\"plot\":{\"id\":\"7cd62c17-d0dd-458a-8589-0e6f1a472d8e\",\"subtype\":\"Chart\",\"type\":\"Plot\"}},\"id\":\"048e482d-9fc8-4386-9939-5160951da424\",\"type\":\"ResetTool\"},{\"attributes\":{\"plot\":{\"id\":\"7cd62c17-d0dd-458a-8589-0e6f1a472d8e\",\"subtype\":\"Chart\",\"type\":\"Plot\"}},\"id\":\"2831d550-2286-41d6-94a3-b8869ad16da5\",\"type\":\"HelpTool\"},{\"attributes\":{\"data_source\":{\"id\":\"56f330c9-52f6-45b8-8734-ed1ab0665947\",\"type\":\"ColumnDataSource\"},\"glyph\":{\"id\":\"dac78d12-4b3b-4489-acb3-e9530bebf1c9\",\"type\":\"Rect\"},\"hover_glyph\":null,\"nonselection_glyph\":null,\"selection_glyph\":null},\"id\":\"278d9812-120c-4b9f-86f6-8b413454b181\",\"type\":\"GlyphRenderer\"},{\"attributes\":{\"data_source\":{\"id\":\"0ae78f7b-c323-44e8-9b1a-1df2dc1e5464\",\"type\":\"ColumnDataSource\"},\"glyph\":{\"id\":\"e1d88c8b-176d-42c9-a121-5f7595bb28d6\",\"type\":\"Rect\"},\"hover_glyph\":null,\"nonselection_glyph\":null,\"selection_glyph\":null},\"id\":\"e58c0059-5a08-4b56-8ba2-bfb116ce4333\",\"type\":\"GlyphRenderer\"},{\"attributes\":{\"plot\":{\"id\":\"7cd62c17-d0dd-458a-8589-0e6f1a472d8e\",\"subtype\":\"Chart\",\"type\":\"Plot\"}},\"id\":\"56ebc9ce-1d2f-4133-a676-d61709c9d13f\",\"type\":\"WheelZoomTool\"},{\"attributes\":{\"callback\":null,\"column_names\":[\"line_color\",\"line_alpha\",\"color\",\"fill_alpha\",\"height\",\"width\",\"y\",\"x\",\"label\"],\"data\":{\"chart_index\":[\"(1.3, 1.4]\"],\"color\":[\"#f22c40\"],\"fill_alpha\":[0.6],\"height\":[7.0],\"label\":[\"(1.3, 1.4]\"],\"line_alpha\":[1.0],\"line_color\":[\"black\"],\"width\":[0.07499999999999996],\"x\":[\"1.35\"],\"y\":[3.5]}},\"id\":\"30328f1a-d9ad-4401-8f10-3a3431409f84\",\"type\":\"ColumnDataSource\"},{\"attributes\":{\"callback\":null,\"column_names\":[\"line_color\",\"line_alpha\",\"color\",\"fill_alpha\",\"height\",\"width\",\"y\",\"x\",\"label\"],\"data\":{\"chart_index\":[\"(6.5, 6.7]\"],\"color\":[\"#407ee7\"],\"fill_alpha\":[0.6],\"height\":[3.0],\"label\":[\"(6.5, 6.7]\"],\"line_alpha\":[1.0],\"line_color\":[\"black\"],\"width\":[0.20000000000000107],\"x\":[\"6.6\"],\"y\":[1.5]}},\"id\":\"bcd71388-d1a1-4c66-95a9-195c76897e66\",\"type\":\"ColumnDataSource\"},{\"attributes\":{\"callback\":null,\"column_names\":[\"line_color\",\"line_alpha\",\"color\",\"fill_alpha\",\"height\",\"width\",\"y\",\"x\",\"label\"],\"data\":{\"chart_index\":[\"[4.5, 4.7]\"],\"color\":[\"#407ee7\"],\"fill_alpha\":[0.6],\"height\":[1.0],\"label\":[\"[4.5, 4.7]\"],\"line_alpha\":[1.0],\"line_color\":[\"black\"],\"width\":[0.20000000000000018],\"x\":[\"4.6\"],\"y\":[0.5]}},\"id\":\"870b9671-0829-4c44-9ee3-2d60d99d1b15\",\"type\":\"ColumnDataSource\"},{\"attributes\":{\"data_source\":{\"id\":\"4106d088-5ddc-4a28-9d46-3914a5824ee6\",\"type\":\"ColumnDataSource\"},\"glyph\":{\"id\":\"f18530b0-92a7-40e6-b68c-df0e14a8559f\",\"type\":\"Rect\"},\"hover_glyph\":null,\"nonselection_glyph\":null,\"selection_glyph\":null},\"id\":\"c49438d3-4020-4a5c-ab33-eeb096a4a81c\",\"type\":\"GlyphRenderer\"},{\"attributes\":{\"data_source\":{\"id\":\"bda18f31-8bab-430f-a754-dbbdee5a0640\",\"type\":\"ColumnDataSource\"},\"glyph\":{\"id\":\"b2b7907f-c6ee-4b93-83e4-797fe783b50b\",\"type\":\"Rect\"},\"hover_glyph\":null,\"nonselection_glyph\":null,\"selection_glyph\":null},\"id\":\"3371f805-0569-4112-b13d-3a7b07a5f023\",\"type\":\"GlyphRenderer\"},{\"attributes\":{\"callback\":null,\"column_names\":[\"line_color\",\"line_alpha\",\"color\",\"fill_alpha\",\"height\",\"width\",\"y\",\"x\",\"label\"],\"data\":{\"chart_index\":[\"(4.8, 4.9]\"],\"color\":[\"#5ab738\"],\"fill_alpha\":[0.6],\"height\":[4.0],\"label\":[\"(4.8, 4.9]\"],\"line_alpha\":[1.0],\"line_color\":[\"black\"],\"width\":[0.17499999999999982],\"x\":[\"4.85\"],\"y\":[2.0]}},\"id\":\"c841d2cc-c241-4dda-ad39-71b185600a54\",\"type\":\"ColumnDataSource\"},{\"attributes\":{\"fill_alpha\":{\"field\":\"fill_alpha\"},\"fill_color\":{\"field\":\"color\"},\"height\":{\"field\":\"height\",\"units\":\"data\"},\"line_color\":{\"field\":\"line_color\"},\"width\":{\"field\":\"width\",\"units\":\"data\"},\"x\":{\"field\":\"x\"},\"y\":{\"field\":\"y\"}},\"id\":\"dac78d12-4b3b-4489-acb3-e9530bebf1c9\",\"type\":\"Rect\"},{\"attributes\":{\"axis_label\":\"Count( Petal_Length )\",\"formatter\":{\"id\":\"98e80922-ffb6-4eca-b212-f2958870e92d\",\"type\":\"BasicTickFormatter\"},\"plot\":{\"id\":\"7cd62c17-d0dd-458a-8589-0e6f1a472d8e\",\"subtype\":\"Chart\",\"type\":\"Plot\"},\"ticker\":{\"id\":\"965f11ac-d637-43b4-ac4c-1bfa91f3eda5\",\"type\":\"BasicTicker\"}},\"id\":\"451c9123-06d0-4aa4-a56f-af3d3043d83a\",\"type\":\"LinearAxis\"},{\"attributes\":{\"data_source\":{\"id\":\"f4a5d924-37d4-4b5f-9b2c-936ac2aa6570\",\"type\":\"ColumnDataSource\"},\"glyph\":{\"id\":\"e5f92382-a964-4575-ae71-90f8f3edf3e8\",\"type\":\"Rect\"},\"hover_glyph\":null,\"nonselection_glyph\":null,\"selection_glyph\":null},\"id\":\"cab0453e-d12e-4456-8b90-7c0a848958cb\",\"type\":\"GlyphRenderer\"},{\"attributes\":{\"data_source\":{\"id\":\"29e73cfb-4690-4362-acc1-4ed449e2f93f\",\"type\":\"ColumnDataSource\"},\"glyph\":{\"id\":\"ef58ed13-abbc-4453-9547-a8f24b6c054a\",\"type\":\"Rect\"},\"hover_glyph\":null,\"nonselection_glyph\":null,\"selection_glyph\":null},\"id\":\"43635b9f-6732-4cf9-9126-0a1eb4e155fe\",\"type\":\"GlyphRenderer\"},{\"attributes\":{\"callback\":null,\"end\":7.097812500000001,\"start\":0.8146875000000001},\"id\":\"eac21327-7c69-4c35-90cd-e2bd5b0e442e\",\"type\":\"Range1d\"},{\"attributes\":{\"fill_alpha\":{\"field\":\"fill_alpha\"},\"fill_color\":{\"field\":\"color\"},\"height\":{\"field\":\"height\",\"units\":\"data\"},\"line_color\":{\"field\":\"line_color\"},\"width\":{\"field\":\"width\",\"units\":\"data\"},\"x\":{\"field\":\"x\"},\"y\":{\"field\":\"y\"}},\"id\":\"8c9506c4-ebd0-4a2a-87f3-848d48c17f4a\",\"type\":\"Rect\"},{\"attributes\":{\"fill_alpha\":{\"field\":\"fill_alpha\"},\"fill_color\":{\"field\":\"color\"},\"height\":{\"field\":\"height\",\"units\":\"data\"},\"line_color\":{\"field\":\"line_color\"},\"width\":{\"field\":\"width\",\"units\":\"data\"},\"x\":{\"field\":\"x\"},\"y\":{\"field\":\"y\"}},\"id\":\"c52ac9b4-fc79-488f-881a-ed8a01c29077\",\"type\":\"Rect\"},{\"attributes\":{\"callback\":null,\"column_names\":[\"line_color\",\"line_alpha\",\"color\",\"fill_alpha\",\"height\",\"width\",\"y\",\"x\",\"label\"],\"data\":{\"chart_index\":[\"(5.7, 5.9]\"],\"color\":[\"#407ee7\"],\"fill_alpha\":[0.6],\"height\":[6.0],\"label\":[\"(5.7, 5.9]\"],\"line_alpha\":[1.0],\"line_color\":[\"black\"],\"width\":[0.20000000000000018],\"x\":[\"5.8\"],\"y\":[3.0]}},\"id\":\"b5c8113a-459e-4d6c-b01d-7315f678a451\",\"type\":\"ColumnDataSource\"},{\"attributes\":{\"data_source\":{\"id\":\"263fdb5f-1fd5-4ebb-b47e-e74c8f1c7a12\",\"type\":\"ColumnDataSource\"},\"glyph\":{\"id\":\"5910e088-fe75-40b9-812d-cba85e4b7978\",\"type\":\"Rect\"},\"hover_glyph\":null,\"nonselection_glyph\":null,\"selection_glyph\":null},\"id\":\"a46eb5da-b793-487b-b2e5-74d5feada576\",\"type\":\"GlyphRenderer\"},{\"attributes\":{\"fill_alpha\":{\"field\":\"fill_alpha\"},\"fill_color\":{\"field\":\"color\"},\"height\":{\"field\":\"height\",\"units\":\"data\"},\"line_color\":{\"field\":\"line_color\"},\"width\":{\"field\":\"width\",\"units\":\"data\"},\"x\":{\"field\":\"x\"},\"y\":{\"field\":\"y\"}},\"id\":\"4cd14a04-1118-4a2a-a50d-d3fefa799c72\",\"type\":\"Rect\"},{\"attributes\":{\"callback\":null,\"column_names\":[\"line_color\",\"line_alpha\",\"color\",\"fill_alpha\",\"height\",\"width\",\"y\",\"x\",\"label\"],\"data\":{\"chart_index\":[\"(4.7, 4.9]\"],\"color\":[\"#407ee7\"],\"fill_alpha\":[0.6],\"height\":[2.0],\"label\":[\"(4.7, 4.9]\"],\"line_alpha\":[1.0],\"line_color\":[\"black\"],\"width\":[0.20000000000000018],\"x\":[\"4.8\"],\"y\":[1.0]}},\"id\":\"bd164558-8fb9-4b5f-a142-acc31e7ffd19\",\"type\":\"ColumnDataSource\"},{\"attributes\":{\"data_source\":{\"id\":\"6a59df32-4705-4d26-8fe8-e54f87803aab\",\"type\":\"ColumnDataSource\"},\"glyph\":{\"id\":\"2311d422-7f24-4590-8ade-37ca5e474e55\",\"type\":\"Rect\"},\"hover_glyph\":null,\"nonselection_glyph\":null,\"selection_glyph\":null},\"id\":\"b1f9a856-348c-48b9-8f2d-db7e982cc88e\",\"type\":\"GlyphRenderer\"},{\"attributes\":{\"callback\":null,\"column_names\":[\"line_color\",\"line_alpha\",\"color\",\"fill_alpha\",\"height\",\"width\",\"y\",\"x\",\"label\"],\"data\":{\"chart_index\":[\"(6.1, 6.3]\"],\"color\":[\"#407ee7\"],\"fill_alpha\":[0.6],\"height\":[1.0],\"label\":[\"(6.1, 6.3]\"],\"line_alpha\":[1.0],\"line_color\":[\"black\"],\"width\":[0.20000000000000018],\"x\":[\"6.2\"],\"y\":[0.5]}},\"id\":\"76862ff1-558a-4125-a4fd-f45a7ca169fc\",\"type\":\"ColumnDataSource\"},{\"attributes\":{\"fill_alpha\":{\"field\":\"fill_alpha\"},\"fill_color\":{\"field\":\"color\"},\"height\":{\"field\":\"height\",\"units\":\"data\"},\"line_color\":{\"field\":\"line_color\"},\"width\":{\"field\":\"width\",\"units\":\"data\"},\"x\":{\"field\":\"x\"},\"y\":{\"field\":\"y\"}},\"id\":\"9485fe9f-5e8c-47b8-802c-1f3598f0dc35\",\"type\":\"Rect\"},{\"attributes\":{\"data_source\":{\"id\":\"b39ca9b3-5043-46ad-ae38-16a770c084e2\",\"type\":\"ColumnDataSource\"},\"glyph\":{\"id\":\"f1869962-3ff6-4eef-b78c-8540bffbdd38\",\"type\":\"Rect\"},\"hover_glyph\":null,\"nonselection_glyph\":null,\"selection_glyph\":null},\"id\":\"c6700b30-1f42-4302-89af-dca3b6e84203\",\"type\":\"GlyphRenderer\"},{\"attributes\":{\"fill_alpha\":{\"field\":\"fill_alpha\"},\"fill_color\":{\"field\":\"color\"},\"height\":{\"field\":\"height\",\"units\":\"data\"},\"line_color\":{\"field\":\"line_color\"},\"width\":{\"field\":\"width\",\"units\":\"data\"},\"x\":{\"field\":\"x\"},\"y\":{\"field\":\"y\"}},\"id\":\"f18530b0-92a7-40e6-b68c-df0e14a8559f\",\"type\":\"Rect\"},{\"attributes\":{\"callback\":null,\"column_names\":[\"line_color\",\"line_alpha\",\"color\",\"fill_alpha\",\"height\",\"width\",\"y\",\"x\",\"label\"],\"data\":{\"chart_index\":[\"(4.2, 4.4]\"],\"color\":[\"#5ab738\"],\"fill_alpha\":[0.6],\"height\":[2.0],\"label\":[\"(4.2, 4.4]\"],\"line_alpha\":[1.0],\"line_color\":[\"black\"],\"width\":[0.17499999999999982],\"x\":[\"4.3\"],\"y\":[1.0]}},\"id\":\"40c99ba2-8b5b-4691-8ff9-2eede9df4ef6\",\"type\":\"ColumnDataSource\"},{\"attributes\":{\"fill_alpha\":{\"field\":\"fill_alpha\"},\"fill_color\":{\"field\":\"color\"},\"height\":{\"field\":\"height\",\"units\":\"data\"},\"line_color\":{\"field\":\"line_color\"},\"width\":{\"field\":\"width\",\"units\":\"data\"},\"x\":{\"field\":\"x\"},\"y\":{\"field\":\"y\"}},\"id\":\"f1869962-3ff6-4eef-b78c-8540bffbdd38\",\"type\":\"Rect\"},{\"attributes\":{\"callback\":null,\"column_names\":[\"line_color\",\"line_alpha\",\"color\",\"fill_alpha\",\"height\",\"width\",\"y\",\"x\",\"label\"],\"data\":{\"chart_index\":[\"(4.4, 4.6]\"],\"color\":[\"#5ab738\"],\"fill_alpha\":[0.6],\"height\":[11.0],\"label\":[\"(4.4, 4.6]\"],\"line_alpha\":[1.0],\"line_color\":[\"black\"],\"width\":[0.17499999999999982],\"x\":[\"4.5\"],\"y\":[5.5]}},\"id\":\"f4a5d924-37d4-4b5f-9b2c-936ac2aa6570\",\"type\":\"ColumnDataSource\"},{\"attributes\":{\"callback\":null,\"column_names\":[\"line_color\",\"line_alpha\",\"color\",\"fill_alpha\",\"height\",\"width\",\"y\",\"x\",\"label\"],\"data\":{\"chart_index\":[\"(1.5, 1.6]\"],\"color\":[\"#f22c40\"],\"fill_alpha\":[0.6],\"height\":[0.0],\"label\":[\"(1.5, 1.6]\"],\"line_alpha\":[1.0],\"line_color\":[\"black\"],\"width\":[0.07500000000000018],\"x\":[\"1.55\"],\"y\":[0.0]}},\"id\":\"b39ca9b3-5043-46ad-ae38-16a770c084e2\",\"type\":\"ColumnDataSource\"},{\"attributes\":{\"data_source\":{\"id\":\"42c9e784-cbbd-4911-8c8e-b619f89a7f6e\",\"type\":\"ColumnDataSource\"},\"glyph\":{\"id\":\"2929d83c-de2d-44df-aee1-3e6221d3e0c6\",\"type\":\"Rect\"},\"hover_glyph\":null,\"nonselection_glyph\":null,\"selection_glyph\":null},\"id\":\"0ae9c33c-e4db-4d79-b238-ea3f638d5098\",\"type\":\"GlyphRenderer\"},{\"attributes\":{\"fill_alpha\":{\"field\":\"fill_alpha\"},\"fill_color\":{\"field\":\"color\"},\"height\":{\"field\":\"height\",\"units\":\"data\"},\"line_color\":{\"field\":\"line_color\"},\"width\":{\"field\":\"width\",\"units\":\"data\"},\"x\":{\"field\":\"x\"},\"y\":{\"field\":\"y\"}},\"id\":\"8d208a2f-e138-4b15-a540-654517f4db7e\",\"type\":\"Rect\"},{\"attributes\":{\"callback\":null,\"column_names\":[\"line_color\",\"line_alpha\",\"color\",\"fill_alpha\",\"height\",\"width\",\"y\",\"x\",\"label\"],\"data\":{\"chart_index\":[\"[3.0, 3.2]\"],\"color\":[\"#5ab738\"],\"fill_alpha\":[0.6],\"height\":[1.0],\"label\":[\"[3.0, 3.2]\"],\"line_alpha\":[1.0],\"line_color\":[\"black\"],\"width\":[0.17499999999999982],\"x\":[\"3.1\"],\"y\":[0.5]}},\"id\":\"263fdb5f-1fd5-4ebb-b47e-e74c8f1c7a12\",\"type\":\"ColumnDataSource\"},{\"attributes\":{\"fill_alpha\":{\"field\":\"fill_alpha\"},\"fill_color\":{\"field\":\"color\"},\"height\":{\"field\":\"height\",\"units\":\"data\"},\"line_color\":{\"field\":\"line_color\"},\"width\":{\"field\":\"width\",\"units\":\"data\"},\"x\":{\"field\":\"x\"},\"y\":{\"field\":\"y\"}},\"id\":\"664e4eba-666f-4f6f-a663-8fa047001a6b\",\"type\":\"Rect\"},{\"attributes\":{},\"id\":\"f8b463df-3a99-452e-8bad-565767c3149a\",\"type\":\"BasicTicker\"},{\"attributes\":{\"data_source\":{\"id\":\"a5412adb-00c4-4117-9226-5a1c243271bd\",\"type\":\"ColumnDataSource\"},\"glyph\":{\"id\":\"e436576c-b858-45f0-97f5-f46fec508a46\",\"type\":\"Rect\"},\"hover_glyph\":null,\"nonselection_glyph\":null,\"selection_glyph\":null},\"id\":\"6a6cf46f-c246-482a-aa80-e50588950607\",\"type\":\"GlyphRenderer\"},{\"attributes\":{\"data_source\":{\"id\":\"aaa5d55e-9609-426e-937d-998aba34c986\",\"type\":\"ColumnDataSource\"},\"glyph\":{\"id\":\"279e1c6d-4c4b-43ce-9380-0ba81f84c3e2\",\"type\":\"Rect\"},\"hover_glyph\":null,\"nonselection_glyph\":null,\"selection_glyph\":null},\"id\":\"896a06f8-1a1f-4853-a6ed-239b32eb064a\",\"type\":\"GlyphRenderer\"},{\"attributes\":{\"fill_alpha\":{\"field\":\"fill_alpha\"},\"fill_color\":{\"field\":\"color\"},\"height\":{\"field\":\"height\",\"units\":\"data\"},\"line_color\":{\"field\":\"line_color\"},\"width\":{\"field\":\"width\",\"units\":\"data\"},\"x\":{\"field\":\"x\"},\"y\":{\"field\":\"y\"}},\"id\":\"2000a1a5-e92e-45b5-abaf-bc0d18077141\",\"type\":\"Rect\"},{\"attributes\":{\"fill_alpha\":{\"field\":\"fill_alpha\"},\"fill_color\":{\"field\":\"color\"},\"height\":{\"field\":\"height\",\"units\":\"data\"},\"line_color\":{\"field\":\"line_color\"},\"width\":{\"field\":\"width\",\"units\":\"data\"},\"x\":{\"field\":\"x\"},\"y\":{\"field\":\"y\"}},\"id\":\"2223ca43-94b7-470c-9300-f039dd90ca12\",\"type\":\"Rect\"},{\"attributes\":{},\"id\":\"705eefd5-3095-449c-a2b3-2717e3fd072e\",\"type\":\"ToolEvents\"},{\"attributes\":{\"callback\":null,\"column_names\":[\"line_color\",\"line_alpha\",\"color\",\"fill_alpha\",\"height\",\"width\",\"y\",\"x\",\"label\"],\"data\":{\"chart_index\":[\"(4.6, 4.8]\"],\"color\":[\"#5ab738\"],\"fill_alpha\":[0.6],\"height\":[8.0],\"label\":[\"(4.6, 4.8]\"],\"line_alpha\":[1.0],\"line_color\":[\"black\"],\"width\":[0.1750000000000007],\"x\":[\"4.7\"],\"y\":[4.0]}},\"id\":\"aaa5d55e-9609-426e-937d-998aba34c986\",\"type\":\"ColumnDataSource\"},{\"attributes\":{\"data_source\":{\"id\":\"a1bc952a-1115-4c93-a8ce-eef46bf64ced\",\"type\":\"ColumnDataSource\"},\"glyph\":{\"id\":\"8c9506c4-ebd0-4a2a-87f3-848d48c17f4a\",\"type\":\"Rect\"},\"hover_glyph\":null,\"nonselection_glyph\":null,\"selection_glyph\":null},\"id\":\"44c25f78-dbbd-486a-b88c-b0eaf65d0b71\",\"type\":\"GlyphRenderer\"},{\"attributes\":{\"bottom_units\":\"screen\",\"fill_alpha\":{\"value\":0.5},\"fill_color\":{\"value\":\"lightgrey\"},\"left_units\":\"screen\",\"level\":\"overlay\",\"line_alpha\":{\"value\":1.0},\"line_color\":{\"value\":\"black\"},\"line_dash\":[4,4],\"line_width\":{\"value\":2},\"plot\":null,\"render_mode\":\"css\",\"right_units\":\"screen\",\"top_units\":\"screen\"},\"id\":\"87d77e25-9041-4420-af90-adfaa32ec9c8\",\"type\":\"BoxAnnotation\"},{\"attributes\":{\"fill_alpha\":{\"field\":\"fill_alpha\"},\"fill_color\":{\"field\":\"color\"},\"height\":{\"field\":\"height\",\"units\":\"data\"},\"line_color\":{\"field\":\"line_color\"},\"width\":{\"field\":\"width\",\"units\":\"data\"},\"x\":{\"field\":\"x\"},\"y\":{\"field\":\"y\"}},\"id\":\"ef58ed13-abbc-4453-9547-a8f24b6c054a\",\"type\":\"Rect\"},{\"attributes\":{\"callback\":null,\"column_names\":[\"line_color\",\"line_alpha\",\"color\",\"fill_alpha\",\"height\",\"width\",\"y\",\"x\",\"label\"],\"data\":{\"chart_index\":[\"(3.9, 4.0]\"],\"color\":[\"#5ab738\"],\"fill_alpha\":[0.6],\"height\":[8.0],\"label\":[\"(3.9, 4.0]\"],\"line_alpha\":[1.0],\"line_color\":[\"black\"],\"width\":[0.17499999999999982],\"x\":[\"3.95\"],\"y\":[4.0]}},\"id\":\"29e73cfb-4690-4362-acc1-4ed449e2f93f\",\"type\":\"ColumnDataSource\"}],\"root_ids\":[\"7cd62c17-d0dd-458a-8589-0e6f1a472d8e\"]},\"title\":\"Bokeh Application\",\"version\":\"0.12.0\"}};\n",
       "            var render_items = [{\"docid\":\"1a6a84fc-1cf5-45ca-9844-76a388407fde\",\"elementid\":\"3ec91437-6b89-40a2-a6a9-0bf8328dafe1\",\"modelid\":\"7cd62c17-d0dd-458a-8589-0e6f1a472d8e\",\"notebook_comms_target\":\"5179be9a-4c2c-4372-94ee-0c0fa3bbe9d8\"}];\n",
       "            \n",
       "            Bokeh.embed.embed_items(docs_json, render_items);\n",
       "        });\n",
       "      },\n",
       "      function(Bokeh) {\n",
       "      }\n",
       "    ];\n",
       "  \n",
       "    function run_inline_js() {\n",
       "      for (var i = 0; i < inline_js.length; i++) {\n",
       "        inline_js[i](window.Bokeh);\n",
       "      }\n",
       "    }\n",
       "  \n",
       "    if (window._bokeh_is_loading === 0) {\n",
       "      console.log(\"Bokeh: BokehJS loaded, going straight to plotting\");\n",
       "      run_inline_js();\n",
       "    } else {\n",
       "      load_libs(js_urls, function() {\n",
       "        console.log(\"Bokeh: BokehJS plotting callback run at\", now());\n",
       "        run_inline_js();\n",
       "      });\n",
       "    }\n",
       "  }(this));\n",
       "</script>"
      ]
     },
     "metadata": {},
     "output_type": "display_data"
    },
    {
     "data": {
      "text/html": [
       "<p><code>&lt;Bokeh Notebook handle for <strong>In[6]</strong>&gt;</code></p>"
      ],
      "text/plain": [
       "<bokeh.io._CommsHandle at 0x8595dd8>"
      ]
     },
     "execution_count": 6,
     "metadata": {},
     "output_type": "execute_result"
    }
   ],
   "source": [
    "# Plot a complex chart in a single line\n",
    "\n",
    "from bokeh.charts import Histogram\n",
    "from bokeh.sampledata.iris import flowers as data\n",
    "\n",
    "hist = Histogram(data, values=\"petal_length\", color=\"species\", legend=\"top_right\", bins=12)\n",
    "\n",
    "show(hist)"
   ]
  },
  {
   "cell_type": "markdown",
   "metadata": {
    "collapsed": false,
    "scrolled": false,
    "slideshow": {
     "slide_type": "-"
    }
   },
   "source": [
    "# Build and serve beautiful web-ready interactive visualizations\n",
    "# esto falla, es POSIBLE QUE FUNCIONE CON LA VERSION 3.4 DE PYTHON\n",
    "\n",
    "import utils\n",
    "p = utils.get_gapminder_plot()\n",
    "show(p)"
   ]
  },
  {
   "cell_type": "code",
   "execution_count": 9,
   "metadata": {
    "collapsed": false
   },
   "outputs": [
    {
     "data": {
      "text/html": [
       "\n",
       "        <iframe\n",
       "            width=\"900\"\n",
       "            height=\"500\"\n",
       "            src=\"http://demo.bokehplots.com/apps/sliders\"\n",
       "            frameborder=\"0\"\n",
       "            allowfullscreen\n",
       "        ></iframe>\n",
       "        "
      ],
      "text/plain": [
       "<IPython.lib.display.IFrame at 0x8d9ada0>"
      ]
     },
     "execution_count": 9,
     "metadata": {},
     "output_type": "execute_result"
    }
   ],
   "source": [
    "# Create and deploy interactive data applications\n",
    "\n",
    "from IPython.display import IFrame\n",
    "IFrame('http://demo.bokehplots.com/apps/sliders', width=900, height=500)"
   ]
  },
  {
   "cell_type": "markdown",
   "metadata": {},
   "source": [
    "# How does it work"
   ]
  },
  {
   "cell_type": "markdown",
   "metadata": {
    "slideshow": {
     "slide_type": "-"
    }
   },
   "source": [
    "<img src=\"assets/images/arch.png\" style=\"width:800px\">"
   ]
  },
  {
   "cell_type": "markdown",
   "metadata": {},
   "source": [
    "# Getting set up"
   ]
  },
  {
   "cell_type": "code",
   "execution_count": 10,
   "metadata": {
    "collapsed": false
   },
   "outputs": [
    {
     "data": {
      "text/markdown": [
       "# Bokeh Tutorial\n",
       "\n",
       "## Setup\n",
       "\n",
       "### Clone or download the repo\n",
       "First get local copies of the tutorial notebooks:\n",
       "\n",
       "```\n",
       "$ git clone https://github.com/bokeh/bokeh-notebooks.git\n",
       "```\n",
       "\n",
       "Or download from: https://github.com/bokeh/bokeh-notebooks/archive/master.zip\n",
       "\n",
       "### Install the dependencies\n",
       "\n",
       "This tutorial has been tested on:\n",
       "* bokeh=0.12.0\n",
       "* pandas=0.18\n",
       "* ipython-notebook=4.0.4\n",
       "* ipywidgets=4.1.1\n",
       "\n",
       "Other combinations may work also. Packages are available via PyPI and anaconda.org.\n",
       "\n",
       "#### Installing with anaconda\n",
       "\n",
       "Install [anaconda](http://continuum.io/downloads)\n",
       "\n",
       "Anaconda should come with all the dependencies included, but you may need to update your versions.\n",
       "\n",
       "#### Install with miniconda\n",
       "\n",
       "Install [miniconda](http://conda.pydata.org/miniconda.html).\n",
       "\n",
       "Use the command line to create an environment and install the packages:\n",
       "\n",
       "```\n",
       "$ conda create -n bokeh_tutorial python=3.4\n",
       "$ source activate bokeh_tutorial\n",
       "$ conda install bokeh pandas ipython-notebook ipywidgets\n",
       "```\n",
       "\n",
       "#### Install with pip\n",
       "\n",
       "We recommend creating a virtual environment.\n",
       "\n",
       "```\n",
       "$ pip install bokeh pandas \"ipython[notebook]\" ipywidgets\n",
       "```\n",
       "\n",
       "### Get the sample data\n",
       "\n",
       "Bokeh has a sample data download that gives us some data to build demo visualizations. To get\n",
       "it run:\n",
       "\n",
       "```\n",
       "$ bokeh sampledata\n",
       "```\n",
       "\n",
       "### Install datashader and holoviews (optional)\n",
       "\n",
       "Optional tutorials 11 and 12 require the datashader and holoviews packages,\n",
       "respectively, which can be installed with:\n",
       "\n",
       "```bash\n",
       "$ conda install -c bokeh datashader\n",
       "$ conda install -c holoviews/label/dev holoviews\n",
       "```\n",
       "\n",
       "### Run Jupyter/IPython notebook\n",
       "\n",
       "From this folder run jupyter notebook, and open the `00-intro.ipynb` notebook.\n",
       "\n",
       "```\n",
       "$ jupyter notebook\n",
       "```\n"
      ],
      "text/plain": [
       "<IPython.core.display.Markdown object>"
      ]
     },
     "execution_count": 10,
     "metadata": {},
     "output_type": "execute_result"
    }
   ],
   "source": [
    "from IPython.core.display import Markdown\n",
    "Markdown(open(\"README.md\").read())"
   ]
  },
  {
   "cell_type": "markdown",
   "metadata": {},
   "source": [
    "Setup-test, run the next cell. Hopefully you should see output that looks something like this:\n",
    "\n",
    "    IPython - 4.2.0\n",
    "    Pandas - 0.18.1\n",
    "    Bokeh - 0.12.0\n",
    "    \n",
    "If this isn't working for you, see the [`README.md`](README.md) in this directory."
   ]
  },
  {
   "cell_type": "code",
   "execution_count": 11,
   "metadata": {
    "collapsed": false
   },
   "outputs": [
    {
     "name": "stdout",
     "output_type": "stream",
     "text": [
      "IPython - 4.2.0\n",
      "Pandas - 0.18.1\n",
      "Bokeh - 0.12.0\n"
     ]
    }
   ],
   "source": [
    "from IPython import __version__ as ipython_version\n",
    "from pandas import __version__ as pandas_version\n",
    "from bokeh import __version__ as bokeh_version\n",
    "print(\"IPython - %s\" % ipython_version)\n",
    "print(\"Pandas - %s\" % pandas_version)\n",
    "print(\"Bokeh - %s\" % bokeh_version)"
   ]
  },
  {
   "cell_type": "code",
   "execution_count": null,
   "metadata": {
    "collapsed": true
   },
   "outputs": [],
   "source": []
  }
 ],
 "metadata": {
  "kernelspec": {
   "display_name": "Python [Root]",
   "language": "python",
   "name": "Python [Root]"
  },
  "language_info": {
   "codemirror_mode": {
    "name": "ipython",
    "version": 2
   },
   "file_extension": ".py",
   "mimetype": "text/x-python",
   "name": "python",
   "nbconvert_exporter": "python",
   "pygments_lexer": "ipython2",
   "version": "2.7.12"
  }
 },
 "nbformat": 4,
 "nbformat_minor": 0
}
