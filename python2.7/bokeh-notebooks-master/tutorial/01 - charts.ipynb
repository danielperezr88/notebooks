{
 "cells": [
  {
   "cell_type": "markdown",
   "metadata": {},
   "source": [
    "<table style=\"float:left; border:none\">\n",
    "   <tr style=\"border:none\">\n",
    "       <td style=\"border:none\">\n",
    "           <a href=\"http://bokeh.pydata.org/\">     \n",
    "           <img \n",
    "               src=\"assets/images/bokeh-transparent.png\" \n",
    "               style=\"width:50px\"\n",
    "           >\n",
    "           </a>    \n",
    "       </td>\n",
    "       <td style=\"border:none\">\n",
    "           <h1>Bokeh Tutorial</h1>\n",
    "       </td>\n",
    "   </tr>\n",
    "</table>\n",
    "\n",
    "<div style=\"float:right;\"><h2>01. High Level Charts</h2></div>"
   ]
  },
  {
   "cell_type": "markdown",
   "metadata": {},
   "source": [
    "This section covers the `bokeh.charts` interface, which is a high-level API that is especially useful for exploratory data analysis (for instance, in a Jupyter notebook). It provides functions for quickly producing many standard chart types, often with a single line of code. We will look at the following types in this notebook:\n",
    "\n",
    "* [Scatter Plot](#Scatter-Plot)\n",
    "* [Bar Chart](#Bar-Chart)\n",
    "* [Histogram](#Histogram)\n",
    "* [Box Plot](#Box-Plot)"
   ]
  },
  {
   "cell_type": "code",
   "execution_count": 1,
   "metadata": {
    "collapsed": false
   },
   "outputs": [
    {
     "data": {
      "text/html": [
       "\n",
       "    <div class=\"bk-root\">\n",
       "        <a href=\"http://bokeh.pydata.org\" target=\"_blank\" class=\"bk-logo bk-logo-small bk-logo-notebook\"></a>\n",
       "        <span id=\"9573bf39-6d28-409a-a3ee-a948b61c41e4\">Loading BokehJS ...</span>\n",
       "    </div>"
      ]
     },
     "metadata": {},
     "output_type": "display_data"
    },
    {
     "data": {
      "application/javascript": [
       "\n",
       "(function(global) {\n",
       "  function now() {\n",
       "    return new Date();\n",
       "  }\n",
       "\n",
       "  if (typeof (window._bokeh_onload_callbacks) === \"undefined\") {\n",
       "    window._bokeh_onload_callbacks = [];\n",
       "  }\n",
       "\n",
       "  function run_callbacks() {\n",
       "    window._bokeh_onload_callbacks.forEach(function(callback) { callback() });\n",
       "    delete window._bokeh_onload_callbacks\n",
       "    console.info(\"Bokeh: all callbacks have finished\");\n",
       "  }\n",
       "\n",
       "  function load_libs(js_urls, callback) {\n",
       "    window._bokeh_onload_callbacks.push(callback);\n",
       "    if (window._bokeh_is_loading > 0) {\n",
       "      console.log(\"Bokeh: BokehJS is being loaded, scheduling callback at\", now());\n",
       "      return null;\n",
       "    }\n",
       "    if (js_urls == null || js_urls.length === 0) {\n",
       "      run_callbacks();\n",
       "      return null;\n",
       "    }\n",
       "    console.log(\"Bokeh: BokehJS not loaded, scheduling load and callback at\", now());\n",
       "    window._bokeh_is_loading = js_urls.length;\n",
       "    for (var i = 0; i < js_urls.length; i++) {\n",
       "      var url = js_urls[i];\n",
       "      var s = document.createElement('script');\n",
       "      s.src = url;\n",
       "      s.async = false;\n",
       "      s.onreadystatechange = s.onload = function() {\n",
       "        window._bokeh_is_loading--;\n",
       "        if (window._bokeh_is_loading === 0) {\n",
       "          console.log(\"Bokeh: all BokehJS libraries loaded\");\n",
       "          run_callbacks()\n",
       "        }\n",
       "      };\n",
       "      s.onerror = function() {\n",
       "        console.warn(\"failed to load library \" + url);\n",
       "      };\n",
       "      console.log(\"Bokeh: injecting script tag for BokehJS library: \", url);\n",
       "      document.getElementsByTagName(\"head\")[0].appendChild(s);\n",
       "    }\n",
       "  };\n",
       "\n",
       "  var js_urls = ['https://cdn.pydata.org/bokeh/release/bokeh-0.12.0.min.js', 'https://cdn.pydata.org/bokeh/release/bokeh-widgets-0.12.0.min.js', 'https://cdn.pydata.org/bokeh/release/bokeh-compiler-0.12.0.min.js'];\n",
       "\n",
       "  var inline_js = [\n",
       "    function(Bokeh) {\n",
       "      Bokeh.set_log_level(\"info\");\n",
       "    },\n",
       "    \n",
       "    function(Bokeh) {\n",
       "      Bokeh.$(\"#9573bf39-6d28-409a-a3ee-a948b61c41e4\").text(\"BokehJS successfully loaded\");\n",
       "    },\n",
       "    function(Bokeh) {\n",
       "      console.log(\"Bokeh: injecting CSS: https://cdn.pydata.org/bokeh/release/bokeh-0.12.0.min.css\");\n",
       "      Bokeh.embed.inject_css(\"https://cdn.pydata.org/bokeh/release/bokeh-0.12.0.min.css\");\n",
       "      console.log(\"Bokeh: injecting CSS: https://cdn.pydata.org/bokeh/release/bokeh-widgets-0.12.0.min.css\");\n",
       "      Bokeh.embed.inject_css(\"https://cdn.pydata.org/bokeh/release/bokeh-widgets-0.12.0.min.css\");\n",
       "    }\n",
       "  ];\n",
       "\n",
       "  function run_inline_js() {\n",
       "    for (var i = 0; i < inline_js.length; i++) {\n",
       "      inline_js[i](window.Bokeh);\n",
       "    }\n",
       "  }\n",
       "\n",
       "  if (window._bokeh_is_loading === 0) {\n",
       "    console.log(\"Bokeh: BokehJS loaded, going straight to plotting\");\n",
       "    run_inline_js();\n",
       "  } else {\n",
       "    load_libs(js_urls, function() {\n",
       "      console.log(\"Bokeh: BokehJS plotting callback run at\", now());\n",
       "      run_inline_js();\n",
       "    });\n",
       "  }\n",
       "}(this));"
      ]
     },
     "metadata": {},
     "output_type": "display_data"
    }
   ],
   "source": [
    "from bokeh.io import output_notebook, show\n",
    "output_notebook()"
   ]
  },
  {
   "cell_type": "markdown",
   "metadata": {},
   "source": [
    "# Scatter Plot\n",
    "\n",
    "A high-level scatter plot is provided by [`bokeh.charts.Scatter`]().\n",
    "\n",
    "For this section will use the \"iris\" data set. First let's import it and take a look at a few rows:"
   ]
  },
  {
   "cell_type": "code",
   "execution_count": 2,
   "metadata": {
    "collapsed": false
   },
   "outputs": [
    {
     "data": {
      "text/html": [
       "<div>\n",
       "<table border=\"1\" class=\"dataframe\">\n",
       "  <thead>\n",
       "    <tr style=\"text-align: right;\">\n",
       "      <th></th>\n",
       "      <th>sepal_length</th>\n",
       "      <th>sepal_width</th>\n",
       "      <th>petal_length</th>\n",
       "      <th>petal_width</th>\n",
       "      <th>species</th>\n",
       "    </tr>\n",
       "  </thead>\n",
       "  <tbody>\n",
       "    <tr>\n",
       "      <th>0</th>\n",
       "      <td>5.1</td>\n",
       "      <td>3.5</td>\n",
       "      <td>1.4</td>\n",
       "      <td>0.2</td>\n",
       "      <td>setosa</td>\n",
       "    </tr>\n",
       "    <tr>\n",
       "      <th>1</th>\n",
       "      <td>4.9</td>\n",
       "      <td>3.0</td>\n",
       "      <td>1.4</td>\n",
       "      <td>0.2</td>\n",
       "      <td>setosa</td>\n",
       "    </tr>\n",
       "    <tr>\n",
       "      <th>2</th>\n",
       "      <td>4.7</td>\n",
       "      <td>3.2</td>\n",
       "      <td>1.3</td>\n",
       "      <td>0.2</td>\n",
       "      <td>setosa</td>\n",
       "    </tr>\n",
       "    <tr>\n",
       "      <th>3</th>\n",
       "      <td>4.6</td>\n",
       "      <td>3.1</td>\n",
       "      <td>1.5</td>\n",
       "      <td>0.2</td>\n",
       "      <td>setosa</td>\n",
       "    </tr>\n",
       "    <tr>\n",
       "      <th>4</th>\n",
       "      <td>5.0</td>\n",
       "      <td>3.6</td>\n",
       "      <td>1.4</td>\n",
       "      <td>0.2</td>\n",
       "      <td>setosa</td>\n",
       "    </tr>\n",
       "  </tbody>\n",
       "</table>\n",
       "</div>"
      ],
      "text/plain": [
       "   sepal_length  sepal_width  petal_length  petal_width species\n",
       "0           5.1          3.5           1.4          0.2  setosa\n",
       "1           4.9          3.0           1.4          0.2  setosa\n",
       "2           4.7          3.2           1.3          0.2  setosa\n",
       "3           4.6          3.1           1.5          0.2  setosa\n",
       "4           5.0          3.6           1.4          0.2  setosa"
      ]
     },
     "execution_count": 2,
     "metadata": {},
     "output_type": "execute_result"
    }
   ],
   "source": [
    "from bokeh.sampledata.iris import flowers\n",
    "flowers.head()"
   ]
  },
  {
   "cell_type": "code",
   "execution_count": 3,
   "metadata": {
    "collapsed": true
   },
   "outputs": [],
   "source": [
    "from bokeh.charts import Scatter"
   ]
  },
  {
   "cell_type": "markdown",
   "metadata": {},
   "source": [
    "A basic scatter chart takes the data (in this case a pandas DataFrame) as the first argument, and specifies the `x` and `y` coordinates for the scatter as the names of columns in the data."
   ]
  },
  {
   "cell_type": "code",
   "execution_count": 4,
   "metadata": {
    "collapsed": false
   },
   "outputs": [
    {
     "data": {
      "text/html": [
       "\n",
       "\n",
       "    <div class=\"bk-root\">\n",
       "        <div class=\"plotdiv\" id=\"2d8386dc-46cc-4e75-ad99-2cacdc88610d\"></div>\n",
       "    </div>\n",
       "<script type=\"text/javascript\">\n",
       "  \n",
       "  (function(global) {\n",
       "    function now() {\n",
       "      return new Date();\n",
       "    }\n",
       "  \n",
       "    if (typeof (window._bokeh_onload_callbacks) === \"undefined\") {\n",
       "      window._bokeh_onload_callbacks = [];\n",
       "    }\n",
       "  \n",
       "    function run_callbacks() {\n",
       "      window._bokeh_onload_callbacks.forEach(function(callback) { callback() });\n",
       "      delete window._bokeh_onload_callbacks\n",
       "      console.info(\"Bokeh: all callbacks have finished\");\n",
       "    }\n",
       "  \n",
       "    function load_libs(js_urls, callback) {\n",
       "      window._bokeh_onload_callbacks.push(callback);\n",
       "      if (window._bokeh_is_loading > 0) {\n",
       "        console.log(\"Bokeh: BokehJS is being loaded, scheduling callback at\", now());\n",
       "        return null;\n",
       "      }\n",
       "      if (js_urls == null || js_urls.length === 0) {\n",
       "        run_callbacks();\n",
       "        return null;\n",
       "      }\n",
       "      console.log(\"Bokeh: BokehJS not loaded, scheduling load and callback at\", now());\n",
       "      window._bokeh_is_loading = js_urls.length;\n",
       "      for (var i = 0; i < js_urls.length; i++) {\n",
       "        var url = js_urls[i];\n",
       "        var s = document.createElement('script');\n",
       "        s.src = url;\n",
       "        s.async = false;\n",
       "        s.onreadystatechange = s.onload = function() {\n",
       "          window._bokeh_is_loading--;\n",
       "          if (window._bokeh_is_loading === 0) {\n",
       "            console.log(\"Bokeh: all BokehJS libraries loaded\");\n",
       "            run_callbacks()\n",
       "          }\n",
       "        };\n",
       "        s.onerror = function() {\n",
       "          console.warn(\"failed to load library \" + url);\n",
       "        };\n",
       "        console.log(\"Bokeh: injecting script tag for BokehJS library: \", url);\n",
       "        document.getElementsByTagName(\"head\")[0].appendChild(s);\n",
       "      }\n",
       "    };var element = document.getElementById(\"2d8386dc-46cc-4e75-ad99-2cacdc88610d\");\n",
       "    if (element == null) {\n",
       "      console.log(\"Bokeh: ERROR: autoload.js configured with elementid '2d8386dc-46cc-4e75-ad99-2cacdc88610d' but no matching script tag was found. \")\n",
       "      return false;\n",
       "    }\n",
       "  \n",
       "    var js_urls = [];\n",
       "  \n",
       "    var inline_js = [\n",
       "      function(Bokeh) {\n",
       "        Bokeh.$(function() {\n",
       "            var docs_json = {\"af22ff6e-3fee-47f0-ba57-a12fae3def00\":{\"roots\":{\"references\":[{\"attributes\":{\"below\":[{\"id\":\"1086b312-6c92-4ba3-8b75-c3d2256cc7d1\",\"type\":\"LinearAxis\"}],\"left\":[{\"id\":\"51ce21bd-7b07-4e73-bd43-be03108f6d63\",\"type\":\"LinearAxis\"}],\"renderers\":[{\"id\":\"b219cc63-0e97-4c05-940e-f062e3a6fabf\",\"type\":\"BoxAnnotation\"},{\"id\":\"1683aa27-7f35-4180-9cda-a0a2bd70d99b\",\"type\":\"GlyphRenderer\"},{\"id\":\"98824dc2-08f0-4273-9aae-76a4233d8715\",\"type\":\"Legend\"},{\"id\":\"1086b312-6c92-4ba3-8b75-c3d2256cc7d1\",\"type\":\"LinearAxis\"},{\"id\":\"51ce21bd-7b07-4e73-bd43-be03108f6d63\",\"type\":\"LinearAxis\"},{\"id\":\"ab534b9c-7e21-4a61-8f42-078b28dd43f2\",\"type\":\"Grid\"},{\"id\":\"cbe21cb7-73c3-4527-9321-d6f22387cd52\",\"type\":\"Grid\"}],\"title\":{\"id\":\"f60cfe28-6d60-4abf-9149-2d9acdc39442\",\"type\":\"Title\"},\"tool_events\":{\"id\":\"d9d6a53c-a6a5-40b5-b734-c94d95899780\",\"type\":\"ToolEvents\"},\"toolbar\":{\"id\":\"c047441b-3b5d-4fb0-b64a-2d7b31ba3420\",\"type\":\"Toolbar\"},\"x_mapper_type\":\"auto\",\"x_range\":{\"id\":\"841f3299-f1c7-485d-a79c-b5eeaff2fa7e\",\"type\":\"Range1d\"},\"y_mapper_type\":\"auto\",\"y_range\":{\"id\":\"d3e7cbbe-c33e-44d9-ae08-20b3d2059f0a\",\"type\":\"Range1d\"}},\"id\":\"f907b8f2-b2bc-4e87-9deb-0a629c60ca56\",\"subtype\":\"Chart\",\"type\":\"Plot\"},{\"attributes\":{\"axis_label\":\"petal_width\",\"formatter\":{\"id\":\"e3fbad2c-3579-49f5-9872-939ec4b255c7\",\"type\":\"BasicTickFormatter\"},\"plot\":{\"id\":\"f907b8f2-b2bc-4e87-9deb-0a629c60ca56\",\"subtype\":\"Chart\",\"type\":\"Plot\"},\"ticker\":{\"id\":\"1f9ef378-838a-418f-b8b9-33ec36b1af06\",\"type\":\"BasicTicker\"}},\"id\":\"51ce21bd-7b07-4e73-bd43-be03108f6d63\",\"type\":\"LinearAxis\"},{\"attributes\":{\"callback\":null,\"end\":7.49,\"start\":0.4099999999999999},\"id\":\"841f3299-f1c7-485d-a79c-b5eeaff2fa7e\",\"type\":\"Range1d\"},{\"attributes\":{\"plot\":{\"id\":\"f907b8f2-b2bc-4e87-9deb-0a629c60ca56\",\"subtype\":\"Chart\",\"type\":\"Plot\"}},\"id\":\"78dce779-6198-4fc5-b8fc-30ee6a47a81e\",\"type\":\"PanTool\"},{\"attributes\":{\"active_drag\":\"auto\",\"active_scroll\":\"auto\",\"active_tap\":\"auto\",\"tools\":[{\"id\":\"78dce779-6198-4fc5-b8fc-30ee6a47a81e\",\"type\":\"PanTool\"},{\"id\":\"bf7e77d2-b9db-4409-8106-392905f3fa78\",\"type\":\"WheelZoomTool\"},{\"id\":\"e040aa5c-9fcc-421e-a904-2a947bb80d0c\",\"type\":\"BoxZoomTool\"},{\"id\":\"bad21b21-a95e-4eb6-8d11-d52682e397e7\",\"type\":\"SaveTool\"},{\"id\":\"64af039c-2528-4127-bf2d-8b773c92ae14\",\"type\":\"ResetTool\"},{\"id\":\"df85b308-fd4c-4e98-871a-12360a532224\",\"type\":\"HelpTool\"}]},\"id\":\"c047441b-3b5d-4fb0-b64a-2d7b31ba3420\",\"type\":\"Toolbar\"},{\"attributes\":{\"callback\":null,\"end\":2.74,\"start\":-0.13999999999999999},\"id\":\"d3e7cbbe-c33e-44d9-ae08-20b3d2059f0a\",\"type\":\"Range1d\"},{\"attributes\":{\"plot\":{\"id\":\"f907b8f2-b2bc-4e87-9deb-0a629c60ca56\",\"subtype\":\"Chart\",\"type\":\"Plot\"},\"ticker\":{\"id\":\"a68222b6-0016-41ed-a34c-7607fc9dc15a\",\"type\":\"BasicTicker\"}},\"id\":\"ab534b9c-7e21-4a61-8f42-078b28dd43f2\",\"type\":\"Grid\"},{\"attributes\":{\"plot\":null,\"text\":null},\"id\":\"f60cfe28-6d60-4abf-9149-2d9acdc39442\",\"type\":\"Title\"},{\"attributes\":{},\"id\":\"e3fbad2c-3579-49f5-9872-939ec4b255c7\",\"type\":\"BasicTickFormatter\"},{\"attributes\":{},\"id\":\"1f9ef378-838a-418f-b8b9-33ec36b1af06\",\"type\":\"BasicTicker\"},{\"attributes\":{\"plot\":{\"id\":\"f907b8f2-b2bc-4e87-9deb-0a629c60ca56\",\"subtype\":\"Chart\",\"type\":\"Plot\"}},\"id\":\"bad21b21-a95e-4eb6-8d11-d52682e397e7\",\"type\":\"SaveTool\"},{\"attributes\":{\"plot\":{\"id\":\"f907b8f2-b2bc-4e87-9deb-0a629c60ca56\",\"subtype\":\"Chart\",\"type\":\"Plot\"}},\"id\":\"df85b308-fd4c-4e98-871a-12360a532224\",\"type\":\"HelpTool\"},{\"attributes\":{\"location\":\"top_left\",\"plot\":{\"id\":\"f907b8f2-b2bc-4e87-9deb-0a629c60ca56\",\"subtype\":\"Chart\",\"type\":\"Plot\"}},\"id\":\"98824dc2-08f0-4273-9aae-76a4233d8715\",\"type\":\"Legend\"},{\"attributes\":{\"fill_alpha\":{\"value\":0.7},\"fill_color\":{\"value\":\"#f22c40\"},\"line_color\":{\"value\":\"#f22c40\"},\"size\":{\"units\":\"screen\",\"value\":8},\"x\":{\"field\":\"x_values\"},\"y\":{\"field\":\"y_values\"}},\"id\":\"9b1830bd-9234-4880-a45d-52c6eb0acafc\",\"type\":\"Circle\"},{\"attributes\":{\"callback\":null,\"column_names\":[\"x_values\",\"y_values\"],\"data\":{\"chart_index\":[null,null,null,null,null,null,null,null,null,null,null,null,null,null,null,null,null,null,null,null,null,null,null,null,null,null,null,null,null,null,null,null,null,null,null,null,null,null,null,null,null,null,null,null,null,null,null,null,null,null,null,null,null,null,null,null,null,null,null,null,null,null,null,null,null,null,null,null,null,null,null,null,null,null,null,null,null,null,null,null,null,null,null,null,null,null,null,null,null,null,null,null,null,null,null,null,null,null,null,null,null,null,null,null,null,null,null,null,null,null,null,null,null,null,null,null,null,null,null,null,null,null,null,null,null,null,null,null,null,null,null,null,null,null,null,null,null,null,null,null,null,null,null,null,null,null,null,null,null,null],\"x_values\":[1.4,1.4,1.3,1.5,1.4,1.7,1.4,1.5,1.4,1.5,1.5,1.6,1.4,1.1,1.2,1.5,1.3,1.4,1.7,1.5,1.7,1.5,1.0,1.7,1.9,1.6,1.6,1.5,1.4,1.6,1.6,1.5,1.5,1.4,1.5,1.2,1.3,1.4,1.3,1.5,1.3,1.3,1.3,1.6,1.9,1.4,1.6,1.4,1.5,1.4,4.7,4.5,4.9,4.0,4.6,4.5,4.7,3.3,4.6,3.9,3.5,4.2,4.0,4.7,3.6,4.4,4.5,4.1,4.5,3.9,4.8,4.0,4.9,4.7,4.3,4.4,4.8,5.0,4.5,3.5,3.8,3.7,3.9,5.1,4.5,4.5,4.7,4.4,4.1,4.0,4.4,4.6,4.0,3.3,4.2,4.2,4.2,4.3,3.0,4.1,6.0,5.1,5.9,5.6,5.8,6.6,4.5,6.3,5.8,6.1,5.1,5.3,5.5,5.0,5.1,5.3,5.5,6.7,6.9,5.0,5.7,4.9,6.7,4.9,5.7,6.0,4.8,4.9,5.6,5.8,6.1,6.4,5.6,5.1,5.6,6.1,5.6,5.5,4.8,5.4,5.6,5.1,5.1,5.9,5.7,5.2,5.0,5.2,5.4,5.1],\"y_values\":[0.2,0.2,0.2,0.2,0.2,0.4,0.3,0.2,0.2,0.1,0.2,0.2,0.1,0.1,0.2,0.4,0.4,0.3,0.3,0.3,0.2,0.4,0.2,0.5,0.2,0.2,0.4,0.2,0.2,0.2,0.2,0.4,0.1,0.2,0.2,0.2,0.2,0.1,0.2,0.2,0.3,0.3,0.2,0.6,0.4,0.3,0.2,0.2,0.2,0.2,1.4,1.5,1.5,1.3,1.5,1.3,1.6,1.0,1.3,1.4,1.0,1.5,1.0,1.4,1.3,1.4,1.5,1.0,1.5,1.1,1.8,1.3,1.5,1.2,1.3,1.4,1.4,1.7,1.5,1.0,1.1,1.0,1.2,1.6,1.5,1.6,1.5,1.3,1.3,1.3,1.2,1.4,1.2,1.0,1.3,1.2,1.3,1.3,1.1,1.3,2.5,1.9,2.1,1.8,2.2,2.1,1.7,1.8,1.8,2.5,2.0,1.9,2.1,2.0,2.4,2.3,1.8,2.2,2.3,1.5,2.3,2.0,2.0,1.8,2.1,1.8,1.8,1.8,2.1,1.6,1.9,2.0,2.2,1.5,1.4,2.3,2.4,1.8,1.8,2.1,2.4,2.3,1.9,2.3,2.5,2.3,1.9,2.0,2.3,1.8]}},\"id\":\"49dd692e-4372-4c8e-a577-4668e52b201c\",\"type\":\"ColumnDataSource\"},{\"attributes\":{\"plot\":{\"id\":\"f907b8f2-b2bc-4e87-9deb-0a629c60ca56\",\"subtype\":\"Chart\",\"type\":\"Plot\"}},\"id\":\"bf7e77d2-b9db-4409-8106-392905f3fa78\",\"type\":\"WheelZoomTool\"},{\"attributes\":{\"bottom_units\":\"screen\",\"fill_alpha\":{\"value\":0.5},\"fill_color\":{\"value\":\"lightgrey\"},\"left_units\":\"screen\",\"level\":\"overlay\",\"line_alpha\":{\"value\":1.0},\"line_color\":{\"value\":\"black\"},\"line_dash\":[4,4],\"line_width\":{\"value\":2},\"plot\":null,\"render_mode\":\"css\",\"right_units\":\"screen\",\"top_units\":\"screen\"},\"id\":\"b219cc63-0e97-4c05-940e-f062e3a6fabf\",\"type\":\"BoxAnnotation\"},{\"attributes\":{\"dimension\":1,\"plot\":{\"id\":\"f907b8f2-b2bc-4e87-9deb-0a629c60ca56\",\"subtype\":\"Chart\",\"type\":\"Plot\"},\"ticker\":{\"id\":\"1f9ef378-838a-418f-b8b9-33ec36b1af06\",\"type\":\"BasicTicker\"}},\"id\":\"cbe21cb7-73c3-4527-9321-d6f22387cd52\",\"type\":\"Grid\"},{\"attributes\":{},\"id\":\"38fd086a-e28c-46b5-aaf4-2ff23604354a\",\"type\":\"BasicTickFormatter\"},{\"attributes\":{\"data_source\":{\"id\":\"49dd692e-4372-4c8e-a577-4668e52b201c\",\"type\":\"ColumnDataSource\"},\"glyph\":{\"id\":\"9b1830bd-9234-4880-a45d-52c6eb0acafc\",\"type\":\"Circle\"},\"hover_glyph\":null,\"nonselection_glyph\":null,\"selection_glyph\":null},\"id\":\"1683aa27-7f35-4180-9cda-a0a2bd70d99b\",\"type\":\"GlyphRenderer\"},{\"attributes\":{\"axis_label\":\"petal_length\",\"formatter\":{\"id\":\"38fd086a-e28c-46b5-aaf4-2ff23604354a\",\"type\":\"BasicTickFormatter\"},\"plot\":{\"id\":\"f907b8f2-b2bc-4e87-9deb-0a629c60ca56\",\"subtype\":\"Chart\",\"type\":\"Plot\"},\"ticker\":{\"id\":\"a68222b6-0016-41ed-a34c-7607fc9dc15a\",\"type\":\"BasicTicker\"}},\"id\":\"1086b312-6c92-4ba3-8b75-c3d2256cc7d1\",\"type\":\"LinearAxis\"},{\"attributes\":{},\"id\":\"d9d6a53c-a6a5-40b5-b734-c94d95899780\",\"type\":\"ToolEvents\"},{\"attributes\":{},\"id\":\"a68222b6-0016-41ed-a34c-7607fc9dc15a\",\"type\":\"BasicTicker\"},{\"attributes\":{\"overlay\":{\"id\":\"b219cc63-0e97-4c05-940e-f062e3a6fabf\",\"type\":\"BoxAnnotation\"},\"plot\":{\"id\":\"f907b8f2-b2bc-4e87-9deb-0a629c60ca56\",\"subtype\":\"Chart\",\"type\":\"Plot\"}},\"id\":\"e040aa5c-9fcc-421e-a904-2a947bb80d0c\",\"type\":\"BoxZoomTool\"},{\"attributes\":{\"plot\":{\"id\":\"f907b8f2-b2bc-4e87-9deb-0a629c60ca56\",\"subtype\":\"Chart\",\"type\":\"Plot\"}},\"id\":\"64af039c-2528-4127-bf2d-8b773c92ae14\",\"type\":\"ResetTool\"}],\"root_ids\":[\"f907b8f2-b2bc-4e87-9deb-0a629c60ca56\"]},\"title\":\"Bokeh Application\",\"version\":\"0.12.0\"}};\n",
       "            var render_items = [{\"docid\":\"af22ff6e-3fee-47f0-ba57-a12fae3def00\",\"elementid\":\"2d8386dc-46cc-4e75-ad99-2cacdc88610d\",\"modelid\":\"f907b8f2-b2bc-4e87-9deb-0a629c60ca56\",\"notebook_comms_target\":\"6aaa1100-f106-4637-87d8-55400feef82c\"}];\n",
       "            \n",
       "            Bokeh.embed.embed_items(docs_json, render_items);\n",
       "        });\n",
       "      },\n",
       "      function(Bokeh) {\n",
       "      }\n",
       "    ];\n",
       "  \n",
       "    function run_inline_js() {\n",
       "      for (var i = 0; i < inline_js.length; i++) {\n",
       "        inline_js[i](window.Bokeh);\n",
       "      }\n",
       "    }\n",
       "  \n",
       "    if (window._bokeh_is_loading === 0) {\n",
       "      console.log(\"Bokeh: BokehJS loaded, going straight to plotting\");\n",
       "      run_inline_js();\n",
       "    } else {\n",
       "      load_libs(js_urls, function() {\n",
       "        console.log(\"Bokeh: BokehJS plotting callback run at\", now());\n",
       "        run_inline_js();\n",
       "      });\n",
       "    }\n",
       "  }(this));\n",
       "</script>"
      ]
     },
     "metadata": {},
     "output_type": "display_data"
    },
    {
     "data": {
      "text/html": [
       "<p><code>&lt;Bokeh Notebook handle for <strong>In[18]</strong>&gt;</code></p>"
      ],
      "text/plain": [
       "<bokeh.io._CommsHandle at 0x10d5d5f60>"
      ]
     },
     "execution_count": 4,
     "metadata": {},
     "output_type": "execute_result"
    }
   ],
   "source": [
    "p = Scatter(flowers, x='petal_length', y='petal_width')\n",
    "show(p)"
   ]
  },
  {
   "cell_type": "markdown",
   "metadata": {},
   "source": [
    "By passing a column name for the `color` parameter, you can make `Scatter` automatically color the markers according to the groups in that column. Let's also add a legend by specify its location as the value of a `legend` paramter (in this case `\"top_left\"`)"
   ]
  },
  {
   "cell_type": "code",
   "execution_count": 5,
   "metadata": {
    "collapsed": false
   },
   "outputs": [
    {
     "data": {
      "text/html": [
       "\n",
       "\n",
       "    <div class=\"bk-root\">\n",
       "        <div class=\"plotdiv\" id=\"02aea1a9-28b6-4db5-bbfb-758e3822a74e\"></div>\n",
       "    </div>\n",
       "<script type=\"text/javascript\">\n",
       "  \n",
       "  (function(global) {\n",
       "    function now() {\n",
       "      return new Date();\n",
       "    }\n",
       "  \n",
       "    if (typeof (window._bokeh_onload_callbacks) === \"undefined\") {\n",
       "      window._bokeh_onload_callbacks = [];\n",
       "    }\n",
       "  \n",
       "    function run_callbacks() {\n",
       "      window._bokeh_onload_callbacks.forEach(function(callback) { callback() });\n",
       "      delete window._bokeh_onload_callbacks\n",
       "      console.info(\"Bokeh: all callbacks have finished\");\n",
       "    }\n",
       "  \n",
       "    function load_libs(js_urls, callback) {\n",
       "      window._bokeh_onload_callbacks.push(callback);\n",
       "      if (window._bokeh_is_loading > 0) {\n",
       "        console.log(\"Bokeh: BokehJS is being loaded, scheduling callback at\", now());\n",
       "        return null;\n",
       "      }\n",
       "      if (js_urls == null || js_urls.length === 0) {\n",
       "        run_callbacks();\n",
       "        return null;\n",
       "      }\n",
       "      console.log(\"Bokeh: BokehJS not loaded, scheduling load and callback at\", now());\n",
       "      window._bokeh_is_loading = js_urls.length;\n",
       "      for (var i = 0; i < js_urls.length; i++) {\n",
       "        var url = js_urls[i];\n",
       "        var s = document.createElement('script');\n",
       "        s.src = url;\n",
       "        s.async = false;\n",
       "        s.onreadystatechange = s.onload = function() {\n",
       "          window._bokeh_is_loading--;\n",
       "          if (window._bokeh_is_loading === 0) {\n",
       "            console.log(\"Bokeh: all BokehJS libraries loaded\");\n",
       "            run_callbacks()\n",
       "          }\n",
       "        };\n",
       "        s.onerror = function() {\n",
       "          console.warn(\"failed to load library \" + url);\n",
       "        };\n",
       "        console.log(\"Bokeh: injecting script tag for BokehJS library: \", url);\n",
       "        document.getElementsByTagName(\"head\")[0].appendChild(s);\n",
       "      }\n",
       "    };var element = document.getElementById(\"02aea1a9-28b6-4db5-bbfb-758e3822a74e\");\n",
       "    if (element == null) {\n",
       "      console.log(\"Bokeh: ERROR: autoload.js configured with elementid '02aea1a9-28b6-4db5-bbfb-758e3822a74e' but no matching script tag was found. \")\n",
       "      return false;\n",
       "    }\n",
       "  \n",
       "    var js_urls = [];\n",
       "  \n",
       "    var inline_js = [\n",
       "      function(Bokeh) {\n",
       "        Bokeh.$(function() {\n",
       "            var docs_json = {\"8f9ac6a4-ad89-4671-ac52-30a8e3964fb1\":{\"roots\":{\"references\":[{\"attributes\":{\"plot\":{\"id\":\"5745d2f4-2a9e-4e64-9e1c-640c1aaf2f8d\",\"subtype\":\"Chart\",\"type\":\"Plot\"},\"ticker\":{\"id\":\"44841e45-d602-428e-ac9d-ac43781b7d92\",\"type\":\"BasicTicker\"}},\"id\":\"783344e6-a5d7-4895-9b3d-6b002815de30\",\"type\":\"Grid\"},{\"attributes\":{\"axis_label\":\"petal_length\",\"formatter\":{\"id\":\"908f0459-74cb-4240-97ee-e3bbef6f73f1\",\"type\":\"BasicTickFormatter\"},\"plot\":{\"id\":\"5745d2f4-2a9e-4e64-9e1c-640c1aaf2f8d\",\"subtype\":\"Chart\",\"type\":\"Plot\"},\"ticker\":{\"id\":\"44841e45-d602-428e-ac9d-ac43781b7d92\",\"type\":\"BasicTicker\"}},\"id\":\"8f9102c1-c9c9-483a-92a0-e594c5723c0a\",\"type\":\"LinearAxis\"},{\"attributes\":{\"fill_alpha\":{\"value\":0.7},\"fill_color\":{\"value\":\"#f22c40\"},\"line_color\":{\"value\":\"#f22c40\"},\"size\":{\"units\":\"screen\",\"value\":8},\"x\":{\"field\":\"x_values\"},\"y\":{\"field\":\"y_values\"}},\"id\":\"dd089c3a-47be-486a-a07d-7d36cf628f42\",\"type\":\"Circle\"},{\"attributes\":{\"plot\":{\"id\":\"5745d2f4-2a9e-4e64-9e1c-640c1aaf2f8d\",\"subtype\":\"Chart\",\"type\":\"Plot\"}},\"id\":\"0051a5a3-1d92-49bf-b334-dad958a0644b\",\"type\":\"HelpTool\"},{\"attributes\":{\"plot\":{\"id\":\"5745d2f4-2a9e-4e64-9e1c-640c1aaf2f8d\",\"subtype\":\"Chart\",\"type\":\"Plot\"}},\"id\":\"eefe1cf3-9982-4911-8e73-fc31ecd2466c\",\"type\":\"WheelZoomTool\"},{\"attributes\":{\"fill_alpha\":{\"value\":0.7},\"fill_color\":{\"value\":\"#5ab738\"},\"line_color\":{\"value\":\"#5ab738\"},\"size\":{\"units\":\"screen\",\"value\":8},\"x\":{\"field\":\"x_values\"},\"y\":{\"field\":\"y_values\"}},\"id\":\"0fb4c5fb-543b-4b5e-ba56-2e6b0bedce06\",\"type\":\"Circle\"},{\"attributes\":{\"active_drag\":\"auto\",\"active_scroll\":\"auto\",\"active_tap\":\"auto\",\"tools\":[{\"id\":\"2b731406-1e5b-4266-bff6-17855746e09a\",\"type\":\"PanTool\"},{\"id\":\"eefe1cf3-9982-4911-8e73-fc31ecd2466c\",\"type\":\"WheelZoomTool\"},{\"id\":\"dd9899d2-9bcf-4e2f-8914-ec3ce1750fa5\",\"type\":\"BoxZoomTool\"},{\"id\":\"50ee0605-ea07-4a47-b2b1-5a60dbd0a202\",\"type\":\"SaveTool\"},{\"id\":\"4d3df998-cac8-4f3c-a81f-3970d9e917b3\",\"type\":\"ResetTool\"},{\"id\":\"0051a5a3-1d92-49bf-b334-dad958a0644b\",\"type\":\"HelpTool\"}]},\"id\":\"9552c7a3-5d26-4132-9a0b-07ac39003364\",\"type\":\"Toolbar\"},{\"attributes\":{\"plot\":{\"id\":\"5745d2f4-2a9e-4e64-9e1c-640c1aaf2f8d\",\"subtype\":\"Chart\",\"type\":\"Plot\"}},\"id\":\"2b731406-1e5b-4266-bff6-17855746e09a\",\"type\":\"PanTool\"},{\"attributes\":{\"data_source\":{\"id\":\"67daef76-a754-4e18-aff7-15b4c445acb5\",\"type\":\"ColumnDataSource\"},\"glyph\":{\"id\":\"dd089c3a-47be-486a-a07d-7d36cf628f42\",\"type\":\"Circle\"},\"hover_glyph\":null,\"nonselection_glyph\":null,\"selection_glyph\":null},\"id\":\"197d5e54-0546-4521-8473-d0203172de94\",\"type\":\"GlyphRenderer\"},{\"attributes\":{\"fill_alpha\":{\"value\":0.7},\"fill_color\":{\"value\":\"#407ee7\"},\"line_color\":{\"value\":\"#407ee7\"},\"size\":{\"units\":\"screen\",\"value\":8},\"x\":{\"field\":\"x_values\"},\"y\":{\"field\":\"y_values\"}},\"id\":\"5446be61-8214-4b24-8b0b-8f3bab4cbe5b\",\"type\":\"Circle\"},{\"attributes\":{\"legends\":[[\"setosa\",[{\"id\":\"197d5e54-0546-4521-8473-d0203172de94\",\"type\":\"GlyphRenderer\"}]],[\"versicolor\",[{\"id\":\"2e42eb2a-7028-4927-9aeb-2ddfb74f23d4\",\"type\":\"GlyphRenderer\"}]],[\"virginica\",[{\"id\":\"eec5c7e3-ce38-4b6d-a82d-0f0d6de7c0e8\",\"type\":\"GlyphRenderer\"}]]],\"location\":\"top_left\",\"plot\":{\"id\":\"5745d2f4-2a9e-4e64-9e1c-640c1aaf2f8d\",\"subtype\":\"Chart\",\"type\":\"Plot\"}},\"id\":\"9ce0d0aa-f153-49ab-84d8-5c2d1dd485c5\",\"type\":\"Legend\"},{\"attributes\":{\"data_source\":{\"id\":\"0a56e521-250e-4545-bb9a-b6bcccab5a65\",\"type\":\"ColumnDataSource\"},\"glyph\":{\"id\":\"5446be61-8214-4b24-8b0b-8f3bab4cbe5b\",\"type\":\"Circle\"},\"hover_glyph\":null,\"nonselection_glyph\":null,\"selection_glyph\":null},\"id\":\"eec5c7e3-ce38-4b6d-a82d-0f0d6de7c0e8\",\"type\":\"GlyphRenderer\"},{\"attributes\":{},\"id\":\"908f0459-74cb-4240-97ee-e3bbef6f73f1\",\"type\":\"BasicTickFormatter\"},{\"attributes\":{\"axis_label\":\"petal_width\",\"formatter\":{\"id\":\"66beaaf0-b82a-45bd-aa40-4a5292f76376\",\"type\":\"BasicTickFormatter\"},\"plot\":{\"id\":\"5745d2f4-2a9e-4e64-9e1c-640c1aaf2f8d\",\"subtype\":\"Chart\",\"type\":\"Plot\"},\"ticker\":{\"id\":\"88472d2c-0194-4368-8ebf-c67cceb4967f\",\"type\":\"BasicTicker\"}},\"id\":\"5ae627ae-afaf-4fd5-8de9-dea6c27fd342\",\"type\":\"LinearAxis\"},{\"attributes\":{\"callback\":null,\"column_names\":[\"x_values\",\"y_values\"],\"data\":{\"chart_index\":[{\"species\":\"virginica\"},{\"species\":\"virginica\"},{\"species\":\"virginica\"},{\"species\":\"virginica\"},{\"species\":\"virginica\"},{\"species\":\"virginica\"},{\"species\":\"virginica\"},{\"species\":\"virginica\"},{\"species\":\"virginica\"},{\"species\":\"virginica\"},{\"species\":\"virginica\"},{\"species\":\"virginica\"},{\"species\":\"virginica\"},{\"species\":\"virginica\"},{\"species\":\"virginica\"},{\"species\":\"virginica\"},{\"species\":\"virginica\"},{\"species\":\"virginica\"},{\"species\":\"virginica\"},{\"species\":\"virginica\"},{\"species\":\"virginica\"},{\"species\":\"virginica\"},{\"species\":\"virginica\"},{\"species\":\"virginica\"},{\"species\":\"virginica\"},{\"species\":\"virginica\"},{\"species\":\"virginica\"},{\"species\":\"virginica\"},{\"species\":\"virginica\"},{\"species\":\"virginica\"},{\"species\":\"virginica\"},{\"species\":\"virginica\"},{\"species\":\"virginica\"},{\"species\":\"virginica\"},{\"species\":\"virginica\"},{\"species\":\"virginica\"},{\"species\":\"virginica\"},{\"species\":\"virginica\"},{\"species\":\"virginica\"},{\"species\":\"virginica\"},{\"species\":\"virginica\"},{\"species\":\"virginica\"},{\"species\":\"virginica\"},{\"species\":\"virginica\"},{\"species\":\"virginica\"},{\"species\":\"virginica\"},{\"species\":\"virginica\"},{\"species\":\"virginica\"},{\"species\":\"virginica\"},{\"species\":\"virginica\"}],\"species\":[\"virginica\",\"virginica\",\"virginica\",\"virginica\",\"virginica\",\"virginica\",\"virginica\",\"virginica\",\"virginica\",\"virginica\",\"virginica\",\"virginica\",\"virginica\",\"virginica\",\"virginica\",\"virginica\",\"virginica\",\"virginica\",\"virginica\",\"virginica\",\"virginica\",\"virginica\",\"virginica\",\"virginica\",\"virginica\",\"virginica\",\"virginica\",\"virginica\",\"virginica\",\"virginica\",\"virginica\",\"virginica\",\"virginica\",\"virginica\",\"virginica\",\"virginica\",\"virginica\",\"virginica\",\"virginica\",\"virginica\",\"virginica\",\"virginica\",\"virginica\",\"virginica\",\"virginica\",\"virginica\",\"virginica\",\"virginica\",\"virginica\",\"virginica\"],\"x_values\":[6.0,5.1,5.9,5.6,5.8,6.6,4.5,6.3,5.8,6.1,5.1,5.3,5.5,5.0,5.1,5.3,5.5,6.7,6.9,5.0,5.7,4.9,6.7,4.9,5.7,6.0,4.8,4.9,5.6,5.8,6.1,6.4,5.6,5.1,5.6,6.1,5.6,5.5,4.8,5.4,5.6,5.1,5.1,5.9,5.7,5.2,5.0,5.2,5.4,5.1],\"y_values\":[2.5,1.9,2.1,1.8,2.2,2.1,1.7,1.8,1.8,2.5,2.0,1.9,2.1,2.0,2.4,2.3,1.8,2.2,2.3,1.5,2.3,2.0,2.0,1.8,2.1,1.8,1.8,1.8,2.1,1.6,1.9,2.0,2.2,1.5,1.4,2.3,2.4,1.8,1.8,2.1,2.4,2.3,1.9,2.3,2.5,2.3,1.9,2.0,2.3,1.8]}},\"id\":\"0a56e521-250e-4545-bb9a-b6bcccab5a65\",\"type\":\"ColumnDataSource\"},{\"attributes\":{\"callback\":null,\"column_names\":[\"x_values\",\"y_values\"],\"data\":{\"chart_index\":[{\"species\":\"versicolor\"},{\"species\":\"versicolor\"},{\"species\":\"versicolor\"},{\"species\":\"versicolor\"},{\"species\":\"versicolor\"},{\"species\":\"versicolor\"},{\"species\":\"versicolor\"},{\"species\":\"versicolor\"},{\"species\":\"versicolor\"},{\"species\":\"versicolor\"},{\"species\":\"versicolor\"},{\"species\":\"versicolor\"},{\"species\":\"versicolor\"},{\"species\":\"versicolor\"},{\"species\":\"versicolor\"},{\"species\":\"versicolor\"},{\"species\":\"versicolor\"},{\"species\":\"versicolor\"},{\"species\":\"versicolor\"},{\"species\":\"versicolor\"},{\"species\":\"versicolor\"},{\"species\":\"versicolor\"},{\"species\":\"versicolor\"},{\"species\":\"versicolor\"},{\"species\":\"versicolor\"},{\"species\":\"versicolor\"},{\"species\":\"versicolor\"},{\"species\":\"versicolor\"},{\"species\":\"versicolor\"},{\"species\":\"versicolor\"},{\"species\":\"versicolor\"},{\"species\":\"versicolor\"},{\"species\":\"versicolor\"},{\"species\":\"versicolor\"},{\"species\":\"versicolor\"},{\"species\":\"versicolor\"},{\"species\":\"versicolor\"},{\"species\":\"versicolor\"},{\"species\":\"versicolor\"},{\"species\":\"versicolor\"},{\"species\":\"versicolor\"},{\"species\":\"versicolor\"},{\"species\":\"versicolor\"},{\"species\":\"versicolor\"},{\"species\":\"versicolor\"},{\"species\":\"versicolor\"},{\"species\":\"versicolor\"},{\"species\":\"versicolor\"},{\"species\":\"versicolor\"},{\"species\":\"versicolor\"}],\"species\":[\"versicolor\",\"versicolor\",\"versicolor\",\"versicolor\",\"versicolor\",\"versicolor\",\"versicolor\",\"versicolor\",\"versicolor\",\"versicolor\",\"versicolor\",\"versicolor\",\"versicolor\",\"versicolor\",\"versicolor\",\"versicolor\",\"versicolor\",\"versicolor\",\"versicolor\",\"versicolor\",\"versicolor\",\"versicolor\",\"versicolor\",\"versicolor\",\"versicolor\",\"versicolor\",\"versicolor\",\"versicolor\",\"versicolor\",\"versicolor\",\"versicolor\",\"versicolor\",\"versicolor\",\"versicolor\",\"versicolor\",\"versicolor\",\"versicolor\",\"versicolor\",\"versicolor\",\"versicolor\",\"versicolor\",\"versicolor\",\"versicolor\",\"versicolor\",\"versicolor\",\"versicolor\",\"versicolor\",\"versicolor\",\"versicolor\",\"versicolor\"],\"x_values\":[4.7,4.5,4.9,4.0,4.6,4.5,4.7,3.3,4.6,3.9,3.5,4.2,4.0,4.7,3.6,4.4,4.5,4.1,4.5,3.9,4.8,4.0,4.9,4.7,4.3,4.4,4.8,5.0,4.5,3.5,3.8,3.7,3.9,5.1,4.5,4.5,4.7,4.4,4.1,4.0,4.4,4.6,4.0,3.3,4.2,4.2,4.2,4.3,3.0,4.1],\"y_values\":[1.4,1.5,1.5,1.3,1.5,1.3,1.6,1.0,1.3,1.4,1.0,1.5,1.0,1.4,1.3,1.4,1.5,1.0,1.5,1.1,1.8,1.3,1.5,1.2,1.3,1.4,1.4,1.7,1.5,1.0,1.1,1.0,1.2,1.6,1.5,1.6,1.5,1.3,1.3,1.3,1.2,1.4,1.2,1.0,1.3,1.2,1.3,1.3,1.1,1.3]}},\"id\":\"2354fbef-0b70-4d33-b1bf-1b3e0878219a\",\"type\":\"ColumnDataSource\"},{\"attributes\":{\"below\":[{\"id\":\"8f9102c1-c9c9-483a-92a0-e594c5723c0a\",\"type\":\"LinearAxis\"}],\"left\":[{\"id\":\"5ae627ae-afaf-4fd5-8de9-dea6c27fd342\",\"type\":\"LinearAxis\"}],\"renderers\":[{\"id\":\"5fa40317-ce60-4411-b908-8a5188c88f7a\",\"type\":\"BoxAnnotation\"},{\"id\":\"197d5e54-0546-4521-8473-d0203172de94\",\"type\":\"GlyphRenderer\"},{\"id\":\"2e42eb2a-7028-4927-9aeb-2ddfb74f23d4\",\"type\":\"GlyphRenderer\"},{\"id\":\"eec5c7e3-ce38-4b6d-a82d-0f0d6de7c0e8\",\"type\":\"GlyphRenderer\"},{\"id\":\"9ce0d0aa-f153-49ab-84d8-5c2d1dd485c5\",\"type\":\"Legend\"},{\"id\":\"8f9102c1-c9c9-483a-92a0-e594c5723c0a\",\"type\":\"LinearAxis\"},{\"id\":\"5ae627ae-afaf-4fd5-8de9-dea6c27fd342\",\"type\":\"LinearAxis\"},{\"id\":\"783344e6-a5d7-4895-9b3d-6b002815de30\",\"type\":\"Grid\"},{\"id\":\"4bf91f39-511b-4b46-a113-0ddf9a2872b7\",\"type\":\"Grid\"}],\"title\":{\"id\":\"dbad3b38-0681-4104-a8bc-243ccb081f42\",\"type\":\"Title\"},\"tool_events\":{\"id\":\"fed97965-127d-4f5d-b241-6d5d39c55fa3\",\"type\":\"ToolEvents\"},\"toolbar\":{\"id\":\"9552c7a3-5d26-4132-9a0b-07ac39003364\",\"type\":\"Toolbar\"},\"x_mapper_type\":\"auto\",\"x_range\":{\"id\":\"863a8f16-264e-45f1-b3a8-9375f26f65c7\",\"type\":\"Range1d\"},\"y_mapper_type\":\"auto\",\"y_range\":{\"id\":\"9a3ab441-080a-492f-b089-839f147ebd5d\",\"type\":\"Range1d\"}},\"id\":\"5745d2f4-2a9e-4e64-9e1c-640c1aaf2f8d\",\"subtype\":\"Chart\",\"type\":\"Plot\"},{\"attributes\":{\"plot\":null,\"text\":null},\"id\":\"dbad3b38-0681-4104-a8bc-243ccb081f42\",\"type\":\"Title\"},{\"attributes\":{},\"id\":\"fed97965-127d-4f5d-b241-6d5d39c55fa3\",\"type\":\"ToolEvents\"},{\"attributes\":{\"plot\":{\"id\":\"5745d2f4-2a9e-4e64-9e1c-640c1aaf2f8d\",\"subtype\":\"Chart\",\"type\":\"Plot\"}},\"id\":\"4d3df998-cac8-4f3c-a81f-3970d9e917b3\",\"type\":\"ResetTool\"},{\"attributes\":{\"overlay\":{\"id\":\"5fa40317-ce60-4411-b908-8a5188c88f7a\",\"type\":\"BoxAnnotation\"},\"plot\":{\"id\":\"5745d2f4-2a9e-4e64-9e1c-640c1aaf2f8d\",\"subtype\":\"Chart\",\"type\":\"Plot\"}},\"id\":\"dd9899d2-9bcf-4e2f-8914-ec3ce1750fa5\",\"type\":\"BoxZoomTool\"},{\"attributes\":{\"callback\":null,\"end\":7.49,\"start\":0.4099999999999999},\"id\":\"863a8f16-264e-45f1-b3a8-9375f26f65c7\",\"type\":\"Range1d\"},{\"attributes\":{\"plot\":{\"id\":\"5745d2f4-2a9e-4e64-9e1c-640c1aaf2f8d\",\"subtype\":\"Chart\",\"type\":\"Plot\"}},\"id\":\"50ee0605-ea07-4a47-b2b1-5a60dbd0a202\",\"type\":\"SaveTool\"},{\"attributes\":{\"bottom_units\":\"screen\",\"fill_alpha\":{\"value\":0.5},\"fill_color\":{\"value\":\"lightgrey\"},\"left_units\":\"screen\",\"level\":\"overlay\",\"line_alpha\":{\"value\":1.0},\"line_color\":{\"value\":\"black\"},\"line_dash\":[4,4],\"line_width\":{\"value\":2},\"plot\":null,\"render_mode\":\"css\",\"right_units\":\"screen\",\"top_units\":\"screen\"},\"id\":\"5fa40317-ce60-4411-b908-8a5188c88f7a\",\"type\":\"BoxAnnotation\"},{\"attributes\":{},\"id\":\"66beaaf0-b82a-45bd-aa40-4a5292f76376\",\"type\":\"BasicTickFormatter\"},{\"attributes\":{\"dimension\":1,\"plot\":{\"id\":\"5745d2f4-2a9e-4e64-9e1c-640c1aaf2f8d\",\"subtype\":\"Chart\",\"type\":\"Plot\"},\"ticker\":{\"id\":\"88472d2c-0194-4368-8ebf-c67cceb4967f\",\"type\":\"BasicTicker\"}},\"id\":\"4bf91f39-511b-4b46-a113-0ddf9a2872b7\",\"type\":\"Grid\"},{\"attributes\":{\"callback\":null,\"column_names\":[\"x_values\",\"y_values\"],\"data\":{\"chart_index\":[{\"species\":\"setosa\"},{\"species\":\"setosa\"},{\"species\":\"setosa\"},{\"species\":\"setosa\"},{\"species\":\"setosa\"},{\"species\":\"setosa\"},{\"species\":\"setosa\"},{\"species\":\"setosa\"},{\"species\":\"setosa\"},{\"species\":\"setosa\"},{\"species\":\"setosa\"},{\"species\":\"setosa\"},{\"species\":\"setosa\"},{\"species\":\"setosa\"},{\"species\":\"setosa\"},{\"species\":\"setosa\"},{\"species\":\"setosa\"},{\"species\":\"setosa\"},{\"species\":\"setosa\"},{\"species\":\"setosa\"},{\"species\":\"setosa\"},{\"species\":\"setosa\"},{\"species\":\"setosa\"},{\"species\":\"setosa\"},{\"species\":\"setosa\"},{\"species\":\"setosa\"},{\"species\":\"setosa\"},{\"species\":\"setosa\"},{\"species\":\"setosa\"},{\"species\":\"setosa\"},{\"species\":\"setosa\"},{\"species\":\"setosa\"},{\"species\":\"setosa\"},{\"species\":\"setosa\"},{\"species\":\"setosa\"},{\"species\":\"setosa\"},{\"species\":\"setosa\"},{\"species\":\"setosa\"},{\"species\":\"setosa\"},{\"species\":\"setosa\"},{\"species\":\"setosa\"},{\"species\":\"setosa\"},{\"species\":\"setosa\"},{\"species\":\"setosa\"},{\"species\":\"setosa\"},{\"species\":\"setosa\"},{\"species\":\"setosa\"},{\"species\":\"setosa\"},{\"species\":\"setosa\"},{\"species\":\"setosa\"}],\"species\":[\"setosa\",\"setosa\",\"setosa\",\"setosa\",\"setosa\",\"setosa\",\"setosa\",\"setosa\",\"setosa\",\"setosa\",\"setosa\",\"setosa\",\"setosa\",\"setosa\",\"setosa\",\"setosa\",\"setosa\",\"setosa\",\"setosa\",\"setosa\",\"setosa\",\"setosa\",\"setosa\",\"setosa\",\"setosa\",\"setosa\",\"setosa\",\"setosa\",\"setosa\",\"setosa\",\"setosa\",\"setosa\",\"setosa\",\"setosa\",\"setosa\",\"setosa\",\"setosa\",\"setosa\",\"setosa\",\"setosa\",\"setosa\",\"setosa\",\"setosa\",\"setosa\",\"setosa\",\"setosa\",\"setosa\",\"setosa\",\"setosa\",\"setosa\"],\"x_values\":[1.4,1.4,1.3,1.5,1.4,1.7,1.4,1.5,1.4,1.5,1.5,1.6,1.4,1.1,1.2,1.5,1.3,1.4,1.7,1.5,1.7,1.5,1.0,1.7,1.9,1.6,1.6,1.5,1.4,1.6,1.6,1.5,1.5,1.4,1.5,1.2,1.3,1.4,1.3,1.5,1.3,1.3,1.3,1.6,1.9,1.4,1.6,1.4,1.5,1.4],\"y_values\":[0.2,0.2,0.2,0.2,0.2,0.4,0.3,0.2,0.2,0.1,0.2,0.2,0.1,0.1,0.2,0.4,0.4,0.3,0.3,0.3,0.2,0.4,0.2,0.5,0.2,0.2,0.4,0.2,0.2,0.2,0.2,0.4,0.1,0.2,0.2,0.2,0.2,0.1,0.2,0.2,0.3,0.3,0.2,0.6,0.4,0.3,0.2,0.2,0.2,0.2]}},\"id\":\"67daef76-a754-4e18-aff7-15b4c445acb5\",\"type\":\"ColumnDataSource\"},{\"attributes\":{},\"id\":\"88472d2c-0194-4368-8ebf-c67cceb4967f\",\"type\":\"BasicTicker\"},{\"attributes\":{\"callback\":null,\"end\":2.74,\"start\":-0.13999999999999999},\"id\":\"9a3ab441-080a-492f-b089-839f147ebd5d\",\"type\":\"Range1d\"},{\"attributes\":{},\"id\":\"44841e45-d602-428e-ac9d-ac43781b7d92\",\"type\":\"BasicTicker\"},{\"attributes\":{\"data_source\":{\"id\":\"2354fbef-0b70-4d33-b1bf-1b3e0878219a\",\"type\":\"ColumnDataSource\"},\"glyph\":{\"id\":\"0fb4c5fb-543b-4b5e-ba56-2e6b0bedce06\",\"type\":\"Circle\"},\"hover_glyph\":null,\"nonselection_glyph\":null,\"selection_glyph\":null},\"id\":\"2e42eb2a-7028-4927-9aeb-2ddfb74f23d4\",\"type\":\"GlyphRenderer\"}],\"root_ids\":[\"5745d2f4-2a9e-4e64-9e1c-640c1aaf2f8d\"]},\"title\":\"Bokeh Application\",\"version\":\"0.12.0\"}};\n",
       "            var render_items = [{\"docid\":\"8f9ac6a4-ad89-4671-ac52-30a8e3964fb1\",\"elementid\":\"02aea1a9-28b6-4db5-bbfb-758e3822a74e\",\"modelid\":\"5745d2f4-2a9e-4e64-9e1c-640c1aaf2f8d\",\"notebook_comms_target\":\"8aa88dbf-a1c2-4fce-95bb-6a859c3ac2b2\"}];\n",
       "            \n",
       "            Bokeh.embed.embed_items(docs_json, render_items);\n",
       "        });\n",
       "      },\n",
       "      function(Bokeh) {\n",
       "      }\n",
       "    ];\n",
       "  \n",
       "    function run_inline_js() {\n",
       "      for (var i = 0; i < inline_js.length; i++) {\n",
       "        inline_js[i](window.Bokeh);\n",
       "      }\n",
       "    }\n",
       "  \n",
       "    if (window._bokeh_is_loading === 0) {\n",
       "      console.log(\"Bokeh: BokehJS loaded, going straight to plotting\");\n",
       "      run_inline_js();\n",
       "    } else {\n",
       "      load_libs(js_urls, function() {\n",
       "        console.log(\"Bokeh: BokehJS plotting callback run at\", now());\n",
       "        run_inline_js();\n",
       "      });\n",
       "    }\n",
       "  }(this));\n",
       "</script>"
      ]
     },
     "metadata": {},
     "output_type": "display_data"
    },
    {
     "data": {
      "text/html": [
       "<p><code>&lt;Bokeh Notebook handle for <strong>In[18]</strong>&gt;</code></p>"
      ],
      "text/plain": [
       "<bokeh.io._CommsHandle at 0x10d60c9b0>"
      ]
     },
     "execution_count": 5,
     "metadata": {},
     "output_type": "execute_result"
    }
   ],
   "source": [
    "p = Scatter(flowers, x='petal_length', y='petal_width', color='species', legend='top_left')\n",
    "show(p)"
   ]
  },
  {
   "cell_type": "markdown",
   "metadata": {},
   "source": [
    "By passing a column name for the `marker` parameter, you can make `Scatter` automatically vary the marker shapes according to the groups in that column. Let's try that as an exercise."
   ]
  },
  {
   "cell_type": "code",
   "execution_count": 6,
   "metadata": {
    "collapsed": false
   },
   "outputs": [],
   "source": [
    "# EXERCISE: vary the marker shape by passing a column name as the `marker` keyword argument\n"
   ]
  },
  {
   "cell_type": "markdown",
   "metadata": {},
   "source": [
    "# Bar Chart\n",
    "\n",
    "A high-level bar chart is provided by [`bokeh.charts.Bar`]()\n",
    "\n",
    "For this section, we will use the \"autompg\" data set. Let's import it and take a quick look:"
   ]
  },
  {
   "cell_type": "code",
   "execution_count": 7,
   "metadata": {
    "collapsed": false
   },
   "outputs": [
    {
     "data": {
      "text/html": [
       "<div>\n",
       "<table border=\"1\" class=\"dataframe\">\n",
       "  <thead>\n",
       "    <tr style=\"text-align: right;\">\n",
       "      <th></th>\n",
       "      <th>mpg</th>\n",
       "      <th>cyl</th>\n",
       "      <th>displ</th>\n",
       "      <th>hp</th>\n",
       "      <th>weight</th>\n",
       "      <th>accel</th>\n",
       "      <th>yr</th>\n",
       "      <th>origin</th>\n",
       "      <th>name</th>\n",
       "    </tr>\n",
       "  </thead>\n",
       "  <tbody>\n",
       "    <tr>\n",
       "      <th>0</th>\n",
       "      <td>18.0</td>\n",
       "      <td>8</td>\n",
       "      <td>307.0</td>\n",
       "      <td>130</td>\n",
       "      <td>3504</td>\n",
       "      <td>12.0</td>\n",
       "      <td>70</td>\n",
       "      <td>1</td>\n",
       "      <td>chevrolet chevelle malibu</td>\n",
       "    </tr>\n",
       "    <tr>\n",
       "      <th>1</th>\n",
       "      <td>15.0</td>\n",
       "      <td>8</td>\n",
       "      <td>350.0</td>\n",
       "      <td>165</td>\n",
       "      <td>3693</td>\n",
       "      <td>11.5</td>\n",
       "      <td>70</td>\n",
       "      <td>1</td>\n",
       "      <td>buick skylark 320</td>\n",
       "    </tr>\n",
       "    <tr>\n",
       "      <th>2</th>\n",
       "      <td>18.0</td>\n",
       "      <td>8</td>\n",
       "      <td>318.0</td>\n",
       "      <td>150</td>\n",
       "      <td>3436</td>\n",
       "      <td>11.0</td>\n",
       "      <td>70</td>\n",
       "      <td>1</td>\n",
       "      <td>plymouth satellite</td>\n",
       "    </tr>\n",
       "    <tr>\n",
       "      <th>3</th>\n",
       "      <td>16.0</td>\n",
       "      <td>8</td>\n",
       "      <td>304.0</td>\n",
       "      <td>150</td>\n",
       "      <td>3433</td>\n",
       "      <td>12.0</td>\n",
       "      <td>70</td>\n",
       "      <td>1</td>\n",
       "      <td>amc rebel sst</td>\n",
       "    </tr>\n",
       "    <tr>\n",
       "      <th>4</th>\n",
       "      <td>17.0</td>\n",
       "      <td>8</td>\n",
       "      <td>302.0</td>\n",
       "      <td>140</td>\n",
       "      <td>3449</td>\n",
       "      <td>10.5</td>\n",
       "      <td>70</td>\n",
       "      <td>1</td>\n",
       "      <td>ford torino</td>\n",
       "    </tr>\n",
       "  </tbody>\n",
       "</table>\n",
       "</div>"
      ],
      "text/plain": [
       "    mpg  cyl  displ   hp  weight  accel  yr  origin                       name\n",
       "0  18.0    8  307.0  130    3504   12.0  70       1  chevrolet chevelle malibu\n",
       "1  15.0    8  350.0  165    3693   11.5  70       1          buick skylark 320\n",
       "2  18.0    8  318.0  150    3436   11.0  70       1         plymouth satellite\n",
       "3  16.0    8  304.0  150    3433   12.0  70       1              amc rebel sst\n",
       "4  17.0    8  302.0  140    3449   10.5  70       1                ford torino"
      ]
     },
     "execution_count": 7,
     "metadata": {},
     "output_type": "execute_result"
    }
   ],
   "source": [
    "from bokeh.sampledata.autompg import autompg\n",
    "autompg.head()"
   ]
  },
  {
   "cell_type": "code",
   "execution_count": 8,
   "metadata": {
    "collapsed": true
   },
   "outputs": [],
   "source": [
    "from bokeh.charts import Bar"
   ]
  },
  {
   "cell_type": "markdown",
   "metadata": {},
   "source": [
    "A basic bar chart takes the data (again a DataFrame) as the first value, as well as column names for:\n",
    "\n",
    "* `label` - a column to group to label the x-axis\n",
    "* `values` - a column to aggregate values for each group, to give the bar heights\n",
    "* `agg` - the name of an aggregation to perform over the values (e.g., `\"mean\"`, `\"max\"`, etc.)\n",
    "\n",
    "A simple example that also specifies some other properties such as `title` and `legend` is shown below:"
   ]
  },
  {
   "cell_type": "code",
   "execution_count": 9,
   "metadata": {
    "collapsed": false
   },
   "outputs": [
    {
     "data": {
      "text/html": [
       "\n",
       "\n",
       "    <div class=\"bk-root\">\n",
       "        <div class=\"plotdiv\" id=\"05b723bd-0088-4d2e-9ba1-8f0b0b4cfbe8\"></div>\n",
       "    </div>\n",
       "<script type=\"text/javascript\">\n",
       "  \n",
       "  (function(global) {\n",
       "    function now() {\n",
       "      return new Date();\n",
       "    }\n",
       "  \n",
       "    if (typeof (window._bokeh_onload_callbacks) === \"undefined\") {\n",
       "      window._bokeh_onload_callbacks = [];\n",
       "    }\n",
       "  \n",
       "    function run_callbacks() {\n",
       "      window._bokeh_onload_callbacks.forEach(function(callback) { callback() });\n",
       "      delete window._bokeh_onload_callbacks\n",
       "      console.info(\"Bokeh: all callbacks have finished\");\n",
       "    }\n",
       "  \n",
       "    function load_libs(js_urls, callback) {\n",
       "      window._bokeh_onload_callbacks.push(callback);\n",
       "      if (window._bokeh_is_loading > 0) {\n",
       "        console.log(\"Bokeh: BokehJS is being loaded, scheduling callback at\", now());\n",
       "        return null;\n",
       "      }\n",
       "      if (js_urls == null || js_urls.length === 0) {\n",
       "        run_callbacks();\n",
       "        return null;\n",
       "      }\n",
       "      console.log(\"Bokeh: BokehJS not loaded, scheduling load and callback at\", now());\n",
       "      window._bokeh_is_loading = js_urls.length;\n",
       "      for (var i = 0; i < js_urls.length; i++) {\n",
       "        var url = js_urls[i];\n",
       "        var s = document.createElement('script');\n",
       "        s.src = url;\n",
       "        s.async = false;\n",
       "        s.onreadystatechange = s.onload = function() {\n",
       "          window._bokeh_is_loading--;\n",
       "          if (window._bokeh_is_loading === 0) {\n",
       "            console.log(\"Bokeh: all BokehJS libraries loaded\");\n",
       "            run_callbacks()\n",
       "          }\n",
       "        };\n",
       "        s.onerror = function() {\n",
       "          console.warn(\"failed to load library \" + url);\n",
       "        };\n",
       "        console.log(\"Bokeh: injecting script tag for BokehJS library: \", url);\n",
       "        document.getElementsByTagName(\"head\")[0].appendChild(s);\n",
       "      }\n",
       "    };var element = document.getElementById(\"05b723bd-0088-4d2e-9ba1-8f0b0b4cfbe8\");\n",
       "    if (element == null) {\n",
       "      console.log(\"Bokeh: ERROR: autoload.js configured with elementid '05b723bd-0088-4d2e-9ba1-8f0b0b4cfbe8' but no matching script tag was found. \")\n",
       "      return false;\n",
       "    }\n",
       "  \n",
       "    var js_urls = [];\n",
       "  \n",
       "    var inline_js = [\n",
       "      function(Bokeh) {\n",
       "        Bokeh.$(function() {\n",
       "            var docs_json = {\"086770eb-d614-452b-9447-7610d45c309d\":{\"roots\":{\"references\":[{\"attributes\":{\"callback\":null,\"factors\":[\"3\",\"4\",\"5\",\"6\",\"8\"]},\"id\":\"f4041354-7795-4f38-a0a8-7e75c09c30f4\",\"type\":\"FactorRange\"},{\"attributes\":{\"axis_label\":\"Max( Mpg )\",\"formatter\":{\"id\":\"2fb27d8f-2c61-40bb-a340-40af7ff9ebf3\",\"type\":\"BasicTickFormatter\"},\"plot\":{\"id\":\"7a3fc4e5-f527-45c9-a3fd-0f231f0f4bc1\",\"subtype\":\"Chart\",\"type\":\"Plot\"},\"ticker\":{\"id\":\"9325ddb2-0710-4a9e-882a-a5606219bede\",\"type\":\"BasicTicker\"}},\"id\":\"07df8f34-83e5-4feb-bee8-f4bf902321f7\",\"type\":\"LinearAxis\"},{\"attributes\":{\"fill_alpha\":{\"field\":\"fill_alpha\"},\"fill_color\":{\"field\":\"color\"},\"height\":{\"field\":\"height\",\"units\":\"data\"},\"line_color\":{\"field\":\"line_color\"},\"width\":{\"field\":\"width\",\"units\":\"data\"},\"x\":{\"field\":\"x\"},\"y\":{\"field\":\"y\"}},\"id\":\"4158472d-782e-4c2b-98ae-73ce64c023c6\",\"type\":\"Rect\"},{\"attributes\":{\"data_source\":{\"id\":\"a1a95e48-5016-406a-aed0-d1b9ed8851d1\",\"type\":\"ColumnDataSource\"},\"glyph\":{\"id\":\"002991c1-1df2-4c2d-831c-e198231cd967\",\"type\":\"Rect\"},\"hover_glyph\":null,\"nonselection_glyph\":null,\"selection_glyph\":null},\"id\":\"c827e078-1e0f-41fe-a1a6-933a5c8fb2b7\",\"type\":\"GlyphRenderer\"},{\"attributes\":{\"axis_label\":\"Cyl\",\"formatter\":{\"id\":\"c237441a-f60b-425d-aa74-8196a7f912b6\",\"type\":\"CategoricalTickFormatter\"},\"major_label_orientation\":0.7853981633974483,\"plot\":{\"id\":\"7a3fc4e5-f527-45c9-a3fd-0f231f0f4bc1\",\"subtype\":\"Chart\",\"type\":\"Plot\"},\"ticker\":{\"id\":\"7e031ee3-9a3a-4cd0-ab31-b965ce921236\",\"type\":\"CategoricalTicker\"}},\"id\":\"ee6e01bc-ce09-48ea-8441-1bdea7ac883c\",\"type\":\"CategoricalAxis\"},{\"attributes\":{\"data_source\":{\"id\":\"ff923401-6190-4cdf-88da-dc39d02478ad\",\"type\":\"ColumnDataSource\"},\"glyph\":{\"id\":\"4158472d-782e-4c2b-98ae-73ce64c023c6\",\"type\":\"Rect\"},\"hover_glyph\":null,\"nonselection_glyph\":null,\"selection_glyph\":null},\"id\":\"14ce9cee-912f-49ba-916d-ac34560fd283\",\"type\":\"GlyphRenderer\"},{\"attributes\":{\"callback\":null,\"column_names\":[\"line_color\",\"y\",\"height\",\"line_alpha\",\"label\",\"color\",\"x\",\"fill_alpha\",\"width\"],\"data\":{\"chart_index\":[{\"cyl\":4}],\"color\":[\"#f22c40\"],\"cyl\":[4],\"fill_alpha\":[0.8],\"height\":[46.6],\"label\":[{\"cyl\":4}],\"line_alpha\":[1.0],\"line_color\":[\"white\"],\"width\":[0.8],\"x\":[\"4\"],\"y\":[23.3]}},\"id\":\"8fedca04-91fb-4337-849f-639fadc24710\",\"type\":\"ColumnDataSource\"},{\"attributes\":{},\"id\":\"9325ddb2-0710-4a9e-882a-a5606219bede\",\"type\":\"BasicTicker\"},{\"attributes\":{},\"id\":\"3351fb68-cd08-4809-9993-aecece0c2207\",\"type\":\"ToolEvents\"},{\"attributes\":{\"fill_alpha\":{\"field\":\"fill_alpha\"},\"fill_color\":{\"field\":\"color\"},\"height\":{\"field\":\"height\",\"units\":\"data\"},\"line_color\":{\"field\":\"line_color\"},\"width\":{\"field\":\"width\",\"units\":\"data\"},\"x\":{\"field\":\"x\"},\"y\":{\"field\":\"y\"}},\"id\":\"20c9ef9b-c818-4d52-a5ee-567a81d12a8b\",\"type\":\"Rect\"},{\"attributes\":{\"callback\":null,\"end\":48.93},\"id\":\"650ed0e8-9bf7-4865-84ae-8e4e7995c384\",\"type\":\"Range1d\"},{\"attributes\":{\"data_source\":{\"id\":\"8fedca04-91fb-4337-849f-639fadc24710\",\"type\":\"ColumnDataSource\"},\"glyph\":{\"id\":\"bb36f9cc-47c7-4e96-860d-d90add22dbfa\",\"type\":\"Rect\"},\"hover_glyph\":null,\"nonselection_glyph\":null,\"selection_glyph\":null},\"id\":\"8f80fa72-0dc7-4694-ba2b-e16376b00147\",\"type\":\"GlyphRenderer\"},{\"attributes\":{\"dimension\":1,\"plot\":{\"id\":\"7a3fc4e5-f527-45c9-a3fd-0f231f0f4bc1\",\"subtype\":\"Chart\",\"type\":\"Plot\"},\"ticker\":{\"id\":\"9325ddb2-0710-4a9e-882a-a5606219bede\",\"type\":\"BasicTicker\"}},\"id\":\"4d25b3b5-30ba-4b4b-884d-e236240fb772\",\"type\":\"Grid\"},{\"attributes\":{\"plot\":null,\"text\":\"Max MPG by CYL\"},\"id\":\"26b58b8f-e3be-44cf-ae94-b76cde21b32b\",\"type\":\"Title\"},{\"attributes\":{\"callback\":null,\"column_names\":[\"line_color\",\"y\",\"height\",\"line_alpha\",\"label\",\"color\",\"x\",\"fill_alpha\",\"width\"],\"data\":{\"chart_index\":[{\"cyl\":8}],\"color\":[\"#f22c40\"],\"cyl\":[8],\"fill_alpha\":[0.8],\"height\":[26.6],\"label\":[{\"cyl\":8}],\"line_alpha\":[1.0],\"line_color\":[\"white\"],\"width\":[0.8],\"x\":[\"8\"],\"y\":[13.3]}},\"id\":\"a1a95e48-5016-406a-aed0-d1b9ed8851d1\",\"type\":\"ColumnDataSource\"},{\"attributes\":{\"fill_alpha\":{\"field\":\"fill_alpha\"},\"fill_color\":{\"field\":\"color\"},\"height\":{\"field\":\"height\",\"units\":\"data\"},\"line_color\":{\"field\":\"line_color\"},\"width\":{\"field\":\"width\",\"units\":\"data\"},\"x\":{\"field\":\"x\"},\"y\":{\"field\":\"y\"}},\"id\":\"bc78d029-7ee3-40a6-8ca4-a32146bf5312\",\"type\":\"Rect\"},{\"attributes\":{\"data_source\":{\"id\":\"4380816e-235b-4303-9f10-5eeb7c8633c8\",\"type\":\"ColumnDataSource\"},\"glyph\":{\"id\":\"bc78d029-7ee3-40a6-8ca4-a32146bf5312\",\"type\":\"Rect\"},\"hover_glyph\":null,\"nonselection_glyph\":null,\"selection_glyph\":null},\"id\":\"775d6fad-e784-4c1f-91e4-79bd31c099d9\",\"type\":\"GlyphRenderer\"},{\"attributes\":{\"callback\":null,\"column_names\":[\"line_color\",\"y\",\"height\",\"line_alpha\",\"label\",\"color\",\"x\",\"fill_alpha\",\"width\"],\"data\":{\"chart_index\":[{\"cyl\":6}],\"color\":[\"#f22c40\"],\"cyl\":[6],\"fill_alpha\":[0.8],\"height\":[38.0],\"label\":[{\"cyl\":6}],\"line_alpha\":[1.0],\"line_color\":[\"white\"],\"width\":[0.8],\"x\":[\"6\"],\"y\":[19.0]}},\"id\":\"e6ef5086-2101-4aab-bc70-f1b8945e157c\",\"type\":\"ColumnDataSource\"},{\"attributes\":{\"callback\":null,\"column_names\":[\"line_color\",\"y\",\"height\",\"line_alpha\",\"label\",\"color\",\"x\",\"fill_alpha\",\"width\"],\"data\":{\"chart_index\":[{\"cyl\":5}],\"color\":[\"#f22c40\"],\"cyl\":[5],\"fill_alpha\":[0.8],\"height\":[36.4],\"label\":[{\"cyl\":5}],\"line_alpha\":[1.0],\"line_color\":[\"white\"],\"width\":[0.8],\"x\":[\"5\"],\"y\":[18.2]}},\"id\":\"ff923401-6190-4cdf-88da-dc39d02478ad\",\"type\":\"ColumnDataSource\"},{\"attributes\":{},\"id\":\"c237441a-f60b-425d-aa74-8196a7f912b6\",\"type\":\"CategoricalTickFormatter\"},{\"attributes\":{},\"id\":\"7e031ee3-9a3a-4cd0-ab31-b965ce921236\",\"type\":\"CategoricalTicker\"},{\"attributes\":{\"plot\":{\"id\":\"7a3fc4e5-f527-45c9-a3fd-0f231f0f4bc1\",\"subtype\":\"Chart\",\"type\":\"Plot\"}},\"id\":\"1ae195fb-89fc-42d3-ac7d-56a490b546b1\",\"type\":\"CrosshairTool\"},{\"attributes\":{\"callback\":null,\"column_names\":[\"line_color\",\"y\",\"height\",\"line_alpha\",\"label\",\"color\",\"x\",\"fill_alpha\",\"width\"],\"data\":{\"chart_index\":[{\"cyl\":3}],\"color\":[\"#f22c40\"],\"cyl\":[3],\"fill_alpha\":[0.8],\"height\":[23.7],\"label\":[{\"cyl\":3}],\"line_alpha\":[1.0],\"line_color\":[\"white\"],\"width\":[0.8],\"x\":[\"3\"],\"y\":[11.85]}},\"id\":\"4380816e-235b-4303-9f10-5eeb7c8633c8\",\"type\":\"ColumnDataSource\"},{\"attributes\":{\"data_source\":{\"id\":\"e6ef5086-2101-4aab-bc70-f1b8945e157c\",\"type\":\"ColumnDataSource\"},\"glyph\":{\"id\":\"20c9ef9b-c818-4d52-a5ee-567a81d12a8b\",\"type\":\"Rect\"},\"hover_glyph\":null,\"nonselection_glyph\":null,\"selection_glyph\":null},\"id\":\"ae0333c6-c2e7-4961-8866-ac67c283e894\",\"type\":\"GlyphRenderer\"},{\"attributes\":{\"active_drag\":\"auto\",\"active_scroll\":\"auto\",\"active_tap\":\"auto\",\"tools\":[{\"id\":\"1ae195fb-89fc-42d3-ac7d-56a490b546b1\",\"type\":\"CrosshairTool\"}]},\"id\":\"8ec2d4dc-565a-4a1a-8726-75238e0d6d41\",\"type\":\"Toolbar\"},{\"attributes\":{\"below\":[{\"id\":\"ee6e01bc-ce09-48ea-8441-1bdea7ac883c\",\"type\":\"CategoricalAxis\"}],\"left\":[{\"id\":\"07df8f34-83e5-4feb-bee8-f4bf902321f7\",\"type\":\"LinearAxis\"}],\"renderers\":[{\"id\":\"c827e078-1e0f-41fe-a1a6-933a5c8fb2b7\",\"type\":\"GlyphRenderer\"},{\"id\":\"8f80fa72-0dc7-4694-ba2b-e16376b00147\",\"type\":\"GlyphRenderer\"},{\"id\":\"ae0333c6-c2e7-4961-8866-ac67c283e894\",\"type\":\"GlyphRenderer\"},{\"id\":\"775d6fad-e784-4c1f-91e4-79bd31c099d9\",\"type\":\"GlyphRenderer\"},{\"id\":\"14ce9cee-912f-49ba-916d-ac34560fd283\",\"type\":\"GlyphRenderer\"},{\"id\":\"ee6e01bc-ce09-48ea-8441-1bdea7ac883c\",\"type\":\"CategoricalAxis\"},{\"id\":\"07df8f34-83e5-4feb-bee8-f4bf902321f7\",\"type\":\"LinearAxis\"},{\"id\":\"4d25b3b5-30ba-4b4b-884d-e236240fb772\",\"type\":\"Grid\"}],\"title\":{\"id\":\"26b58b8f-e3be-44cf-ae94-b76cde21b32b\",\"type\":\"Title\"},\"tool_events\":{\"id\":\"3351fb68-cd08-4809-9993-aecece0c2207\",\"type\":\"ToolEvents\"},\"toolbar\":{\"id\":\"8ec2d4dc-565a-4a1a-8726-75238e0d6d41\",\"type\":\"Toolbar\"},\"x_mapper_type\":\"auto\",\"x_range\":{\"id\":\"f4041354-7795-4f38-a0a8-7e75c09c30f4\",\"type\":\"FactorRange\"},\"y_mapper_type\":\"auto\",\"y_range\":{\"id\":\"650ed0e8-9bf7-4865-84ae-8e4e7995c384\",\"type\":\"Range1d\"}},\"id\":\"7a3fc4e5-f527-45c9-a3fd-0f231f0f4bc1\",\"subtype\":\"Chart\",\"type\":\"Plot\"},{\"attributes\":{\"fill_alpha\":{\"field\":\"fill_alpha\"},\"fill_color\":{\"field\":\"color\"},\"height\":{\"field\":\"height\",\"units\":\"data\"},\"line_color\":{\"field\":\"line_color\"},\"width\":{\"field\":\"width\",\"units\":\"data\"},\"x\":{\"field\":\"x\"},\"y\":{\"field\":\"y\"}},\"id\":\"bb36f9cc-47c7-4e96-860d-d90add22dbfa\",\"type\":\"Rect\"},{\"attributes\":{\"fill_alpha\":{\"field\":\"fill_alpha\"},\"fill_color\":{\"field\":\"color\"},\"height\":{\"field\":\"height\",\"units\":\"data\"},\"line_color\":{\"field\":\"line_color\"},\"width\":{\"field\":\"width\",\"units\":\"data\"},\"x\":{\"field\":\"x\"},\"y\":{\"field\":\"y\"}},\"id\":\"002991c1-1df2-4c2d-831c-e198231cd967\",\"type\":\"Rect\"},{\"attributes\":{},\"id\":\"2fb27d8f-2c61-40bb-a340-40af7ff9ebf3\",\"type\":\"BasicTickFormatter\"}],\"root_ids\":[\"7a3fc4e5-f527-45c9-a3fd-0f231f0f4bc1\"]},\"title\":\"Bokeh Application\",\"version\":\"0.12.0\"}};\n",
       "            var render_items = [{\"docid\":\"086770eb-d614-452b-9447-7610d45c309d\",\"elementid\":\"05b723bd-0088-4d2e-9ba1-8f0b0b4cfbe8\",\"modelid\":\"7a3fc4e5-f527-45c9-a3fd-0f231f0f4bc1\",\"notebook_comms_target\":\"d8831a79-e2d9-4ae7-a7d7-0c7e218559e6\"}];\n",
       "            \n",
       "            Bokeh.embed.embed_items(docs_json, render_items);\n",
       "        });\n",
       "      },\n",
       "      function(Bokeh) {\n",
       "      }\n",
       "    ];\n",
       "  \n",
       "    function run_inline_js() {\n",
       "      for (var i = 0; i < inline_js.length; i++) {\n",
       "        inline_js[i](window.Bokeh);\n",
       "      }\n",
       "    }\n",
       "  \n",
       "    if (window._bokeh_is_loading === 0) {\n",
       "      console.log(\"Bokeh: BokehJS loaded, going straight to plotting\");\n",
       "      run_inline_js();\n",
       "    } else {\n",
       "      load_libs(js_urls, function() {\n",
       "        console.log(\"Bokeh: BokehJS plotting callback run at\", now());\n",
       "        run_inline_js();\n",
       "      });\n",
       "    }\n",
       "  }(this));\n",
       "</script>"
      ]
     },
     "metadata": {},
     "output_type": "display_data"
    },
    {
     "data": {
      "text/html": [
       "<p><code>&lt;Bokeh Notebook handle for <strong>In[18]</strong>&gt;</code></p>"
      ],
      "text/plain": [
       "<bokeh.io._CommsHandle at 0x10d6554e0>"
      ]
     },
     "execution_count": 9,
     "metadata": {},
     "output_type": "execute_result"
    }
   ],
   "source": [
    "p = Bar(autompg, label='cyl', values='mpg', agg='max', \n",
    "        title=\"Max MPG by CYL\", legend=None, tools='crosshair')\n",
    "show(p)"
   ]
  },
  {
   "cell_type": "markdown",
   "metadata": {},
   "source": [
    "By passing another column name as the `group` parameter, the aggregations can be further subdivided by the groups in that column, and the bars grouped visually. The example below demonstrates this, as well as adding a legend by specifying its location:"
   ]
  },
  {
   "cell_type": "code",
   "execution_count": 10,
   "metadata": {
    "collapsed": false
   },
   "outputs": [
    {
     "data": {
      "text/html": [
       "\n",
       "\n",
       "    <div class=\"bk-root\">\n",
       "        <div class=\"plotdiv\" id=\"4882f151-daaa-472a-80a0-50efc0050a32\"></div>\n",
       "    </div>\n",
       "<script type=\"text/javascript\">\n",
       "  \n",
       "  (function(global) {\n",
       "    function now() {\n",
       "      return new Date();\n",
       "    }\n",
       "  \n",
       "    if (typeof (window._bokeh_onload_callbacks) === \"undefined\") {\n",
       "      window._bokeh_onload_callbacks = [];\n",
       "    }\n",
       "  \n",
       "    function run_callbacks() {\n",
       "      window._bokeh_onload_callbacks.forEach(function(callback) { callback() });\n",
       "      delete window._bokeh_onload_callbacks\n",
       "      console.info(\"Bokeh: all callbacks have finished\");\n",
       "    }\n",
       "  \n",
       "    function load_libs(js_urls, callback) {\n",
       "      window._bokeh_onload_callbacks.push(callback);\n",
       "      if (window._bokeh_is_loading > 0) {\n",
       "        console.log(\"Bokeh: BokehJS is being loaded, scheduling callback at\", now());\n",
       "        return null;\n",
       "      }\n",
       "      if (js_urls == null || js_urls.length === 0) {\n",
       "        run_callbacks();\n",
       "        return null;\n",
       "      }\n",
       "      console.log(\"Bokeh: BokehJS not loaded, scheduling load and callback at\", now());\n",
       "      window._bokeh_is_loading = js_urls.length;\n",
       "      for (var i = 0; i < js_urls.length; i++) {\n",
       "        var url = js_urls[i];\n",
       "        var s = document.createElement('script');\n",
       "        s.src = url;\n",
       "        s.async = false;\n",
       "        s.onreadystatechange = s.onload = function() {\n",
       "          window._bokeh_is_loading--;\n",
       "          if (window._bokeh_is_loading === 0) {\n",
       "            console.log(\"Bokeh: all BokehJS libraries loaded\");\n",
       "            run_callbacks()\n",
       "          }\n",
       "        };\n",
       "        s.onerror = function() {\n",
       "          console.warn(\"failed to load library \" + url);\n",
       "        };\n",
       "        console.log(\"Bokeh: injecting script tag for BokehJS library: \", url);\n",
       "        document.getElementsByTagName(\"head\")[0].appendChild(s);\n",
       "      }\n",
       "    };var element = document.getElementById(\"4882f151-daaa-472a-80a0-50efc0050a32\");\n",
       "    if (element == null) {\n",
       "      console.log(\"Bokeh: ERROR: autoload.js configured with elementid '4882f151-daaa-472a-80a0-50efc0050a32' but no matching script tag was found. \")\n",
       "      return false;\n",
       "    }\n",
       "  \n",
       "    var js_urls = [];\n",
       "  \n",
       "    var inline_js = [\n",
       "      function(Bokeh) {\n",
       "        Bokeh.$(function() {\n",
       "            var docs_json = {\"3303f0b7-61ca-406c-9458-d8c2918e8385\":{\"roots\":{\"references\":[{\"attributes\":{\"fill_alpha\":{\"field\":\"fill_alpha\"},\"fill_color\":{\"field\":\"color\"},\"height\":{\"field\":\"height\",\"units\":\"data\"},\"line_color\":{\"field\":\"line_color\"},\"width\":{\"field\":\"width\",\"units\":\"data\"},\"x\":{\"field\":\"x\"},\"y\":{\"field\":\"y\"}},\"id\":\"e0566437-2ca2-4c42-bac5-74794032920d\",\"type\":\"Rect\"},{\"attributes\":{\"data_source\":{\"id\":\"53521aa1-a32f-40e3-b44e-415917ff2431\",\"type\":\"ColumnDataSource\"},\"glyph\":{\"id\":\"7d1b6414-d176-48ad-a913-f519562a5c55\",\"type\":\"Rect\"},\"hover_glyph\":null,\"nonselection_glyph\":null,\"selection_glyph\":null},\"id\":\"31dd409f-5e1e-4488-b4db-701469b47d26\",\"type\":\"GlyphRenderer\"},{\"attributes\":{},\"id\":\"5dd2098f-ecd9-4694-bfde-d1ead441d398\",\"type\":\"CategoricalTicker\"},{\"attributes\":{\"fill_alpha\":{\"field\":\"fill_alpha\"},\"fill_color\":{\"field\":\"color\"},\"height\":{\"field\":\"height\",\"units\":\"data\"},\"line_color\":{\"field\":\"line_color\"},\"width\":{\"field\":\"width\",\"units\":\"data\"},\"x\":{\"field\":\"x\"},\"y\":{\"field\":\"y\"}},\"id\":\"0aed5e8b-0cfd-4603-96c0-f5a08587845b\",\"type\":\"Rect\"},{\"attributes\":{\"callback\":null,\"column_names\":[\"line_color\",\"y\",\"height\",\"line_alpha\",\"label\",\"color\",\"x\",\"fill_alpha\",\"width\"],\"data\":{\"chart_index\":[{\"origin\":2,\"yr\":77}],\"color\":[\"#5ab738\"],\"fill_alpha\":[0.8],\"height\":[29.75],\"label\":[{\"origin\":2,\"yr\":77}],\"line_alpha\":[1.0],\"line_color\":[\"white\"],\"origin\":[2],\"width\":[0.2],\"x\":[\"77:0.75\"],\"y\":[14.875],\"yr\":[77]}},\"id\":\"1627e0a9-5822-4d4b-ac34-e9161e0822e6\",\"type\":\"ColumnDataSource\"},{\"attributes\":{\"below\":[{\"id\":\"28ae4bf2-b1b4-44a5-b9f5-4c2fa15b7598\",\"type\":\"CategoricalAxis\"}],\"left\":[{\"id\":\"ab868b4b-7735-4f51-b097-8fcd6fbb73e7\",\"type\":\"LinearAxis\"}],\"renderers\":[{\"id\":\"a4035924-9397-4a53-a39a-0a1a37711e10\",\"type\":\"GlyphRenderer\"},{\"id\":\"d3fa61c1-44b9-405a-897b-30dd9c265566\",\"type\":\"GlyphRenderer\"},{\"id\":\"9994a7bb-2645-4d78-a3ef-feeabe947c51\",\"type\":\"GlyphRenderer\"},{\"id\":\"6d9037c3-1d62-4782-83f8-fbdd2a9e05dc\",\"type\":\"GlyphRenderer\"},{\"id\":\"1355749a-0732-48e1-bc27-ed555d3d08f2\",\"type\":\"GlyphRenderer\"},{\"id\":\"9da96d4f-2d7b-46b7-93a5-dc570823e34a\",\"type\":\"GlyphRenderer\"},{\"id\":\"fa4434b6-823a-47b3-bac7-6552d81bd2f3\",\"type\":\"GlyphRenderer\"},{\"id\":\"7ee5dcac-d07a-4474-8cf2-4549497dedff\",\"type\":\"GlyphRenderer\"},{\"id\":\"873a0212-40cc-449b-90c1-8fc33d4c4513\",\"type\":\"GlyphRenderer\"},{\"id\":\"b272e2cd-fe17-4f83-af52-18f9e8d50bf5\",\"type\":\"GlyphRenderer\"},{\"id\":\"e85e6e43-0597-4cd3-b045-7393ee935fb0\",\"type\":\"GlyphRenderer\"},{\"id\":\"0207cdd4-cc7e-4dca-8277-7b58bddd9f59\",\"type\":\"GlyphRenderer\"},{\"id\":\"beb829ba-3a3b-4101-888f-ffb140059508\",\"type\":\"GlyphRenderer\"},{\"id\":\"66499615-e1fe-4bfc-89ae-51bcd29445c6\",\"type\":\"GlyphRenderer\"},{\"id\":\"1c6327ed-f364-4d1c-9991-ec48af8905cf\",\"type\":\"GlyphRenderer\"},{\"id\":\"61b6eb2e-de75-4790-a692-413dcac0765a\",\"type\":\"GlyphRenderer\"},{\"id\":\"0818b10d-4e38-4d2f-9dd7-9e5f8b456c78\",\"type\":\"GlyphRenderer\"},{\"id\":\"90cc17ac-6702-4722-a43d-ea13f6119077\",\"type\":\"GlyphRenderer\"},{\"id\":\"645f6826-c746-4b3a-a206-45e13d9b8170\",\"type\":\"GlyphRenderer\"},{\"id\":\"be525518-495e-4fdd-9c51-78d5ae91bf46\",\"type\":\"GlyphRenderer\"},{\"id\":\"2b781709-7cf4-40b9-b9ab-40b74da10d81\",\"type\":\"GlyphRenderer\"},{\"id\":\"269ca7c4-82d9-4e5f-87d8-2e07c5bfa754\",\"type\":\"GlyphRenderer\"},{\"id\":\"c4d61639-eac5-4451-8871-20094b0b2582\",\"type\":\"GlyphRenderer\"},{\"id\":\"025cb21b-8b96-4496-8498-26cd82f52d5c\",\"type\":\"GlyphRenderer\"},{\"id\":\"8f5d106b-f592-4390-b78c-7da8d23caf55\",\"type\":\"GlyphRenderer\"},{\"id\":\"58784f4b-87a0-401e-889a-f1e2b6356502\",\"type\":\"GlyphRenderer\"},{\"id\":\"8b08ac13-fefb-4c1d-96ee-8af03585e2f8\",\"type\":\"GlyphRenderer\"},{\"id\":\"8551521a-e3b4-4199-ad03-3fc6235dbacd\",\"type\":\"GlyphRenderer\"},{\"id\":\"d4a812fa-6e4b-43c5-be94-cc8eccb02792\",\"type\":\"GlyphRenderer\"},{\"id\":\"2064a960-e9da-4a75-99bb-67b470a0b006\",\"type\":\"GlyphRenderer\"},{\"id\":\"31dd409f-5e1e-4488-b4db-701469b47d26\",\"type\":\"GlyphRenderer\"},{\"id\":\"3db8413b-7b90-483c-9663-e376c406b764\",\"type\":\"GlyphRenderer\"},{\"id\":\"1bf9eeb0-dceb-4e42-b641-ac962472e3c4\",\"type\":\"GlyphRenderer\"},{\"id\":\"9cbbe3e7-2efa-49aa-8762-62f56499f2d7\",\"type\":\"GlyphRenderer\"},{\"id\":\"91f7d705-42cd-466b-8114-187ff7917848\",\"type\":\"GlyphRenderer\"},{\"id\":\"da1fef0a-c1a0-4e1e-b0e6-de8d0014861f\",\"type\":\"GlyphRenderer\"},{\"id\":\"39f73388-8b6c-4fa5-8550-2559c1139280\",\"type\":\"GlyphRenderer\"},{\"id\":\"5a27f473-8d12-47ec-8426-b02660af552b\",\"type\":\"GlyphRenderer\"},{\"id\":\"195e5b63-1d99-4c6e-85a1-7b471b060b16\",\"type\":\"GlyphRenderer\"},{\"id\":\"9fbd6845-6c67-4e60-8ca3-bc950c09260f\",\"type\":\"Legend\"},{\"id\":\"28ae4bf2-b1b4-44a5-b9f5-4c2fa15b7598\",\"type\":\"CategoricalAxis\"},{\"id\":\"ab868b4b-7735-4f51-b097-8fcd6fbb73e7\",\"type\":\"LinearAxis\"},{\"id\":\"5ca544fa-4b71-4d5d-bf13-588df60ee6a7\",\"type\":\"Grid\"}],\"title\":{\"id\":\"5847754c-c144-48d4-9aeb-07182f03bad2\",\"type\":\"Title\"},\"tool_events\":{\"id\":\"9ab3d615-7f9f-4e54-81d1-25e0f4edd462\",\"type\":\"ToolEvents\"},\"toolbar\":{\"id\":\"eee4b216-212d-44c1-a0ba-bfd282ebd0de\",\"type\":\"Toolbar\"},\"x_mapper_type\":\"auto\",\"x_range\":{\"id\":\"74a24a8b-1757-438f-972c-ce7a49bb63f3\",\"type\":\"FactorRange\"},\"y_mapper_type\":\"auto\",\"y_range\":{\"id\":\"fea033b0-e617-4d6d-847b-78f6272b0252\",\"type\":\"Range1d\"}},\"id\":\"d0c2f309-25b5-4fb3-bc33-08582e6fcce8\",\"subtype\":\"Chart\",\"type\":\"Plot\"},{\"attributes\":{\"active_drag\":\"auto\",\"active_scroll\":\"auto\",\"active_tap\":\"auto\",\"tools\":[{\"id\":\"9a465e88-8ac9-4849-9883-7f605513487c\",\"type\":\"CrosshairTool\"}]},\"id\":\"eee4b216-212d-44c1-a0ba-bfd282ebd0de\",\"type\":\"Toolbar\"},{\"attributes\":{\"callback\":null,\"column_names\":[\"line_color\",\"y\",\"height\",\"line_alpha\",\"label\",\"color\",\"x\",\"fill_alpha\",\"width\"],\"data\":{\"chart_index\":[{\"origin\":3,\"yr\":77}],\"color\":[\"#407ee7\"],\"fill_alpha\":[0.8],\"height\":[28.0],\"label\":[{\"origin\":3,\"yr\":77}],\"line_alpha\":[1.0],\"line_color\":[\"white\"],\"origin\":[3],\"width\":[0.2],\"x\":[\"77:0.5\"],\"y\":[14.0],\"yr\":[77]}},\"id\":\"fc6b7413-f442-4b7c-9cb0-34ef5a47bd07\",\"type\":\"ColumnDataSource\"},{\"attributes\":{\"data_source\":{\"id\":\"fa2f79cf-8652-47b9-9dd7-fa23c3acc54d\",\"type\":\"ColumnDataSource\"},\"glyph\":{\"id\":\"68335d86-dca5-4951-8d67-443cf5367e85\",\"type\":\"Rect\"},\"hover_glyph\":null,\"nonselection_glyph\":null,\"selection_glyph\":null},\"id\":\"e85e6e43-0597-4cd3-b045-7393ee935fb0\",\"type\":\"GlyphRenderer\"},{\"attributes\":{\"fill_alpha\":{\"field\":\"fill_alpha\"},\"fill_color\":{\"field\":\"color\"},\"height\":{\"field\":\"height\",\"units\":\"data\"},\"line_color\":{\"field\":\"line_color\"},\"width\":{\"field\":\"width\",\"units\":\"data\"},\"x\":{\"field\":\"x\"},\"y\":{\"field\":\"y\"}},\"id\":\"bd8a1d50-5a3a-435a-8d4c-be5c07b0499b\",\"type\":\"Rect\"},{\"attributes\":{\"fill_alpha\":{\"field\":\"fill_alpha\"},\"fill_color\":{\"field\":\"color\"},\"height\":{\"field\":\"height\",\"units\":\"data\"},\"line_color\":{\"field\":\"line_color\"},\"width\":{\"field\":\"width\",\"units\":\"data\"},\"x\":{\"field\":\"x\"},\"y\":{\"field\":\"y\"}},\"id\":\"68335d86-dca5-4951-8d67-443cf5367e85\",\"type\":\"Rect\"},{\"attributes\":{\"callback\":null,\"column_names\":[\"line_color\",\"y\",\"height\",\"line_alpha\",\"label\",\"color\",\"x\",\"fill_alpha\",\"width\"],\"data\":{\"chart_index\":[{\"origin\":1,\"yr\":71}],\"color\":[\"#f22c40\"],\"fill_alpha\":[0.8],\"height\":[18.0],\"label\":[{\"origin\":1,\"yr\":71}],\"line_alpha\":[1.0],\"line_color\":[\"white\"],\"origin\":[1],\"width\":[0.2],\"x\":[\"71:0.25\"],\"y\":[9.0],\"yr\":[71]}},\"id\":\"e0f70788-0ce5-4b53-bbf4-50e98b8ac452\",\"type\":\"ColumnDataSource\"},{\"attributes\":{\"fill_alpha\":{\"field\":\"fill_alpha\"},\"fill_color\":{\"field\":\"color\"},\"height\":{\"field\":\"height\",\"units\":\"data\"},\"line_color\":{\"field\":\"line_color\"},\"width\":{\"field\":\"width\",\"units\":\"data\"},\"x\":{\"field\":\"x\"},\"y\":{\"field\":\"y\"}},\"id\":\"fe0088a3-8703-4c24-99d9-4ec5672bc864\",\"type\":\"Rect\"},{\"attributes\":{\"fill_alpha\":{\"field\":\"fill_alpha\"},\"fill_color\":{\"field\":\"color\"},\"height\":{\"field\":\"height\",\"units\":\"data\"},\"line_color\":{\"field\":\"line_color\"},\"width\":{\"field\":\"width\",\"units\":\"data\"},\"x\":{\"field\":\"x\"},\"y\":{\"field\":\"y\"}},\"id\":\"2d84606a-c73b-4de5-8282-5df3486c505a\",\"type\":\"Rect\"},{\"attributes\":{\"fill_alpha\":{\"field\":\"fill_alpha\"},\"fill_color\":{\"field\":\"color\"},\"height\":{\"field\":\"height\",\"units\":\"data\"},\"line_color\":{\"field\":\"line_color\"},\"width\":{\"field\":\"width\",\"units\":\"data\"},\"x\":{\"field\":\"x\"},\"y\":{\"field\":\"y\"}},\"id\":\"09a2a0c2-3e4f-4d72-bf36-1632d94ff70b\",\"type\":\"Rect\"},{\"attributes\":{\"data_source\":{\"id\":\"2abc1892-6774-471f-b59f-4acadfd36b2e\",\"type\":\"ColumnDataSource\"},\"glyph\":{\"id\":\"afe692b7-1e85-4a24-a6e3-2644a779612d\",\"type\":\"Rect\"},\"hover_glyph\":null,\"nonselection_glyph\":null,\"selection_glyph\":null},\"id\":\"be525518-495e-4fdd-9c51-78d5ae91bf46\",\"type\":\"GlyphRenderer\"},{\"attributes\":{\"callback\":null,\"column_names\":[\"line_color\",\"y\",\"height\",\"line_alpha\",\"label\",\"color\",\"x\",\"fill_alpha\",\"width\"],\"data\":{\"chart_index\":[{\"origin\":2,\"yr\":73}],\"color\":[\"#5ab738\"],\"fill_alpha\":[0.8],\"height\":[24.0],\"label\":[{\"origin\":2,\"yr\":73}],\"line_alpha\":[1.0],\"line_color\":[\"white\"],\"origin\":[2],\"width\":[0.2],\"x\":[\"73:0.75\"],\"y\":[12.0],\"yr\":[73]}},\"id\":\"fa2f79cf-8652-47b9-9dd7-fa23c3acc54d\",\"type\":\"ColumnDataSource\"},{\"attributes\":{\"fill_alpha\":{\"field\":\"fill_alpha\"},\"fill_color\":{\"field\":\"color\"},\"height\":{\"field\":\"height\",\"units\":\"data\"},\"line_color\":{\"field\":\"line_color\"},\"width\":{\"field\":\"width\",\"units\":\"data\"},\"x\":{\"field\":\"x\"},\"y\":{\"field\":\"y\"}},\"id\":\"66b274eb-b444-4951-a13e-5f3cfcabca96\",\"type\":\"Rect\"},{\"attributes\":{\"data_source\":{\"id\":\"b9d1401e-546a-419e-9e3c-454d0ab7d756\",\"type\":\"ColumnDataSource\"},\"glyph\":{\"id\":\"d26126a2-6d56-49bd-88b4-54f241153703\",\"type\":\"Rect\"},\"hover_glyph\":null,\"nonselection_glyph\":null,\"selection_glyph\":null},\"id\":\"8f5d106b-f592-4390-b78c-7da8d23caf55\",\"type\":\"GlyphRenderer\"},{\"attributes\":{\"fill_alpha\":{\"field\":\"fill_alpha\"},\"fill_color\":{\"field\":\"color\"},\"height\":{\"field\":\"height\",\"units\":\"data\"},\"line_color\":{\"field\":\"line_color\"},\"width\":{\"field\":\"width\",\"units\":\"data\"},\"x\":{\"field\":\"x\"},\"y\":{\"field\":\"y\"}},\"id\":\"3685d34f-dc55-4a85-bf87-664a8a48f4b5\",\"type\":\"Rect\"},{\"attributes\":{\"callback\":null,\"column_names\":[\"line_color\",\"y\",\"height\",\"line_alpha\",\"label\",\"color\",\"x\",\"fill_alpha\",\"width\"],\"data\":{\"chart_index\":[{\"origin\":2,\"yr\":72}],\"color\":[\"#5ab738\"],\"fill_alpha\":[0.8],\"height\":[22.0],\"label\":[{\"origin\":2,\"yr\":72}],\"line_alpha\":[1.0],\"line_color\":[\"white\"],\"origin\":[2],\"width\":[0.2],\"x\":[\"72:0.75\"],\"y\":[11.0],\"yr\":[72]}},\"id\":\"27aba95b-9da1-44d9-9d87-eaddfb4f85cf\",\"type\":\"ColumnDataSource\"},{\"attributes\":{\"callback\":null,\"column_names\":[\"line_color\",\"y\",\"height\",\"line_alpha\",\"label\",\"color\",\"x\",\"fill_alpha\",\"width\"],\"data\":{\"chart_index\":[{\"origin\":1,\"yr\":72}],\"color\":[\"#f22c40\"],\"fill_alpha\":[0.8],\"height\":[14.0],\"label\":[{\"origin\":1,\"yr\":72}],\"line_alpha\":[1.0],\"line_color\":[\"white\"],\"origin\":[1],\"width\":[0.2],\"x\":[\"72:0.25\"],\"y\":[7.0],\"yr\":[72]}},\"id\":\"7c192f5a-13c3-41eb-abfb-101836b28bf1\",\"type\":\"ColumnDataSource\"},{\"attributes\":{\"fill_alpha\":{\"field\":\"fill_alpha\"},\"fill_color\":{\"field\":\"color\"},\"height\":{\"field\":\"height\",\"units\":\"data\"},\"line_color\":{\"field\":\"line_color\"},\"width\":{\"field\":\"width\",\"units\":\"data\"},\"x\":{\"field\":\"x\"},\"y\":{\"field\":\"y\"}},\"id\":\"6f67a870-83f8-44c1-8f3f-bce1fb450e0e\",\"type\":\"Rect\"},{\"attributes\":{\"fill_alpha\":{\"field\":\"fill_alpha\"},\"fill_color\":{\"field\":\"color\"},\"height\":{\"field\":\"height\",\"units\":\"data\"},\"line_color\":{\"field\":\"line_color\"},\"width\":{\"field\":\"width\",\"units\":\"data\"},\"x\":{\"field\":\"x\"},\"y\":{\"field\":\"y\"}},\"id\":\"08ffd41b-0096-41a6-840f-a874dfee1882\",\"type\":\"Rect\"},{\"attributes\":{\"callback\":null,\"column_names\":[\"line_color\",\"y\",\"height\",\"line_alpha\",\"label\",\"color\",\"x\",\"fill_alpha\",\"width\"],\"data\":{\"chart_index\":[{\"origin\":2,\"yr\":78}],\"color\":[\"#5ab738\"],\"fill_alpha\":[0.8],\"height\":[20.950000000000003],\"label\":[{\"origin\":2,\"yr\":78}],\"line_alpha\":[1.0],\"line_color\":[\"white\"],\"origin\":[2],\"width\":[0.2],\"x\":[\"78:0.75\"],\"y\":[10.475000000000001],\"yr\":[78]}},\"id\":\"b9d1401e-546a-419e-9e3c-454d0ab7d756\",\"type\":\"ColumnDataSource\"},{\"attributes\":{\"fill_alpha\":{\"field\":\"fill_alpha\"},\"fill_color\":{\"field\":\"color\"},\"height\":{\"field\":\"height\",\"units\":\"data\"},\"line_color\":{\"field\":\"line_color\"},\"width\":{\"field\":\"width\",\"units\":\"data\"},\"x\":{\"field\":\"x\"},\"y\":{\"field\":\"y\"}},\"id\":\"d8c93485-dabf-488e-94b7-83948616cdde\",\"type\":\"Rect\"},{\"attributes\":{\"callback\":null,\"column_names\":[\"line_color\",\"y\",\"height\",\"line_alpha\",\"label\",\"color\",\"x\",\"fill_alpha\",\"width\"],\"data\":{\"chart_index\":[{\"origin\":1,\"yr\":82}],\"color\":[\"#f22c40\"],\"fill_alpha\":[0.8],\"height\":[28.0],\"label\":[{\"origin\":1,\"yr\":82}],\"line_alpha\":[1.0],\"line_color\":[\"white\"],\"origin\":[1],\"width\":[0.2],\"x\":[\"82:0.25\"],\"y\":[14.0],\"yr\":[82]}},\"id\":\"930d8509-6722-4e44-90bf-6090118b9b56\",\"type\":\"ColumnDataSource\"},{\"attributes\":{\"callback\":null,\"column_names\":[\"line_color\",\"y\",\"height\",\"line_alpha\",\"label\",\"color\",\"x\",\"fill_alpha\",\"width\"],\"data\":{\"chart_index\":[{\"origin\":1,\"yr\":75}],\"color\":[\"#f22c40\"],\"fill_alpha\":[0.8],\"height\":[17.5],\"label\":[{\"origin\":1,\"yr\":75}],\"line_alpha\":[1.0],\"line_color\":[\"white\"],\"origin\":[1],\"width\":[0.2],\"x\":[\"75:0.25\"],\"y\":[8.75],\"yr\":[75]}},\"id\":\"cc2eeb75-05e3-45dd-a76f-c893525bb92b\",\"type\":\"ColumnDataSource\"},{\"attributes\":{\"data_source\":{\"id\":\"e0f70788-0ce5-4b53-bbf4-50e98b8ac452\",\"type\":\"ColumnDataSource\"},\"glyph\":{\"id\":\"0d61b1c6-8b19-4b77-aae6-23924ef0be16\",\"type\":\"Rect\"},\"hover_glyph\":null,\"nonselection_glyph\":null,\"selection_glyph\":null},\"id\":\"1355749a-0732-48e1-bc27-ed555d3d08f2\",\"type\":\"GlyphRenderer\"},{\"attributes\":{\"callback\":null,\"column_names\":[\"line_color\",\"y\",\"height\",\"line_alpha\",\"label\",\"color\",\"x\",\"fill_alpha\",\"width\"],\"data\":{\"chart_index\":[{\"origin\":3,\"yr\":70}],\"color\":[\"#407ee7\"],\"fill_alpha\":[0.8],\"height\":[25.5],\"label\":[{\"origin\":3,\"yr\":70}],\"line_alpha\":[1.0],\"line_color\":[\"white\"],\"origin\":[3],\"width\":[0.2],\"x\":[\"70:0.5\"],\"y\":[12.75],\"yr\":[70]}},\"id\":\"5ff471cb-9962-4a24-a2c8-c254b1bac356\",\"type\":\"ColumnDataSource\"},{\"attributes\":{\"callback\":null,\"column_names\":[\"line_color\",\"y\",\"height\",\"line_alpha\",\"label\",\"color\",\"x\",\"fill_alpha\",\"width\"],\"data\":{\"chart_index\":[{\"origin\":1,\"yr\":73}],\"color\":[\"#f22c40\"],\"fill_alpha\":[0.8],\"height\":[14.0],\"label\":[{\"origin\":1,\"yr\":73}],\"line_alpha\":[1.0],\"line_color\":[\"white\"],\"origin\":[1],\"width\":[0.2],\"x\":[\"73:0.25\"],\"y\":[7.0],\"yr\":[73]}},\"id\":\"11b1a27e-11b9-476a-9681-010339476961\",\"type\":\"ColumnDataSource\"},{\"attributes\":{\"data_source\":{\"id\":\"639624bc-74a5-46f6-9d00-59ce4310989a\",\"type\":\"ColumnDataSource\"},\"glyph\":{\"id\":\"6674a2b9-e04b-4641-a7d8-e16821db3eb6\",\"type\":\"Rect\"},\"hover_glyph\":null,\"nonselection_glyph\":null,\"selection_glyph\":null},\"id\":\"beb829ba-3a3b-4101-888f-ffb140059508\",\"type\":\"GlyphRenderer\"},{\"attributes\":{\"fill_alpha\":{\"field\":\"fill_alpha\"},\"fill_color\":{\"field\":\"color\"},\"height\":{\"field\":\"height\",\"units\":\"data\"},\"line_color\":{\"field\":\"line_color\"},\"width\":{\"field\":\"width\",\"units\":\"data\"},\"x\":{\"field\":\"x\"},\"y\":{\"field\":\"y\"}},\"id\":\"2030f5ea-2a2f-4686-b7e4-d94e28ef2cc6\",\"type\":\"Rect\"},{\"attributes\":{\"plot\":{\"id\":\"d0c2f309-25b5-4fb3-bc33-08582e6fcce8\",\"subtype\":\"Chart\",\"type\":\"Plot\"}},\"id\":\"9a465e88-8ac9-4849-9883-7f605513487c\",\"type\":\"CrosshairTool\"},{\"attributes\":{\"callback\":null,\"column_names\":[\"line_color\",\"y\",\"height\",\"line_alpha\",\"label\",\"color\",\"x\",\"fill_alpha\",\"width\"],\"data\":{\"chart_index\":[{\"origin\":2,\"yr\":70}],\"color\":[\"#5ab738\"],\"fill_alpha\":[0.8],\"height\":[25.0],\"label\":[{\"origin\":2,\"yr\":70}],\"line_alpha\":[1.0],\"line_color\":[\"white\"],\"origin\":[2],\"width\":[0.2],\"x\":[\"70:0.75\"],\"y\":[12.5],\"yr\":[70]}},\"id\":\"3b18228a-2878-4b82-9650-85af1b4c7197\",\"type\":\"ColumnDataSource\"},{\"attributes\":{\"callback\":null,\"column_names\":[\"line_color\",\"y\",\"height\",\"line_alpha\",\"label\",\"color\",\"x\",\"fill_alpha\",\"width\"],\"data\":{\"chart_index\":[{\"origin\":2,\"yr\":76}],\"color\":[\"#5ab738\"],\"fill_alpha\":[0.8],\"height\":[26.0],\"label\":[{\"origin\":2,\"yr\":76}],\"line_alpha\":[1.0],\"line_color\":[\"white\"],\"origin\":[2],\"width\":[0.2],\"x\":[\"76:0.75\"],\"y\":[13.0],\"yr\":[76]}},\"id\":\"65962d6a-2f0d-4984-84a9-ed1df458603f\",\"type\":\"ColumnDataSource\"},{\"attributes\":{\"fill_alpha\":{\"field\":\"fill_alpha\"},\"fill_color\":{\"field\":\"color\"},\"height\":{\"field\":\"height\",\"units\":\"data\"},\"line_color\":{\"field\":\"line_color\"},\"width\":{\"field\":\"width\",\"units\":\"data\"},\"x\":{\"field\":\"x\"},\"y\":{\"field\":\"y\"}},\"id\":\"0d61b1c6-8b19-4b77-aae6-23924ef0be16\",\"type\":\"Rect\"},{\"attributes\":{\"callback\":null,\"column_names\":[\"line_color\",\"y\",\"height\",\"line_alpha\",\"label\",\"color\",\"x\",\"fill_alpha\",\"width\"],\"data\":{\"chart_index\":[{\"origin\":1,\"yr\":74}],\"color\":[\"#f22c40\"],\"fill_alpha\":[0.8],\"height\":[16.0],\"label\":[{\"origin\":1,\"yr\":74}],\"line_alpha\":[1.0],\"line_color\":[\"white\"],\"origin\":[1],\"width\":[0.2],\"x\":[\"74:0.25\"],\"y\":[8.0],\"yr\":[74]}},\"id\":\"639624bc-74a5-46f6-9d00-59ce4310989a\",\"type\":\"ColumnDataSource\"},{\"attributes\":{\"data_source\":{\"id\":\"1ed5c912-8d92-47c4-b950-5a7199428d45\",\"type\":\"ColumnDataSource\"},\"glyph\":{\"id\":\"e087f759-e050-41d1-bf3b-280a5a8ce658\",\"type\":\"Rect\"},\"hover_glyph\":null,\"nonselection_glyph\":null,\"selection_glyph\":null},\"id\":\"8b08ac13-fefb-4c1d-96ee-8af03585e2f8\",\"type\":\"GlyphRenderer\"},{\"attributes\":{\"data_source\":{\"id\":\"64d00ad0-7e1f-4b57-ad14-2677f45f342e\",\"type\":\"ColumnDataSource\"},\"glyph\":{\"id\":\"053f92c3-0960-42ce-a949-77b2f13a92ca\",\"type\":\"Rect\"},\"hover_glyph\":null,\"nonselection_glyph\":null,\"selection_glyph\":null},\"id\":\"da1fef0a-c1a0-4e1e-b0e6-de8d0014861f\",\"type\":\"GlyphRenderer\"},{\"attributes\":{\"data_source\":{\"id\":\"7c192f5a-13c3-41eb-abfb-101836b28bf1\",\"type\":\"ColumnDataSource\"},\"glyph\":{\"id\":\"ef45d53c-76f7-4116-94cd-18e70520bd43\",\"type\":\"Rect\"},\"hover_glyph\":null,\"nonselection_glyph\":null,\"selection_glyph\":null},\"id\":\"7ee5dcac-d07a-4474-8cf2-4549497dedff\",\"type\":\"GlyphRenderer\"},{\"attributes\":{\"fill_alpha\":{\"field\":\"fill_alpha\"},\"fill_color\":{\"field\":\"color\"},\"height\":{\"field\":\"height\",\"units\":\"data\"},\"line_color\":{\"field\":\"line_color\"},\"width\":{\"field\":\"width\",\"units\":\"data\"},\"x\":{\"field\":\"x\"},\"y\":{\"field\":\"y\"}},\"id\":\"7952698c-0452-408a-ab46-014e7e1988ed\",\"type\":\"Rect\"},{\"attributes\":{\"data_source\":{\"id\":\"11b1a27e-11b9-476a-9681-010339476961\",\"type\":\"ColumnDataSource\"},\"glyph\":{\"id\":\"5f0ffb25-a6d2-425e-94a1-3de9371dd3b9\",\"type\":\"Rect\"},\"hover_glyph\":null,\"nonselection_glyph\":null,\"selection_glyph\":null},\"id\":\"b272e2cd-fe17-4f83-af52-18f9e8d50bf5\",\"type\":\"GlyphRenderer\"},{\"attributes\":{\"legends\":[[\"1\",[{\"id\":\"a4035924-9397-4a53-a39a-0a1a37711e10\",\"type\":\"GlyphRenderer\"}]],[\"3\",[{\"id\":\"d3fa61c1-44b9-405a-897b-30dd9c265566\",\"type\":\"GlyphRenderer\"}]],[\"2\",[{\"id\":\"9994a7bb-2645-4d78-a3ef-feeabe947c51\",\"type\":\"GlyphRenderer\"}]]],\"location\":\"top_left\",\"plot\":{\"id\":\"d0c2f309-25b5-4fb3-bc33-08582e6fcce8\",\"subtype\":\"Chart\",\"type\":\"Plot\"}},\"id\":\"9fbd6845-6c67-4e60-8ca3-bc950c09260f\",\"type\":\"Legend\"},{\"attributes\":{\"fill_alpha\":{\"field\":\"fill_alpha\"},\"fill_color\":{\"field\":\"color\"},\"height\":{\"field\":\"height\",\"units\":\"data\"},\"line_color\":{\"field\":\"line_color\"},\"width\":{\"field\":\"width\",\"units\":\"data\"},\"x\":{\"field\":\"x\"},\"y\":{\"field\":\"y\"}},\"id\":\"2c2cd047-e31e-4559-a3c2-8b1109e6d85b\",\"type\":\"Rect\"},{\"attributes\":{\"callback\":null,\"column_names\":[\"line_color\",\"y\",\"height\",\"line_alpha\",\"label\",\"color\",\"x\",\"fill_alpha\",\"width\"],\"data\":{\"chart_index\":[{\"origin\":3,\"yr\":79}],\"color\":[\"#407ee7\"],\"fill_alpha\":[0.8],\"height\":[32.95],\"label\":[{\"origin\":3,\"yr\":79}],\"line_alpha\":[1.0],\"line_color\":[\"white\"],\"origin\":[3],\"width\":[0.2],\"x\":[\"79:0.5\"],\"y\":[16.475],\"yr\":[79]}},\"id\":\"be7bf97f-5c57-40a8-b64e-be4a229f8b43\",\"type\":\"ColumnDataSource\"},{\"attributes\":{\"fill_alpha\":{\"field\":\"fill_alpha\"},\"fill_color\":{\"field\":\"color\"},\"height\":{\"field\":\"height\",\"units\":\"data\"},\"line_color\":{\"field\":\"line_color\"},\"width\":{\"field\":\"width\",\"units\":\"data\"},\"x\":{\"field\":\"x\"},\"y\":{\"field\":\"y\"}},\"id\":\"303c595c-0187-456f-ae21-2d3a673ed3c5\",\"type\":\"Rect\"},{\"attributes\":{\"data_source\":{\"id\":\"6c9189ef-6a3d-466b-8366-61a7040db2c3\",\"type\":\"ColumnDataSource\"},\"glyph\":{\"id\":\"502b1845-4bf1-469e-9ecb-c3e14ea9f069\",\"type\":\"Rect\"},\"hover_glyph\":null,\"nonselection_glyph\":null,\"selection_glyph\":null},\"id\":\"d4a812fa-6e4b-43c5-be94-cc8eccb02792\",\"type\":\"GlyphRenderer\"},{\"attributes\":{},\"id\":\"db1f913d-7dd5-4e6a-aa2b-ed77f598ba49\",\"type\":\"BasicTickFormatter\"},{\"attributes\":{\"data_source\":{\"id\":\"774241e5-27f8-496a-ab19-3e17ad77333f\",\"type\":\"ColumnDataSource\"},\"glyph\":{\"id\":\"d8c93485-dabf-488e-94b7-83948616cdde\",\"type\":\"Rect\"},\"hover_glyph\":null,\"nonselection_glyph\":null,\"selection_glyph\":null},\"id\":\"1bf9eeb0-dceb-4e42-b641-ac962472e3c4\",\"type\":\"GlyphRenderer\"},{\"attributes\":{\"axis_label\":\"Median( Mpg )\",\"formatter\":{\"id\":\"db1f913d-7dd5-4e6a-aa2b-ed77f598ba49\",\"type\":\"BasicTickFormatter\"},\"plot\":{\"id\":\"d0c2f309-25b5-4fb3-bc33-08582e6fcce8\",\"subtype\":\"Chart\",\"type\":\"Plot\"},\"ticker\":{\"id\":\"7da92f4c-999b-4180-b2f0-c855c9428fe0\",\"type\":\"BasicTicker\"}},\"id\":\"ab868b4b-7735-4f51-b097-8fcd6fbb73e7\",\"type\":\"LinearAxis\"},{\"attributes\":{\"fill_alpha\":{\"field\":\"fill_alpha\"},\"fill_color\":{\"field\":\"color\"},\"height\":{\"field\":\"height\",\"units\":\"data\"},\"line_color\":{\"field\":\"line_color\"},\"width\":{\"field\":\"width\",\"units\":\"data\"},\"x\":{\"field\":\"x\"},\"y\":{\"field\":\"y\"}},\"id\":\"afe692b7-1e85-4a24-a6e3-2644a779612d\",\"type\":\"Rect\"},{\"attributes\":{\"callback\":null,\"column_names\":[\"line_color\",\"y\",\"height\",\"line_alpha\",\"label\",\"color\",\"x\",\"fill_alpha\",\"width\"],\"data\":{\"chart_index\":[{\"origin\":3,\"yr\":73}],\"color\":[\"#407ee7\"],\"fill_alpha\":[0.8],\"height\":[20.0],\"label\":[{\"origin\":3,\"yr\":73}],\"line_alpha\":[1.0],\"line_color\":[\"white\"],\"origin\":[3],\"width\":[0.2],\"x\":[\"73:0.5\"],\"y\":[10.0],\"yr\":[73]}},\"id\":\"4b421a56-de10-4cb8-a0e1-74d6d1f677cb\",\"type\":\"ColumnDataSource\"},{\"attributes\":{\"fill_alpha\":{\"field\":\"fill_alpha\"},\"fill_color\":{\"field\":\"color\"},\"height\":{\"field\":\"height\",\"units\":\"data\"},\"line_color\":{\"field\":\"line_color\"},\"width\":{\"field\":\"width\",\"units\":\"data\"},\"x\":{\"field\":\"x\"},\"y\":{\"field\":\"y\"}},\"id\":\"2192b016-2493-4c58-aec8-06dc409d1817\",\"type\":\"Rect\"},{\"attributes\":{\"fill_alpha\":{\"field\":\"fill_alpha\"},\"fill_color\":{\"field\":\"color\"},\"height\":{\"field\":\"height\",\"units\":\"data\"},\"line_color\":{\"field\":\"line_color\"},\"width\":{\"field\":\"width\",\"units\":\"data\"},\"x\":{\"field\":\"x\"},\"y\":{\"field\":\"y\"}},\"id\":\"e1c7feed-8229-4e36-9acd-ecabbdd3ab6f\",\"type\":\"Rect\"},{\"attributes\":{\"data_source\":{\"id\":\"796be402-07e2-48e0-971f-93c7b85dab79\",\"type\":\"ColumnDataSource\"},\"glyph\":{\"id\":\"2192b016-2493-4c58-aec8-06dc409d1817\",\"type\":\"Rect\"},\"hover_glyph\":null,\"nonselection_glyph\":null,\"selection_glyph\":null},\"id\":\"9da96d4f-2d7b-46b7-93a5-dc570823e34a\",\"type\":\"GlyphRenderer\"},{\"attributes\":{\"fill_alpha\":{\"field\":\"fill_alpha\"},\"fill_color\":{\"field\":\"color\"},\"height\":{\"field\":\"height\",\"units\":\"data\"},\"line_color\":{\"field\":\"line_color\"},\"width\":{\"field\":\"width\",\"units\":\"data\"},\"x\":{\"field\":\"x\"},\"y\":{\"field\":\"y\"}},\"id\":\"d26126a2-6d56-49bd-88b4-54f241153703\",\"type\":\"Rect\"},{\"attributes\":{\"callback\":null,\"column_names\":[\"line_color\",\"y\",\"height\",\"line_alpha\",\"label\",\"color\",\"x\",\"fill_alpha\",\"width\"],\"data\":{\"chart_index\":[{\"origin\":1,\"yr\":77}],\"color\":[\"#f22c40\"],\"fill_alpha\":[0.8],\"height\":[18.0],\"label\":[{\"origin\":1,\"yr\":77}],\"line_alpha\":[1.0],\"line_color\":[\"white\"],\"origin\":[1],\"width\":[0.2],\"x\":[\"77:0.25\"],\"y\":[9.0],\"yr\":[77]}},\"id\":\"a937b464-4e51-4908-962e-d44c37ad3c0d\",\"type\":\"ColumnDataSource\"},{\"attributes\":{\"data_source\":{\"id\":\"fc6b7413-f442-4b7c-9cb0-34ef5a47bd07\",\"type\":\"ColumnDataSource\"},\"glyph\":{\"id\":\"7952698c-0452-408a-ab46-014e7e1988ed\",\"type\":\"Rect\"},\"hover_glyph\":null,\"nonselection_glyph\":null,\"selection_glyph\":null},\"id\":\"269ca7c4-82d9-4e5f-87d8-2e07c5bfa754\",\"type\":\"GlyphRenderer\"},{\"attributes\":{\"data_source\":{\"id\":\"be7bf97f-5c57-40a8-b64e-be4a229f8b43\",\"type\":\"ColumnDataSource\"},\"glyph\":{\"id\":\"075b2baa-22a4-469d-8d5f-70942b9a8dec\",\"type\":\"Rect\"},\"hover_glyph\":null,\"nonselection_glyph\":null,\"selection_glyph\":null},\"id\":\"2064a960-e9da-4a75-99bb-67b470a0b006\",\"type\":\"GlyphRenderer\"},{\"attributes\":{\"callback\":null,\"column_names\":[\"line_color\",\"y\",\"height\",\"line_alpha\",\"label\",\"color\",\"x\",\"fill_alpha\",\"width\"],\"data\":{\"chart_index\":[{\"origin\":1,\"yr\":80}],\"color\":[\"#f22c40\"],\"fill_alpha\":[0.8],\"height\":[27.15],\"label\":[{\"origin\":1,\"yr\":80}],\"line_alpha\":[1.0],\"line_color\":[\"white\"],\"origin\":[1],\"width\":[0.2],\"x\":[\"80:0.25\"],\"y\":[13.575],\"yr\":[80]}},\"id\":\"774241e5-27f8-496a-ab19-3e17ad77333f\",\"type\":\"ColumnDataSource\"},{\"attributes\":{\"callback\":null,\"column_names\":[\"line_color\",\"y\",\"height\",\"line_alpha\",\"label\",\"color\",\"x\",\"fill_alpha\",\"width\"],\"data\":{\"chart_index\":[{\"origin\":2,\"yr\":81}],\"color\":[\"#5ab738\"],\"fill_alpha\":[0.8],\"height\":[30.7],\"label\":[{\"origin\":2,\"yr\":81}],\"line_alpha\":[1.0],\"line_color\":[\"white\"],\"origin\":[2],\"width\":[0.2],\"x\":[\"81:0.75\"],\"y\":[15.35],\"yr\":[81]}},\"id\":\"64d00ad0-7e1f-4b57-ad14-2677f45f342e\",\"type\":\"ColumnDataSource\"},{\"attributes\":{\"callback\":null,\"column_names\":[\"line_color\",\"y\",\"height\",\"line_alpha\",\"label\",\"color\",\"x\",\"fill_alpha\",\"width\"],\"data\":{\"chart_index\":[{\"origin\":3,\"yr\":74}],\"color\":[\"#407ee7\"],\"fill_alpha\":[0.8],\"height\":[31.0],\"label\":[{\"origin\":3,\"yr\":74}],\"line_alpha\":[1.0],\"line_color\":[\"white\"],\"origin\":[3],\"width\":[0.2],\"x\":[\"74:0.5\"],\"y\":[15.5],\"yr\":[74]}},\"id\":\"f06685ad-ea35-444f-990d-935660143afc\",\"type\":\"ColumnDataSource\"},{\"attributes\":{\"data_source\":{\"id\":\"b3d8d7fb-f0a4-4037-8b87-26efe5120e2d\",\"type\":\"ColumnDataSource\"},\"glyph\":{\"id\":\"2d84606a-c73b-4de5-8282-5df3486c505a\",\"type\":\"Rect\"},\"hover_glyph\":null,\"nonselection_glyph\":null,\"selection_glyph\":null},\"id\":\"8551521a-e3b4-4199-ad03-3fc6235dbacd\",\"type\":\"GlyphRenderer\"},{\"attributes\":{\"fill_alpha\":{\"field\":\"fill_alpha\"},\"fill_color\":{\"field\":\"color\"},\"height\":{\"field\":\"height\",\"units\":\"data\"},\"line_color\":{\"field\":\"line_color\"},\"width\":{\"field\":\"width\",\"units\":\"data\"},\"x\":{\"field\":\"x\"},\"y\":{\"field\":\"y\"}},\"id\":\"6674a2b9-e04b-4641-a7d8-e16821db3eb6\",\"type\":\"Rect\"},{\"attributes\":{\"callback\":null,\"column_names\":[\"line_color\",\"y\",\"height\",\"line_alpha\",\"label\",\"color\",\"x\",\"fill_alpha\",\"width\"],\"data\":{\"chart_index\":[{\"origin\":2,\"yr\":74}],\"color\":[\"#5ab738\"],\"fill_alpha\":[0.8],\"height\":[26.0],\"label\":[{\"origin\":2,\"yr\":74}],\"line_alpha\":[1.0],\"line_color\":[\"white\"],\"origin\":[2],\"width\":[0.2],\"x\":[\"74:0.75\"],\"y\":[13.0],\"yr\":[74]}},\"id\":\"193d8a79-17d1-416a-9361-d4a75fcb6c60\",\"type\":\"ColumnDataSource\"},{\"attributes\":{\"callback\":null,\"column_names\":[\"line_color\",\"y\",\"height\",\"line_alpha\",\"label\",\"color\",\"x\",\"fill_alpha\",\"width\"],\"data\":{\"chart_index\":[{\"origin\":3,\"yr\":76}],\"color\":[\"#407ee7\"],\"fill_alpha\":[0.8],\"height\":[30.0],\"label\":[{\"origin\":3,\"yr\":76}],\"line_alpha\":[1.0],\"line_color\":[\"white\"],\"origin\":[3],\"width\":[0.2],\"x\":[\"76:0.5\"],\"y\":[15.0],\"yr\":[76]}},\"id\":\"a2cc9ecb-02e8-4681-8a44-46a9215936d3\",\"type\":\"ColumnDataSource\"},{\"attributes\":{\"data_source\":{\"id\":\"a8337926-14fc-4e1f-a536-64d2474f7422\",\"type\":\"ColumnDataSource\"},\"glyph\":{\"id\":\"e0566437-2ca2-4c42-bac5-74794032920d\",\"type\":\"Rect\"},\"hover_glyph\":null,\"nonselection_glyph\":null,\"selection_glyph\":null},\"id\":\"0818b10d-4e38-4d2f-9dd7-9e5f8b456c78\",\"type\":\"GlyphRenderer\"},{\"attributes\":{\"callback\":null,\"column_names\":[\"line_color\",\"y\",\"height\",\"line_alpha\",\"label\",\"color\",\"x\",\"fill_alpha\",\"width\"],\"data\":{\"chart_index\":[{\"origin\":3,\"yr\":78}],\"color\":[\"#407ee7\"],\"fill_alpha\":[0.8],\"height\":[28.5],\"label\":[{\"origin\":3,\"yr\":78}],\"line_alpha\":[1.0],\"line_color\":[\"white\"],\"origin\":[3],\"width\":[0.2],\"x\":[\"78:0.5\"],\"y\":[14.25],\"yr\":[78]}},\"id\":\"1ed5c912-8d92-47c4-b950-5a7199428d45\",\"type\":\"ColumnDataSource\"},{\"attributes\":{\"callback\":null,\"factors\":[\"70\",\"71\",\"72\",\"73\",\"74\",\"75\",\"76\",\"77\",\"78\",\"79\",\"80\",\"81\",\"82\"]},\"id\":\"74a24a8b-1757-438f-972c-ce7a49bb63f3\",\"type\":\"FactorRange\"},{\"attributes\":{\"callback\":null,\"column_names\":[\"line_color\",\"y\",\"height\",\"line_alpha\",\"label\",\"color\",\"x\",\"fill_alpha\",\"width\"],\"data\":{\"chart_index\":[{\"origin\":1,\"yr\":76}],\"color\":[\"#f22c40\"],\"fill_alpha\":[0.8],\"height\":[18.25],\"label\":[{\"origin\":1,\"yr\":76}],\"line_alpha\":[1.0],\"line_color\":[\"white\"],\"origin\":[1],\"width\":[0.2],\"x\":[\"76:0.25\"],\"y\":[9.125],\"yr\":[76]}},\"id\":\"2abc1892-6774-471f-b59f-4acadfd36b2e\",\"type\":\"ColumnDataSource\"},{\"attributes\":{\"fill_alpha\":{\"field\":\"fill_alpha\"},\"fill_color\":{\"field\":\"color\"},\"height\":{\"field\":\"height\",\"units\":\"data\"},\"line_color\":{\"field\":\"line_color\"},\"width\":{\"field\":\"width\",\"units\":\"data\"},\"x\":{\"field\":\"x\"},\"y\":{\"field\":\"y\"}},\"id\":\"6838a0f9-30b2-4304-8962-c2dcd9f885b8\",\"type\":\"Rect\"},{\"attributes\":{\"callback\":null,\"column_names\":[\"line_color\",\"y\",\"height\",\"line_alpha\",\"label\",\"color\",\"x\",\"fill_alpha\",\"width\"],\"data\":{\"chart_index\":[{\"origin\":3,\"yr\":72}],\"color\":[\"#407ee7\"],\"fill_alpha\":[0.8],\"height\":[24.0],\"label\":[{\"origin\":3,\"yr\":72}],\"line_alpha\":[1.0],\"line_color\":[\"white\"],\"origin\":[3],\"width\":[0.2],\"x\":[\"72:0.5\"],\"y\":[12.0],\"yr\":[72]}},\"id\":\"04975633-b431-4c7c-ad1e-f0442d81b312\",\"type\":\"ColumnDataSource\"},{\"attributes\":{\"callback\":null,\"column_names\":[\"line_color\",\"y\",\"height\",\"line_alpha\",\"label\",\"color\",\"x\",\"fill_alpha\",\"width\"],\"data\":{\"chart_index\":[{\"origin\":1,\"yr\":81}],\"color\":[\"#f22c40\"],\"fill_alpha\":[0.8],\"height\":[26.6],\"label\":[{\"origin\":1,\"yr\":81}],\"line_alpha\":[1.0],\"line_color\":[\"white\"],\"origin\":[1],\"width\":[0.2],\"x\":[\"81:0.25\"],\"y\":[13.3],\"yr\":[81]}},\"id\":\"50b8b3d4-f3b9-4741-8944-8a27f659546d\",\"type\":\"ColumnDataSource\"},{\"attributes\":{\"callback\":null,\"column_names\":[\"line_color\",\"y\",\"height\",\"line_alpha\",\"label\",\"color\",\"x\",\"fill_alpha\",\"width\"],\"data\":{\"chart_index\":[{\"origin\":2,\"yr\":79}],\"color\":[\"#5ab738\"],\"fill_alpha\":[0.8],\"height\":[29.549999999999997],\"label\":[{\"origin\":2,\"yr\":79}],\"line_alpha\":[1.0],\"line_color\":[\"white\"],\"origin\":[2],\"width\":[0.2],\"x\":[\"79:0.75\"],\"y\":[14.774999999999999],\"yr\":[79]}},\"id\":\"6c9189ef-6a3d-466b-8366-61a7040db2c3\",\"type\":\"ColumnDataSource\"},{\"attributes\":{\"fill_alpha\":{\"field\":\"fill_alpha\"},\"fill_color\":{\"field\":\"color\"},\"height\":{\"field\":\"height\",\"units\":\"data\"},\"line_color\":{\"field\":\"line_color\"},\"width\":{\"field\":\"width\",\"units\":\"data\"},\"x\":{\"field\":\"x\"},\"y\":{\"field\":\"y\"}},\"id\":\"7d1b6414-d176-48ad-a913-f519562a5c55\",\"type\":\"Rect\"},{\"attributes\":{\"data_source\":{\"id\":\"1627e0a9-5822-4d4b-ac34-e9161e0822e6\",\"type\":\"ColumnDataSource\"},\"glyph\":{\"id\":\"08cfc620-2bc4-4596-869e-f5532ecdbbdf\",\"type\":\"Rect\"},\"hover_glyph\":null,\"nonselection_glyph\":null,\"selection_glyph\":null},\"id\":\"025cb21b-8b96-4496-8498-26cd82f52d5c\",\"type\":\"GlyphRenderer\"},{\"attributes\":{\"callback\":null,\"column_names\":[\"line_color\",\"y\",\"height\",\"line_alpha\",\"label\",\"color\",\"x\",\"fill_alpha\",\"width\"],\"data\":{\"chart_index\":[{\"origin\":3,\"yr\":75}],\"color\":[\"#407ee7\"],\"fill_alpha\":[0.8],\"height\":[26.5],\"label\":[{\"origin\":3,\"yr\":75}],\"line_alpha\":[1.0],\"line_color\":[\"white\"],\"origin\":[3],\"width\":[0.2],\"x\":[\"75:0.5\"],\"y\":[13.25],\"yr\":[75]}},\"id\":\"a8337926-14fc-4e1f-a536-64d2474f7422\",\"type\":\"ColumnDataSource\"},{\"attributes\":{\"callback\":null,\"column_names\":[\"line_color\",\"y\",\"height\",\"line_alpha\",\"label\",\"color\",\"x\",\"fill_alpha\",\"width\"],\"data\":{\"chart_index\":[{\"origin\":3,\"yr\":80}],\"color\":[\"#407ee7\"],\"fill_alpha\":[0.8],\"height\":[33.8],\"label\":[{\"origin\":3,\"yr\":80}],\"line_alpha\":[1.0],\"line_color\":[\"white\"],\"origin\":[3],\"width\":[0.2],\"x\":[\"80:0.5\"],\"y\":[16.9],\"yr\":[80]}},\"id\":\"46c8f5ab-dc59-4723-b91f-f6ca94788c2b\",\"type\":\"ColumnDataSource\"},{\"attributes\":{\"data_source\":{\"id\":\"27aba95b-9da1-44d9-9d87-eaddfb4f85cf\",\"type\":\"ColumnDataSource\"},\"glyph\":{\"id\":\"a7de1585-dda9-45f5-ad23-d23682340b96\",\"type\":\"Rect\"},\"hover_glyph\":null,\"nonselection_glyph\":null,\"selection_glyph\":null},\"id\":\"873a0212-40cc-449b-90c1-8fc33d4c4513\",\"type\":\"GlyphRenderer\"},{\"attributes\":{\"fill_alpha\":{\"field\":\"fill_alpha\"},\"fill_color\":{\"field\":\"color\"},\"height\":{\"field\":\"height\",\"units\":\"data\"},\"line_color\":{\"field\":\"line_color\"},\"width\":{\"field\":\"width\",\"units\":\"data\"},\"x\":{\"field\":\"x\"},\"y\":{\"field\":\"y\"}},\"id\":\"502b1845-4bf1-469e-9ecb-c3e14ea9f069\",\"type\":\"Rect\"},{\"attributes\":{\"callback\":null,\"column_names\":[\"line_color\",\"y\",\"height\",\"line_alpha\",\"label\",\"color\",\"x\",\"fill_alpha\",\"width\"],\"data\":{\"chart_index\":[{\"origin\":2,\"yr\":75}],\"color\":[\"#5ab738\"],\"fill_alpha\":[0.8],\"height\":[24.0],\"label\":[{\"origin\":2,\"yr\":75}],\"line_alpha\":[1.0],\"line_color\":[\"white\"],\"origin\":[2],\"width\":[0.2],\"x\":[\"75:0.75\"],\"y\":[12.0],\"yr\":[75]}},\"id\":\"655451ea-71c1-4dd8-bf2c-5c86aa869019\",\"type\":\"ColumnDataSource\"},{\"attributes\":{\"callback\":null,\"column_names\":[\"line_color\",\"y\",\"height\",\"line_alpha\",\"label\",\"color\",\"x\",\"fill_alpha\",\"width\"],\"data\":{\"chart_index\":[{\"origin\":3,\"yr\":81}],\"color\":[\"#407ee7\"],\"fill_alpha\":[0.8],\"height\":[33.3],\"label\":[{\"origin\":3,\"yr\":81}],\"line_alpha\":[1.0],\"line_color\":[\"white\"],\"origin\":[3],\"width\":[0.2],\"x\":[\"81:0.5\"],\"y\":[16.65],\"yr\":[81]}},\"id\":\"70d11d60-b195-4ec1-8bab-c16d7eba8b73\",\"type\":\"ColumnDataSource\"},{\"attributes\":{\"fill_alpha\":{\"field\":\"fill_alpha\"},\"fill_color\":{\"field\":\"color\"},\"height\":{\"field\":\"height\",\"units\":\"data\"},\"line_color\":{\"field\":\"line_color\"},\"width\":{\"field\":\"width\",\"units\":\"data\"},\"x\":{\"field\":\"x\"},\"y\":{\"field\":\"y\"}},\"id\":\"a1b580bb-a7ee-4e94-a70b-19e3d77fa6c1\",\"type\":\"Rect\"},{\"attributes\":{\"data_source\":{\"id\":\"65962d6a-2f0d-4984-84a9-ed1df458603f\",\"type\":\"ColumnDataSource\"},\"glyph\":{\"id\":\"6f67a870-83f8-44c1-8f3f-bce1fb450e0e\",\"type\":\"Rect\"},\"hover_glyph\":null,\"nonselection_glyph\":null,\"selection_glyph\":null},\"id\":\"645f6826-c746-4b3a-a206-45e13d9b8170\",\"type\":\"GlyphRenderer\"},{\"attributes\":{\"fill_alpha\":{\"field\":\"fill_alpha\"},\"fill_color\":{\"field\":\"color\"},\"height\":{\"field\":\"height\",\"units\":\"data\"},\"line_color\":{\"field\":\"line_color\"},\"width\":{\"field\":\"width\",\"units\":\"data\"},\"x\":{\"field\":\"x\"},\"y\":{\"field\":\"y\"}},\"id\":\"550a7ca9-ba0a-49f3-8116-56012fdf2edc\",\"type\":\"Rect\"},{\"attributes\":{\"fill_alpha\":{\"field\":\"fill_alpha\"},\"fill_color\":{\"field\":\"color\"},\"height\":{\"field\":\"height\",\"units\":\"data\"},\"line_color\":{\"field\":\"line_color\"},\"width\":{\"field\":\"width\",\"units\":\"data\"},\"x\":{\"field\":\"x\"},\"y\":{\"field\":\"y\"}},\"id\":\"e1ebb206-fbda-474f-a5bf-0411076f7494\",\"type\":\"Rect\"},{\"attributes\":{\"fill_alpha\":{\"field\":\"fill_alpha\"},\"fill_color\":{\"field\":\"color\"},\"height\":{\"field\":\"height\",\"units\":\"data\"},\"line_color\":{\"field\":\"line_color\"},\"width\":{\"field\":\"width\",\"units\":\"data\"},\"x\":{\"field\":\"x\"},\"y\":{\"field\":\"y\"}},\"id\":\"5f0ffb25-a6d2-425e-94a1-3de9371dd3b9\",\"type\":\"Rect\"},{\"attributes\":{\"fill_alpha\":{\"field\":\"fill_alpha\"},\"fill_color\":{\"field\":\"color\"},\"height\":{\"field\":\"height\",\"units\":\"data\"},\"line_color\":{\"field\":\"line_color\"},\"width\":{\"field\":\"width\",\"units\":\"data\"},\"x\":{\"field\":\"x\"},\"y\":{\"field\":\"y\"}},\"id\":\"e087f759-e050-41d1-bf3b-280a5a8ce658\",\"type\":\"Rect\"},{\"attributes\":{\"fill_alpha\":{\"field\":\"fill_alpha\"},\"fill_color\":{\"field\":\"color\"},\"height\":{\"field\":\"height\",\"units\":\"data\"},\"line_color\":{\"field\":\"line_color\"},\"width\":{\"field\":\"width\",\"units\":\"data\"},\"x\":{\"field\":\"x\"},\"y\":{\"field\":\"y\"}},\"id\":\"f4840abc-c1e3-4723-80d3-29790a039e8e\",\"type\":\"Rect\"},{\"attributes\":{\"data_source\":{\"id\":\"730f7878-dd82-4c51-a83f-85f48a489e52\",\"type\":\"ColumnDataSource\"},\"glyph\":{\"id\":\"e1c7feed-8229-4e36-9acd-ecabbdd3ab6f\",\"type\":\"Rect\"},\"hover_glyph\":null,\"nonselection_glyph\":null,\"selection_glyph\":null},\"id\":\"5a27f473-8d12-47ec-8426-b02660af552b\",\"type\":\"GlyphRenderer\"},{\"attributes\":{\"axis_label\":\"Yr\",\"formatter\":{\"id\":\"999f8329-89a0-44df-876b-e849514b5723\",\"type\":\"CategoricalTickFormatter\"},\"major_label_orientation\":0.7853981633974483,\"plot\":{\"id\":\"d0c2f309-25b5-4fb3-bc33-08582e6fcce8\",\"subtype\":\"Chart\",\"type\":\"Plot\"},\"ticker\":{\"id\":\"5dd2098f-ecd9-4694-bfde-d1ead441d398\",\"type\":\"CategoricalTicker\"}},\"id\":\"28ae4bf2-b1b4-44a5-b9f5-4c2fa15b7598\",\"type\":\"CategoricalAxis\"},{\"attributes\":{\"data_source\":{\"id\":\"5ff471cb-9962-4a24-a2c8-c254b1bac356\",\"type\":\"ColumnDataSource\"},\"glyph\":{\"id\":\"f4840abc-c1e3-4723-80d3-29790a039e8e\",\"type\":\"Rect\"},\"hover_glyph\":null,\"nonselection_glyph\":null,\"selection_glyph\":null},\"id\":\"d3fa61c1-44b9-405a-897b-30dd9c265566\",\"type\":\"GlyphRenderer\"},{\"attributes\":{\"callback\":null,\"column_names\":[\"line_color\",\"y\",\"height\",\"line_alpha\",\"label\",\"color\",\"x\",\"fill_alpha\",\"width\"],\"data\":{\"chart_index\":[{\"origin\":2,\"yr\":80}],\"color\":[\"#5ab738\"],\"fill_alpha\":[0.8],\"height\":[35.7],\"label\":[{\"origin\":2,\"yr\":80}],\"line_alpha\":[1.0],\"line_color\":[\"white\"],\"origin\":[2],\"width\":[0.2],\"x\":[\"80:0.75\"],\"y\":[17.85],\"yr\":[80]}},\"id\":\"53521aa1-a32f-40e3-b44e-415917ff2431\",\"type\":\"ColumnDataSource\"},{\"attributes\":{\"fill_alpha\":{\"field\":\"fill_alpha\"},\"fill_color\":{\"field\":\"color\"},\"height\":{\"field\":\"height\",\"units\":\"data\"},\"line_color\":{\"field\":\"line_color\"},\"width\":{\"field\":\"width\",\"units\":\"data\"},\"x\":{\"field\":\"x\"},\"y\":{\"field\":\"y\"}},\"id\":\"a7de1585-dda9-45f5-ad23-d23682340b96\",\"type\":\"Rect\"},{\"attributes\":{\"data_source\":{\"id\":\"193d8a79-17d1-416a-9361-d4a75fcb6c60\",\"type\":\"ColumnDataSource\"},\"glyph\":{\"id\":\"ef1fea72-521f-4e65-a31a-4cd6fe8cfec4\",\"type\":\"Rect\"},\"hover_glyph\":null,\"nonselection_glyph\":null,\"selection_glyph\":null},\"id\":\"1c6327ed-f364-4d1c-9991-ec48af8905cf\",\"type\":\"GlyphRenderer\"},{\"attributes\":{},\"id\":\"999f8329-89a0-44df-876b-e849514b5723\",\"type\":\"CategoricalTickFormatter\"},{\"attributes\":{\"dimension\":1,\"plot\":{\"id\":\"d0c2f309-25b5-4fb3-bc33-08582e6fcce8\",\"subtype\":\"Chart\",\"type\":\"Plot\"},\"ticker\":{\"id\":\"7da92f4c-999b-4180-b2f0-c855c9428fe0\",\"type\":\"BasicTicker\"}},\"id\":\"5ca544fa-4b71-4d5d-bf13-588df60ee6a7\",\"type\":\"Grid\"},{\"attributes\":{\"data_source\":{\"id\":\"93a85bb7-95bd-41e8-8398-7d0f06580f46\",\"type\":\"ColumnDataSource\"},\"glyph\":{\"id\":\"bd8a1d50-5a3a-435a-8d4c-be5c07b0499b\",\"type\":\"Rect\"},\"hover_glyph\":null,\"nonselection_glyph\":null,\"selection_glyph\":null},\"id\":\"a4035924-9397-4a53-a39a-0a1a37711e10\",\"type\":\"GlyphRenderer\"},{\"attributes\":{\"fill_alpha\":{\"field\":\"fill_alpha\"},\"fill_color\":{\"field\":\"color\"},\"height\":{\"field\":\"height\",\"units\":\"data\"},\"line_color\":{\"field\":\"line_color\"},\"width\":{\"field\":\"width\",\"units\":\"data\"},\"x\":{\"field\":\"x\"},\"y\":{\"field\":\"y\"}},\"id\":\"053f92c3-0960-42ce-a949-77b2f13a92ca\",\"type\":\"Rect\"},{\"attributes\":{},\"id\":\"7da92f4c-999b-4180-b2f0-c855c9428fe0\",\"type\":\"BasicTicker\"},{\"attributes\":{\"callback\":null,\"column_names\":[\"line_color\",\"y\",\"height\",\"line_alpha\",\"label\",\"color\",\"x\",\"fill_alpha\",\"width\"],\"data\":{\"chart_index\":[{\"origin\":2,\"yr\":71}],\"color\":[\"#5ab738\"],\"fill_alpha\":[0.8],\"height\":[29.0],\"label\":[{\"origin\":2,\"yr\":71}],\"line_alpha\":[1.0],\"line_color\":[\"white\"],\"origin\":[2],\"width\":[0.2],\"x\":[\"71:0.75\"],\"y\":[14.5],\"yr\":[71]}},\"id\":\"796be402-07e2-48e0-971f-93c7b85dab79\",\"type\":\"ColumnDataSource\"},{\"attributes\":{\"data_source\":{\"id\":\"70d11d60-b195-4ec1-8bab-c16d7eba8b73\",\"type\":\"ColumnDataSource\"},\"glyph\":{\"id\":\"2030f5ea-2a2f-4686-b7e4-d94e28ef2cc6\",\"type\":\"Rect\"},\"hover_glyph\":null,\"nonselection_glyph\":null,\"selection_glyph\":null},\"id\":\"91f7d705-42cd-466b-8114-187ff7917848\",\"type\":\"GlyphRenderer\"},{\"attributes\":{\"callback\":null,\"column_names\":[\"line_color\",\"y\",\"height\",\"line_alpha\",\"label\",\"color\",\"x\",\"fill_alpha\",\"width\"],\"data\":{\"chart_index\":[{\"origin\":2,\"yr\":82}],\"color\":[\"#5ab738\"],\"fill_alpha\":[0.8],\"height\":[40.0],\"label\":[{\"origin\":2,\"yr\":82}],\"line_alpha\":[1.0],\"line_color\":[\"white\"],\"origin\":[2],\"width\":[0.2],\"x\":[\"82:0.75\"],\"y\":[20.0],\"yr\":[82]}},\"id\":\"730f7878-dd82-4c51-a83f-85f48a489e52\",\"type\":\"ColumnDataSource\"},{\"attributes\":{\"data_source\":{\"id\":\"04975633-b431-4c7c-ad1e-f0442d81b312\",\"type\":\"ColumnDataSource\"},\"glyph\":{\"id\":\"5899966c-c28b-4392-a214-2e149714ca2c\",\"type\":\"Rect\"},\"hover_glyph\":null,\"nonselection_glyph\":null,\"selection_glyph\":null},\"id\":\"fa4434b6-823a-47b3-bac7-6552d81bd2f3\",\"type\":\"GlyphRenderer\"},{\"attributes\":{\"fill_alpha\":{\"field\":\"fill_alpha\"},\"fill_color\":{\"field\":\"color\"},\"height\":{\"field\":\"height\",\"units\":\"data\"},\"line_color\":{\"field\":\"line_color\"},\"width\":{\"field\":\"width\",\"units\":\"data\"},\"x\":{\"field\":\"x\"},\"y\":{\"field\":\"y\"}},\"id\":\"5899966c-c28b-4392-a214-2e149714ca2c\",\"type\":\"Rect\"},{\"attributes\":{\"data_source\":{\"id\":\"0175dad7-ba83-4ee9-8801-1cbe88a59f91\",\"type\":\"ColumnDataSource\"},\"glyph\":{\"id\":\"550a7ca9-ba0a-49f3-8116-56012fdf2edc\",\"type\":\"Rect\"},\"hover_glyph\":null,\"nonselection_glyph\":null,\"selection_glyph\":null},\"id\":\"195e5b63-1d99-4c6e-85a1-7b471b060b16\",\"type\":\"GlyphRenderer\"},{\"attributes\":{\"plot\":null,\"text\":\"Median MPG by YR, grouped by ORIGIN\"},\"id\":\"5847754c-c144-48d4-9aeb-07182f03bad2\",\"type\":\"Title\"},{\"attributes\":{\"data_source\":{\"id\":\"3b18228a-2878-4b82-9650-85af1b4c7197\",\"type\":\"ColumnDataSource\"},\"glyph\":{\"id\":\"6838a0f9-30b2-4304-8962-c2dcd9f885b8\",\"type\":\"Rect\"},\"hover_glyph\":null,\"nonselection_glyph\":null,\"selection_glyph\":null},\"id\":\"9994a7bb-2645-4d78-a3ef-feeabe947c51\",\"type\":\"GlyphRenderer\"},{\"attributes\":{\"data_source\":{\"id\":\"655451ea-71c1-4dd8-bf2c-5c86aa869019\",\"type\":\"ColumnDataSource\"},\"glyph\":{\"id\":\"303c595c-0187-456f-ae21-2d3a673ed3c5\",\"type\":\"Rect\"},\"hover_glyph\":null,\"nonselection_glyph\":null,\"selection_glyph\":null},\"id\":\"90cc17ac-6702-4722-a43d-ea13f6119077\",\"type\":\"GlyphRenderer\"},{\"attributes\":{\"callback\":null,\"end\":42.0},\"id\":\"fea033b0-e617-4d6d-847b-78f6272b0252\",\"type\":\"Range1d\"},{\"attributes\":{\"fill_alpha\":{\"field\":\"fill_alpha\"},\"fill_color\":{\"field\":\"color\"},\"height\":{\"field\":\"height\",\"units\":\"data\"},\"line_color\":{\"field\":\"line_color\"},\"width\":{\"field\":\"width\",\"units\":\"data\"},\"x\":{\"field\":\"x\"},\"y\":{\"field\":\"y\"}},\"id\":\"ef1fea72-521f-4e65-a31a-4cd6fe8cfec4\",\"type\":\"Rect\"},{\"attributes\":{\"callback\":null,\"column_names\":[\"line_color\",\"y\",\"height\",\"line_alpha\",\"label\",\"color\",\"x\",\"fill_alpha\",\"width\"],\"data\":{\"chart_index\":[{\"origin\":3,\"yr\":82}],\"color\":[\"#407ee7\"],\"fill_alpha\":[0.8],\"height\":[36.0],\"label\":[{\"origin\":3,\"yr\":82}],\"line_alpha\":[1.0],\"line_color\":[\"white\"],\"origin\":[3],\"width\":[0.2],\"x\":[\"82:0.5\"],\"y\":[18.0],\"yr\":[82]}},\"id\":\"0175dad7-ba83-4ee9-8801-1cbe88a59f91\",\"type\":\"ColumnDataSource\"},{\"attributes\":{\"data_source\":{\"id\":\"a937b464-4e51-4908-962e-d44c37ad3c0d\",\"type\":\"ColumnDataSource\"},\"glyph\":{\"id\":\"09a2a0c2-3e4f-4d72-bf36-1632d94ff70b\",\"type\":\"Rect\"},\"hover_glyph\":null,\"nonselection_glyph\":null,\"selection_glyph\":null},\"id\":\"c4d61639-eac5-4451-8871-20094b0b2582\",\"type\":\"GlyphRenderer\"},{\"attributes\":{\"data_source\":{\"id\":\"a2cc9ecb-02e8-4681-8a44-46a9215936d3\",\"type\":\"ColumnDataSource\"},\"glyph\":{\"id\":\"2c2cd047-e31e-4559-a3c2-8b1109e6d85b\",\"type\":\"Rect\"},\"hover_glyph\":null,\"nonselection_glyph\":null,\"selection_glyph\":null},\"id\":\"2b781709-7cf4-40b9-b9ab-40b74da10d81\",\"type\":\"GlyphRenderer\"},{\"attributes\":{\"callback\":null,\"column_names\":[\"line_color\",\"y\",\"height\",\"line_alpha\",\"label\",\"color\",\"x\",\"fill_alpha\",\"width\"],\"data\":{\"chart_index\":[{\"origin\":3,\"yr\":71}],\"color\":[\"#407ee7\"],\"fill_alpha\":[0.8],\"height\":[29.0],\"label\":[{\"origin\":3,\"yr\":71}],\"line_alpha\":[1.0],\"line_color\":[\"white\"],\"origin\":[3],\"width\":[0.2],\"x\":[\"71:0.5\"],\"y\":[14.5],\"yr\":[71]}},\"id\":\"3fa3b925-e59e-4c9f-af31-88d0246fff3c\",\"type\":\"ColumnDataSource\"},{\"attributes\":{\"data_source\":{\"id\":\"cc2eeb75-05e3-45dd-a76f-c893525bb92b\",\"type\":\"ColumnDataSource\"},\"glyph\":{\"id\":\"66b274eb-b444-4951-a13e-5f3cfcabca96\",\"type\":\"Rect\"},\"hover_glyph\":null,\"nonselection_glyph\":null,\"selection_glyph\":null},\"id\":\"61b6eb2e-de75-4790-a692-413dcac0765a\",\"type\":\"GlyphRenderer\"},{\"attributes\":{\"data_source\":{\"id\":\"46c8f5ab-dc59-4723-b91f-f6ca94788c2b\",\"type\":\"ColumnDataSource\"},\"glyph\":{\"id\":\"08ffd41b-0096-41a6-840f-a874dfee1882\",\"type\":\"Rect\"},\"hover_glyph\":null,\"nonselection_glyph\":null,\"selection_glyph\":null},\"id\":\"3db8413b-7b90-483c-9663-e376c406b764\",\"type\":\"GlyphRenderer\"},{\"attributes\":{\"data_source\":{\"id\":\"3fa3b925-e59e-4c9f-af31-88d0246fff3c\",\"type\":\"ColumnDataSource\"},\"glyph\":{\"id\":\"a1b580bb-a7ee-4e94-a70b-19e3d77fa6c1\",\"type\":\"Rect\"},\"hover_glyph\":null,\"nonselection_glyph\":null,\"selection_glyph\":null},\"id\":\"6d9037c3-1d62-4782-83f8-fbdd2a9e05dc\",\"type\":\"GlyphRenderer\"},{\"attributes\":{\"fill_alpha\":{\"field\":\"fill_alpha\"},\"fill_color\":{\"field\":\"color\"},\"height\":{\"field\":\"height\",\"units\":\"data\"},\"line_color\":{\"field\":\"line_color\"},\"width\":{\"field\":\"width\",\"units\":\"data\"},\"x\":{\"field\":\"x\"},\"y\":{\"field\":\"y\"}},\"id\":\"075b2baa-22a4-469d-8d5f-70942b9a8dec\",\"type\":\"Rect\"},{\"attributes\":{\"data_source\":{\"id\":\"20b48634-aceb-4558-8fa9-7fd125db0ec4\",\"type\":\"ColumnDataSource\"},\"glyph\":{\"id\":\"2c32114d-6d25-4264-96d4-529f07f7292b\",\"type\":\"Rect\"},\"hover_glyph\":null,\"nonselection_glyph\":null,\"selection_glyph\":null},\"id\":\"58784f4b-87a0-401e-889a-f1e2b6356502\",\"type\":\"GlyphRenderer\"},{\"attributes\":{},\"id\":\"9ab3d615-7f9f-4e54-81d1-25e0f4edd462\",\"type\":\"ToolEvents\"},{\"attributes\":{\"callback\":null,\"column_names\":[\"line_color\",\"y\",\"height\",\"line_alpha\",\"label\",\"color\",\"x\",\"fill_alpha\",\"width\"],\"data\":{\"chart_index\":[{\"origin\":1,\"yr\":78}],\"color\":[\"#f22c40\"],\"fill_alpha\":[0.8],\"height\":[20.2],\"label\":[{\"origin\":1,\"yr\":78}],\"line_alpha\":[1.0],\"line_color\":[\"white\"],\"origin\":[1],\"width\":[0.2],\"x\":[\"78:0.25\"],\"y\":[10.1],\"yr\":[78]}},\"id\":\"20b48634-aceb-4558-8fa9-7fd125db0ec4\",\"type\":\"ColumnDataSource\"},{\"attributes\":{\"callback\":null,\"column_names\":[\"line_color\",\"y\",\"height\",\"line_alpha\",\"label\",\"color\",\"x\",\"fill_alpha\",\"width\"],\"data\":{\"chart_index\":[{\"origin\":1,\"yr\":79}],\"color\":[\"#f22c40\"],\"fill_alpha\":[0.8],\"height\":[21.5],\"label\":[{\"origin\":1,\"yr\":79}],\"line_alpha\":[1.0],\"line_color\":[\"white\"],\"origin\":[1],\"width\":[0.2],\"x\":[\"79:0.25\"],\"y\":[10.75],\"yr\":[79]}},\"id\":\"b3d8d7fb-f0a4-4037-8b87-26efe5120e2d\",\"type\":\"ColumnDataSource\"},{\"attributes\":{\"data_source\":{\"id\":\"f06685ad-ea35-444f-990d-935660143afc\",\"type\":\"ColumnDataSource\"},\"glyph\":{\"id\":\"3685d34f-dc55-4a85-bf87-664a8a48f4b5\",\"type\":\"Rect\"},\"hover_glyph\":null,\"nonselection_glyph\":null,\"selection_glyph\":null},\"id\":\"66499615-e1fe-4bfc-89ae-51bcd29445c6\",\"type\":\"GlyphRenderer\"},{\"attributes\":{\"fill_alpha\":{\"field\":\"fill_alpha\"},\"fill_color\":{\"field\":\"color\"},\"height\":{\"field\":\"height\",\"units\":\"data\"},\"line_color\":{\"field\":\"line_color\"},\"width\":{\"field\":\"width\",\"units\":\"data\"},\"x\":{\"field\":\"x\"},\"y\":{\"field\":\"y\"}},\"id\":\"2c32114d-6d25-4264-96d4-529f07f7292b\",\"type\":\"Rect\"},{\"attributes\":{\"data_source\":{\"id\":\"930d8509-6722-4e44-90bf-6090118b9b56\",\"type\":\"ColumnDataSource\"},\"glyph\":{\"id\":\"e1ebb206-fbda-474f-a5bf-0411076f7494\",\"type\":\"Rect\"},\"hover_glyph\":null,\"nonselection_glyph\":null,\"selection_glyph\":null},\"id\":\"39f73388-8b6c-4fa5-8550-2559c1139280\",\"type\":\"GlyphRenderer\"},{\"attributes\":{\"data_source\":{\"id\":\"4b421a56-de10-4cb8-a0e1-74d6d1f677cb\",\"type\":\"ColumnDataSource\"},\"glyph\":{\"id\":\"0aed5e8b-0cfd-4603-96c0-f5a08587845b\",\"type\":\"Rect\"},\"hover_glyph\":null,\"nonselection_glyph\":null,\"selection_glyph\":null},\"id\":\"0207cdd4-cc7e-4dca-8277-7b58bddd9f59\",\"type\":\"GlyphRenderer\"},{\"attributes\":{\"fill_alpha\":{\"field\":\"fill_alpha\"},\"fill_color\":{\"field\":\"color\"},\"height\":{\"field\":\"height\",\"units\":\"data\"},\"line_color\":{\"field\":\"line_color\"},\"width\":{\"field\":\"width\",\"units\":\"data\"},\"x\":{\"field\":\"x\"},\"y\":{\"field\":\"y\"}},\"id\":\"ef45d53c-76f7-4116-94cd-18e70520bd43\",\"type\":\"Rect\"},{\"attributes\":{\"data_source\":{\"id\":\"50b8b3d4-f3b9-4741-8944-8a27f659546d\",\"type\":\"ColumnDataSource\"},\"glyph\":{\"id\":\"fe0088a3-8703-4c24-99d9-4ec5672bc864\",\"type\":\"Rect\"},\"hover_glyph\":null,\"nonselection_glyph\":null,\"selection_glyph\":null},\"id\":\"9cbbe3e7-2efa-49aa-8762-62f56499f2d7\",\"type\":\"GlyphRenderer\"},{\"attributes\":{\"fill_alpha\":{\"field\":\"fill_alpha\"},\"fill_color\":{\"field\":\"color\"},\"height\":{\"field\":\"height\",\"units\":\"data\"},\"line_color\":{\"field\":\"line_color\"},\"width\":{\"field\":\"width\",\"units\":\"data\"},\"x\":{\"field\":\"x\"},\"y\":{\"field\":\"y\"}},\"id\":\"08cfc620-2bc4-4596-869e-f5532ecdbbdf\",\"type\":\"Rect\"},{\"attributes\":{\"callback\":null,\"column_names\":[\"line_color\",\"y\",\"height\",\"line_alpha\",\"label\",\"color\",\"x\",\"fill_alpha\",\"width\"],\"data\":{\"chart_index\":[{\"origin\":1,\"yr\":70}],\"color\":[\"#f22c40\"],\"fill_alpha\":[0.8],\"height\":[15.0],\"label\":[{\"origin\":1,\"yr\":70}],\"line_alpha\":[1.0],\"line_color\":[\"white\"],\"origin\":[1],\"width\":[0.2],\"x\":[\"70:0.25\"],\"y\":[7.5],\"yr\":[70]}},\"id\":\"93a85bb7-95bd-41e8-8398-7d0f06580f46\",\"type\":\"ColumnDataSource\"}],\"root_ids\":[\"d0c2f309-25b5-4fb3-bc33-08582e6fcce8\"]},\"title\":\"Bokeh Application\",\"version\":\"0.12.0\"}};\n",
       "            var render_items = [{\"docid\":\"3303f0b7-61ca-406c-9458-d8c2918e8385\",\"elementid\":\"4882f151-daaa-472a-80a0-50efc0050a32\",\"modelid\":\"d0c2f309-25b5-4fb3-bc33-08582e6fcce8\",\"notebook_comms_target\":\"dc1785af-98b3-42bc-9c20-c178abee6749\"}];\n",
       "            \n",
       "            Bokeh.embed.embed_items(docs_json, render_items);\n",
       "        });\n",
       "      },\n",
       "      function(Bokeh) {\n",
       "      }\n",
       "    ];\n",
       "  \n",
       "    function run_inline_js() {\n",
       "      for (var i = 0; i < inline_js.length; i++) {\n",
       "        inline_js[i](window.Bokeh);\n",
       "      }\n",
       "    }\n",
       "  \n",
       "    if (window._bokeh_is_loading === 0) {\n",
       "      console.log(\"Bokeh: BokehJS loaded, going straight to plotting\");\n",
       "      run_inline_js();\n",
       "    } else {\n",
       "      load_libs(js_urls, function() {\n",
       "        console.log(\"Bokeh: BokehJS plotting callback run at\", now());\n",
       "        run_inline_js();\n",
       "      });\n",
       "    }\n",
       "  }(this));\n",
       "</script>"
      ]
     },
     "metadata": {},
     "output_type": "display_data"
    },
    {
     "data": {
      "text/html": [
       "<p><code>&lt;Bokeh Notebook handle for <strong>In[18]</strong>&gt;</code></p>"
      ],
      "text/plain": [
       "<bokeh.io._CommsHandle at 0x10d81f240>"
      ]
     },
     "execution_count": 10,
     "metadata": {},
     "output_type": "execute_result"
    }
   ],
   "source": [
    "p = Bar(autompg, label='yr', values='mpg', agg='median', group='origin', \n",
    "        title=\"Median MPG by YR, grouped by ORIGIN\", legend='top_left', tools='crosshair')\n",
    "show(p)"
   ]
  },
  {
   "cell_type": "markdown",
   "metadata": {},
   "source": [
    "Similarly, bars for subgroups can be stacked visually, by providing a column name for the `stack` parameter. Let's try that as an exercise."
   ]
  },
  {
   "cell_type": "code",
   "execution_count": 11,
   "metadata": {
    "collapsed": false
   },
   "outputs": [],
   "source": [
    "# EXERCISE: change the chart above to stack the bars with title \"Median MPG by YR, stacked by ORIGIN\"\n"
   ]
  },
  {
   "cell_type": "markdown",
   "metadata": {},
   "source": [
    "# Histogram\n",
    "\n",
    "A high-level Histogram is provided by [`bokeh.charts.Histogram`]()\n",
    "\n",
    "For this section, we will construct our own synthetic data set that has values generated from two different probability distributions. "
   ]
  },
  {
   "cell_type": "code",
   "execution_count": 12,
   "metadata": {
    "collapsed": false
   },
   "outputs": [
    {
     "data": {
      "text/html": [
       "<div>\n",
       "<table border=\"1\" class=\"dataframe\">\n",
       "  <thead>\n",
       "    <tr style=\"text-align: right;\">\n",
       "      <th></th>\n",
       "      <th>type</th>\n",
       "      <th>value</th>\n",
       "    </tr>\n",
       "  </thead>\n",
       "  <tbody>\n",
       "    <tr>\n",
       "      <th>995</th>\n",
       "      <td>normal</td>\n",
       "      <td>0.435500</td>\n",
       "    </tr>\n",
       "    <tr>\n",
       "      <th>996</th>\n",
       "      <td>normal</td>\n",
       "      <td>-0.708698</td>\n",
       "    </tr>\n",
       "    <tr>\n",
       "      <th>997</th>\n",
       "      <td>normal</td>\n",
       "      <td>0.486509</td>\n",
       "    </tr>\n",
       "    <tr>\n",
       "      <th>998</th>\n",
       "      <td>normal</td>\n",
       "      <td>0.253977</td>\n",
       "    </tr>\n",
       "    <tr>\n",
       "      <th>999</th>\n",
       "      <td>normal</td>\n",
       "      <td>-0.603411</td>\n",
       "    </tr>\n",
       "    <tr>\n",
       "      <th>0</th>\n",
       "      <td>lognormal</td>\n",
       "      <td>1.488537</td>\n",
       "    </tr>\n",
       "    <tr>\n",
       "      <th>1</th>\n",
       "      <td>lognormal</td>\n",
       "      <td>0.389848</td>\n",
       "    </tr>\n",
       "    <tr>\n",
       "      <th>2</th>\n",
       "      <td>lognormal</td>\n",
       "      <td>0.436054</td>\n",
       "    </tr>\n",
       "    <tr>\n",
       "      <th>3</th>\n",
       "      <td>lognormal</td>\n",
       "      <td>1.108267</td>\n",
       "    </tr>\n",
       "    <tr>\n",
       "      <th>4</th>\n",
       "      <td>lognormal</td>\n",
       "      <td>0.823834</td>\n",
       "    </tr>\n",
       "  </tbody>\n",
       "</table>\n",
       "</div>"
      ],
      "text/plain": [
       "          type     value\n",
       "995     normal  0.435500\n",
       "996     normal -0.708698\n",
       "997     normal  0.486509\n",
       "998     normal  0.253977\n",
       "999     normal -0.603411\n",
       "0    lognormal  1.488537\n",
       "1    lognormal  0.389848\n",
       "2    lognormal  0.436054\n",
       "3    lognormal  1.108267\n",
       "4    lognormal  0.823834"
      ]
     },
     "execution_count": 12,
     "metadata": {},
     "output_type": "execute_result"
    }
   ],
   "source": [
    "import pandas as pd\n",
    "import numpy as np\n",
    "\n",
    "# build some distributions\n",
    "mu, sigma = 0, 0.5\n",
    "normal = pd.DataFrame({'value': np.random.normal(mu, sigma, 1000), 'type': 'normal'})\n",
    "lognormal = pd.DataFrame({'value': np.random.lognormal(mu, sigma, 1000), 'type': 'lognormal'})\n",
    "\n",
    "# create a pandas data frame\n",
    "df = pd.concat([normal, lognormal])\n",
    "df[995:1005]"
   ]
  },
  {
   "cell_type": "code",
   "execution_count": 13,
   "metadata": {
    "collapsed": true
   },
   "outputs": [],
   "source": [
    "from bokeh.charts import Histogram"
   ]
  },
  {
   "cell_type": "markdown",
   "metadata": {},
   "source": [
    "A basic histogram takes the data as the first parameter, and a column name as the `values` parameter. Optionally, you can also specify the number of bins to use by giving a value for the `bins` parameter. The example below shows the distribution of ***all*** the values (both the \"normal\" and \"lognormal\" values). "
   ]
  },
  {
   "cell_type": "code",
   "execution_count": 14,
   "metadata": {
    "collapsed": false
   },
   "outputs": [
    {
     "data": {
      "text/html": [
       "\n",
       "\n",
       "    <div class=\"bk-root\">\n",
       "        <div class=\"plotdiv\" id=\"d1f115b7-f581-4a84-8612-f3ed02a2f91c\"></div>\n",
       "    </div>\n",
       "<script type=\"text/javascript\">\n",
       "  \n",
       "  (function(global) {\n",
       "    function now() {\n",
       "      return new Date();\n",
       "    }\n",
       "  \n",
       "    if (typeof (window._bokeh_onload_callbacks) === \"undefined\") {\n",
       "      window._bokeh_onload_callbacks = [];\n",
       "    }\n",
       "  \n",
       "    function run_callbacks() {\n",
       "      window._bokeh_onload_callbacks.forEach(function(callback) { callback() });\n",
       "      delete window._bokeh_onload_callbacks\n",
       "      console.info(\"Bokeh: all callbacks have finished\");\n",
       "    }\n",
       "  \n",
       "    function load_libs(js_urls, callback) {\n",
       "      window._bokeh_onload_callbacks.push(callback);\n",
       "      if (window._bokeh_is_loading > 0) {\n",
       "        console.log(\"Bokeh: BokehJS is being loaded, scheduling callback at\", now());\n",
       "        return null;\n",
       "      }\n",
       "      if (js_urls == null || js_urls.length === 0) {\n",
       "        run_callbacks();\n",
       "        return null;\n",
       "      }\n",
       "      console.log(\"Bokeh: BokehJS not loaded, scheduling load and callback at\", now());\n",
       "      window._bokeh_is_loading = js_urls.length;\n",
       "      for (var i = 0; i < js_urls.length; i++) {\n",
       "        var url = js_urls[i];\n",
       "        var s = document.createElement('script');\n",
       "        s.src = url;\n",
       "        s.async = false;\n",
       "        s.onreadystatechange = s.onload = function() {\n",
       "          window._bokeh_is_loading--;\n",
       "          if (window._bokeh_is_loading === 0) {\n",
       "            console.log(\"Bokeh: all BokehJS libraries loaded\");\n",
       "            run_callbacks()\n",
       "          }\n",
       "        };\n",
       "        s.onerror = function() {\n",
       "          console.warn(\"failed to load library \" + url);\n",
       "        };\n",
       "        console.log(\"Bokeh: injecting script tag for BokehJS library: \", url);\n",
       "        document.getElementsByTagName(\"head\")[0].appendChild(s);\n",
       "      }\n",
       "    };var element = document.getElementById(\"d1f115b7-f581-4a84-8612-f3ed02a2f91c\");\n",
       "    if (element == null) {\n",
       "      console.log(\"Bokeh: ERROR: autoload.js configured with elementid 'd1f115b7-f581-4a84-8612-f3ed02a2f91c' but no matching script tag was found. \")\n",
       "      return false;\n",
       "    }\n",
       "  \n",
       "    var js_urls = [];\n",
       "  \n",
       "    var inline_js = [\n",
       "      function(Bokeh) {\n",
       "        Bokeh.$(function() {\n",
       "            var docs_json = {\"36cda22e-ea15-43f6-a43b-05edb066be21\":{\"roots\":{\"references\":[{\"attributes\":{\"data_source\":{\"id\":\"8075368a-3fbe-4d94-9447-cd8980067888\",\"type\":\"ColumnDataSource\"},\"glyph\":{\"id\":\"578208fd-aa7e-49ef-aa66-fba1a5b0a051\",\"type\":\"Rect\"},\"hover_glyph\":null,\"nonselection_glyph\":null,\"selection_glyph\":null},\"id\":\"3de71668-c779-44af-9ace-b05b400c1818\",\"type\":\"GlyphRenderer\"},{\"attributes\":{\"callback\":null,\"column_names\":[\"line_color\",\"y\",\"height\",\"line_alpha\",\"label\",\"color\",\"x\",\"fill_alpha\",\"width\"],\"data\":{\"chart_index\":[\"(4.0, 4.2]\"],\"color\":[\"#f22c40\"],\"fill_alpha\":[0.8],\"height\":[0.0],\"label\":[\"(4.0, 4.2]\"],\"line_alpha\":[1.0],\"line_color\":[\"black\"],\"width\":[0.2133726463934229],\"x\":[\"4.1\"],\"y\":[0.0]}},\"id\":\"5a163df7-44fc-433b-b2df-7853ec871be8\",\"type\":\"ColumnDataSource\"},{\"attributes\":{\"data_source\":{\"id\":\"09d91b81-5878-4153-9905-1029acd6896f\",\"type\":\"ColumnDataSource\"},\"glyph\":{\"id\":\"de028703-7f2e-449c-b3eb-e1118ad81110\",\"type\":\"Rect\"},\"hover_glyph\":null,\"nonselection_glyph\":null,\"selection_glyph\":null},\"id\":\"92508633-d686-4ba4-9914-1b919fd2915a\",\"type\":\"GlyphRenderer\"},{\"attributes\":{\"data_source\":{\"id\":\"c3565646-df29-499d-84bc-e19ae238a23f\",\"type\":\"ColumnDataSource\"},\"glyph\":{\"id\":\"45206bdb-2f19-470c-b0af-65df55d5fe41\",\"type\":\"Rect\"},\"hover_glyph\":null,\"nonselection_glyph\":null,\"selection_glyph\":null},\"id\":\"8b78627f-dd2b-4168-a5d3-17dd7848c20e\",\"type\":\"GlyphRenderer\"},{\"attributes\":{\"fill_alpha\":{\"field\":\"fill_alpha\"},\"fill_color\":{\"field\":\"color\"},\"height\":{\"field\":\"height\",\"units\":\"data\"},\"line_color\":{\"field\":\"line_color\"},\"width\":{\"field\":\"width\",\"units\":\"data\"},\"x\":{\"field\":\"x\"},\"y\":{\"field\":\"y\"}},\"id\":\"7acd46b2-c40f-4ec1-82bf-0801de96eb33\",\"type\":\"Rect\"},{\"attributes\":{\"callback\":null,\"column_names\":[\"line_color\",\"y\",\"height\",\"line_alpha\",\"label\",\"color\",\"x\",\"fill_alpha\",\"width\"],\"data\":{\"chart_index\":[\"[-1.5, -1.3]\"],\"color\":[\"#f22c40\"],\"fill_alpha\":[0.8],\"height\":[4.0],\"label\":[\"[-1.5, -1.3]\"],\"line_alpha\":[1.0],\"line_color\":[\"black\"],\"width\":[0.21337264639342268],\"x\":[\"-1.4\"],\"y\":[2.0]}},\"id\":\"656b7ee3-36be-4f5c-b6ff-c7c0704f7efb\",\"type\":\"ColumnDataSource\"},{\"attributes\":{\"fill_alpha\":{\"field\":\"fill_alpha\"},\"fill_color\":{\"field\":\"color\"},\"height\":{\"field\":\"height\",\"units\":\"data\"},\"line_color\":{\"field\":\"line_color\"},\"width\":{\"field\":\"width\",\"units\":\"data\"},\"x\":{\"field\":\"x\"},\"y\":{\"field\":\"y\"}},\"id\":\"bb55b7a6-3d07-4f94-99cb-beeb0f656eb1\",\"type\":\"Rect\"},{\"attributes\":{\"bottom_units\":\"screen\",\"fill_alpha\":{\"value\":0.5},\"fill_color\":{\"value\":\"lightgrey\"},\"left_units\":\"screen\",\"level\":\"overlay\",\"line_alpha\":{\"value\":1.0},\"line_color\":{\"value\":\"black\"},\"line_dash\":[4,4],\"line_width\":{\"value\":2},\"plot\":null,\"render_mode\":\"css\",\"right_units\":\"screen\",\"top_units\":\"screen\"},\"id\":\"78e37686-0485-4565-9726-ee64af043464\",\"type\":\"BoxAnnotation\"},{\"attributes\":{},\"id\":\"fb4f5e8f-c65b-497f-b034-7e34cd9b213c\",\"type\":\"ToolEvents\"},{\"attributes\":{\"data_source\":{\"id\":\"25cebf2b-0413-496c-81a9-b3d6d2ea4101\",\"type\":\"ColumnDataSource\"},\"glyph\":{\"id\":\"4dfd0653-7bba-4bf9-8d67-c1be3f7c16cf\",\"type\":\"Rect\"},\"hover_glyph\":null,\"nonselection_glyph\":null,\"selection_glyph\":null},\"id\":\"070af23a-6563-48f5-9e45-4dc946867603\",\"type\":\"GlyphRenderer\"},{\"attributes\":{\"data_source\":{\"id\":\"cb8cc74d-4c6a-431c-9fac-ed7310ca15e4\",\"type\":\"ColumnDataSource\"},\"glyph\":{\"id\":\"95391207-a745-4aff-bc55-c85fba127abd\",\"type\":\"Rect\"},\"hover_glyph\":null,\"nonselection_glyph\":null,\"selection_glyph\":null},\"id\":\"e15d4a57-d76a-4a9a-94fc-3aa95099356a\",\"type\":\"GlyphRenderer\"},{\"attributes\":{\"fill_alpha\":{\"field\":\"fill_alpha\"},\"fill_color\":{\"field\":\"color\"},\"height\":{\"field\":\"height\",\"units\":\"data\"},\"line_color\":{\"field\":\"line_color\"},\"width\":{\"field\":\"width\",\"units\":\"data\"},\"x\":{\"field\":\"x\"},\"y\":{\"field\":\"y\"}},\"id\":\"95391207-a745-4aff-bc55-c85fba127abd\",\"type\":\"Rect\"},{\"attributes\":{\"data_source\":{\"id\":\"3c5d1d0a-4b97-443f-ae06-042062e9ff19\",\"type\":\"ColumnDataSource\"},\"glyph\":{\"id\":\"518ec5a5-d934-4bba-a1cb-0b93659300ff\",\"type\":\"Rect\"},\"hover_glyph\":null,\"nonselection_glyph\":null,\"selection_glyph\":null},\"id\":\"64e7ae49-7dbc-46d0-afbb-6cdbfa8f0c56\",\"type\":\"GlyphRenderer\"},{\"attributes\":{\"callback\":null,\"column_names\":[\"line_color\",\"y\",\"height\",\"line_alpha\",\"label\",\"color\",\"x\",\"fill_alpha\",\"width\"],\"data\":{\"chart_index\":[\"(-0.7, -0.5]\"],\"color\":[\"#f22c40\"],\"fill_alpha\":[0.8],\"height\":[87.0],\"label\":[\"(-0.7, -0.5]\"],\"line_alpha\":[1.0],\"line_color\":[\"black\"],\"width\":[0.2133726463934229],\"x\":[\"-0.6\"],\"y\":[43.5]}},\"id\":\"d32fab9c-c0e0-4ef9-b00f-fb0e06f6e0d2\",\"type\":\"ColumnDataSource\"},{\"attributes\":{\"callback\":null,\"column_names\":[\"line_color\",\"y\",\"height\",\"line_alpha\",\"label\",\"color\",\"x\",\"fill_alpha\",\"width\"],\"data\":{\"chart_index\":[\"(3.2, 3.4]\"],\"color\":[\"#f22c40\"],\"fill_alpha\":[0.8],\"height\":[3.0],\"label\":[\"(3.2, 3.4]\"],\"line_alpha\":[1.0],\"line_color\":[\"black\"],\"width\":[0.2133726463934229],\"x\":[\"3.3\"],\"y\":[1.5]}},\"id\":\"e784d4b1-89d9-4732-a701-3774e23e90b5\",\"type\":\"ColumnDataSource\"},{\"attributes\":{\"data_source\":{\"id\":\"008dcfc4-5bf2-4aa3-b71a-b8cd788e0e50\",\"type\":\"ColumnDataSource\"},\"glyph\":{\"id\":\"4e44bd17-1fcc-4b44-a202-640212949bfc\",\"type\":\"Rect\"},\"hover_glyph\":null,\"nonselection_glyph\":null,\"selection_glyph\":null},\"id\":\"0c80637d-ece1-44c3-bdbe-1a0777b39d95\",\"type\":\"GlyphRenderer\"},{\"attributes\":{\"fill_alpha\":{\"field\":\"fill_alpha\"},\"fill_color\":{\"field\":\"color\"},\"height\":{\"field\":\"height\",\"units\":\"data\"},\"line_color\":{\"field\":\"line_color\"},\"width\":{\"field\":\"width\",\"units\":\"data\"},\"x\":{\"field\":\"x\"},\"y\":{\"field\":\"y\"}},\"id\":\"776ca215-3ff9-49c0-aa7e-c1c3afead2c8\",\"type\":\"Rect\"},{\"attributes\":{\"plot\":{\"id\":\"b883e17b-0a27-4849-be93-89aeb06349e1\",\"subtype\":\"Chart\",\"type\":\"Plot\"}},\"id\":\"8699aa64-c6b6-4e6b-b1e3-b391f93cc03a\",\"type\":\"HelpTool\"},{\"attributes\":{\"data_source\":{\"id\":\"b8c1d26b-bd20-40cd-bdf5-0e21b2ee06bd\",\"type\":\"ColumnDataSource\"},\"glyph\":{\"id\":\"00a2a24f-c936-407c-ba7a-3991de2dd584\",\"type\":\"Rect\"},\"hover_glyph\":null,\"nonselection_glyph\":null,\"selection_glyph\":null},\"id\":\"e800c473-7769-419b-a34c-68a126dc86dc\",\"type\":\"GlyphRenderer\"},{\"attributes\":{\"plot\":null,\"text\":null},\"id\":\"cb64296f-686b-479f-a387-7dc3b5d8db7a\",\"type\":\"Title\"},{\"attributes\":{},\"id\":\"7a86dc47-e02b-462e-8525-85c30fb45a41\",\"type\":\"BasicTickFormatter\"},{\"attributes\":{\"callback\":null,\"column_names\":[\"line_color\",\"y\",\"height\",\"line_alpha\",\"label\",\"color\",\"x\",\"fill_alpha\",\"width\"],\"data\":{\"chart_index\":[\"(4.4, 4.7]\"],\"color\":[\"#f22c40\"],\"fill_alpha\":[0.8],\"height\":[0.0],\"label\":[\"(4.4, 4.7]\"],\"line_alpha\":[1.0],\"line_color\":[\"black\"],\"width\":[0.2133726463934229],\"x\":[\"4.550000000000001\"],\"y\":[0.0]}},\"id\":\"1c7dc03a-143a-42ae-9f31-280e728d28e6\",\"type\":\"ColumnDataSource\"},{\"attributes\":{\"fill_alpha\":{\"field\":\"fill_alpha\"},\"fill_color\":{\"field\":\"color\"},\"height\":{\"field\":\"height\",\"units\":\"data\"},\"line_color\":{\"field\":\"line_color\"},\"width\":{\"field\":\"width\",\"units\":\"data\"},\"x\":{\"field\":\"x\"},\"y\":{\"field\":\"y\"}},\"id\":\"bd66e40b-1cf2-437c-80c8-365b140ed4dc\",\"type\":\"Rect\"},{\"attributes\":{\"axis_label\":\"value\",\"formatter\":{\"id\":\"7a86dc47-e02b-462e-8525-85c30fb45a41\",\"type\":\"BasicTickFormatter\"},\"plot\":{\"id\":\"b883e17b-0a27-4849-be93-89aeb06349e1\",\"subtype\":\"Chart\",\"type\":\"Plot\"},\"ticker\":{\"id\":\"47483f4e-5165-4db9-b607-479c95970214\",\"type\":\"BasicTicker\"}},\"id\":\"80fcd4e5-95ae-4347-927a-58530ba75473\",\"type\":\"LinearAxis\"},{\"attributes\":{\"callback\":null,\"column_names\":[\"line_color\",\"y\",\"height\",\"line_alpha\",\"label\",\"color\",\"x\",\"fill_alpha\",\"width\"],\"data\":{\"chart_index\":[\"(4.7, 4.9]\"],\"color\":[\"#f22c40\"],\"fill_alpha\":[0.8],\"height\":[1.0],\"label\":[\"(4.7, 4.9]\"],\"line_alpha\":[1.0],\"line_color\":[\"black\"],\"width\":[0.2133726463934229],\"x\":[\"4.800000000000001\"],\"y\":[0.5]}},\"id\":\"3c5d1d0a-4b97-443f-ae06-042062e9ff19\",\"type\":\"ColumnDataSource\"},{\"attributes\":{\"callback\":null,\"column_names\":[\"line_color\",\"y\",\"height\",\"line_alpha\",\"label\",\"color\",\"x\",\"fill_alpha\",\"width\"],\"data\":{\"chart_index\":[\"(4.2, 4.4]\"],\"color\":[\"#f22c40\"],\"fill_alpha\":[0.8],\"height\":[0.0],\"label\":[\"(4.2, 4.4]\"],\"line_alpha\":[1.0],\"line_color\":[\"black\"],\"width\":[0.21337264639342202],\"x\":[\"4.300000000000001\"],\"y\":[0.0]}},\"id\":\"cb8cc74d-4c6a-431c-9fac-ed7310ca15e4\",\"type\":\"ColumnDataSource\"},{\"attributes\":{\"callback\":null,\"column_names\":[\"line_color\",\"y\",\"height\",\"line_alpha\",\"label\",\"color\",\"x\",\"fill_alpha\",\"width\"],\"data\":{\"chart_index\":[\"(2.3, 2.5]\"],\"color\":[\"#f22c40\"],\"fill_alpha\":[0.8],\"height\":[10.0],\"label\":[\"(2.3, 2.5]\"],\"line_alpha\":[1.0],\"line_color\":[\"black\"],\"width\":[0.2133726463934229],\"x\":[\"2.4\"],\"y\":[5.0]}},\"id\":\"83509e41-d2b0-4dcf-b27c-5c89b1569a57\",\"type\":\"ColumnDataSource\"},{\"attributes\":{\"data_source\":{\"id\":\"15a1b0e9-effc-4f06-837c-50b3ea22d172\",\"type\":\"ColumnDataSource\"},\"glyph\":{\"id\":\"626d4560-12f1-43c1-a116-5a337645e4bc\",\"type\":\"Rect\"},\"hover_glyph\":null,\"nonselection_glyph\":null,\"selection_glyph\":null},\"id\":\"8a349dc5-514a-4c19-9d7f-010645082522\",\"type\":\"GlyphRenderer\"},{\"attributes\":{\"data_source\":{\"id\":\"e784d4b1-89d9-4732-a701-3774e23e90b5\",\"type\":\"ColumnDataSource\"},\"glyph\":{\"id\":\"c803534c-b4bb-4311-bd33-322d340fb6fb\",\"type\":\"Rect\"},\"hover_glyph\":null,\"nonselection_glyph\":null,\"selection_glyph\":null},\"id\":\"6e637978-0ec2-4ea8-bcfe-20269161487b\",\"type\":\"GlyphRenderer\"},{\"attributes\":{\"fill_alpha\":{\"field\":\"fill_alpha\"},\"fill_color\":{\"field\":\"color\"},\"height\":{\"field\":\"height\",\"units\":\"data\"},\"line_color\":{\"field\":\"line_color\"},\"width\":{\"field\":\"width\",\"units\":\"data\"},\"x\":{\"field\":\"x\"},\"y\":{\"field\":\"y\"}},\"id\":\"00a2a24f-c936-407c-ba7a-3991de2dd584\",\"type\":\"Rect\"},{\"attributes\":{\"fill_alpha\":{\"field\":\"fill_alpha\"},\"fill_color\":{\"field\":\"color\"},\"height\":{\"field\":\"height\",\"units\":\"data\"},\"line_color\":{\"field\":\"line_color\"},\"width\":{\"field\":\"width\",\"units\":\"data\"},\"x\":{\"field\":\"x\"},\"y\":{\"field\":\"y\"}},\"id\":\"371c6207-602f-47cb-9524-7fc1c4e1c416\",\"type\":\"Rect\"},{\"attributes\":{\"data_source\":{\"id\":\"62be8f09-7b60-4734-a8a7-dd15a7cc85d0\",\"type\":\"ColumnDataSource\"},\"glyph\":{\"id\":\"2df0e4a1-1d1f-42d7-9135-f23c36ccaa8d\",\"type\":\"Rect\"},\"hover_glyph\":null,\"nonselection_glyph\":null,\"selection_glyph\":null},\"id\":\"2727e3d5-8c02-4094-a0d0-234753f6f569\",\"type\":\"GlyphRenderer\"},{\"attributes\":{\"callback\":null,\"column_names\":[\"line_color\",\"y\",\"height\",\"line_alpha\",\"label\",\"color\",\"x\",\"fill_alpha\",\"width\"],\"data\":{\"chart_index\":[\"(0.4, 0.6]\"],\"color\":[\"#f22c40\"],\"fill_alpha\":[0.8],\"height\":[235.0],\"label\":[\"(0.4, 0.6]\"],\"line_alpha\":[1.0],\"line_color\":[\"black\"],\"width\":[0.2133726463934229],\"x\":[\"0.5\"],\"y\":[117.5]}},\"id\":\"b8c1d26b-bd20-40cd-bdf5-0e21b2ee06bd\",\"type\":\"ColumnDataSource\"},{\"attributes\":{},\"id\":\"47483f4e-5165-4db9-b607-479c95970214\",\"type\":\"BasicTicker\"},{\"attributes\":{\"fill_alpha\":{\"field\":\"fill_alpha\"},\"fill_color\":{\"field\":\"color\"},\"height\":{\"field\":\"height\",\"units\":\"data\"},\"line_color\":{\"field\":\"line_color\"},\"width\":{\"field\":\"width\",\"units\":\"data\"},\"x\":{\"field\":\"x\"},\"y\":{\"field\":\"y\"}},\"id\":\"ee9fdafd-b0d2-4bb5-a3da-15a61f1bf2a0\",\"type\":\"Rect\"},{\"attributes\":{\"callback\":null,\"column_names\":[\"line_color\",\"y\",\"height\",\"line_alpha\",\"label\",\"color\",\"x\",\"fill_alpha\",\"width\"],\"data\":{\"chart_index\":[\"(0.8, 1.0]\"],\"color\":[\"#f22c40\"],\"fill_alpha\":[0.8],\"height\":[218.0],\"label\":[\"(0.8, 1.0]\"],\"line_alpha\":[1.0],\"line_color\":[\"black\"],\"width\":[0.2133726463934229],\"x\":[\"0.9\"],\"y\":[109.0]}},\"id\":\"09d91b81-5878-4153-9905-1029acd6896f\",\"type\":\"ColumnDataSource\"},{\"attributes\":{\"callback\":null,\"column_names\":[\"line_color\",\"y\",\"height\",\"line_alpha\",\"label\",\"color\",\"x\",\"fill_alpha\",\"width\"],\"data\":{\"chart_index\":[\"(1.2, 1.5]\"],\"color\":[\"#f22c40\"],\"fill_alpha\":[0.8],\"height\":[101.0],\"label\":[\"(1.2, 1.5]\"],\"line_alpha\":[1.0],\"line_color\":[\"black\"],\"width\":[0.21337264639342246],\"x\":[\"1.35\"],\"y\":[50.5]}},\"id\":\"df639f91-5342-4adc-adb3-25b2a8746c6c\",\"type\":\"ColumnDataSource\"},{\"attributes\":{},\"id\":\"5a27ecd0-4e8e-4ecc-b7ba-184bf9497566\",\"type\":\"BasicTickFormatter\"},{\"attributes\":{\"axis_label\":\"Count( Value )\",\"formatter\":{\"id\":\"5a27ecd0-4e8e-4ecc-b7ba-184bf9497566\",\"type\":\"BasicTickFormatter\"},\"plot\":{\"id\":\"b883e17b-0a27-4849-be93-89aeb06349e1\",\"subtype\":\"Chart\",\"type\":\"Plot\"},\"ticker\":{\"id\":\"4da42118-9ba5-4259-9d12-3dc768e4f550\",\"type\":\"BasicTicker\"}},\"id\":\"972d907d-8e2d-42b9-be61-6ae3d1b4b140\",\"type\":\"LinearAxis\"},{\"attributes\":{\"data_source\":{\"id\":\"09d1e6d5-adb2-42fc-b142-229e525cbfaf\",\"type\":\"ColumnDataSource\"},\"glyph\":{\"id\":\"776ca215-3ff9-49c0-aa7e-c1c3afead2c8\",\"type\":\"Rect\"},\"hover_glyph\":null,\"nonselection_glyph\":null,\"selection_glyph\":null},\"id\":\"1c72c16a-ce6a-425b-af9a-eb76c694b13f\",\"type\":\"GlyphRenderer\"},{\"attributes\":{\"data_source\":{\"id\":\"48e4f764-8892-4e59-b577-77441a2603a5\",\"type\":\"ColumnDataSource\"},\"glyph\":{\"id\":\"371c6207-602f-47cb-9524-7fc1c4e1c416\",\"type\":\"Rect\"},\"hover_glyph\":null,\"nonselection_glyph\":null,\"selection_glyph\":null},\"id\":\"fca423f9-b6b6-43aa-a5eb-58a900535231\",\"type\":\"GlyphRenderer\"},{\"attributes\":{\"plot\":{\"id\":\"b883e17b-0a27-4849-be93-89aeb06349e1\",\"subtype\":\"Chart\",\"type\":\"Plot\"}},\"id\":\"3ca43609-5cb3-4474-aa14-b71c2c87a686\",\"type\":\"ResetTool\"},{\"attributes\":{\"fill_alpha\":{\"field\":\"fill_alpha\"},\"fill_color\":{\"field\":\"color\"},\"height\":{\"field\":\"height\",\"units\":\"data\"},\"line_color\":{\"field\":\"line_color\"},\"width\":{\"field\":\"width\",\"units\":\"data\"},\"x\":{\"field\":\"x\"},\"y\":{\"field\":\"y\"}},\"id\":\"933ed1a4-8779-4609-b08a-1d053b25c9c2\",\"type\":\"Rect\"},{\"attributes\":{},\"id\":\"4da42118-9ba5-4259-9d12-3dc768e4f550\",\"type\":\"BasicTicker\"},{\"attributes\":{\"fill_alpha\":{\"field\":\"fill_alpha\"},\"fill_color\":{\"field\":\"color\"},\"height\":{\"field\":\"height\",\"units\":\"data\"},\"line_color\":{\"field\":\"line_color\"},\"width\":{\"field\":\"width\",\"units\":\"data\"},\"x\":{\"field\":\"x\"},\"y\":{\"field\":\"y\"}},\"id\":\"4dfd0653-7bba-4bf9-8d67-c1be3f7c16cf\",\"type\":\"Rect\"},{\"attributes\":{\"callback\":null,\"column_names\":[\"line_color\",\"y\",\"height\",\"line_alpha\",\"label\",\"color\",\"x\",\"fill_alpha\",\"width\"],\"data\":{\"chart_index\":[\"(-0.0, 0.2]\"],\"color\":[\"#f22c40\"],\"fill_alpha\":[0.8],\"height\":[177.0],\"label\":[\"(-0.0, 0.2]\"],\"line_alpha\":[1.0],\"line_color\":[\"black\"],\"width\":[0.2133726463934229],\"x\":[\"0.1\"],\"y\":[88.5]}},\"id\":\"62be8f09-7b60-4734-a8a7-dd15a7cc85d0\",\"type\":\"ColumnDataSource\"},{\"attributes\":{\"callback\":null,\"column_names\":[\"line_color\",\"y\",\"height\",\"line_alpha\",\"label\",\"color\",\"x\",\"fill_alpha\",\"width\"],\"data\":{\"chart_index\":[\"(1.7, 1.9]\"],\"color\":[\"#f22c40\"],\"fill_alpha\":[0.8],\"height\":[45.0],\"label\":[\"(1.7, 1.9]\"],\"line_alpha\":[1.0],\"line_color\":[\"black\"],\"width\":[0.2133726463934229],\"x\":[\"1.7999999999999998\"],\"y\":[22.5]}},\"id\":\"e8dc20a7-5c1d-468d-a22e-60dd525acf5b\",\"type\":\"ColumnDataSource\"},{\"attributes\":{\"callback\":null,\"end\":4.991686323196713,\"start\":-1.5916863231967113},\"id\":\"e3619412-a385-4000-9cca-7bdca9287667\",\"type\":\"Range1d\"},{\"attributes\":{\"callback\":null,\"column_names\":[\"line_color\",\"y\",\"height\",\"line_alpha\",\"label\",\"color\",\"x\",\"fill_alpha\",\"width\"],\"data\":{\"chart_index\":[\"(-0.5, -0.3]\"],\"color\":[\"#f22c40\"],\"fill_alpha\":[0.8],\"height\":[135.0],\"label\":[\"(-0.5, -0.3]\"],\"line_alpha\":[1.0],\"line_color\":[\"black\"],\"width\":[0.21337264639342268],\"x\":[\"-0.4\"],\"y\":[67.5]}},\"id\":\"c3565646-df29-499d-84bc-e19ae238a23f\",\"type\":\"ColumnDataSource\"},{\"attributes\":{\"data_source\":{\"id\":\"2d9a85e7-cebe-4b5d-a6f6-14725510a3b9\",\"type\":\"ColumnDataSource\"},\"glyph\":{\"id\":\"470327d7-052e-4fbc-8353-ba1f8d31c23c\",\"type\":\"Rect\"},\"hover_glyph\":null,\"nonselection_glyph\":null,\"selection_glyph\":null},\"id\":\"35faacad-c9ca-45b1-bd5f-72a7cd06f78e\",\"type\":\"GlyphRenderer\"},{\"attributes\":{\"data_source\":{\"id\":\"656b7ee3-36be-4f5c-b6ff-c7c0704f7efb\",\"type\":\"ColumnDataSource\"},\"glyph\":{\"id\":\"9a168012-cb2c-4227-9b84-abd74e9e5356\",\"type\":\"Rect\"},\"hover_glyph\":null,\"nonselection_glyph\":null,\"selection_glyph\":null},\"id\":\"b0970ace-9e5f-4416-813c-d2abbf054696\",\"type\":\"GlyphRenderer\"},{\"attributes\":{\"fill_alpha\":{\"field\":\"fill_alpha\"},\"fill_color\":{\"field\":\"color\"},\"height\":{\"field\":\"height\",\"units\":\"data\"},\"line_color\":{\"field\":\"line_color\"},\"width\":{\"field\":\"width\",\"units\":\"data\"},\"x\":{\"field\":\"x\"},\"y\":{\"field\":\"y\"}},\"id\":\"eb88ffb7-5f02-44df-a2aa-abe696d12499\",\"type\":\"Rect\"},{\"attributes\":{\"fill_alpha\":{\"field\":\"fill_alpha\"},\"fill_color\":{\"field\":\"color\"},\"height\":{\"field\":\"height\",\"units\":\"data\"},\"line_color\":{\"field\":\"line_color\"},\"width\":{\"field\":\"width\",\"units\":\"data\"},\"x\":{\"field\":\"x\"},\"y\":{\"field\":\"y\"}},\"id\":\"626d4560-12f1-43c1-a116-5a337645e4bc\",\"type\":\"Rect\"},{\"attributes\":{\"callback\":null,\"column_names\":[\"line_color\",\"y\",\"height\",\"line_alpha\",\"label\",\"color\",\"x\",\"fill_alpha\",\"width\"],\"data\":{\"chart_index\":[\"(0.2, 0.4]\"],\"color\":[\"#f22c40\"],\"fill_alpha\":[0.8],\"height\":[183.0],\"label\":[\"(0.2, 0.4]\"],\"line_alpha\":[1.0],\"line_color\":[\"black\"],\"width\":[0.2133726463934229],\"x\":[\"0.30000000000000004\"],\"y\":[91.5]}},\"id\":\"008dcfc4-5bf2-4aa3-b71a-b8cd788e0e50\",\"type\":\"ColumnDataSource\"},{\"attributes\":{\"data_source\":{\"id\":\"38ea06ee-ecb8-491f-aa1d-b120d80ce241\",\"type\":\"ColumnDataSource\"},\"glyph\":{\"id\":\"424d49d5-3fb7-40bc-bb19-12267cd49794\",\"type\":\"Rect\"},\"hover_glyph\":null,\"nonselection_glyph\":null,\"selection_glyph\":null},\"id\":\"040fe929-9749-4c56-b02d-3f1a5bdf135c\",\"type\":\"GlyphRenderer\"},{\"attributes\":{\"data_source\":{\"id\":\"dd624f68-e990-4f42-8114-fd0907ae2570\",\"type\":\"ColumnDataSource\"},\"glyph\":{\"id\":\"bd66e40b-1cf2-437c-80c8-365b140ed4dc\",\"type\":\"Rect\"},\"hover_glyph\":null,\"nonselection_glyph\":null,\"selection_glyph\":null},\"id\":\"547f9a86-cbd4-4adb-b99b-577b007ea798\",\"type\":\"GlyphRenderer\"},{\"attributes\":{\"callback\":null,\"column_names\":[\"line_color\",\"y\",\"height\",\"line_alpha\",\"label\",\"color\",\"x\",\"fill_alpha\",\"width\"],\"data\":{\"chart_index\":[\"(1.0, 1.2]\"],\"color\":[\"#f22c40\"],\"fill_alpha\":[0.8],\"height\":[140.0],\"label\":[\"(1.0, 1.2]\"],\"line_alpha\":[1.0],\"line_color\":[\"black\"],\"width\":[0.2133726463934229],\"x\":[\"1.1\"],\"y\":[70.0]}},\"id\":\"5d86091a-352a-4648-ae7d-671e547f89e8\",\"type\":\"ColumnDataSource\"},{\"attributes\":{\"callback\":null,\"column_names\":[\"line_color\",\"y\",\"height\",\"line_alpha\",\"label\",\"color\",\"x\",\"fill_alpha\",\"width\"],\"data\":{\"chart_index\":[\"(3.6, 3.8]\"],\"color\":[\"#f22c40\"],\"fill_alpha\":[0.8],\"height\":[1.0],\"label\":[\"(3.6, 3.8]\"],\"line_alpha\":[1.0],\"line_color\":[\"black\"],\"width\":[0.2133726463934229],\"x\":[\"3.7\"],\"y\":[0.5]}},\"id\":\"3e93dd63-51be-46a8-a9d4-948efdd286d1\",\"type\":\"ColumnDataSource\"},{\"attributes\":{\"data_source\":{\"id\":\"1c7dc03a-143a-42ae-9f31-280e728d28e6\",\"type\":\"ColumnDataSource\"},\"glyph\":{\"id\":\"9bfb15da-eea2-420f-b181-504824fa0765\",\"type\":\"Rect\"},\"hover_glyph\":null,\"nonselection_glyph\":null,\"selection_glyph\":null},\"id\":\"befdd0f4-5490-406a-b203-b61b14f4209d\",\"type\":\"GlyphRenderer\"},{\"attributes\":{\"data_source\":{\"id\":\"54a0ee76-c801-4ca3-9f7f-d36c94a8a8d1\",\"type\":\"ColumnDataSource\"},\"glyph\":{\"id\":\"9dda0c5c-27e1-40a0-aaf6-ed067d2d9757\",\"type\":\"Rect\"},\"hover_glyph\":null,\"nonselection_glyph\":null,\"selection_glyph\":null},\"id\":\"2dfba29b-5715-45f8-9706-3b6121e08a1f\",\"type\":\"GlyphRenderer\"},{\"attributes\":{\"callback\":null,\"column_names\":[\"line_color\",\"y\",\"height\",\"line_alpha\",\"label\",\"color\",\"x\",\"fill_alpha\",\"width\"],\"data\":{\"chart_index\":[\"(2.7, 2.9]\"],\"color\":[\"#f22c40\"],\"fill_alpha\":[0.8],\"height\":[5.0],\"label\":[\"(2.7, 2.9]\"],\"line_alpha\":[1.0],\"line_color\":[\"black\"],\"width\":[0.21337264639342202],\"x\":[\"2.8\"],\"y\":[2.5]}},\"id\":\"8075368a-3fbe-4d94-9447-cd8980067888\",\"type\":\"ColumnDataSource\"},{\"attributes\":{\"fill_alpha\":{\"field\":\"fill_alpha\"},\"fill_color\":{\"field\":\"color\"},\"height\":{\"field\":\"height\",\"units\":\"data\"},\"line_color\":{\"field\":\"line_color\"},\"width\":{\"field\":\"width\",\"units\":\"data\"},\"x\":{\"field\":\"x\"},\"y\":{\"field\":\"y\"}},\"id\":\"de028703-7f2e-449c-b3eb-e1118ad81110\",\"type\":\"Rect\"},{\"attributes\":{\"fill_alpha\":{\"field\":\"fill_alpha\"},\"fill_color\":{\"field\":\"color\"},\"height\":{\"field\":\"height\",\"units\":\"data\"},\"line_color\":{\"field\":\"line_color\"},\"width\":{\"field\":\"width\",\"units\":\"data\"},\"x\":{\"field\":\"x\"},\"y\":{\"field\":\"y\"}},\"id\":\"2df0e4a1-1d1f-42d7-9135-f23c36ccaa8d\",\"type\":\"Rect\"},{\"attributes\":{\"data_source\":{\"id\":\"d32fab9c-c0e0-4ef9-b00f-fb0e06f6e0d2\",\"type\":\"ColumnDataSource\"},\"glyph\":{\"id\":\"39cade28-0ec4-4a24-a17d-13536fafe0f6\",\"type\":\"Rect\"},\"hover_glyph\":null,\"nonselection_glyph\":null,\"selection_glyph\":null},\"id\":\"98fd290e-4f6f-4818-a36d-b295ffaf7e27\",\"type\":\"GlyphRenderer\"},{\"attributes\":{\"below\":[{\"id\":\"80fcd4e5-95ae-4347-927a-58530ba75473\",\"type\":\"LinearAxis\"}],\"left\":[{\"id\":\"972d907d-8e2d-42b9-be61-6ae3d1b4b140\",\"type\":\"LinearAxis\"}],\"renderers\":[{\"id\":\"78e37686-0485-4565-9726-ee64af043464\",\"type\":\"BoxAnnotation\"},{\"id\":\"b0970ace-9e5f-4416-813c-d2abbf054696\",\"type\":\"GlyphRenderer\"},{\"id\":\"8a349dc5-514a-4c19-9d7f-010645082522\",\"type\":\"GlyphRenderer\"},{\"id\":\"35faacad-c9ca-45b1-bd5f-72a7cd06f78e\",\"type\":\"GlyphRenderer\"},{\"id\":\"d7cf90a8-c5da-4c33-a29f-d6ae96a11a27\",\"type\":\"GlyphRenderer\"},{\"id\":\"98fd290e-4f6f-4818-a36d-b295ffaf7e27\",\"type\":\"GlyphRenderer\"},{\"id\":\"8b78627f-dd2b-4168-a5d3-17dd7848c20e\",\"type\":\"GlyphRenderer\"},{\"id\":\"547f9a86-cbd4-4adb-b99b-577b007ea798\",\"type\":\"GlyphRenderer\"},{\"id\":\"2727e3d5-8c02-4094-a0d0-234753f6f569\",\"type\":\"GlyphRenderer\"},{\"id\":\"0c80637d-ece1-44c3-bdbe-1a0777b39d95\",\"type\":\"GlyphRenderer\"},{\"id\":\"e800c473-7769-419b-a34c-68a126dc86dc\",\"type\":\"GlyphRenderer\"},{\"id\":\"040fe929-9749-4c56-b02d-3f1a5bdf135c\",\"type\":\"GlyphRenderer\"},{\"id\":\"92508633-d686-4ba4-9914-1b919fd2915a\",\"type\":\"GlyphRenderer\"},{\"id\":\"c0a4120f-622a-4f3c-b91b-7f1d0c07d64c\",\"type\":\"GlyphRenderer\"},{\"id\":\"dec1469f-8736-40f0-a4b1-f28669cf671a\",\"type\":\"GlyphRenderer\"},{\"id\":\"9fb19a22-3974-4718-9e52-5d05e2076855\",\"type\":\"GlyphRenderer\"},{\"id\":\"436312a5-3db2-4745-a011-5a1c948d423b\",\"type\":\"GlyphRenderer\"},{\"id\":\"239a3a85-3168-41e6-975b-39bc08e106d9\",\"type\":\"GlyphRenderer\"},{\"id\":\"1c72c16a-ce6a-425b-af9a-eb76c694b13f\",\"type\":\"GlyphRenderer\"},{\"id\":\"28670d48-1174-479b-a58e-dd412ec4c074\",\"type\":\"GlyphRenderer\"},{\"id\":\"fca423f9-b6b6-43aa-a5eb-58a900535231\",\"type\":\"GlyphRenderer\"},{\"id\":\"3de71668-c779-44af-9ace-b05b400c1818\",\"type\":\"GlyphRenderer\"},{\"id\":\"2dfba29b-5715-45f8-9706-3b6121e08a1f\",\"type\":\"GlyphRenderer\"},{\"id\":\"6e637978-0ec2-4ea8-bcfe-20269161487b\",\"type\":\"GlyphRenderer\"},{\"id\":\"416e5c17-7a0b-49f4-9e9b-3509904a6a96\",\"type\":\"GlyphRenderer\"},{\"id\":\"9a0770e3-1877-4121-b66a-26f3ae30db90\",\"type\":\"GlyphRenderer\"},{\"id\":\"070af23a-6563-48f5-9e45-4dc946867603\",\"type\":\"GlyphRenderer\"},{\"id\":\"9e5224fc-2a16-457e-88e5-97a8e882be3d\",\"type\":\"GlyphRenderer\"},{\"id\":\"e15d4a57-d76a-4a9a-94fc-3aa95099356a\",\"type\":\"GlyphRenderer\"},{\"id\":\"befdd0f4-5490-406a-b203-b61b14f4209d\",\"type\":\"GlyphRenderer\"},{\"id\":\"64e7ae49-7dbc-46d0-afbb-6cdbfa8f0c56\",\"type\":\"GlyphRenderer\"},{\"id\":\"564cd69f-9574-4f2e-8530-01ff02b6790a\",\"type\":\"Legend\"},{\"id\":\"80fcd4e5-95ae-4347-927a-58530ba75473\",\"type\":\"LinearAxis\"},{\"id\":\"972d907d-8e2d-42b9-be61-6ae3d1b4b140\",\"type\":\"LinearAxis\"},{\"id\":\"61b17b5a-eec0-4b34-ac39-4dbaddc728ba\",\"type\":\"Grid\"}],\"title\":{\"id\":\"cb64296f-686b-479f-a387-7dc3b5d8db7a\",\"type\":\"Title\"},\"tool_events\":{\"id\":\"fb4f5e8f-c65b-497f-b034-7e34cd9b213c\",\"type\":\"ToolEvents\"},\"toolbar\":{\"id\":\"96dcd073-d23b-49d6-9c7b-4e2876944a80\",\"type\":\"Toolbar\"},\"x_mapper_type\":\"auto\",\"x_range\":{\"id\":\"e3619412-a385-4000-9cca-7bdca9287667\",\"type\":\"Range1d\"},\"y_mapper_type\":\"auto\",\"y_range\":{\"id\":\"fdf05753-3d45-4209-bbbe-6c8a571a655f\",\"type\":\"Range1d\"}},\"id\":\"b883e17b-0a27-4849-be93-89aeb06349e1\",\"subtype\":\"Chart\",\"type\":\"Plot\"},{\"attributes\":{\"active_drag\":\"auto\",\"active_scroll\":\"auto\",\"active_tap\":\"auto\",\"tools\":[{\"id\":\"82ffc3c6-6397-4b1c-8676-b76fee758c98\",\"type\":\"PanTool\"},{\"id\":\"49496eeb-c79b-4e8e-a09f-798c48f7e6dd\",\"type\":\"WheelZoomTool\"},{\"id\":\"212d5433-e8c5-4fca-8f49-79c4a0d93294\",\"type\":\"BoxZoomTool\"},{\"id\":\"ec1808c1-c8fc-4217-a371-db9a4e9cae53\",\"type\":\"SaveTool\"},{\"id\":\"3ca43609-5cb3-4474-aa14-b71c2c87a686\",\"type\":\"ResetTool\"},{\"id\":\"8699aa64-c6b6-4e6b-b1e3-b391f93cc03a\",\"type\":\"HelpTool\"}]},\"id\":\"96dcd073-d23b-49d6-9c7b-4e2876944a80\",\"type\":\"Toolbar\"},{\"attributes\":{\"callback\":null,\"column_names\":[\"line_color\",\"y\",\"height\",\"line_alpha\",\"label\",\"color\",\"x\",\"fill_alpha\",\"width\"],\"data\":{\"chart_index\":[\"(-0.3, -0.0]\"],\"color\":[\"#f22c40\"],\"fill_alpha\":[0.8],\"height\":[155.0],\"label\":[\"(-0.3, -0.0]\"],\"line_alpha\":[1.0],\"line_color\":[\"black\"],\"width\":[0.21337264639342268],\"x\":[\"-0.15\"],\"y\":[77.5]}},\"id\":\"dd624f68-e990-4f42-8114-fd0907ae2570\",\"type\":\"ColumnDataSource\"},{\"attributes\":{\"fill_alpha\":{\"field\":\"fill_alpha\"},\"fill_color\":{\"field\":\"color\"},\"height\":{\"field\":\"height\",\"units\":\"data\"},\"line_color\":{\"field\":\"line_color\"},\"width\":{\"field\":\"width\",\"units\":\"data\"},\"x\":{\"field\":\"x\"},\"y\":{\"field\":\"y\"}},\"id\":\"424d49d5-3fb7-40bc-bb19-12267cd49794\",\"type\":\"Rect\"},{\"attributes\":{\"fill_alpha\":{\"field\":\"fill_alpha\"},\"fill_color\":{\"field\":\"color\"},\"height\":{\"field\":\"height\",\"units\":\"data\"},\"line_color\":{\"field\":\"line_color\"},\"width\":{\"field\":\"width\",\"units\":\"data\"},\"x\":{\"field\":\"x\"},\"y\":{\"field\":\"y\"}},\"id\":\"4e44bd17-1fcc-4b44-a202-640212949bfc\",\"type\":\"Rect\"},{\"attributes\":{\"data_source\":{\"id\":\"83509e41-d2b0-4dcf-b27c-5c89b1569a57\",\"type\":\"ColumnDataSource\"},\"glyph\":{\"id\":\"1961caec-e7e9-470e-854f-62890fbd0bd0\",\"type\":\"Rect\"},\"hover_glyph\":null,\"nonselection_glyph\":null,\"selection_glyph\":null},\"id\":\"28670d48-1174-479b-a58e-dd412ec4c074\",\"type\":\"GlyphRenderer\"},{\"attributes\":{\"callback\":null,\"column_names\":[\"line_color\",\"y\",\"height\",\"line_alpha\",\"label\",\"color\",\"x\",\"fill_alpha\",\"width\"],\"data\":{\"chart_index\":[\"(3.4, 3.6]\"],\"color\":[\"#f22c40\"],\"fill_alpha\":[0.8],\"height\":[2.0],\"label\":[\"(3.4, 3.6]\"],\"line_alpha\":[1.0],\"line_color\":[\"black\"],\"width\":[0.2133726463934229],\"x\":[\"3.5\"],\"y\":[1.0]}},\"id\":\"471344b1-1d9b-4723-b2e8-c72a8f2c962b\",\"type\":\"ColumnDataSource\"},{\"attributes\":{\"fill_alpha\":{\"field\":\"fill_alpha\"},\"fill_color\":{\"field\":\"color\"},\"height\":{\"field\":\"height\",\"units\":\"data\"},\"line_color\":{\"field\":\"line_color\"},\"width\":{\"field\":\"width\",\"units\":\"data\"},\"x\":{\"field\":\"x\"},\"y\":{\"field\":\"y\"}},\"id\":\"a26fcb59-20d3-4d6d-a729-cdea60b9baf7\",\"type\":\"Rect\"},{\"attributes\":{\"fill_alpha\":{\"field\":\"fill_alpha\"},\"fill_color\":{\"field\":\"color\"},\"height\":{\"field\":\"height\",\"units\":\"data\"},\"line_color\":{\"field\":\"line_color\"},\"width\":{\"field\":\"width\",\"units\":\"data\"},\"x\":{\"field\":\"x\"},\"y\":{\"field\":\"y\"}},\"id\":\"9bfb15da-eea2-420f-b181-504824fa0765\",\"type\":\"Rect\"},{\"attributes\":{\"data_source\":{\"id\":\"471344b1-1d9b-4723-b2e8-c72a8f2c962b\",\"type\":\"ColumnDataSource\"},\"glyph\":{\"id\":\"a26fcb59-20d3-4d6d-a729-cdea60b9baf7\",\"type\":\"Rect\"},\"hover_glyph\":null,\"nonselection_glyph\":null,\"selection_glyph\":null},\"id\":\"416e5c17-7a0b-49f4-9e9b-3509904a6a96\",\"type\":\"GlyphRenderer\"},{\"attributes\":{\"callback\":null,\"column_names\":[\"line_color\",\"y\",\"height\",\"line_alpha\",\"label\",\"color\",\"x\",\"fill_alpha\",\"width\"],\"data\":{\"chart_index\":[\"(-1.1, -0.9]\"],\"color\":[\"#f22c40\"],\"fill_alpha\":[0.8],\"height\":[25.0],\"label\":[\"(-1.1, -0.9]\"],\"line_alpha\":[1.0],\"line_color\":[\"black\"],\"width\":[0.2133726463934228],\"x\":[\"-1.0\"],\"y\":[12.5]}},\"id\":\"2d9a85e7-cebe-4b5d-a6f6-14725510a3b9\",\"type\":\"ColumnDataSource\"},{\"attributes\":{\"callback\":null,\"column_names\":[\"line_color\",\"y\",\"height\",\"line_alpha\",\"label\",\"color\",\"x\",\"fill_alpha\",\"width\"],\"data\":{\"chart_index\":[\"(-1.3, -1.1]\"],\"color\":[\"#f22c40\"],\"fill_alpha\":[0.8],\"height\":[9.0],\"label\":[\"(-1.3, -1.1]\"],\"line_alpha\":[1.0],\"line_color\":[\"black\"],\"width\":[0.2133726463934229],\"x\":[\"-1.2000000000000002\"],\"y\":[4.5]}},\"id\":\"15a1b0e9-effc-4f06-837c-50b3ea22d172\",\"type\":\"ColumnDataSource\"},{\"attributes\":{\"data_source\":{\"id\":\"3e93dd63-51be-46a8-a9d4-948efdd286d1\",\"type\":\"ColumnDataSource\"},\"glyph\":{\"id\":\"5de8efa0-6d25-4271-80db-54b48635d696\",\"type\":\"Rect\"},\"hover_glyph\":null,\"nonselection_glyph\":null,\"selection_glyph\":null},\"id\":\"9a0770e3-1877-4121-b66a-26f3ae30db90\",\"type\":\"GlyphRenderer\"},{\"attributes\":{\"data_source\":{\"id\":\"5d86091a-352a-4648-ae7d-671e547f89e8\",\"type\":\"ColumnDataSource\"},\"glyph\":{\"id\":\"7acd46b2-c40f-4ec1-82bf-0801de96eb33\",\"type\":\"Rect\"},\"hover_glyph\":null,\"nonselection_glyph\":null,\"selection_glyph\":null},\"id\":\"c0a4120f-622a-4f3c-b91b-7f1d0c07d64c\",\"type\":\"GlyphRenderer\"},{\"attributes\":{\"callback\":null,\"column_names\":[\"line_color\",\"y\",\"height\",\"line_alpha\",\"label\",\"color\",\"x\",\"fill_alpha\",\"width\"],\"data\":{\"chart_index\":[\"(2.5, 2.7]\"],\"color\":[\"#f22c40\"],\"fill_alpha\":[0.8],\"height\":[12.0],\"label\":[\"(2.5, 2.7]\"],\"line_alpha\":[1.0],\"line_color\":[\"black\"],\"width\":[0.2133726463934229],\"x\":[\"2.6\"],\"y\":[6.0]}},\"id\":\"48e4f764-8892-4e59-b577-77441a2603a5\",\"type\":\"ColumnDataSource\"},{\"attributes\":{\"plot\":{\"id\":\"b883e17b-0a27-4849-be93-89aeb06349e1\",\"subtype\":\"Chart\",\"type\":\"Plot\"}},\"id\":\"82ffc3c6-6397-4b1c-8676-b76fee758c98\",\"type\":\"PanTool\"},{\"attributes\":{\"data_source\":{\"id\":\"c446b53b-1ba2-45b0-8500-6e9f823ae1e6\",\"type\":\"ColumnDataSource\"},\"glyph\":{\"id\":\"1575ddcc-e2e4-4059-ad83-f6dca359ef22\",\"type\":\"Rect\"},\"hover_glyph\":null,\"nonselection_glyph\":null,\"selection_glyph\":null},\"id\":\"d7cf90a8-c5da-4c33-a29f-d6ae96a11a27\",\"type\":\"GlyphRenderer\"},{\"attributes\":{\"data_source\":{\"id\":\"5a163df7-44fc-433b-b2df-7853ec871be8\",\"type\":\"ColumnDataSource\"},\"glyph\":{\"id\":\"bb55b7a6-3d07-4f94-99cb-beeb0f656eb1\",\"type\":\"Rect\"},\"hover_glyph\":null,\"nonselection_glyph\":null,\"selection_glyph\":null},\"id\":\"9e5224fc-2a16-457e-88e5-97a8e882be3d\",\"type\":\"GlyphRenderer\"},{\"attributes\":{\"location\":\"top_left\",\"plot\":{\"id\":\"b883e17b-0a27-4849-be93-89aeb06349e1\",\"subtype\":\"Chart\",\"type\":\"Plot\"}},\"id\":\"564cd69f-9574-4f2e-8530-01ff02b6790a\",\"type\":\"Legend\"},{\"attributes\":{\"callback\":null,\"column_names\":[\"line_color\",\"y\",\"height\",\"line_alpha\",\"label\",\"color\",\"x\",\"fill_alpha\",\"width\"],\"data\":{\"chart_index\":[\"(0.6, 0.8]\"],\"color\":[\"#f22c40\"],\"fill_alpha\":[0.8],\"height\":[273.0],\"label\":[\"(0.6, 0.8]\"],\"line_alpha\":[1.0],\"line_color\":[\"black\"],\"width\":[0.21337264639342246],\"x\":[\"0.7\"],\"y\":[136.5]}},\"id\":\"38ea06ee-ecb8-491f-aa1d-b120d80ce241\",\"type\":\"ColumnDataSource\"},{\"attributes\":{\"fill_alpha\":{\"field\":\"fill_alpha\"},\"fill_color\":{\"field\":\"color\"},\"height\":{\"field\":\"height\",\"units\":\"data\"},\"line_color\":{\"field\":\"line_color\"},\"width\":{\"field\":\"width\",\"units\":\"data\"},\"x\":{\"field\":\"x\"},\"y\":{\"field\":\"y\"}},\"id\":\"ad239b8f-b960-4808-886f-1567c538161f\",\"type\":\"Rect\"},{\"attributes\":{\"fill_alpha\":{\"field\":\"fill_alpha\"},\"fill_color\":{\"field\":\"color\"},\"height\":{\"field\":\"height\",\"units\":\"data\"},\"line_color\":{\"field\":\"line_color\"},\"width\":{\"field\":\"width\",\"units\":\"data\"},\"x\":{\"field\":\"x\"},\"y\":{\"field\":\"y\"}},\"id\":\"1575ddcc-e2e4-4059-ad83-f6dca359ef22\",\"type\":\"Rect\"},{\"attributes\":{\"overlay\":{\"id\":\"78e37686-0485-4565-9726-ee64af043464\",\"type\":\"BoxAnnotation\"},\"plot\":{\"id\":\"b883e17b-0a27-4849-be93-89aeb06349e1\",\"subtype\":\"Chart\",\"type\":\"Plot\"}},\"id\":\"212d5433-e8c5-4fca-8f49-79c4a0d93294\",\"type\":\"BoxZoomTool\"},{\"attributes\":{\"callback\":null,\"column_names\":[\"line_color\",\"y\",\"height\",\"line_alpha\",\"label\",\"color\",\"x\",\"fill_alpha\",\"width\"],\"data\":{\"chart_index\":[\"(2.9, 3.2]\"],\"color\":[\"#f22c40\"],\"fill_alpha\":[0.8],\"height\":[3.0],\"label\":[\"(2.9, 3.2]\"],\"line_alpha\":[1.0],\"line_color\":[\"black\"],\"width\":[0.2133726463934229],\"x\":[\"3.05\"],\"y\":[1.5]}},\"id\":\"54a0ee76-c801-4ca3-9f7f-d36c94a8a8d1\",\"type\":\"ColumnDataSource\"},{\"attributes\":{\"plot\":{\"id\":\"b883e17b-0a27-4849-be93-89aeb06349e1\",\"subtype\":\"Chart\",\"type\":\"Plot\"}},\"id\":\"49496eeb-c79b-4e8e-a09f-798c48f7e6dd\",\"type\":\"WheelZoomTool\"},{\"attributes\":{\"dimension\":1,\"plot\":{\"id\":\"b883e17b-0a27-4849-be93-89aeb06349e1\",\"subtype\":\"Chart\",\"type\":\"Plot\"},\"ticker\":{\"id\":\"4da42118-9ba5-4259-9d12-3dc768e4f550\",\"type\":\"BasicTicker\"}},\"id\":\"61b17b5a-eec0-4b34-ac39-4dbaddc728ba\",\"type\":\"Grid\"},{\"attributes\":{\"fill_alpha\":{\"field\":\"fill_alpha\"},\"fill_color\":{\"field\":\"color\"},\"height\":{\"field\":\"height\",\"units\":\"data\"},\"line_color\":{\"field\":\"line_color\"},\"width\":{\"field\":\"width\",\"units\":\"data\"},\"x\":{\"field\":\"x\"},\"y\":{\"field\":\"y\"}},\"id\":\"45206bdb-2f19-470c-b0af-65df55d5fe41\",\"type\":\"Rect\"},{\"attributes\":{\"fill_alpha\":{\"field\":\"fill_alpha\"},\"fill_color\":{\"field\":\"color\"},\"height\":{\"field\":\"height\",\"units\":\"data\"},\"line_color\":{\"field\":\"line_color\"},\"width\":{\"field\":\"width\",\"units\":\"data\"},\"x\":{\"field\":\"x\"},\"y\":{\"field\":\"y\"}},\"id\":\"c803534c-b4bb-4311-bd33-322d340fb6fb\",\"type\":\"Rect\"},{\"attributes\":{\"fill_alpha\":{\"field\":\"fill_alpha\"},\"fill_color\":{\"field\":\"color\"},\"height\":{\"field\":\"height\",\"units\":\"data\"},\"line_color\":{\"field\":\"line_color\"},\"width\":{\"field\":\"width\",\"units\":\"data\"},\"x\":{\"field\":\"x\"},\"y\":{\"field\":\"y\"}},\"id\":\"470327d7-052e-4fbc-8353-ba1f8d31c23c\",\"type\":\"Rect\"},{\"attributes\":{\"data_source\":{\"id\":\"ef8ad176-cf86-4854-986d-f6c4a39650b9\",\"type\":\"ColumnDataSource\"},\"glyph\":{\"id\":\"ee9fdafd-b0d2-4bb5-a3da-15a61f1bf2a0\",\"type\":\"Rect\"},\"hover_glyph\":null,\"nonselection_glyph\":null,\"selection_glyph\":null},\"id\":\"9fb19a22-3974-4718-9e52-5d05e2076855\",\"type\":\"GlyphRenderer\"},{\"attributes\":{\"fill_alpha\":{\"field\":\"fill_alpha\"},\"fill_color\":{\"field\":\"color\"},\"height\":{\"field\":\"height\",\"units\":\"data\"},\"line_color\":{\"field\":\"line_color\"},\"width\":{\"field\":\"width\",\"units\":\"data\"},\"x\":{\"field\":\"x\"},\"y\":{\"field\":\"y\"}},\"id\":\"518ec5a5-d934-4bba-a1cb-0b93659300ff\",\"type\":\"Rect\"},{\"attributes\":{\"callback\":null,\"column_names\":[\"line_color\",\"y\",\"height\",\"line_alpha\",\"label\",\"color\",\"x\",\"fill_alpha\",\"width\"],\"data\":{\"chart_index\":[\"(2.1, 2.3]\"],\"color\":[\"#f22c40\"],\"fill_alpha\":[0.8],\"height\":[25.0],\"label\":[\"(2.1, 2.3]\"],\"line_alpha\":[1.0],\"line_color\":[\"black\"],\"width\":[0.2133726463934229],\"x\":[\"2.2\"],\"y\":[12.5]}},\"id\":\"09d1e6d5-adb2-42fc-b142-229e525cbfaf\",\"type\":\"ColumnDataSource\"},{\"attributes\":{\"fill_alpha\":{\"field\":\"fill_alpha\"},\"fill_color\":{\"field\":\"color\"},\"height\":{\"field\":\"height\",\"units\":\"data\"},\"line_color\":{\"field\":\"line_color\"},\"width\":{\"field\":\"width\",\"units\":\"data\"},\"x\":{\"field\":\"x\"},\"y\":{\"field\":\"y\"}},\"id\":\"578208fd-aa7e-49ef-aa66-fba1a5b0a051\",\"type\":\"Rect\"},{\"attributes\":{\"fill_alpha\":{\"field\":\"fill_alpha\"},\"fill_color\":{\"field\":\"color\"},\"height\":{\"field\":\"height\",\"units\":\"data\"},\"line_color\":{\"field\":\"line_color\"},\"width\":{\"field\":\"width\",\"units\":\"data\"},\"x\":{\"field\":\"x\"},\"y\":{\"field\":\"y\"}},\"id\":\"5de8efa0-6d25-4271-80db-54b48635d696\",\"type\":\"Rect\"},{\"attributes\":{\"data_source\":{\"id\":\"e8dc20a7-5c1d-468d-a22e-60dd525acf5b\",\"type\":\"ColumnDataSource\"},\"glyph\":{\"id\":\"933ed1a4-8779-4609-b08a-1d053b25c9c2\",\"type\":\"Rect\"},\"hover_glyph\":null,\"nonselection_glyph\":null,\"selection_glyph\":null},\"id\":\"436312a5-3db2-4745-a011-5a1c948d423b\",\"type\":\"GlyphRenderer\"},{\"attributes\":{\"data_source\":{\"id\":\"1ba86a77-d4a2-4992-903a-3122f968ae39\",\"type\":\"ColumnDataSource\"},\"glyph\":{\"id\":\"ad239b8f-b960-4808-886f-1567c538161f\",\"type\":\"Rect\"},\"hover_glyph\":null,\"nonselection_glyph\":null,\"selection_glyph\":null},\"id\":\"239a3a85-3168-41e6-975b-39bc08e106d9\",\"type\":\"GlyphRenderer\"},{\"attributes\":{\"plot\":{\"id\":\"b883e17b-0a27-4849-be93-89aeb06349e1\",\"subtype\":\"Chart\",\"type\":\"Plot\"}},\"id\":\"ec1808c1-c8fc-4217-a371-db9a4e9cae53\",\"type\":\"SaveTool\"},{\"attributes\":{\"callback\":null,\"column_names\":[\"line_color\",\"y\",\"height\",\"line_alpha\",\"label\",\"color\",\"x\",\"fill_alpha\",\"width\"],\"data\":{\"chart_index\":[\"(-0.9, -0.7]\"],\"color\":[\"#f22c40\"],\"fill_alpha\":[0.8],\"height\":[47.0],\"label\":[\"(-0.9, -0.7]\"],\"line_alpha\":[1.0],\"line_color\":[\"black\"],\"width\":[0.2133726463934228],\"x\":[\"-0.8\"],\"y\":[23.5]}},\"id\":\"c446b53b-1ba2-45b0-8500-6e9f823ae1e6\",\"type\":\"ColumnDataSource\"},{\"attributes\":{\"fill_alpha\":{\"field\":\"fill_alpha\"},\"fill_color\":{\"field\":\"color\"},\"height\":{\"field\":\"height\",\"units\":\"data\"},\"line_color\":{\"field\":\"line_color\"},\"width\":{\"field\":\"width\",\"units\":\"data\"},\"x\":{\"field\":\"x\"},\"y\":{\"field\":\"y\"}},\"id\":\"39cade28-0ec4-4a24-a17d-13536fafe0f6\",\"type\":\"Rect\"},{\"attributes\":{\"callback\":null,\"end\":300.3},\"id\":\"fdf05753-3d45-4209-bbbe-6c8a571a655f\",\"type\":\"Range1d\"},{\"attributes\":{\"callback\":null,\"column_names\":[\"line_color\",\"y\",\"height\",\"line_alpha\",\"label\",\"color\",\"x\",\"fill_alpha\",\"width\"],\"data\":{\"chart_index\":[\"(3.8, 4.0]\"],\"color\":[\"#f22c40\"],\"fill_alpha\":[0.8],\"height\":[0.0],\"label\":[\"(3.8, 4.0]\"],\"line_alpha\":[1.0],\"line_color\":[\"black\"],\"width\":[0.2133726463934229],\"x\":[\"3.9\"],\"y\":[0.0]}},\"id\":\"25cebf2b-0413-496c-81a9-b3d6d2ea4101\",\"type\":\"ColumnDataSource\"},{\"attributes\":{\"callback\":null,\"column_names\":[\"line_color\",\"y\",\"height\",\"line_alpha\",\"label\",\"color\",\"x\",\"fill_alpha\",\"width\"],\"data\":{\"chart_index\":[\"(1.9, 2.1]\"],\"color\":[\"#f22c40\"],\"fill_alpha\":[0.8],\"height\":[28.0],\"label\":[\"(1.9, 2.1]\"],\"line_alpha\":[1.0],\"line_color\":[\"black\"],\"width\":[0.21337264639342268],\"x\":[\"2.0\"],\"y\":[14.0]}},\"id\":\"1ba86a77-d4a2-4992-903a-3122f968ae39\",\"type\":\"ColumnDataSource\"},{\"attributes\":{\"fill_alpha\":{\"field\":\"fill_alpha\"},\"fill_color\":{\"field\":\"color\"},\"height\":{\"field\":\"height\",\"units\":\"data\"},\"line_color\":{\"field\":\"line_color\"},\"width\":{\"field\":\"width\",\"units\":\"data\"},\"x\":{\"field\":\"x\"},\"y\":{\"field\":\"y\"}},\"id\":\"9a168012-cb2c-4227-9b84-abd74e9e5356\",\"type\":\"Rect\"},{\"attributes\":{\"fill_alpha\":{\"field\":\"fill_alpha\"},\"fill_color\":{\"field\":\"color\"},\"height\":{\"field\":\"height\",\"units\":\"data\"},\"line_color\":{\"field\":\"line_color\"},\"width\":{\"field\":\"width\",\"units\":\"data\"},\"x\":{\"field\":\"x\"},\"y\":{\"field\":\"y\"}},\"id\":\"1961caec-e7e9-470e-854f-62890fbd0bd0\",\"type\":\"Rect\"},{\"attributes\":{\"fill_alpha\":{\"field\":\"fill_alpha\"},\"fill_color\":{\"field\":\"color\"},\"height\":{\"field\":\"height\",\"units\":\"data\"},\"line_color\":{\"field\":\"line_color\"},\"width\":{\"field\":\"width\",\"units\":\"data\"},\"x\":{\"field\":\"x\"},\"y\":{\"field\":\"y\"}},\"id\":\"9dda0c5c-27e1-40a0-aaf6-ed067d2d9757\",\"type\":\"Rect\"},{\"attributes\":{\"data_source\":{\"id\":\"df639f91-5342-4adc-adb3-25b2a8746c6c\",\"type\":\"ColumnDataSource\"},\"glyph\":{\"id\":\"eb88ffb7-5f02-44df-a2aa-abe696d12499\",\"type\":\"Rect\"},\"hover_glyph\":null,\"nonselection_glyph\":null,\"selection_glyph\":null},\"id\":\"dec1469f-8736-40f0-a4b1-f28669cf671a\",\"type\":\"GlyphRenderer\"},{\"attributes\":{\"callback\":null,\"column_names\":[\"line_color\",\"y\",\"height\",\"line_alpha\",\"label\",\"color\",\"x\",\"fill_alpha\",\"width\"],\"data\":{\"chart_index\":[\"(1.5, 1.7]\"],\"color\":[\"#f22c40\"],\"fill_alpha\":[0.8],\"height\":[76.0],\"label\":[\"(1.5, 1.7]\"],\"line_alpha\":[1.0],\"line_color\":[\"black\"],\"width\":[0.2133726463934229],\"x\":[\"1.6\"],\"y\":[38.0]}},\"id\":\"ef8ad176-cf86-4854-986d-f6c4a39650b9\",\"type\":\"ColumnDataSource\"}],\"root_ids\":[\"b883e17b-0a27-4849-be93-89aeb06349e1\"]},\"title\":\"Bokeh Application\",\"version\":\"0.12.0\"}};\n",
       "            var render_items = [{\"docid\":\"36cda22e-ea15-43f6-a43b-05edb066be21\",\"elementid\":\"d1f115b7-f581-4a84-8612-f3ed02a2f91c\",\"modelid\":\"b883e17b-0a27-4849-be93-89aeb06349e1\",\"notebook_comms_target\":\"85c65bac-1948-4189-94e2-ea06056c5616\"}];\n",
       "            \n",
       "            Bokeh.embed.embed_items(docs_json, render_items);\n",
       "        });\n",
       "      },\n",
       "      function(Bokeh) {\n",
       "      }\n",
       "    ];\n",
       "  \n",
       "    function run_inline_js() {\n",
       "      for (var i = 0; i < inline_js.length; i++) {\n",
       "        inline_js[i](window.Bokeh);\n",
       "      }\n",
       "    }\n",
       "  \n",
       "    if (window._bokeh_is_loading === 0) {\n",
       "      console.log(\"Bokeh: BokehJS loaded, going straight to plotting\");\n",
       "      run_inline_js();\n",
       "    } else {\n",
       "      load_libs(js_urls, function() {\n",
       "        console.log(\"Bokeh: BokehJS plotting callback run at\", now());\n",
       "        run_inline_js();\n",
       "      });\n",
       "    }\n",
       "  }(this));\n",
       "</script>"
      ]
     },
     "metadata": {},
     "output_type": "display_data"
    },
    {
     "data": {
      "text/html": [
       "<p><code>&lt;Bokeh Notebook handle for <strong>In[18]</strong>&gt;</code></p>"
      ],
      "text/plain": [
       "<bokeh.io._CommsHandle at 0x10da00748>"
      ]
     },
     "execution_count": 14,
     "metadata": {},
     "output_type": "execute_result"
    }
   ],
   "source": [
    "hist = Histogram(df, values='value', bins=30)\n",
    "show(hist)"
   ]
  },
  {
   "cell_type": "markdown",
   "metadata": {},
   "source": [
    "It's also possible to generate multiple histograms at once by grouping the data. The column to group by is specified by the `color` parameter (and the histogram for each group is colored differently automatically). Let's try that as an exercise."
   ]
  },
  {
   "cell_type": "code",
   "execution_count": 15,
   "metadata": {
    "collapsed": false
   },
   "outputs": [],
   "source": [
    "# EXERCISE: generate histograms for each \"type\" of distribution, and add a legend to the top left.\n"
   ]
  },
  {
   "cell_type": "markdown",
   "metadata": {},
   "source": [
    "# Box Plot\n",
    "\n",
    "A high-level box plot is provided by [`bokeh.charts.BoxPlot`]()\n",
    "\n",
    "For this section we will use the \"iris\" data set again. "
   ]
  },
  {
   "cell_type": "code",
   "execution_count": 16,
   "metadata": {
    "collapsed": true
   },
   "outputs": [],
   "source": [
    "from bokeh.charts import BoxPlot"
   ]
  },
  {
   "cell_type": "markdown",
   "metadata": {},
   "source": [
    "A basic box plot takes the data as the first value, as well as column names for:\n",
    "\n",
    "* `label` - a column to group to label the x-axis\n",
    "* `values` - a column to aggregate values for each group\n",
    "\n",
    "A simple example that also specifies some other properties such as `title` and `legend` is shown below:"
   ]
  },
  {
   "cell_type": "code",
   "execution_count": 17,
   "metadata": {
    "collapsed": false
   },
   "outputs": [
    {
     "data": {
      "text/html": [
       "\n",
       "\n",
       "    <div class=\"bk-root\">\n",
       "        <div class=\"plotdiv\" id=\"807e7f35-09c5-450d-ae34-9e77fb1be0fd\"></div>\n",
       "    </div>\n",
       "<script type=\"text/javascript\">\n",
       "  \n",
       "  (function(global) {\n",
       "    function now() {\n",
       "      return new Date();\n",
       "    }\n",
       "  \n",
       "    if (typeof (window._bokeh_onload_callbacks) === \"undefined\") {\n",
       "      window._bokeh_onload_callbacks = [];\n",
       "    }\n",
       "  \n",
       "    function run_callbacks() {\n",
       "      window._bokeh_onload_callbacks.forEach(function(callback) { callback() });\n",
       "      delete window._bokeh_onload_callbacks\n",
       "      console.info(\"Bokeh: all callbacks have finished\");\n",
       "    }\n",
       "  \n",
       "    function load_libs(js_urls, callback) {\n",
       "      window._bokeh_onload_callbacks.push(callback);\n",
       "      if (window._bokeh_is_loading > 0) {\n",
       "        console.log(\"Bokeh: BokehJS is being loaded, scheduling callback at\", now());\n",
       "        return null;\n",
       "      }\n",
       "      if (js_urls == null || js_urls.length === 0) {\n",
       "        run_callbacks();\n",
       "        return null;\n",
       "      }\n",
       "      console.log(\"Bokeh: BokehJS not loaded, scheduling load and callback at\", now());\n",
       "      window._bokeh_is_loading = js_urls.length;\n",
       "      for (var i = 0; i < js_urls.length; i++) {\n",
       "        var url = js_urls[i];\n",
       "        var s = document.createElement('script');\n",
       "        s.src = url;\n",
       "        s.async = false;\n",
       "        s.onreadystatechange = s.onload = function() {\n",
       "          window._bokeh_is_loading--;\n",
       "          if (window._bokeh_is_loading === 0) {\n",
       "            console.log(\"Bokeh: all BokehJS libraries loaded\");\n",
       "            run_callbacks()\n",
       "          }\n",
       "        };\n",
       "        s.onerror = function() {\n",
       "          console.warn(\"failed to load library \" + url);\n",
       "        };\n",
       "        console.log(\"Bokeh: injecting script tag for BokehJS library: \", url);\n",
       "        document.getElementsByTagName(\"head\")[0].appendChild(s);\n",
       "      }\n",
       "    };var element = document.getElementById(\"807e7f35-09c5-450d-ae34-9e77fb1be0fd\");\n",
       "    if (element == null) {\n",
       "      console.log(\"Bokeh: ERROR: autoload.js configured with elementid '807e7f35-09c5-450d-ae34-9e77fb1be0fd' but no matching script tag was found. \")\n",
       "      return false;\n",
       "    }\n",
       "  \n",
       "    var js_urls = [];\n",
       "  \n",
       "    var inline_js = [\n",
       "      function(Bokeh) {\n",
       "        Bokeh.$(function() {\n",
       "            var docs_json = {\"bbe722e0-2ec6-4ae1-9d9f-a81d90ab7e47\":{\"roots\":{\"references\":[{\"attributes\":{\"plot\":{\"id\":\"7e36e75e-cf8e-406e-9b8b-4222f58f0d9c\",\"subtype\":\"Chart\",\"type\":\"Plot\"}},\"id\":\"0e40e4be-4b71-45e0-b046-c2e4ef279baf\",\"type\":\"CrosshairTool\"},{\"attributes\":{\"data_source\":{\"id\":\"4dda328f-0219-4acb-9244-e148e8732686\",\"type\":\"ColumnDataSource\"},\"glyph\":{\"id\":\"7ced5ed8-6132-48ee-a278-0a945fd0aadd\",\"type\":\"Rect\"},\"hover_glyph\":null,\"nonselection_glyph\":null,\"selection_glyph\":null},\"id\":\"3b49bece-517a-4f26-befe-9a44379b193b\",\"type\":\"GlyphRenderer\"},{\"attributes\":{\"callback\":null,\"column_names\":[\"line_color\",\"y\",\"height\",\"line_alpha\",\"label\",\"color\",\"x\",\"fill_alpha\",\"width\"],\"data\":{\"chart_index\":[{\"species\":\"virginica\"}],\"color\":[\"#aa4444\"],\"fill_alpha\":[0.8],\"height\":[0.2999999999999998],\"label\":[{\"species\":\"virginica\"}],\"line_alpha\":[1.0],\"line_color\":[\"black\"],\"species\":[\"virginica\"],\"width\":[0.8],\"x\":[\"virginica\"],\"y\":[2.15]}},\"id\":\"4dda328f-0219-4acb-9244-e148e8732686\",\"type\":\"ColumnDataSource\"},{\"attributes\":{\"callback\":null,\"column_names\":[\"y0s\",\"y1s\",\"x1s\",\"x0s\"],\"data\":{\"chart_index\":[{\"species\":\"versicolor\"},{\"species\":\"versicolor\"},{\"species\":\"versicolor\"},{\"species\":\"versicolor\"}],\"species\":[\"versicolor\",\"versicolor\",\"versicolor\",\"versicolor\"],\"x0s\":[\"versicolor:0.5\",\"versicolor:0.65\",\"versicolor:0.5\",\"versicolor:0.65\"],\"x1s\":[\"versicolor:0.5\",\"versicolor:0.35\",\"versicolor:0.5\",\"versicolor:0.35\"],\"y0s\":[1.0,1.0,1.5,1.8],\"y1s\":[1.2,1.0,1.8,1.8]}},\"id\":\"3a2b2fff-2317-4bde-8526-fffa574da36a\",\"type\":\"ColumnDataSource\"},{\"attributes\":{\"callback\":null,\"end\":2.63},\"id\":\"3eb0aa6f-2276-4ed8-a3b9-ed1d1b032e95\",\"type\":\"Range1d\"},{\"attributes\":{\"fill_alpha\":{\"value\":0.7},\"fill_color\":{\"value\":\"red\"},\"line_color\":{\"value\":\"red\"},\"size\":{\"units\":\"screen\",\"value\":5},\"x\":{\"field\":\"x_values\"},\"y\":{\"field\":\"y_values\"}},\"id\":\"40b84f58-6bfd-43bc-899c-acf97b92d40c\",\"type\":\"Circle\"},{\"attributes\":{\"callback\":null,\"column_names\":[\"x_values\",\"y_values\"],\"data\":{\"chart_index\":[{\"species\":\"setosa\"},{\"species\":\"setosa\"}],\"species\":[\"setosa\",\"setosa\"],\"x_values\":[\"setosa:0.5\",\"setosa:0.5\"],\"y_values\":[0.5,0.6]}},\"id\":\"6004a7b6-0692-460d-99a1-d8039ab994d9\",\"type\":\"ColumnDataSource\"},{\"attributes\":{\"plot\":null,\"text\":\"Distributions of petal widths\"},\"id\":\"2176543c-5e13-4645-bfc7-5407b397774a\",\"type\":\"Title\"},{\"attributes\":{},\"id\":\"1f9f616f-8908-4349-9110-581e3c627b59\",\"type\":\"BasicTicker\"},{\"attributes\":{\"active_drag\":\"auto\",\"active_scroll\":\"auto\",\"active_tap\":\"auto\",\"tools\":[{\"id\":\"0e40e4be-4b71-45e0-b046-c2e4ef279baf\",\"type\":\"CrosshairTool\"}]},\"id\":\"1a3b3d28-eb30-4ca2-935e-0e4e3086d1ed\",\"type\":\"Toolbar\"},{\"attributes\":{\"callback\":null,\"column_names\":[\"line_color\",\"y\",\"height\",\"line_alpha\",\"label\",\"color\",\"x\",\"fill_alpha\",\"width\"],\"data\":{\"chart_index\":[{\"species\":\"versicolor\"}],\"color\":[\"#aa4444\"],\"fill_alpha\":[0.8],\"height\":[0.10000000000000009],\"label\":[{\"species\":\"versicolor\"}],\"line_alpha\":[1.0],\"line_color\":[\"black\"],\"species\":[\"versicolor\"],\"width\":[0.8],\"x\":[\"versicolor\"],\"y\":[1.25]}},\"id\":\"385c1347-6f58-465f-ab84-62b135b50940\",\"type\":\"ColumnDataSource\"},{\"attributes\":{\"below\":[{\"id\":\"93b42f87-d8aa-4d2e-b67b-063e22739230\",\"type\":\"CategoricalAxis\"}],\"left\":[{\"id\":\"5ac5528d-bac9-4949-a131-dcce80a2ef6c\",\"type\":\"LinearAxis\"}],\"renderers\":[{\"id\":\"916ef8ad-1817-4d2b-a8cc-5963631da52b\",\"type\":\"GlyphRenderer\"},{\"id\":\"0c12a36d-a902-44cb-901d-5ffcc51d51e1\",\"type\":\"GlyphRenderer\"},{\"id\":\"9cc3ec12-28cc-4164-a3b7-3e1c15f66e22\",\"type\":\"GlyphRenderer\"},{\"id\":\"ed47460c-3e82-4fc8-8024-9967d68e3083\",\"type\":\"GlyphRenderer\"},{\"id\":\"9170f195-f89a-4fae-b589-d00ac7b61ea7\",\"type\":\"GlyphRenderer\"},{\"id\":\"2ccf45de-a8f8-49f4-b85d-8ce5c9f461e1\",\"type\":\"GlyphRenderer\"},{\"id\":\"f938e8f3-81a3-4f96-8f48-1a69174c63d1\",\"type\":\"GlyphRenderer\"},{\"id\":\"cf8b6066-02e3-4890-8d25-52ae0150188c\",\"type\":\"GlyphRenderer\"},{\"id\":\"3b49bece-517a-4f26-befe-9a44379b193b\",\"type\":\"GlyphRenderer\"},{\"id\":\"96aa6f37-218f-41e2-861b-cbcb327b847e\",\"type\":\"GlyphRenderer\"},{\"id\":\"aaf4f0f3-37c2-40d1-9361-9d16306c356e\",\"type\":\"Legend\"},{\"id\":\"93b42f87-d8aa-4d2e-b67b-063e22739230\",\"type\":\"CategoricalAxis\"},{\"id\":\"5ac5528d-bac9-4949-a131-dcce80a2ef6c\",\"type\":\"LinearAxis\"},{\"id\":\"4ca12e78-5597-48c5-808f-00ef208b1eac\",\"type\":\"Grid\"}],\"title\":{\"id\":\"2176543c-5e13-4645-bfc7-5407b397774a\",\"type\":\"Title\"},\"tool_events\":{\"id\":\"1d8b464b-de6a-4316-8bd9-582b2f49740c\",\"type\":\"ToolEvents\"},\"toolbar\":{\"id\":\"1a3b3d28-eb30-4ca2-935e-0e4e3086d1ed\",\"type\":\"Toolbar\"},\"x_mapper_type\":\"auto\",\"x_range\":{\"id\":\"3da63541-23f2-4655-b206-b29bc67822da\",\"type\":\"FactorRange\"},\"y_mapper_type\":\"auto\",\"y_range\":{\"id\":\"3eb0aa6f-2276-4ed8-a3b9-ed1d1b032e95\",\"type\":\"Range1d\"}},\"id\":\"7e36e75e-cf8e-406e-9b8b-4222f58f0d9c\",\"subtype\":\"Chart\",\"type\":\"Plot\"},{\"attributes\":{\"data_source\":{\"id\":\"a6310d8a-2f0d-48f7-bda4-b1a2bd20811d\",\"type\":\"ColumnDataSource\"},\"glyph\":{\"id\":\"65dd9c45-7cfe-413f-8cf6-c1fcb14497cf\",\"type\":\"Rect\"},\"hover_glyph\":null,\"nonselection_glyph\":null,\"selection_glyph\":null},\"id\":\"cf8b6066-02e3-4890-8d25-52ae0150188c\",\"type\":\"GlyphRenderer\"},{\"attributes\":{},\"id\":\"1d8b464b-de6a-4316-8bd9-582b2f49740c\",\"type\":\"ToolEvents\"},{\"attributes\":{\"fill_alpha\":{\"field\":\"fill_alpha\"},\"fill_color\":{\"field\":\"color\"},\"height\":{\"field\":\"height\",\"units\":\"data\"},\"line_color\":{\"field\":\"line_color\"},\"width\":{\"field\":\"width\",\"units\":\"data\"},\"x\":{\"field\":\"x\"},\"y\":{\"field\":\"y\"}},\"id\":\"f8125a22-c7d5-4c34-95da-4e528c37a61f\",\"type\":\"Rect\"},{\"attributes\":{\"formatter\":{\"id\":\"02c4499e-8448-4ac4-a1d6-95fb67b5f92a\",\"type\":\"CategoricalTickFormatter\"},\"major_label_orientation\":0.7853981633974483,\"plot\":{\"id\":\"7e36e75e-cf8e-406e-9b8b-4222f58f0d9c\",\"subtype\":\"Chart\",\"type\":\"Plot\"},\"ticker\":{\"id\":\"1433f354-7bc3-4ffb-9258-9946ebbb826e\",\"type\":\"CategoricalTicker\"}},\"id\":\"93b42f87-d8aa-4d2e-b67b-063e22739230\",\"type\":\"CategoricalAxis\"},{\"attributes\":{\"data_source\":{\"id\":\"200c608d-4607-4e3f-86dd-8105890622cb\",\"type\":\"ColumnDataSource\"},\"glyph\":{\"id\":\"482b7b85-599f-43c8-b9fb-b2bd98bb6dfe\",\"type\":\"Segment\"},\"hover_glyph\":null,\"nonselection_glyph\":null,\"selection_glyph\":null},\"id\":\"96aa6f37-218f-41e2-861b-cbcb327b847e\",\"type\":\"GlyphRenderer\"},{\"attributes\":{\"fill_alpha\":{\"field\":\"fill_alpha\"},\"fill_color\":{\"field\":\"color\"},\"height\":{\"field\":\"height\",\"units\":\"data\"},\"line_color\":{\"field\":\"line_color\"},\"width\":{\"field\":\"width\",\"units\":\"data\"},\"x\":{\"field\":\"x\"},\"y\":{\"field\":\"y\"}},\"id\":\"6a5e8afb-b27a-4338-8e73-e62f0ef70f3f\",\"type\":\"Rect\"},{\"attributes\":{\"callback\":null,\"column_names\":[\"y0s\",\"y1s\",\"x1s\",\"x0s\"],\"data\":{\"chart_index\":[{\"species\":\"setosa\"},{\"species\":\"setosa\"},{\"species\":\"setosa\"},{\"species\":\"setosa\"}],\"species\":[\"setosa\",\"setosa\",\"setosa\",\"setosa\"],\"x0s\":[\"setosa:0.5\",\"setosa:0.65\",\"setosa:0.5\",\"setosa:0.65\"],\"x1s\":[\"setosa:0.5\",\"setosa:0.35\",\"setosa:0.5\",\"setosa:0.35\"],\"y0s\":[0.1,0.1,0.3,0.44999999999999996],\"y1s\":[0.2,0.1,0.44999999999999996,0.44999999999999996]}},\"id\":\"c641c9ad-2876-4c63-a477-2f728f751e2a\",\"type\":\"ColumnDataSource\"},{\"attributes\":{\"callback\":null,\"column_names\":[\"line_color\",\"y\",\"height\",\"line_alpha\",\"label\",\"color\",\"x\",\"fill_alpha\",\"width\"],\"data\":{\"chart_index\":[{\"species\":\"setosa\"}],\"color\":[\"#aa4444\"],\"fill_alpha\":[0.8],\"height\":[0.09999999999999998],\"label\":[{\"species\":\"setosa\"}],\"line_alpha\":[1.0],\"line_color\":[\"black\"],\"species\":[\"setosa\"],\"width\":[0.8],\"x\":[\"setosa\"],\"y\":[0.25]}},\"id\":\"5c18afee-d093-491e-9470-4f0f9d5edb02\",\"type\":\"ColumnDataSource\"},{\"attributes\":{\"data_source\":{\"id\":\"5c18afee-d093-491e-9470-4f0f9d5edb02\",\"type\":\"ColumnDataSource\"},\"glyph\":{\"id\":\"6a5e8afb-b27a-4338-8e73-e62f0ef70f3f\",\"type\":\"Rect\"},\"hover_glyph\":null,\"nonselection_glyph\":null,\"selection_glyph\":null},\"id\":\"0c12a36d-a902-44cb-901d-5ffcc51d51e1\",\"type\":\"GlyphRenderer\"},{\"attributes\":{\"data_source\":{\"id\":\"3a2b2fff-2317-4bde-8526-fffa574da36a\",\"type\":\"ColumnDataSource\"},\"glyph\":{\"id\":\"13b38363-6ad2-4283-82b4-0df612cb2795\",\"type\":\"Segment\"},\"hover_glyph\":null,\"nonselection_glyph\":null,\"selection_glyph\":null},\"id\":\"f938e8f3-81a3-4f96-8f48-1a69174c63d1\",\"type\":\"GlyphRenderer\"},{\"attributes\":{\"fill_alpha\":{\"field\":\"fill_alpha\"},\"fill_color\":{\"field\":\"color\"},\"height\":{\"field\":\"height\",\"units\":\"data\"},\"line_color\":{\"field\":\"line_color\"},\"width\":{\"field\":\"width\",\"units\":\"data\"},\"x\":{\"field\":\"x\"},\"y\":{\"field\":\"y\"}},\"id\":\"65dd9c45-7cfe-413f-8cf6-c1fcb14497cf\",\"type\":\"Rect\"},{\"attributes\":{\"callback\":null,\"column_names\":[\"y0s\",\"y1s\",\"x1s\",\"x0s\"],\"data\":{\"chart_index\":[{\"species\":\"virginica\"},{\"species\":\"virginica\"},{\"species\":\"virginica\"},{\"species\":\"virginica\"}],\"species\":[\"virginica\",\"virginica\",\"virginica\",\"virginica\"],\"x0s\":[\"virginica:0.5\",\"virginica:0.65\",\"virginica:0.5\",\"virginica:0.65\"],\"x1s\":[\"virginica:0.5\",\"virginica:0.35\",\"virginica:0.5\",\"virginica:0.35\"],\"y0s\":[1.4,1.4,2.3,2.5],\"y1s\":[1.8,1.4,2.5,2.5]}},\"id\":\"200c608d-4607-4e3f-86dd-8105890622cb\",\"type\":\"ColumnDataSource\"},{\"attributes\":{\"data_source\":{\"id\":\"385c1347-6f58-465f-ab84-62b135b50940\",\"type\":\"ColumnDataSource\"},\"glyph\":{\"id\":\"0ad35922-2c32-48a1-970a-110518a53bdf\",\"type\":\"Rect\"},\"hover_glyph\":null,\"nonselection_glyph\":null,\"selection_glyph\":null},\"id\":\"9170f195-f89a-4fae-b589-d00ac7b61ea7\",\"type\":\"GlyphRenderer\"},{\"attributes\":{\"line_width\":{\"value\":2},\"x0\":{\"field\":\"x0s\"},\"x1\":{\"field\":\"x1s\"},\"y0\":{\"field\":\"y0s\"},\"y1\":{\"field\":\"y1s\"}},\"id\":\"13b38363-6ad2-4283-82b4-0df612cb2795\",\"type\":\"Segment\"},{\"attributes\":{},\"id\":\"3dfa5d8c-4cc9-4161-b523-e644ab96a1b4\",\"type\":\"BasicTickFormatter\"},{\"attributes\":{\"line_width\":{\"value\":2},\"x0\":{\"field\":\"x0s\"},\"x1\":{\"field\":\"x1s\"},\"y0\":{\"field\":\"y0s\"},\"y1\":{\"field\":\"y1s\"}},\"id\":\"08816e32-2b15-45a0-925b-9974b9310b66\",\"type\":\"Segment\"},{\"attributes\":{\"fill_alpha\":{\"field\":\"fill_alpha\"},\"fill_color\":{\"field\":\"color\"},\"height\":{\"field\":\"height\",\"units\":\"data\"},\"line_color\":{\"field\":\"line_color\"},\"width\":{\"field\":\"width\",\"units\":\"data\"},\"x\":{\"field\":\"x\"},\"y\":{\"field\":\"y\"}},\"id\":\"7ced5ed8-6132-48ee-a278-0a945fd0aadd\",\"type\":\"Rect\"},{\"attributes\":{\"line_width\":{\"value\":2},\"x0\":{\"field\":\"x0s\"},\"x1\":{\"field\":\"x1s\"},\"y0\":{\"field\":\"y0s\"},\"y1\":{\"field\":\"y1s\"}},\"id\":\"482b7b85-599f-43c8-b9fb-b2bd98bb6dfe\",\"type\":\"Segment\"},{\"attributes\":{\"callback\":null,\"column_names\":[\"line_color\",\"y\",\"height\",\"line_alpha\",\"label\",\"color\",\"x\",\"fill_alpha\",\"width\"],\"data\":{\"chart_index\":[{\"species\":\"versicolor\"}],\"color\":[\"#aa4444\"],\"fill_alpha\":[0.8],\"height\":[0.19999999999999996],\"label\":[{\"species\":\"versicolor\"}],\"line_alpha\":[1.0],\"line_color\":[\"black\"],\"species\":[\"versicolor\"],\"width\":[0.8],\"x\":[\"versicolor\"],\"y\":[1.4]}},\"id\":\"52f05f0e-f829-4364-91f4-6891c39df546\",\"type\":\"ColumnDataSource\"},{\"attributes\":{\"dimension\":1,\"plot\":{\"id\":\"7e36e75e-cf8e-406e-9b8b-4222f58f0d9c\",\"subtype\":\"Chart\",\"type\":\"Plot\"},\"ticker\":{\"id\":\"1f9f616f-8908-4349-9110-581e3c627b59\",\"type\":\"BasicTicker\"}},\"id\":\"4ca12e78-5597-48c5-808f-00ef208b1eac\",\"type\":\"Grid\"},{\"attributes\":{\"legends\":[[\"setosa\",[{\"id\":\"916ef8ad-1817-4d2b-a8cc-5963631da52b\",\"type\":\"GlyphRenderer\"},{\"id\":\"0c12a36d-a902-44cb-901d-5ffcc51d51e1\",\"type\":\"GlyphRenderer\"},{\"id\":\"9cc3ec12-28cc-4164-a3b7-3e1c15f66e22\",\"type\":\"GlyphRenderer\"},{\"id\":\"ed47460c-3e82-4fc8-8024-9967d68e3083\",\"type\":\"GlyphRenderer\"}]],[\"versicolor\",[{\"id\":\"9170f195-f89a-4fae-b589-d00ac7b61ea7\",\"type\":\"GlyphRenderer\"},{\"id\":\"2ccf45de-a8f8-49f4-b85d-8ce5c9f461e1\",\"type\":\"GlyphRenderer\"},{\"id\":\"f938e8f3-81a3-4f96-8f48-1a69174c63d1\",\"type\":\"GlyphRenderer\"}]],[\"virginica\",[{\"id\":\"cf8b6066-02e3-4890-8d25-52ae0150188c\",\"type\":\"GlyphRenderer\"},{\"id\":\"3b49bece-517a-4f26-befe-9a44379b193b\",\"type\":\"GlyphRenderer\"},{\"id\":\"96aa6f37-218f-41e2-861b-cbcb327b847e\",\"type\":\"GlyphRenderer\"}]]],\"location\":\"top_left\",\"plot\":{\"id\":\"7e36e75e-cf8e-406e-9b8b-4222f58f0d9c\",\"subtype\":\"Chart\",\"type\":\"Plot\"}},\"id\":\"aaf4f0f3-37c2-40d1-9361-9d16306c356e\",\"type\":\"Legend\"},{\"attributes\":{\"fill_alpha\":{\"field\":\"fill_alpha\"},\"fill_color\":{\"field\":\"color\"},\"height\":{\"field\":\"height\",\"units\":\"data\"},\"line_color\":{\"field\":\"line_color\"},\"width\":{\"field\":\"width\",\"units\":\"data\"},\"x\":{\"field\":\"x\"},\"y\":{\"field\":\"y\"}},\"id\":\"e090e018-9ef6-4687-9eba-fb951bafb5fc\",\"type\":\"Rect\"},{\"attributes\":{\"data_source\":{\"id\":\"c641c9ad-2876-4c63-a477-2f728f751e2a\",\"type\":\"ColumnDataSource\"},\"glyph\":{\"id\":\"08816e32-2b15-45a0-925b-9974b9310b66\",\"type\":\"Segment\"},\"hover_glyph\":null,\"nonselection_glyph\":null,\"selection_glyph\":null},\"id\":\"ed47460c-3e82-4fc8-8024-9967d68e3083\",\"type\":\"GlyphRenderer\"},{\"attributes\":{\"axis_label\":\"petal width, mm\",\"formatter\":{\"id\":\"3dfa5d8c-4cc9-4161-b523-e644ab96a1b4\",\"type\":\"BasicTickFormatter\"},\"plot\":{\"id\":\"7e36e75e-cf8e-406e-9b8b-4222f58f0d9c\",\"subtype\":\"Chart\",\"type\":\"Plot\"},\"ticker\":{\"id\":\"1f9f616f-8908-4349-9110-581e3c627b59\",\"type\":\"BasicTicker\"}},\"id\":\"5ac5528d-bac9-4949-a131-dcce80a2ef6c\",\"type\":\"LinearAxis\"},{\"attributes\":{\"callback\":null,\"column_names\":[\"line_color\",\"y\",\"height\",\"line_alpha\",\"label\",\"color\",\"x\",\"fill_alpha\",\"width\"],\"data\":{\"chart_index\":[{\"species\":\"virginica\"}],\"color\":[\"#aa4444\"],\"fill_alpha\":[0.8],\"height\":[0.19999999999999996],\"label\":[{\"species\":\"virginica\"}],\"line_alpha\":[1.0],\"line_color\":[\"black\"],\"species\":[\"virginica\"],\"width\":[0.8],\"x\":[\"virginica\"],\"y\":[1.9]}},\"id\":\"a6310d8a-2f0d-48f7-bda4-b1a2bd20811d\",\"type\":\"ColumnDataSource\"},{\"attributes\":{\"callback\":null,\"column_names\":[\"line_color\",\"y\",\"height\",\"line_alpha\",\"label\",\"color\",\"x\",\"fill_alpha\",\"width\"],\"data\":{\"chart_index\":[{\"species\":\"setosa\"}],\"color\":[\"#aa4444\"],\"fill_alpha\":[0.8],\"height\":[0.0],\"label\":[{\"species\":\"setosa\"}],\"line_alpha\":[1.0],\"line_color\":[\"black\"],\"species\":[\"setosa\"],\"width\":[0.8],\"x\":[\"setosa\"],\"y\":[0.2]}},\"id\":\"a700d8ba-5a02-4414-abf6-ae2524671fe5\",\"type\":\"ColumnDataSource\"},{\"attributes\":{\"data_source\":{\"id\":\"52f05f0e-f829-4364-91f4-6891c39df546\",\"type\":\"ColumnDataSource\"},\"glyph\":{\"id\":\"e090e018-9ef6-4687-9eba-fb951bafb5fc\",\"type\":\"Rect\"},\"hover_glyph\":null,\"nonselection_glyph\":null,\"selection_glyph\":null},\"id\":\"2ccf45de-a8f8-49f4-b85d-8ce5c9f461e1\",\"type\":\"GlyphRenderer\"},{\"attributes\":{},\"id\":\"02c4499e-8448-4ac4-a1d6-95fb67b5f92a\",\"type\":\"CategoricalTickFormatter\"},{\"attributes\":{\"fill_alpha\":{\"field\":\"fill_alpha\"},\"fill_color\":{\"field\":\"color\"},\"height\":{\"field\":\"height\",\"units\":\"data\"},\"line_color\":{\"field\":\"line_color\"},\"width\":{\"field\":\"width\",\"units\":\"data\"},\"x\":{\"field\":\"x\"},\"y\":{\"field\":\"y\"}},\"id\":\"0ad35922-2c32-48a1-970a-110518a53bdf\",\"type\":\"Rect\"},{\"attributes\":{\"data_source\":{\"id\":\"a700d8ba-5a02-4414-abf6-ae2524671fe5\",\"type\":\"ColumnDataSource\"},\"glyph\":{\"id\":\"f8125a22-c7d5-4c34-95da-4e528c37a61f\",\"type\":\"Rect\"},\"hover_glyph\":null,\"nonselection_glyph\":null,\"selection_glyph\":null},\"id\":\"916ef8ad-1817-4d2b-a8cc-5963631da52b\",\"type\":\"GlyphRenderer\"},{\"attributes\":{},\"id\":\"1433f354-7bc3-4ffb-9258-9946ebbb826e\",\"type\":\"CategoricalTicker\"},{\"attributes\":{\"data_source\":{\"id\":\"6004a7b6-0692-460d-99a1-d8039ab994d9\",\"type\":\"ColumnDataSource\"},\"glyph\":{\"id\":\"40b84f58-6bfd-43bc-899c-acf97b92d40c\",\"type\":\"Circle\"},\"hover_glyph\":null,\"nonselection_glyph\":null,\"selection_glyph\":null},\"id\":\"9cc3ec12-28cc-4164-a3b7-3e1c15f66e22\",\"type\":\"GlyphRenderer\"},{\"attributes\":{\"callback\":null,\"factors\":[\"setosa\",\"versicolor\",\"virginica\"]},\"id\":\"3da63541-23f2-4655-b206-b29bc67822da\",\"type\":\"FactorRange\"}],\"root_ids\":[\"7e36e75e-cf8e-406e-9b8b-4222f58f0d9c\"]},\"title\":\"Bokeh Application\",\"version\":\"0.12.0\"}};\n",
       "            var render_items = [{\"docid\":\"bbe722e0-2ec6-4ae1-9d9f-a81d90ab7e47\",\"elementid\":\"807e7f35-09c5-450d-ae34-9e77fb1be0fd\",\"modelid\":\"7e36e75e-cf8e-406e-9b8b-4222f58f0d9c\",\"notebook_comms_target\":\"548ac5d5-49c4-4ad8-a51d-070beeb215c9\"}];\n",
       "            \n",
       "            Bokeh.embed.embed_items(docs_json, render_items);\n",
       "        });\n",
       "      },\n",
       "      function(Bokeh) {\n",
       "      }\n",
       "    ];\n",
       "  \n",
       "    function run_inline_js() {\n",
       "      for (var i = 0; i < inline_js.length; i++) {\n",
       "        inline_js[i](window.Bokeh);\n",
       "      }\n",
       "    }\n",
       "  \n",
       "    if (window._bokeh_is_loading === 0) {\n",
       "      console.log(\"Bokeh: BokehJS loaded, going straight to plotting\");\n",
       "      run_inline_js();\n",
       "    } else {\n",
       "      load_libs(js_urls, function() {\n",
       "        console.log(\"Bokeh: BokehJS plotting callback run at\", now());\n",
       "        run_inline_js();\n",
       "      });\n",
       "    }\n",
       "  }(this));\n",
       "</script>"
      ]
     },
     "metadata": {},
     "output_type": "display_data"
    },
    {
     "data": {
      "text/html": [
       "<p><code>&lt;Bokeh Notebook handle for <strong>In[18]</strong>&gt;</code></p>"
      ],
      "text/plain": [
       "<bokeh.io._CommsHandle at 0x10da4db70>"
      ]
     },
     "execution_count": 17,
     "metadata": {},
     "output_type": "execute_result"
    }
   ],
   "source": [
    "p = BoxPlot(flowers, label='species', values='petal_width', tools='crosshair', color='#aa4444',\n",
    "            xlabel='', ylabel='petal width, mm', title='Distributions of petal widths')\n",
    "show(p)"
   ]
  },
  {
   "cell_type": "markdown",
   "metadata": {},
   "source": [
    "Instead of a single color, the box and whiskers groups can be colored by grouping one of the columns. This is done by passing a column name as the `color` parameter. Let's try that as an exercise."
   ]
  },
  {
   "cell_type": "code",
   "execution_count": 18,
   "metadata": {
    "collapsed": false
   },
   "outputs": [],
   "source": [
    "# EXERCISE: color the boxes by \"species\" and add a legend to the top left\n"
   ]
  },
  {
   "cell_type": "markdown",
   "metadata": {},
   "source": [
    "---\n",
    "\n",
    "# Further reading\n",
    "\n"
   ]
  },
  {
   "cell_type": "markdown",
   "metadata": {
    "collapsed": true
   },
   "source": [
    "http://nbviewer.jupyter.org/github/bokeh/bokeh/tree/0.11.1/examples/charts/file/\n",
    "\n",
    "http://nbviewer.jupyter.org/github/bokeh/bokeh/tree/0.11.1/examples/howto/charts/\n",
    "\n",
    "http://nbviewer.jupyter.org/github/bokeh/bokeh-demos/blob/master/presentations/2016-03-pydata-strata/notebooks/Charts.ipynb\n",
    "\n",
    "http://nbviewer.jupyter.org/github/bokeh/bokeh-demos/blob/master/presentations/2016-03-pydata-strata/notebooks/Charts%20Demo.ipynb"
   ]
  },
  {
   "cell_type": "code",
   "execution_count": null,
   "metadata": {
    "collapsed": true
   },
   "outputs": [],
   "source": []
  }
 ],
 "metadata": {
  "kernelspec": {
   "display_name": "Python 3",
   "language": "python",
   "name": "python3"
  },
  "language_info": {
   "codemirror_mode": {
    "name": "ipython",
    "version": 3
   },
   "file_extension": ".py",
   "mimetype": "text/x-python",
   "name": "python",
   "nbconvert_exporter": "python",
   "pygments_lexer": "ipython3",
   "version": "3.5.2"
  }
 },
 "nbformat": 4,
 "nbformat_minor": 0
}
