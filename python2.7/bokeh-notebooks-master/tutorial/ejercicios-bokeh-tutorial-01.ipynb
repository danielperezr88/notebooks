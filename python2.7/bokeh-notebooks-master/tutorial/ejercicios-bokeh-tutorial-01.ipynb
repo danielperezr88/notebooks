{
 "cells": [
  {
   "cell_type": "markdown",
   "metadata": {},
   "source": [
    "<table style=\"float:left; border:none\">\n",
    "   <tr style=\"border:none\">\n",
    "       <td style=\"border:none\">\n",
    "           <a href=\"http://bokeh.pydata.org/\">     \n",
    "           <img \n",
    "               src=\"assets/images/bokeh-transparent.png\" \n",
    "               style=\"width:50px\"\n",
    "           >\n",
    "           </a>    ºº\n",
    "       </td>\n",
    "       <td style=\"border:none\">\n",
    "           <h1>Bokeh Tutorial</h1>\n",
    "       </td>\n",
    "   </tr>\n",
    "</table>\n",
    "\n",
    "<div style=\"float:right;\"><h2>04. Layouts, Widgets, and Interactions</h2></div>"
   ]
  },
  {
   "cell_type": "code",
   "execution_count": 20,
   "metadata": {
    "collapsed": false
   },
   "outputs": [
    {
     "ename": "ImportError",
     "evalue": "cannot import name VBox",
     "output_type": "error",
     "traceback": [
      "\u001b[1;31m---------------------------------------------------------------------------\u001b[0m",
      "\u001b[1;31mImportError\u001b[0m                               Traceback (most recent call last)",
      "\u001b[1;32m<ipython-input-20-eb928679e365>\u001b[0m in \u001b[0;36m<module>\u001b[1;34m()\u001b[0m\n\u001b[0;32m      6\u001b[0m \u001b[1;32mimport\u001b[0m \u001b[0mpandas\u001b[0m \u001b[1;32mas\u001b[0m \u001b[0mpd\u001b[0m\u001b[1;33m\u001b[0m\u001b[0m\n\u001b[0;32m      7\u001b[0m \u001b[1;33m\u001b[0m\u001b[0m\n\u001b[1;32m----> 8\u001b[1;33m \u001b[1;32mfrom\u001b[0m \u001b[0mbokeh\u001b[0m\u001b[1;33m.\u001b[0m\u001b[0mplotting\u001b[0m \u001b[1;32mimport\u001b[0m \u001b[0mfigure\u001b[0m\u001b[1;33m,\u001b[0m \u001b[0moutput_file\u001b[0m\u001b[1;33m,\u001b[0m \u001b[0mshow\u001b[0m\u001b[1;33m,\u001b[0m \u001b[0mVBox\u001b[0m\u001b[1;33m\u001b[0m\u001b[0m\n\u001b[0m\u001b[0;32m      9\u001b[0m \u001b[1;33m\u001b[0m\u001b[0m\n\u001b[0;32m     10\u001b[0m \u001b[1;31m# Here is some code to read in some stock data from the Yahoo Finance API\u001b[0m\u001b[1;33m\u001b[0m\u001b[1;33m\u001b[0m\u001b[0m\n",
      "\u001b[1;31mImportError\u001b[0m: cannot import name VBox"
     ]
    }
   ],
   "source": [
    "###\n",
    "### NOTE: This exercise requires a network connection\n",
    "###\n",
    "\n",
    "import numpy as np\n",
    "import pandas as pd\n",
    "\n",
    "from bokeh.plotting import figure, output_file, show, VBox\n",
    "\n",
    "# Here is some code to read in some stock data from the Yahoo Finance API\n",
    "AAPL = pd.read_csv(\n",
    "    \"http://ichart.yahoo.com/table.csv?s=AAPL&a=0&b=1&c=2000&d=0&e=1&f=2010\",\n",
    "    parse_dates=['Date'])\n",
    "MSFT = pd.read_csv(\n",
    "    \"http://ichart.yahoo.com/table.csv?s=MSFT&a=0&b=1&c=2000&d=0&e=1&f=2010\",\n",
    "    parse_dates=['Date'])\n",
    "IBM = pd.read_csv(\n",
    "    \"http://ichart.yahoo.com/table.csv?s=IBM&a=0&b=1&c=2000&d=0&e=1&f=2010\",\n",
    "    parse_dates=['Date'])\n",
    "\n",
    "output_file(\"stocks.html\", title=\"stocks.py example\")\n",
    "\n",
    "# create a figure\n",
    "p1 = figure(title=\"Stocks\",\n",
    "            x_axis_label=\"Date\",\n",
    "            y_axis_label=\"Close price\",\n",
    "            x_axis_type=\"datetime\")\n",
    "p1.below[0].formatter.formats = dict(years=['%Y'],\n",
    "                                     months=['%b %Y'],\n",
    "                                     days=['%d %b %Y'])\n",
    "\n",
    "# EXERCISE: finish this line plot, and add more for the other stocks. Each one should\n",
    "# have a legend, and its own color.\n",
    "p1.line(\n",
    "    AAPL['Date'],                                       # x coordinates\n",
    "    AAPL['Adj Close'],                                  # y coordinates\n",
    "    color='#A6CEE3',                                    # set a color for the line\n",
    "    legend='AAPL',                                      # attach a legend label\n",
    ")\n",
    "\n",
    "# EXERCISE: style the plot, set a title, lighten the gridlines, etc.\n",
    "\n",
    "# EXERCISE: start a new figure\n",
    "\n",
    "# Here is some code to compute the 30-day moving average for AAPL\n",
    "aapl = AAPL['Adj Close']\n",
    "aapl_dates = AAPL['Date']\n",
    "\n",
    "window_size = 30\n",
    "window = np.ones(window_size)/float(window_size)\n",
    "aapl_avg = np.convolve(aapl, window, 'same')\n",
    "\n",
    "# EXERCISE: plot a scatter of circles for the individual AAPL prices with legend\n",
    "# 'close'. Remember to set the x axis type and tools on the first renderer\n",
    "\n",
    "# EXERCISE: plot a line of the AAPL moving average data with the legeng 'avg'\n",
    "\n",
    "# EXERCISE: style the plot, set a title, lighten the gridlines, etc.\n",
    "\n",
    "show(VBox(p1, p2))  # open a browser"
   ]
  },
  {
   "cell_type": "code",
   "execution_count": null,
   "metadata": {
    "collapsed": true
   },
   "outputs": [],
   "source": []
  }
 ],
 "metadata": {
  "anaconda-cloud": {},
  "kernelspec": {
   "display_name": "Python [Root]",
   "language": "python",
   "name": "Python [Root]"
  },
  "language_info": {
   "codemirror_mode": {
    "name": "ipython",
    "version": 2
   },
   "file_extension": ".py",
   "mimetype": "text/x-python",
   "name": "python",
   "nbconvert_exporter": "python",
   "pygments_lexer": "ipython2",
   "version": "2.7.12"
  }
 },
 "nbformat": 4,
 "nbformat_minor": 0
}
