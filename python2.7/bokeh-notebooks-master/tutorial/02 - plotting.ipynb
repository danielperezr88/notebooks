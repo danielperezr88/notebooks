{
 "cells": [
  {
   "cell_type": "markdown",
   "metadata": {
    "collapsed": true
   },
   "source": [
    "<table style=\"float:left; border:none\">\n",
    "   <tr style=\"border:none\">\n",
    "       <td style=\"border:none\">\n",
    "           <a href=\"http://bokeh.pydata.org/\">     \n",
    "           <img \n",
    "               src=\"assets/images/bokeh-transparent.png\" \n",
    "               style=\"width:50px\"\n",
    "           >\n",
    "           </a>    \n",
    "       </td>\n",
    "       <td style=\"border:none\">\n",
    "           <h1>Bokeh Tutorial</h1>\n",
    "       </td>\n",
    "   </tr>\n",
    "</table>\n",
    "\n",
    "<div style=\"float:right;\"><h2>02. Basic Plotting Interface</h2></div>"
   ]
  },
  {
   "cell_type": "markdown",
   "metadata": {},
   "source": [
    "This section of the tutorial covers the [`bokeh.plotting`](http://bokeh.pydata.org/en/latest/docs/user_guide/plotting.html) \n",
    "interface. This interface is a \"mid-level\" interface, and the main idea can be described by the statement:\n",
    "\n",
    "**Starting from simple default figures (with sensible default tools, grids and axes), add markers and other shapes whose visual attributes are tied to directly data.**\n",
    "\n",
    "We will see that it is possible to customize and change all of the defaults, but having them means that it is possible to get up and running very quickly. "
   ]
  },
  {
   "cell_type": "markdown",
   "metadata": {},
   "source": [
    "# Imports and Setup\n",
    "\n",
    "When using the [`bokeh.plotting`](http://bokeh.pydata.org/en/latest/docs/user_guide/plotting.html) interface, there are a few common imports:\n",
    "* Use the [`figure`](http://bokeh.pydata.org/en/latest/docs/reference/plotting.html#bokeh.plotting.figure) function to  create new plot objects to work with. \n",
    "* Call the functions [`output_file`](http://bokeh.pydata.org/en/latest/docs/reference/resources_embedding.html#bokeh.io.output_file), [`output_notebook`](http://bokeh.pydata.org/en/latest/docs/reference/resources_embedding.html#bokeh.io.output_notebook), and [`output_server`](http://bokeh.pydata.org/en/latest/docs/reference/resources_embedding.html#bokeh.io.output_server) (possibly in combination) to tell Bokeh how to display or save output. \n",
    "* Execute [`show`](http://bokeh.pydata.org/en/latest/docs/reference/resources_embedding.html#bokeh.io.show) and  [`save`](http://bokeh.pydata.org/en/latest/docs/reference/resources_embedding.html#bokeh.io.save) to display or save plots and layouts."
   ]
  },
  {
   "cell_type": "code",
   "execution_count": 1,
   "metadata": {
    "collapsed": false
   },
   "outputs": [],
   "source": [
    "from bokeh.io import output_notebook, show\n",
    "from bokeh.plotting import figure"
   ]
  },
  {
   "cell_type": "markdown",
   "metadata": {},
   "source": [
    "In this case, we are in the Jupyter notebook, so call `output_notebook()`. We only need to call this once, and all subsequent calls to `show()` will display inline in the notebook."
   ]
  },
  {
   "cell_type": "code",
   "execution_count": 2,
   "metadata": {
    "collapsed": false
   },
   "outputs": [
    {
     "data": {
      "text/html": [
       "\n",
       "    <div class=\"bk-root\">\n",
       "        <a href=\"http://bokeh.pydata.org\" target=\"_blank\" class=\"bk-logo bk-logo-small bk-logo-notebook\"></a>\n",
       "        <span id=\"a876dbb7-44fc-4ac7-99c0-83dcba039deb\">Loading BokehJS ...</span>\n",
       "    </div>"
      ]
     },
     "metadata": {},
     "output_type": "display_data"
    },
    {
     "data": {
      "application/javascript": [
       "\n",
       "(function(global) {\n",
       "  function now() {\n",
       "    return new Date();\n",
       "  }\n",
       "\n",
       "  var force = \"1\";\n",
       "\n",
       "  if (typeof (window._bokeh_onload_callbacks) === \"undefined\" || force !== \"\") {\n",
       "    window._bokeh_onload_callbacks = [];\n",
       "    window._bokeh_is_loading = undefined;\n",
       "  }\n",
       "\n",
       "  function run_callbacks() {\n",
       "    window._bokeh_onload_callbacks.forEach(function(callback) { callback() });\n",
       "    delete window._bokeh_onload_callbacks\n",
       "    console.info(\"Bokeh: all callbacks have finished\");\n",
       "  }\n",
       "\n",
       "  function load_libs(js_urls, callback) {\n",
       "    window._bokeh_onload_callbacks.push(callback);\n",
       "    if (window._bokeh_is_loading > 0) {\n",
       "      console.log(\"Bokeh: BokehJS is being loaded, scheduling callback at\", now());\n",
       "      return null;\n",
       "    }\n",
       "    if (js_urls == null || js_urls.length === 0) {\n",
       "      run_callbacks();\n",
       "      return null;\n",
       "    }\n",
       "    console.log(\"Bokeh: BokehJS not loaded, scheduling load and callback at\", now());\n",
       "    window._bokeh_is_loading = js_urls.length;\n",
       "    for (var i = 0; i < js_urls.length; i++) {\n",
       "      var url = js_urls[i];\n",
       "      var s = document.createElement('script');\n",
       "      s.src = url;\n",
       "      s.async = false;\n",
       "      s.onreadystatechange = s.onload = function() {\n",
       "        window._bokeh_is_loading--;\n",
       "        if (window._bokeh_is_loading === 0) {\n",
       "          console.log(\"Bokeh: all BokehJS libraries loaded\");\n",
       "          run_callbacks()\n",
       "        }\n",
       "      };\n",
       "      s.onerror = function() {\n",
       "        console.warn(\"failed to load library \" + url);\n",
       "      };\n",
       "      console.log(\"Bokeh: injecting script tag for BokehJS library: \", url);\n",
       "      document.getElementsByTagName(\"head\")[0].appendChild(s);\n",
       "    }\n",
       "  };\n",
       "\n",
       "  var js_urls = ['https://cdn.pydata.org/bokeh/release/bokeh-0.12.1.min.js', 'https://cdn.pydata.org/bokeh/release/bokeh-widgets-0.12.1.min.js', 'https://cdn.pydata.org/bokeh/release/bokeh-compiler-0.12.1.min.js'];\n",
       "\n",
       "  var inline_js = [\n",
       "    function(Bokeh) {\n",
       "      Bokeh.set_log_level(\"info\");\n",
       "    },\n",
       "    \n",
       "    function(Bokeh) {\n",
       "      \n",
       "      Bokeh.$(\"#a876dbb7-44fc-4ac7-99c0-83dcba039deb\").text(\"BokehJS successfully loaded\");\n",
       "      var kernel = Jupyter.notebook.kernel\n",
       "      if (kernel.execute !== undefined) {\n",
       "          kernel.execute(\"import bokeh.io; bokeh.io._nb_loaded = True\");\n",
       "      }\n",
       "    },\n",
       "    function(Bokeh) {\n",
       "      console.log(\"Bokeh: injecting CSS: https://cdn.pydata.org/bokeh/release/bokeh-0.12.1.min.css\");\n",
       "      Bokeh.embed.inject_css(\"https://cdn.pydata.org/bokeh/release/bokeh-0.12.1.min.css\");\n",
       "      console.log(\"Bokeh: injecting CSS: https://cdn.pydata.org/bokeh/release/bokeh-widgets-0.12.1.min.css\");\n",
       "      Bokeh.embed.inject_css(\"https://cdn.pydata.org/bokeh/release/bokeh-widgets-0.12.1.min.css\");\n",
       "    }\n",
       "  ];\n",
       "\n",
       "  function run_inline_js() {\n",
       "    for (var i = 0; i < inline_js.length; i++) {\n",
       "      inline_js[i](window.Bokeh);\n",
       "    }\n",
       "  }\n",
       "\n",
       "  if (window._bokeh_is_loading === 0) {\n",
       "    console.log(\"Bokeh: BokehJS loaded, going straight to plotting\");\n",
       "    run_inline_js();\n",
       "  } else {\n",
       "    load_libs(js_urls, function() {\n",
       "      console.log(\"Bokeh: BokehJS plotting callback run at\", now());\n",
       "      run_inline_js();\n",
       "    });\n",
       "  }\n",
       "}(this));"
      ]
     },
     "metadata": {},
     "output_type": "display_data"
    }
   ],
   "source": [
    "output_notebook()"
   ]
  },
  {
   "cell_type": "markdown",
   "metadata": {},
   "source": [
    "# Some Basic Scatter Plots\n",
    "\n",
    "In this section you will see how to use Bokeh's various marker types to create simple scatter plots. "
   ]
  },
  {
   "cell_type": "code",
   "execution_count": 4,
   "metadata": {
    "collapsed": false
   },
   "outputs": [
    {
     "data": {
      "text/html": [
       "\n",
       "\n",
       "    <div class=\"bk-root\">\n",
       "        <div class=\"plotdiv\" id=\"f58f7fe7-24b4-47bf-8fef-5fb6d8a8d432\"></div>\n",
       "    </div>\n",
       "<script type=\"text/javascript\">\n",
       "  \n",
       "  (function(global) {\n",
       "    function now() {\n",
       "      return new Date();\n",
       "    }\n",
       "  \n",
       "    var force = \"\";\n",
       "  \n",
       "    if (typeof (window._bokeh_onload_callbacks) === \"undefined\" || force !== \"\") {\n",
       "      window._bokeh_onload_callbacks = [];\n",
       "      window._bokeh_is_loading = undefined;\n",
       "    }\n",
       "  \n",
       "    function run_callbacks() {\n",
       "      window._bokeh_onload_callbacks.forEach(function(callback) { callback() });\n",
       "      delete window._bokeh_onload_callbacks\n",
       "      console.info(\"Bokeh: all callbacks have finished\");\n",
       "    }\n",
       "  \n",
       "    function load_libs(js_urls, callback) {\n",
       "      window._bokeh_onload_callbacks.push(callback);\n",
       "      if (window._bokeh_is_loading > 0) {\n",
       "        console.log(\"Bokeh: BokehJS is being loaded, scheduling callback at\", now());\n",
       "        return null;\n",
       "      }\n",
       "      if (js_urls == null || js_urls.length === 0) {\n",
       "        run_callbacks();\n",
       "        return null;\n",
       "      }\n",
       "      console.log(\"Bokeh: BokehJS not loaded, scheduling load and callback at\", now());\n",
       "      window._bokeh_is_loading = js_urls.length;\n",
       "      for (var i = 0; i < js_urls.length; i++) {\n",
       "        var url = js_urls[i];\n",
       "        var s = document.createElement('script');\n",
       "        s.src = url;\n",
       "        s.async = false;\n",
       "        s.onreadystatechange = s.onload = function() {\n",
       "          window._bokeh_is_loading--;\n",
       "          if (window._bokeh_is_loading === 0) {\n",
       "            console.log(\"Bokeh: all BokehJS libraries loaded\");\n",
       "            run_callbacks()\n",
       "          }\n",
       "        };\n",
       "        s.onerror = function() {\n",
       "          console.warn(\"failed to load library \" + url);\n",
       "        };\n",
       "        console.log(\"Bokeh: injecting script tag for BokehJS library: \", url);\n",
       "        document.getElementsByTagName(\"head\")[0].appendChild(s);\n",
       "      }\n",
       "    };var element = document.getElementById(\"f58f7fe7-24b4-47bf-8fef-5fb6d8a8d432\");\n",
       "    if (element == null) {\n",
       "      console.log(\"Bokeh: ERROR: autoload.js configured with elementid 'f58f7fe7-24b4-47bf-8fef-5fb6d8a8d432' but no matching script tag was found. \")\n",
       "      return false;\n",
       "    }\n",
       "  \n",
       "    var js_urls = [];\n",
       "  \n",
       "    var inline_js = [\n",
       "      function(Bokeh) {\n",
       "        Bokeh.$(function() {\n",
       "            var docs_json = {\"06fcada7-6def-4b2d-82e1-251284ac5471\":{\"roots\":{\"references\":[{\"attributes\":{\"data_source\":{\"id\":\"82033f01-db0f-4d02-bf3c-bdc63712abc7\",\"type\":\"ColumnDataSource\"},\"glyph\":{\"id\":\"56f44a0c-d300-4510-8d73-019e9db44773\",\"type\":\"Circle\"},\"hover_glyph\":null,\"nonselection_glyph\":{\"id\":\"a66cc729-31ae-4739-8267-49ced33be5a1\",\"type\":\"Circle\"},\"selection_glyph\":null},\"id\":\"043e4adc-9c98-4414-9068-8a917572fedf\",\"type\":\"GlyphRenderer\"},{\"attributes\":{\"plot\":null,\"text\":null},\"id\":\"d3fbde07-4907-4ad0-afef-ae3a161d4a3a\",\"type\":\"Title\"},{\"attributes\":{},\"id\":\"2b17e621-2920-48d5-8606-b97b966a0110\",\"type\":\"BasicTicker\"},{\"attributes\":{\"plot\":{\"id\":\"da03380b-d69d-45dd-932a-423cef00df4c\",\"subtype\":\"Figure\",\"type\":\"Plot\"},\"ticker\":{\"id\":\"2b17e621-2920-48d5-8606-b97b966a0110\",\"type\":\"BasicTicker\"}},\"id\":\"15fe5a3c-4a3d-4d58-8de8-ee5decaee7a4\",\"type\":\"Grid\"},{\"attributes\":{\"callback\":null,\"column_names\":[\"y\",\"x\"],\"data\":{\"x\":[1,2,3,4,5],\"y\":[6,7,2,4,5]}},\"id\":\"82033f01-db0f-4d02-bf3c-bdc63712abc7\",\"type\":\"ColumnDataSource\"},{\"attributes\":{\"fill_alpha\":{\"value\":0.5},\"fill_color\":{\"value\":\"orange\"},\"line_color\":{\"value\":\"navy\"},\"size\":{\"units\":\"screen\",\"value\":15},\"x\":{\"field\":\"x\"},\"y\":{\"field\":\"y\"}},\"id\":\"56f44a0c-d300-4510-8d73-019e9db44773\",\"type\":\"Circle\"},{\"attributes\":{\"overlay\":{\"id\":\"972ea1e5-8037-40be-9d08-b7c14d96e9b7\",\"type\":\"BoxAnnotation\"},\"plot\":{\"id\":\"da03380b-d69d-45dd-932a-423cef00df4c\",\"subtype\":\"Figure\",\"type\":\"Plot\"}},\"id\":\"dae5c5d8-c140-4237-90a1-f53a02fdfed7\",\"type\":\"BoxZoomTool\"},{\"attributes\":{\"dimension\":1,\"plot\":{\"id\":\"da03380b-d69d-45dd-932a-423cef00df4c\",\"subtype\":\"Figure\",\"type\":\"Plot\"},\"ticker\":{\"id\":\"3bd62f55-b696-4709-ad0f-fb17475fd077\",\"type\":\"BasicTicker\"}},\"id\":\"80b925d9-fe15-4dd6-b28e-455438f471d6\",\"type\":\"Grid\"},{\"attributes\":{\"below\":[{\"id\":\"324cd275-dfdf-4aa9-b5ab-b158639ebe88\",\"type\":\"LinearAxis\"}],\"left\":[{\"id\":\"d59d83c9-ff85-4f90-b94b-2e7fa9b8ea79\",\"type\":\"LinearAxis\"}],\"plot_height\":400,\"plot_width\":400,\"renderers\":[{\"id\":\"324cd275-dfdf-4aa9-b5ab-b158639ebe88\",\"type\":\"LinearAxis\"},{\"id\":\"15fe5a3c-4a3d-4d58-8de8-ee5decaee7a4\",\"type\":\"Grid\"},{\"id\":\"d59d83c9-ff85-4f90-b94b-2e7fa9b8ea79\",\"type\":\"LinearAxis\"},{\"id\":\"80b925d9-fe15-4dd6-b28e-455438f471d6\",\"type\":\"Grid\"},{\"id\":\"972ea1e5-8037-40be-9d08-b7c14d96e9b7\",\"type\":\"BoxAnnotation\"},{\"id\":\"043e4adc-9c98-4414-9068-8a917572fedf\",\"type\":\"GlyphRenderer\"}],\"title\":{\"id\":\"d3fbde07-4907-4ad0-afef-ae3a161d4a3a\",\"type\":\"Title\"},\"tool_events\":{\"id\":\"bc9d4017-229f-45ef-ad74-e3d1a434e77a\",\"type\":\"ToolEvents\"},\"toolbar\":{\"id\":\"2276332d-0881-4fd0-ace9-fec10b687262\",\"type\":\"Toolbar\"},\"x_range\":{\"id\":\"18631fb8-c0dc-4ddf-897d-73693a712958\",\"type\":\"DataRange1d\"},\"y_range\":{\"id\":\"902a5e31-76a7-4579-aebc-d8172d1dbf79\",\"type\":\"DataRange1d\"}},\"id\":\"da03380b-d69d-45dd-932a-423cef00df4c\",\"subtype\":\"Figure\",\"type\":\"Plot\"},{\"attributes\":{\"plot\":{\"id\":\"da03380b-d69d-45dd-932a-423cef00df4c\",\"subtype\":\"Figure\",\"type\":\"Plot\"}},\"id\":\"6e566886-124f-4558-8bab-d5fa04da4cf0\",\"type\":\"ResetTool\"},{\"attributes\":{\"fill_alpha\":{\"value\":0.1},\"fill_color\":{\"value\":\"#1f77b4\"},\"line_alpha\":{\"value\":0.1},\"line_color\":{\"value\":\"#1f77b4\"},\"size\":{\"units\":\"screen\",\"value\":15},\"x\":{\"field\":\"x\"},\"y\":{\"field\":\"y\"}},\"id\":\"a66cc729-31ae-4739-8267-49ced33be5a1\",\"type\":\"Circle\"},{\"attributes\":{},\"id\":\"bc9d4017-229f-45ef-ad74-e3d1a434e77a\",\"type\":\"ToolEvents\"},{\"attributes\":{\"active_drag\":\"auto\",\"active_scroll\":\"auto\",\"active_tap\":\"auto\",\"tools\":[{\"id\":\"27f67da2-e3e0-47e0-9434-dc27019cc676\",\"type\":\"PanTool\"},{\"id\":\"92a0dd23-ccb3-40d2-a06c-d7235e473686\",\"type\":\"WheelZoomTool\"},{\"id\":\"dae5c5d8-c140-4237-90a1-f53a02fdfed7\",\"type\":\"BoxZoomTool\"},{\"id\":\"357b0868-a1fe-44a0-b146-464248626f71\",\"type\":\"SaveTool\"},{\"id\":\"6e566886-124f-4558-8bab-d5fa04da4cf0\",\"type\":\"ResetTool\"},{\"id\":\"2d50e4de-ff03-4b96-a62f-9a8d63f4f008\",\"type\":\"HelpTool\"}]},\"id\":\"2276332d-0881-4fd0-ace9-fec10b687262\",\"type\":\"Toolbar\"},{\"attributes\":{\"plot\":{\"id\":\"da03380b-d69d-45dd-932a-423cef00df4c\",\"subtype\":\"Figure\",\"type\":\"Plot\"}},\"id\":\"92a0dd23-ccb3-40d2-a06c-d7235e473686\",\"type\":\"WheelZoomTool\"},{\"attributes\":{\"callback\":null},\"id\":\"18631fb8-c0dc-4ddf-897d-73693a712958\",\"type\":\"DataRange1d\"},{\"attributes\":{\"plot\":{\"id\":\"da03380b-d69d-45dd-932a-423cef00df4c\",\"subtype\":\"Figure\",\"type\":\"Plot\"}},\"id\":\"27f67da2-e3e0-47e0-9434-dc27019cc676\",\"type\":\"PanTool\"},{\"attributes\":{},\"id\":\"70bb6619-38b8-4eb9-bab3-51aaa4ba7a47\",\"type\":\"BasicTickFormatter\"},{\"attributes\":{\"formatter\":{\"id\":\"d30fb8ef-9ba3-45eb-b064-33be11e12abe\",\"type\":\"BasicTickFormatter\"},\"plot\":{\"id\":\"da03380b-d69d-45dd-932a-423cef00df4c\",\"subtype\":\"Figure\",\"type\":\"Plot\"},\"ticker\":{\"id\":\"2b17e621-2920-48d5-8606-b97b966a0110\",\"type\":\"BasicTicker\"}},\"id\":\"324cd275-dfdf-4aa9-b5ab-b158639ebe88\",\"type\":\"LinearAxis\"},{\"attributes\":{},\"id\":\"3bd62f55-b696-4709-ad0f-fb17475fd077\",\"type\":\"BasicTicker\"},{\"attributes\":{\"plot\":{\"id\":\"da03380b-d69d-45dd-932a-423cef00df4c\",\"subtype\":\"Figure\",\"type\":\"Plot\"}},\"id\":\"357b0868-a1fe-44a0-b146-464248626f71\",\"type\":\"SaveTool\"},{\"attributes\":{},\"id\":\"d30fb8ef-9ba3-45eb-b064-33be11e12abe\",\"type\":\"BasicTickFormatter\"},{\"attributes\":{\"bottom_units\":\"screen\",\"fill_alpha\":{\"value\":0.5},\"fill_color\":{\"value\":\"lightgrey\"},\"left_units\":\"screen\",\"level\":\"overlay\",\"line_alpha\":{\"value\":1.0},\"line_color\":{\"value\":\"black\"},\"line_dash\":[4,4],\"line_width\":{\"value\":2},\"plot\":null,\"render_mode\":\"css\",\"right_units\":\"screen\",\"top_units\":\"screen\"},\"id\":\"972ea1e5-8037-40be-9d08-b7c14d96e9b7\",\"type\":\"BoxAnnotation\"},{\"attributes\":{\"plot\":{\"id\":\"da03380b-d69d-45dd-932a-423cef00df4c\",\"subtype\":\"Figure\",\"type\":\"Plot\"}},\"id\":\"2d50e4de-ff03-4b96-a62f-9a8d63f4f008\",\"type\":\"HelpTool\"},{\"attributes\":{\"formatter\":{\"id\":\"70bb6619-38b8-4eb9-bab3-51aaa4ba7a47\",\"type\":\"BasicTickFormatter\"},\"plot\":{\"id\":\"da03380b-d69d-45dd-932a-423cef00df4c\",\"subtype\":\"Figure\",\"type\":\"Plot\"},\"ticker\":{\"id\":\"3bd62f55-b696-4709-ad0f-fb17475fd077\",\"type\":\"BasicTicker\"}},\"id\":\"d59d83c9-ff85-4f90-b94b-2e7fa9b8ea79\",\"type\":\"LinearAxis\"},{\"attributes\":{\"callback\":null},\"id\":\"902a5e31-76a7-4579-aebc-d8172d1dbf79\",\"type\":\"DataRange1d\"}],\"root_ids\":[\"da03380b-d69d-45dd-932a-423cef00df4c\"]},\"title\":\"Bokeh Application\",\"version\":\"0.12.1\"}};\n",
       "            var render_items = [{\"docid\":\"06fcada7-6def-4b2d-82e1-251284ac5471\",\"elementid\":\"f58f7fe7-24b4-47bf-8fef-5fb6d8a8d432\",\"modelid\":\"da03380b-d69d-45dd-932a-423cef00df4c\",\"notebook_comms_target\":\"90d28ae3-89cc-4ecd-977e-1af2db5701ad\"}];\n",
       "            \n",
       "            Bokeh.embed.embed_items(docs_json, render_items);\n",
       "        });\n",
       "      },\n",
       "      function(Bokeh) {\n",
       "      }\n",
       "    ];\n",
       "  \n",
       "    function run_inline_js() {\n",
       "      for (var i = 0; i < inline_js.length; i++) {\n",
       "        inline_js[i](window.Bokeh);\n",
       "      }\n",
       "    }\n",
       "  \n",
       "    if (window._bokeh_is_loading === 0) {\n",
       "      console.log(\"Bokeh: BokehJS loaded, going straight to plotting\");\n",
       "      run_inline_js();\n",
       "    } else {\n",
       "      load_libs(js_urls, function() {\n",
       "        console.log(\"Bokeh: BokehJS plotting callback run at\", now());\n",
       "        run_inline_js();\n",
       "      });\n",
       "    }\n",
       "  }(this));\n",
       "</script>"
      ]
     },
     "metadata": {},
     "output_type": "display_data"
    },
    {
     "data": {
      "text/html": [
       "<p><code>&lt;Bokeh Notebook handle for <strong>In[4]</strong>&gt;</code></p>"
      ],
      "text/plain": [
       "<bokeh.io._CommsHandle at 0x35cff60>"
      ]
     },
     "execution_count": 4,
     "metadata": {},
     "output_type": "execute_result"
    }
   ],
   "source": [
    "# create a new plot with default tools, using figure\n",
    "p = figure(plot_width=400, plot_height=400)\n",
    "\n",
    "# add a circle renderer with a size, color, and alpha\n",
    "p.circle([1, 2, 3, 4, 5], [6, 7, 2, 4, 5], size=15, line_color=\"navy\", fill_color=\"orange\", fill_alpha=0.5)\n",
    "\n",
    "show(p) # show the results"
   ]
  },
  {
   "cell_type": "markdown",
   "metadata": {},
   "source": [
    "All Bokeh markers accept `size` (measured in screen space units) as a property. Circles also have `radius` (measured in \"data\" space units). "
   ]
  },
  {
   "cell_type": "code",
   "execution_count": 4,
   "metadata": {
    "collapsed": true
   },
   "outputs": [],
   "source": [
    "# EXERCISE: Try changing the example above to set a `radius` value instead of `size`\n",
    "\n"
   ]
  },
  {
   "cell_type": "markdown",
   "metadata": {},
   "source": [
    "To scatter square markers instead of circles, you can use the `square` method on figures. "
   ]
  },
  {
   "cell_type": "code",
   "execution_count": 5,
   "metadata": {
    "collapsed": false
   },
   "outputs": [
    {
     "data": {
      "text/html": [
       "\n",
       "\n",
       "    <div class=\"bk-root\">\n",
       "        <div class=\"plotdiv\" id=\"e140f3af-b330-436d-adcf-f0898ea670e6\"></div>\n",
       "    </div>\n",
       "<script type=\"text/javascript\">\n",
       "  \n",
       "  (function(global) {\n",
       "    function now() {\n",
       "      return new Date();\n",
       "    }\n",
       "  \n",
       "    var force = \"\";\n",
       "  \n",
       "    if (typeof (window._bokeh_onload_callbacks) === \"undefined\" || force !== \"\") {\n",
       "      window._bokeh_onload_callbacks = [];\n",
       "      window._bokeh_is_loading = undefined;\n",
       "    }\n",
       "  \n",
       "    function run_callbacks() {\n",
       "      window._bokeh_onload_callbacks.forEach(function(callback) { callback() });\n",
       "      delete window._bokeh_onload_callbacks\n",
       "      console.info(\"Bokeh: all callbacks have finished\");\n",
       "    }\n",
       "  \n",
       "    function load_libs(js_urls, callback) {\n",
       "      window._bokeh_onload_callbacks.push(callback);\n",
       "      if (window._bokeh_is_loading > 0) {\n",
       "        console.log(\"Bokeh: BokehJS is being loaded, scheduling callback at\", now());\n",
       "        return null;\n",
       "      }\n",
       "      if (js_urls == null || js_urls.length === 0) {\n",
       "        run_callbacks();\n",
       "        return null;\n",
       "      }\n",
       "      console.log(\"Bokeh: BokehJS not loaded, scheduling load and callback at\", now());\n",
       "      window._bokeh_is_loading = js_urls.length;\n",
       "      for (var i = 0; i < js_urls.length; i++) {\n",
       "        var url = js_urls[i];\n",
       "        var s = document.createElement('script');\n",
       "        s.src = url;\n",
       "        s.async = false;\n",
       "        s.onreadystatechange = s.onload = function() {\n",
       "          window._bokeh_is_loading--;\n",
       "          if (window._bokeh_is_loading === 0) {\n",
       "            console.log(\"Bokeh: all BokehJS libraries loaded\");\n",
       "            run_callbacks()\n",
       "          }\n",
       "        };\n",
       "        s.onerror = function() {\n",
       "          console.warn(\"failed to load library \" + url);\n",
       "        };\n",
       "        console.log(\"Bokeh: injecting script tag for BokehJS library: \", url);\n",
       "        document.getElementsByTagName(\"head\")[0].appendChild(s);\n",
       "      }\n",
       "    };var element = document.getElementById(\"e140f3af-b330-436d-adcf-f0898ea670e6\");\n",
       "    if (element == null) {\n",
       "      console.log(\"Bokeh: ERROR: autoload.js configured with elementid 'e140f3af-b330-436d-adcf-f0898ea670e6' but no matching script tag was found. \")\n",
       "      return false;\n",
       "    }\n",
       "  \n",
       "    var js_urls = [];\n",
       "  \n",
       "    var inline_js = [\n",
       "      function(Bokeh) {\n",
       "        Bokeh.$(function() {\n",
       "            var docs_json = {\"21218fc7-66f2-4bf8-b8b8-c2f404f0ce4a\":{\"roots\":{\"references\":[{\"attributes\":{},\"id\":\"f947928f-8cd7-41ca-b284-44e9c69fc3a5\",\"type\":\"BasicTicker\"},{\"attributes\":{\"plot\":null,\"text\":null},\"id\":\"defe105f-8d53-4e1c-9052-c253fc57250a\",\"type\":\"Title\"},{\"attributes\":{\"plot\":{\"id\":\"fcafde65-e909-44cb-88e3-51026eb5bc3d\",\"subtype\":\"Figure\",\"type\":\"Plot\"}},\"id\":\"6264f420-152d-4311-b09a-679cf10cffc8\",\"type\":\"HelpTool\"},{\"attributes\":{},\"id\":\"7dcf3704-a072-4fb5-a75d-3d47a79fba0f\",\"type\":\"ToolEvents\"},{\"attributes\":{\"dimension\":1,\"plot\":{\"id\":\"fcafde65-e909-44cb-88e3-51026eb5bc3d\",\"subtype\":\"Figure\",\"type\":\"Plot\"},\"ticker\":{\"id\":\"a40a0b8c-d01e-472a-919d-4539b8fab049\",\"type\":\"BasicTicker\"}},\"id\":\"1fbb6c90-9d4f-462c-932a-b0063920f2a6\",\"type\":\"Grid\"},{\"attributes\":{\"fill_alpha\":{\"value\":0.6},\"fill_color\":{\"value\":\"firebrick\"},\"line_alpha\":{\"value\":0.6},\"line_color\":{\"value\":\"firebrick\"},\"size\":{\"field\":\"size\",\"units\":\"screen\"},\"x\":{\"field\":\"x\"},\"y\":{\"field\":\"y\"}},\"id\":\"2f5972bd-5741-4e7a-90cf-c2091405bd46\",\"type\":\"Square\"},{\"attributes\":{\"active_drag\":\"auto\",\"active_scroll\":\"auto\",\"active_tap\":\"auto\",\"tools\":[{\"id\":\"05a42c4f-7d70-4621-8134-8907cc7cc27f\",\"type\":\"PanTool\"},{\"id\":\"1d54bc05-bd77-40d6-a511-ae534452d4cc\",\"type\":\"WheelZoomTool\"},{\"id\":\"ab8b4c21-75f1-409a-badc-d1251a4c913e\",\"type\":\"BoxZoomTool\"},{\"id\":\"c682c9d2-c627-4d45-88dc-d19202c4fe11\",\"type\":\"SaveTool\"},{\"id\":\"08d008f2-7636-46ce-8b86-41f3849be3b5\",\"type\":\"ResetTool\"},{\"id\":\"6264f420-152d-4311-b09a-679cf10cffc8\",\"type\":\"HelpTool\"}]},\"id\":\"1f42fdf9-5d80-46a5-8a35-5befffb161d9\",\"type\":\"Toolbar\"},{\"attributes\":{\"formatter\":{\"id\":\"553b5a2f-194e-4520-827a-805a2e64cd21\",\"type\":\"BasicTickFormatter\"},\"plot\":{\"id\":\"fcafde65-e909-44cb-88e3-51026eb5bc3d\",\"subtype\":\"Figure\",\"type\":\"Plot\"},\"ticker\":{\"id\":\"f947928f-8cd7-41ca-b284-44e9c69fc3a5\",\"type\":\"BasicTicker\"}},\"id\":\"a62c1124-e43c-492b-97a2-197fbf894088\",\"type\":\"LinearAxis\"},{\"attributes\":{\"plot\":{\"id\":\"fcafde65-e909-44cb-88e3-51026eb5bc3d\",\"subtype\":\"Figure\",\"type\":\"Plot\"}},\"id\":\"1d54bc05-bd77-40d6-a511-ae534452d4cc\",\"type\":\"WheelZoomTool\"},{\"attributes\":{\"fill_alpha\":{\"value\":0.1},\"fill_color\":{\"value\":\"#1f77b4\"},\"line_alpha\":{\"value\":0.1},\"line_color\":{\"value\":\"#1f77b4\"},\"size\":{\"field\":\"size\",\"units\":\"screen\"},\"x\":{\"field\":\"x\"},\"y\":{\"field\":\"y\"}},\"id\":\"a2c26591-d969-49a1-9311-6b168aae29ce\",\"type\":\"Square\"},{\"attributes\":{\"plot\":{\"id\":\"fcafde65-e909-44cb-88e3-51026eb5bc3d\",\"subtype\":\"Figure\",\"type\":\"Plot\"}},\"id\":\"08d008f2-7636-46ce-8b86-41f3849be3b5\",\"type\":\"ResetTool\"},{\"attributes\":{\"plot\":{\"id\":\"fcafde65-e909-44cb-88e3-51026eb5bc3d\",\"subtype\":\"Figure\",\"type\":\"Plot\"}},\"id\":\"c682c9d2-c627-4d45-88dc-d19202c4fe11\",\"type\":\"SaveTool\"},{\"attributes\":{\"bottom_units\":\"screen\",\"fill_alpha\":{\"value\":0.5},\"fill_color\":{\"value\":\"lightgrey\"},\"left_units\":\"screen\",\"level\":\"overlay\",\"line_alpha\":{\"value\":1.0},\"line_color\":{\"value\":\"black\"},\"line_dash\":[4,4],\"line_width\":{\"value\":2},\"plot\":null,\"render_mode\":\"css\",\"right_units\":\"screen\",\"top_units\":\"screen\"},\"id\":\"1124e197-550a-43fa-9432-80f5f81be55b\",\"type\":\"BoxAnnotation\"},{\"attributes\":{\"callback\":null},\"id\":\"1d2fae2f-5dfe-4fe5-9a62-7a4a2b3fc4f1\",\"type\":\"DataRange1d\"},{\"attributes\":{\"callback\":null,\"column_names\":[\"x\",\"y\",\"size\"],\"data\":{\"size\":[10,15,20,25,30],\"x\":[1,2,3,4,5],\"y\":[6,7,2,4,5]}},\"id\":\"c29727a6-cb48-489f-acb1-c8e5a2bc2599\",\"type\":\"ColumnDataSource\"},{\"attributes\":{},\"id\":\"553b5a2f-194e-4520-827a-805a2e64cd21\",\"type\":\"BasicTickFormatter\"},{\"attributes\":{\"below\":[{\"id\":\"a62c1124-e43c-492b-97a2-197fbf894088\",\"type\":\"LinearAxis\"}],\"left\":[{\"id\":\"97d80fe0-b152-45cf-8154-39adf37450ae\",\"type\":\"LinearAxis\"}],\"plot_height\":400,\"plot_width\":400,\"renderers\":[{\"id\":\"a62c1124-e43c-492b-97a2-197fbf894088\",\"type\":\"LinearAxis\"},{\"id\":\"652baefd-b909-43db-a15f-f989fff9aea0\",\"type\":\"Grid\"},{\"id\":\"97d80fe0-b152-45cf-8154-39adf37450ae\",\"type\":\"LinearAxis\"},{\"id\":\"1fbb6c90-9d4f-462c-932a-b0063920f2a6\",\"type\":\"Grid\"},{\"id\":\"1124e197-550a-43fa-9432-80f5f81be55b\",\"type\":\"BoxAnnotation\"},{\"id\":\"afb56fdf-1a63-4f24-b62d-3793671bafb0\",\"type\":\"GlyphRenderer\"}],\"title\":{\"id\":\"defe105f-8d53-4e1c-9052-c253fc57250a\",\"type\":\"Title\"},\"tool_events\":{\"id\":\"7dcf3704-a072-4fb5-a75d-3d47a79fba0f\",\"type\":\"ToolEvents\"},\"toolbar\":{\"id\":\"1f42fdf9-5d80-46a5-8a35-5befffb161d9\",\"type\":\"Toolbar\"},\"x_range\":{\"id\":\"e2940cec-76b4-48a3-8537-9913db00ad17\",\"type\":\"DataRange1d\"},\"y_range\":{\"id\":\"1d2fae2f-5dfe-4fe5-9a62-7a4a2b3fc4f1\",\"type\":\"DataRange1d\"}},\"id\":\"fcafde65-e909-44cb-88e3-51026eb5bc3d\",\"subtype\":\"Figure\",\"type\":\"Plot\"},{\"attributes\":{\"overlay\":{\"id\":\"1124e197-550a-43fa-9432-80f5f81be55b\",\"type\":\"BoxAnnotation\"},\"plot\":{\"id\":\"fcafde65-e909-44cb-88e3-51026eb5bc3d\",\"subtype\":\"Figure\",\"type\":\"Plot\"}},\"id\":\"ab8b4c21-75f1-409a-badc-d1251a4c913e\",\"type\":\"BoxZoomTool\"},{\"attributes\":{},\"id\":\"a40a0b8c-d01e-472a-919d-4539b8fab049\",\"type\":\"BasicTicker\"},{\"attributes\":{\"formatter\":{\"id\":\"77759af6-29f7-464f-842f-b1753bbbe1e9\",\"type\":\"BasicTickFormatter\"},\"plot\":{\"id\":\"fcafde65-e909-44cb-88e3-51026eb5bc3d\",\"subtype\":\"Figure\",\"type\":\"Plot\"},\"ticker\":{\"id\":\"a40a0b8c-d01e-472a-919d-4539b8fab049\",\"type\":\"BasicTicker\"}},\"id\":\"97d80fe0-b152-45cf-8154-39adf37450ae\",\"type\":\"LinearAxis\"},{\"attributes\":{\"callback\":null},\"id\":\"e2940cec-76b4-48a3-8537-9913db00ad17\",\"type\":\"DataRange1d\"},{\"attributes\":{},\"id\":\"77759af6-29f7-464f-842f-b1753bbbe1e9\",\"type\":\"BasicTickFormatter\"},{\"attributes\":{\"data_source\":{\"id\":\"c29727a6-cb48-489f-acb1-c8e5a2bc2599\",\"type\":\"ColumnDataSource\"},\"glyph\":{\"id\":\"2f5972bd-5741-4e7a-90cf-c2091405bd46\",\"type\":\"Square\"},\"hover_glyph\":null,\"nonselection_glyph\":{\"id\":\"a2c26591-d969-49a1-9311-6b168aae29ce\",\"type\":\"Square\"},\"selection_glyph\":null},\"id\":\"afb56fdf-1a63-4f24-b62d-3793671bafb0\",\"type\":\"GlyphRenderer\"},{\"attributes\":{\"plot\":{\"id\":\"fcafde65-e909-44cb-88e3-51026eb5bc3d\",\"subtype\":\"Figure\",\"type\":\"Plot\"}},\"id\":\"05a42c4f-7d70-4621-8134-8907cc7cc27f\",\"type\":\"PanTool\"},{\"attributes\":{\"plot\":{\"id\":\"fcafde65-e909-44cb-88e3-51026eb5bc3d\",\"subtype\":\"Figure\",\"type\":\"Plot\"},\"ticker\":{\"id\":\"f947928f-8cd7-41ca-b284-44e9c69fc3a5\",\"type\":\"BasicTicker\"}},\"id\":\"652baefd-b909-43db-a15f-f989fff9aea0\",\"type\":\"Grid\"}],\"root_ids\":[\"fcafde65-e909-44cb-88e3-51026eb5bc3d\"]},\"title\":\"Bokeh Application\",\"version\":\"0.12.1\"}};\n",
       "            var render_items = [{\"docid\":\"21218fc7-66f2-4bf8-b8b8-c2f404f0ce4a\",\"elementid\":\"e140f3af-b330-436d-adcf-f0898ea670e6\",\"modelid\":\"fcafde65-e909-44cb-88e3-51026eb5bc3d\",\"notebook_comms_target\":\"6d185b2e-c319-4d7d-bcf3-518bea508bdc\"}];\n",
       "            \n",
       "            Bokeh.embed.embed_items(docs_json, render_items);\n",
       "        });\n",
       "      },\n",
       "      function(Bokeh) {\n",
       "      }\n",
       "    ];\n",
       "  \n",
       "    function run_inline_js() {\n",
       "      for (var i = 0; i < inline_js.length; i++) {\n",
       "        inline_js[i](window.Bokeh);\n",
       "      }\n",
       "    }\n",
       "  \n",
       "    if (window._bokeh_is_loading === 0) {\n",
       "      console.log(\"Bokeh: BokehJS loaded, going straight to plotting\");\n",
       "      run_inline_js();\n",
       "    } else {\n",
       "      load_libs(js_urls, function() {\n",
       "        console.log(\"Bokeh: BokehJS plotting callback run at\", now());\n",
       "        run_inline_js();\n",
       "      });\n",
       "    }\n",
       "  }(this));\n",
       "</script>"
      ]
     },
     "metadata": {},
     "output_type": "display_data"
    },
    {
     "data": {
      "text/html": [
       "<p><code>&lt;Bokeh Notebook handle for <strong>In[5]</strong>&gt;</code></p>"
      ],
      "text/plain": [
       "<bokeh.io._CommsHandle at 0x85d3f60>"
      ]
     },
     "execution_count": 5,
     "metadata": {},
     "output_type": "execute_result"
    }
   ],
   "source": [
    "# create a new plot using figure\n",
    "p = figure(plot_width=400, plot_height=400)\n",
    "\n",
    "# add a square renderer with a size, color, alpha, and sizes\n",
    "p.square([1, 2, 3, 4, 5], [6, 7, 2, 4, 5], size=[10, 15, 20, 25, 30], color=\"firebrick\", alpha=0.6)\n",
    "\n",
    "show(p) # show the results"
   ]
  },
  {
   "cell_type": "markdown",
   "metadata": {},
   "source": [
    "Note that in the example above, we are also specifying different sizes for each individual marker. ***In general, all of a glyph's properties can be \"vectorized\" in this fashion. ***  Also note that we have passed ``color`` as a shorthand to set both the line and fill colors easily at the same time. This is a convenience specific to ``bokeh.plotting``.\n",
    "\n",
    "</table><p>There are many marker types available in Bokeh, you can see details and\n",
    "example plots for all of them in the reference guide by clicking on entries in the list below:</p>\n",
    "<table class=\"hlist\" style=\"float:left\"><tr><td><ul>\n",
    "<li><a href=\"http://bokeh.pydata.org/en/latest/docs/reference/plotting.html#bokeh.plotting.Figure.asterisk\" title=\"bokeh.plotting.Figure.asterisk\"><code class=\"xref py py-func docutils literal\"><span class=\"pre\">asterisk()</span></code></a></li>\n",
    "<li><a href=\"http://bokeh.pydata.org/en/latest/docs/reference/plotting.html#bokeh.plotting.Figure.circle\" title=\"bokeh.plotting.Figure.circle\"><code class=\"xref py py-func docutils literal\"><span class=\"pre\">circle()</span></code></a></li>\n",
    "<li><a href=\"http://bokeh.pydata.org/en/latest/docs/reference/plotting.html#bokeh.plotting.Figure.circle_cross\" title=\"bokeh.plotting.Figure.circle_cross\"><code class=\"xref py py-func docutils literal\"><span class=\"pre\">circle_cross()</span></code></a></li>\n",
    "<li><a href=\"http://bokeh.pydata.org/en/latest/docs/reference/plotting.html#bokeh.plotting.Figure.circle_x\" title=\"bokeh.plotting.Figure.circle_x\"><code class=\"xref py py-func docutils literal\"><span class=\"pre\">circle_x()</span></code></a></li>\n",
    "<li><a href=\"http://bokeh.pydata.org/en/latest/docs/reference/plotting.html#bokeh.plotting.Figure.cross\" title=\"bokeh.plotting.Figure.cross\"><code class=\"xref py py-func docutils literal\"><span class=\"pre\">cross()</span></code></a></li>\n",
    "</ul>\n",
    "</td><td><ul>\n",
    "<li><a href=\"http://bokeh.pydata.org/en/latest/docs/reference/plotting.html#bokeh.plotting.Figure.diamond\" title=\"bokeh.plotting.Figure.diamond\"><code class=\"xref py py-func docutils literal\"><span class=\"pre\">diamond()</span></code></a></li>\n",
    "<li><a href=\"http://bokeh.pydata.org/en/latest/docs/reference/plotting.html#bokeh.plotting.Figure.diamond_cross\" title=\"bokeh.plotting.Figure.diamond_cross\"><code class=\"xref py py-func docutils literal\"><span class=\"pre\">diamond_cross()</span></code></a></li>\n",
    "<li><a href=\"http://bokeh.pydata.org/en/latest/docs/reference/plotting.html#bokeh.plotting.Figure.inverted_triangle\" title=\"bokeh.plotting.Figure.inverted_triangle\"><code class=\"xref py py-func docutils literal\"><span class=\"pre\">inverted_triangle()</span></code></a></li>\n",
    "<li><a href=\"http://bokeh.pydata.org/en/latest/docs/reference/plotting.html#bokeh.plotting.Figure.square\" title=\"bokeh.plotting.Figure.square\"><code class=\"xref py py-func docutils literal\"><span class=\"pre\">square()</span></code></a></li>\n",
    "</ul>\n",
    "</td><td><ul>\n",
    "<li><a href=\"http://bokeh.pydata.org/en/latest/docs/reference/plotting.html#bokeh.plotting.Figure.square_cross\" title=\"bokeh.plotting.Figure.square_cross\"><code class=\"xref py py-func docutils literal\"><span class=\"pre\">square_cross()</span></code></a></li>\n",
    "<li><a href=\"http://bokeh.pydata.org/en/latest/docs/reference/plotting.html#bokeh.plotting.Figure.square_x\" title=\"bokeh.plotting.Figure.square_x\"><code class=\"xref py py-func docutils literal\"><span class=\"pre\">square_x()</span></code></a></li>\n",
    "<li><a href=\"http://bokeh.pydata.org/en/latest/docs/reference/plotting.html#bokeh.plotting.Figure.triangle\" title=\"bokeh.plotting.Figure.triangle\"><code class=\"xref py py-func docutils literal\"><span class=\"pre\">triangle()</span></code></a></li>\n",
    "<li><a href=\"http://bokeh.pydata.org/en/latest/docs/reference/plotting.html#bokeh.plotting.Figure.x\" title=\"bokeh.plotting.Figure.x\"><code class=\"xref py py-func docutils literal\"><span class=\"pre\">x()</span></code></a></li>\n",
    "</ul>\n",
    "</td></tr></table>"
   ]
  },
  {
   "cell_type": "code",
   "execution_count": 6,
   "metadata": {
    "collapsed": true
   },
   "outputs": [],
   "source": [
    "# EXERCISE: Plot some different markers in this cell\n",
    "\n"
   ]
  },
  {
   "cell_type": "markdown",
   "metadata": {},
   "source": [
    "# Basic Line Plots"
   ]
  },
  {
   "cell_type": "code",
   "execution_count": 6,
   "metadata": {
    "collapsed": false
   },
   "outputs": [
    {
     "data": {
      "text/html": [
       "\n",
       "\n",
       "    <div class=\"bk-root\">\n",
       "        <div class=\"plotdiv\" id=\"4df39e07-3da5-438b-9215-323dd646b5f4\"></div>\n",
       "    </div>\n",
       "<script type=\"text/javascript\">\n",
       "  \n",
       "  (function(global) {\n",
       "    function now() {\n",
       "      return new Date();\n",
       "    }\n",
       "  \n",
       "    var force = \"\";\n",
       "  \n",
       "    if (typeof (window._bokeh_onload_callbacks) === \"undefined\" || force !== \"\") {\n",
       "      window._bokeh_onload_callbacks = [];\n",
       "      window._bokeh_is_loading = undefined;\n",
       "    }\n",
       "  \n",
       "    function run_callbacks() {\n",
       "      window._bokeh_onload_callbacks.forEach(function(callback) { callback() });\n",
       "      delete window._bokeh_onload_callbacks\n",
       "      console.info(\"Bokeh: all callbacks have finished\");\n",
       "    }\n",
       "  \n",
       "    function load_libs(js_urls, callback) {\n",
       "      window._bokeh_onload_callbacks.push(callback);\n",
       "      if (window._bokeh_is_loading > 0) {\n",
       "        console.log(\"Bokeh: BokehJS is being loaded, scheduling callback at\", now());\n",
       "        return null;\n",
       "      }\n",
       "      if (js_urls == null || js_urls.length === 0) {\n",
       "        run_callbacks();\n",
       "        return null;\n",
       "      }\n",
       "      console.log(\"Bokeh: BokehJS not loaded, scheduling load and callback at\", now());\n",
       "      window._bokeh_is_loading = js_urls.length;\n",
       "      for (var i = 0; i < js_urls.length; i++) {\n",
       "        var url = js_urls[i];\n",
       "        var s = document.createElement('script');\n",
       "        s.src = url;\n",
       "        s.async = false;\n",
       "        s.onreadystatechange = s.onload = function() {\n",
       "          window._bokeh_is_loading--;\n",
       "          if (window._bokeh_is_loading === 0) {\n",
       "            console.log(\"Bokeh: all BokehJS libraries loaded\");\n",
       "            run_callbacks()\n",
       "          }\n",
       "        };\n",
       "        s.onerror = function() {\n",
       "          console.warn(\"failed to load library \" + url);\n",
       "        };\n",
       "        console.log(\"Bokeh: injecting script tag for BokehJS library: \", url);\n",
       "        document.getElementsByTagName(\"head\")[0].appendChild(s);\n",
       "      }\n",
       "    };var element = document.getElementById(\"4df39e07-3da5-438b-9215-323dd646b5f4\");\n",
       "    if (element == null) {\n",
       "      console.log(\"Bokeh: ERROR: autoload.js configured with elementid '4df39e07-3da5-438b-9215-323dd646b5f4' but no matching script tag was found. \")\n",
       "      return false;\n",
       "    }\n",
       "  \n",
       "    var js_urls = [];\n",
       "  \n",
       "    var inline_js = [\n",
       "      function(Bokeh) {\n",
       "        Bokeh.$(function() {\n",
       "            var docs_json = {\"23301520-7cfe-425f-b834-7c9d5a67b67a\":{\"roots\":{\"references\":[{\"attributes\":{},\"id\":\"67af57c8-2e68-453c-a01a-6876380a6e7e\",\"type\":\"BasicTickFormatter\"},{\"attributes\":{\"bottom_units\":\"screen\",\"fill_alpha\":{\"value\":0.5},\"fill_color\":{\"value\":\"lightgrey\"},\"left_units\":\"screen\",\"level\":\"overlay\",\"line_alpha\":{\"value\":1.0},\"line_color\":{\"value\":\"black\"},\"line_dash\":[4,4],\"line_width\":{\"value\":2},\"plot\":null,\"render_mode\":\"css\",\"right_units\":\"screen\",\"top_units\":\"screen\"},\"id\":\"3b593c3e-c14a-4b77-8069-f2425ab88015\",\"type\":\"BoxAnnotation\"},{\"attributes\":{\"plot\":{\"id\":\"81e2081c-c5d6-44ab-9ee4-5761cf57e785\",\"subtype\":\"Figure\",\"type\":\"Plot\"}},\"id\":\"9b7a65ef-ebc7-47ee-885f-aa2855fce28f\",\"type\":\"ResetTool\"},{\"attributes\":{\"plot\":{\"id\":\"81e2081c-c5d6-44ab-9ee4-5761cf57e785\",\"subtype\":\"Figure\",\"type\":\"Plot\"},\"ticker\":{\"id\":\"e10b4e5f-8995-4674-8fc9-ac0bdd567737\",\"type\":\"BasicTicker\"}},\"id\":\"7372469b-c0a9-4c45-9ae6-a7bcbed7e9e1\",\"type\":\"Grid\"},{\"attributes\":{\"plot\":null,\"text\":\"My Line Plot\"},\"id\":\"26cd36ea-8b67-49ed-8a24-b27787af616b\",\"type\":\"Title\"},{\"attributes\":{},\"id\":\"808ff8e2-6737-41bb-b80d-3cb37ceef63f\",\"type\":\"BasicTicker\"},{\"attributes\":{\"plot\":{\"id\":\"81e2081c-c5d6-44ab-9ee4-5761cf57e785\",\"subtype\":\"Figure\",\"type\":\"Plot\"}},\"id\":\"1af19c93-856e-449e-b0a8-b9e5aca1130d\",\"type\":\"HelpTool\"},{\"attributes\":{\"plot\":{\"id\":\"81e2081c-c5d6-44ab-9ee4-5761cf57e785\",\"subtype\":\"Figure\",\"type\":\"Plot\"}},\"id\":\"7e968c20-0131-4dc6-bd02-0b2f0d314b2b\",\"type\":\"WheelZoomTool\"},{\"attributes\":{\"below\":[{\"id\":\"f39f1217-d579-4553-b69a-bad53df7a4a1\",\"type\":\"LinearAxis\"}],\"left\":[{\"id\":\"f85ecec1-2dbb-415d-8f63-38f93f318142\",\"type\":\"LinearAxis\"}],\"plot_height\":400,\"plot_width\":400,\"renderers\":[{\"id\":\"f39f1217-d579-4553-b69a-bad53df7a4a1\",\"type\":\"LinearAxis\"},{\"id\":\"7372469b-c0a9-4c45-9ae6-a7bcbed7e9e1\",\"type\":\"Grid\"},{\"id\":\"f85ecec1-2dbb-415d-8f63-38f93f318142\",\"type\":\"LinearAxis\"},{\"id\":\"31ee313a-ceec-454f-bfb5-835c2d422197\",\"type\":\"Grid\"},{\"id\":\"3b593c3e-c14a-4b77-8069-f2425ab88015\",\"type\":\"BoxAnnotation\"},{\"id\":\"974fece8-3e23-46ed-b941-d14f543e4b43\",\"type\":\"GlyphRenderer\"}],\"title\":{\"id\":\"26cd36ea-8b67-49ed-8a24-b27787af616b\",\"type\":\"Title\"},\"tool_events\":{\"id\":\"9952e472-b51c-4944-adb8-3dcd5c747d42\",\"type\":\"ToolEvents\"},\"toolbar\":{\"id\":\"1d89e140-ec2f-47ae-bb24-c7514b53bf47\",\"type\":\"Toolbar\"},\"x_range\":{\"id\":\"011a96d5-2445-4c72-bc94-1429a07791ce\",\"type\":\"DataRange1d\"},\"y_range\":{\"id\":\"98f8c893-687e-450e-abee-f47804d0aaff\",\"type\":\"DataRange1d\"}},\"id\":\"81e2081c-c5d6-44ab-9ee4-5761cf57e785\",\"subtype\":\"Figure\",\"type\":\"Plot\"},{\"attributes\":{\"plot\":{\"id\":\"81e2081c-c5d6-44ab-9ee4-5761cf57e785\",\"subtype\":\"Figure\",\"type\":\"Plot\"}},\"id\":\"f3fb4f75-c7b6-4c4a-a838-953de0c8695b\",\"type\":\"SaveTool\"},{\"attributes\":{},\"id\":\"9952e472-b51c-4944-adb8-3dcd5c747d42\",\"type\":\"ToolEvents\"},{\"attributes\":{\"callback\":null,\"column_names\":[\"y\",\"x\"],\"data\":{\"x\":[1,2,3,4,5],\"y\":[6,7,2,4,5]}},\"id\":\"f4b8f61f-c057-4ae1-9b62-8a75d46f1e6c\",\"type\":\"ColumnDataSource\"},{\"attributes\":{\"dimension\":1,\"plot\":{\"id\":\"81e2081c-c5d6-44ab-9ee4-5761cf57e785\",\"subtype\":\"Figure\",\"type\":\"Plot\"},\"ticker\":{\"id\":\"808ff8e2-6737-41bb-b80d-3cb37ceef63f\",\"type\":\"BasicTicker\"}},\"id\":\"31ee313a-ceec-454f-bfb5-835c2d422197\",\"type\":\"Grid\"},{\"attributes\":{\"data_source\":{\"id\":\"f4b8f61f-c057-4ae1-9b62-8a75d46f1e6c\",\"type\":\"ColumnDataSource\"},\"glyph\":{\"id\":\"eeb359d6-d257-405e-82e5-d0ebd6cb4bbe\",\"type\":\"Line\"},\"hover_glyph\":null,\"nonselection_glyph\":{\"id\":\"f2c2bdc7-efdd-4986-8c86-75c861768e9f\",\"type\":\"Line\"},\"selection_glyph\":null},\"id\":\"974fece8-3e23-46ed-b941-d14f543e4b43\",\"type\":\"GlyphRenderer\"},{\"attributes\":{},\"id\":\"5877b1ac-b052-463c-8d3b-804decd81fcd\",\"type\":\"BasicTickFormatter\"},{\"attributes\":{\"plot\":{\"id\":\"81e2081c-c5d6-44ab-9ee4-5761cf57e785\",\"subtype\":\"Figure\",\"type\":\"Plot\"}},\"id\":\"7025f5cb-c54a-45a3-b59e-6a11f3840f84\",\"type\":\"PanTool\"},{\"attributes\":{\"formatter\":{\"id\":\"67af57c8-2e68-453c-a01a-6876380a6e7e\",\"type\":\"BasicTickFormatter\"},\"plot\":{\"id\":\"81e2081c-c5d6-44ab-9ee4-5761cf57e785\",\"subtype\":\"Figure\",\"type\":\"Plot\"},\"ticker\":{\"id\":\"e10b4e5f-8995-4674-8fc9-ac0bdd567737\",\"type\":\"BasicTicker\"}},\"id\":\"f39f1217-d579-4553-b69a-bad53df7a4a1\",\"type\":\"LinearAxis\"},{\"attributes\":{},\"id\":\"e10b4e5f-8995-4674-8fc9-ac0bdd567737\",\"type\":\"BasicTicker\"},{\"attributes\":{\"callback\":null},\"id\":\"98f8c893-687e-450e-abee-f47804d0aaff\",\"type\":\"DataRange1d\"},{\"attributes\":{\"active_drag\":\"auto\",\"active_scroll\":\"auto\",\"active_tap\":\"auto\",\"tools\":[{\"id\":\"7025f5cb-c54a-45a3-b59e-6a11f3840f84\",\"type\":\"PanTool\"},{\"id\":\"7e968c20-0131-4dc6-bd02-0b2f0d314b2b\",\"type\":\"WheelZoomTool\"},{\"id\":\"a11fc97c-bd44-4a5f-961c-162e3025f4f1\",\"type\":\"BoxZoomTool\"},{\"id\":\"f3fb4f75-c7b6-4c4a-a838-953de0c8695b\",\"type\":\"SaveTool\"},{\"id\":\"9b7a65ef-ebc7-47ee-885f-aa2855fce28f\",\"type\":\"ResetTool\"},{\"id\":\"1af19c93-856e-449e-b0a8-b9e5aca1130d\",\"type\":\"HelpTool\"}]},\"id\":\"1d89e140-ec2f-47ae-bb24-c7514b53bf47\",\"type\":\"Toolbar\"},{\"attributes\":{\"line_alpha\":{\"value\":0.1},\"line_color\":{\"value\":\"#1f77b4\"},\"line_width\":{\"value\":2},\"x\":{\"field\":\"x\"},\"y\":{\"field\":\"y\"}},\"id\":\"f2c2bdc7-efdd-4986-8c86-75c861768e9f\",\"type\":\"Line\"},{\"attributes\":{\"callback\":null},\"id\":\"011a96d5-2445-4c72-bc94-1429a07791ce\",\"type\":\"DataRange1d\"},{\"attributes\":{\"overlay\":{\"id\":\"3b593c3e-c14a-4b77-8069-f2425ab88015\",\"type\":\"BoxAnnotation\"},\"plot\":{\"id\":\"81e2081c-c5d6-44ab-9ee4-5761cf57e785\",\"subtype\":\"Figure\",\"type\":\"Plot\"}},\"id\":\"a11fc97c-bd44-4a5f-961c-162e3025f4f1\",\"type\":\"BoxZoomTool\"},{\"attributes\":{\"line_color\":{\"value\":\"#1f77b4\"},\"line_width\":{\"value\":2},\"x\":{\"field\":\"x\"},\"y\":{\"field\":\"y\"}},\"id\":\"eeb359d6-d257-405e-82e5-d0ebd6cb4bbe\",\"type\":\"Line\"},{\"attributes\":{\"formatter\":{\"id\":\"5877b1ac-b052-463c-8d3b-804decd81fcd\",\"type\":\"BasicTickFormatter\"},\"plot\":{\"id\":\"81e2081c-c5d6-44ab-9ee4-5761cf57e785\",\"subtype\":\"Figure\",\"type\":\"Plot\"},\"ticker\":{\"id\":\"808ff8e2-6737-41bb-b80d-3cb37ceef63f\",\"type\":\"BasicTicker\"}},\"id\":\"f85ecec1-2dbb-415d-8f63-38f93f318142\",\"type\":\"LinearAxis\"}],\"root_ids\":[\"81e2081c-c5d6-44ab-9ee4-5761cf57e785\"]},\"title\":\"Bokeh Application\",\"version\":\"0.12.1\"}};\n",
       "            var render_items = [{\"docid\":\"23301520-7cfe-425f-b834-7c9d5a67b67a\",\"elementid\":\"4df39e07-3da5-438b-9215-323dd646b5f4\",\"modelid\":\"81e2081c-c5d6-44ab-9ee4-5761cf57e785\",\"notebook_comms_target\":\"fba41ee8-9853-489f-b823-f62b79b7774b\"}];\n",
       "            \n",
       "            Bokeh.embed.embed_items(docs_json, render_items);\n",
       "        });\n",
       "      },\n",
       "      function(Bokeh) {\n",
       "      }\n",
       "    ];\n",
       "  \n",
       "    function run_inline_js() {\n",
       "      for (var i = 0; i < inline_js.length; i++) {\n",
       "        inline_js[i](window.Bokeh);\n",
       "      }\n",
       "    }\n",
       "  \n",
       "    if (window._bokeh_is_loading === 0) {\n",
       "      console.log(\"Bokeh: BokehJS loaded, going straight to plotting\");\n",
       "      run_inline_js();\n",
       "    } else {\n",
       "      load_libs(js_urls, function() {\n",
       "        console.log(\"Bokeh: BokehJS plotting callback run at\", now());\n",
       "        run_inline_js();\n",
       "      });\n",
       "    }\n",
       "  }(this));\n",
       "</script>"
      ]
     },
     "metadata": {},
     "output_type": "display_data"
    },
    {
     "data": {
      "text/html": [
       "<p><code>&lt;Bokeh Notebook handle for <strong>In[6]</strong>&gt;</code></p>"
      ],
      "text/plain": [
       "<bokeh.io._CommsHandle at 0x863bf60>"
      ]
     },
     "execution_count": 6,
     "metadata": {},
     "output_type": "execute_result"
    }
   ],
   "source": [
    "# create a new plot (with a title) using figure\n",
    "p = figure(plot_width=400, plot_height=400, title=\"My Line Plot\")\n",
    "\n",
    "# add a line renderer\n",
    "p.line([1, 2, 3, 4, 5], [6, 7, 2, 4, 5], line_width=2)\n",
    "\n",
    "show(p) # show the results"
   ]
  },
  {
   "cell_type": "markdown",
   "metadata": {},
   "source": [
    "# Images"
   ]
  },
  {
   "cell_type": "markdown",
   "metadata": {},
   "source": [
    "The example below shows how to use the `image_rgba` method to display raw RGBA data. \n",
    "\n",
    "**Note**: This example makes use of the NumPy library "
   ]
  },
  {
   "cell_type": "code",
   "execution_count": 7,
   "metadata": {
    "collapsed": false
   },
   "outputs": [
    {
     "data": {
      "text/html": [
       "\n",
       "\n",
       "    <div class=\"bk-root\">\n",
       "        <div class=\"plotdiv\" id=\"36831398-4d96-4a87-a35c-31694425aae2\"></div>\n",
       "    </div>\n",
       "<script type=\"text/javascript\">\n",
       "  \n",
       "  (function(global) {\n",
       "    function now() {\n",
       "      return new Date();\n",
       "    }\n",
       "  \n",
       "    var force = \"\";\n",
       "  \n",
       "    if (typeof (window._bokeh_onload_callbacks) === \"undefined\" || force !== \"\") {\n",
       "      window._bokeh_onload_callbacks = [];\n",
       "      window._bokeh_is_loading = undefined;\n",
       "    }\n",
       "  \n",
       "    function run_callbacks() {\n",
       "      window._bokeh_onload_callbacks.forEach(function(callback) { callback() });\n",
       "      delete window._bokeh_onload_callbacks\n",
       "      console.info(\"Bokeh: all callbacks have finished\");\n",
       "    }\n",
       "  \n",
       "    function load_libs(js_urls, callback) {\n",
       "      window._bokeh_onload_callbacks.push(callback);\n",
       "      if (window._bokeh_is_loading > 0) {\n",
       "        console.log(\"Bokeh: BokehJS is being loaded, scheduling callback at\", now());\n",
       "        return null;\n",
       "      }\n",
       "      if (js_urls == null || js_urls.length === 0) {\n",
       "        run_callbacks();\n",
       "        return null;\n",
       "      }\n",
       "      console.log(\"Bokeh: BokehJS not loaded, scheduling load and callback at\", now());\n",
       "      window._bokeh_is_loading = js_urls.length;\n",
       "      for (var i = 0; i < js_urls.length; i++) {\n",
       "        var url = js_urls[i];\n",
       "        var s = document.createElement('script');\n",
       "        s.src = url;\n",
       "        s.async = false;\n",
       "        s.onreadystatechange = s.onload = function() {\n",
       "          window._bokeh_is_loading--;\n",
       "          if (window._bokeh_is_loading === 0) {\n",
       "            console.log(\"Bokeh: all BokehJS libraries loaded\");\n",
       "            run_callbacks()\n",
       "          }\n",
       "        };\n",
       "        s.onerror = function() {\n",
       "          console.warn(\"failed to load library \" + url);\n",
       "        };\n",
       "        console.log(\"Bokeh: injecting script tag for BokehJS library: \", url);\n",
       "        document.getElementsByTagName(\"head\")[0].appendChild(s);\n",
       "      }\n",
       "    };var element = document.getElementById(\"36831398-4d96-4a87-a35c-31694425aae2\");\n",
       "    if (element == null) {\n",
       "      console.log(\"Bokeh: ERROR: autoload.js configured with elementid '36831398-4d96-4a87-a35c-31694425aae2' but no matching script tag was found. \")\n",
       "      return false;\n",
       "    }\n",
       "  \n",
       "    var js_urls = [];\n",
       "  \n",
       "    var inline_js = [\n",
       "      function(Bokeh) {\n",
       "        Bokeh.$(function() {\n",
       "            var docs_json = {\"03304076-8cf5-4362-8699-ab15105c99bc\":{\"roots\":{\"references\":[{\"attributes\":{\"dh\":{\"field\":\"dh\",\"units\":\"data\"},\"dw\":{\"field\":\"dw\",\"units\":\"data\"},\"image\":{\"field\":\"image\"},\"x\":{\"field\":\"x\"},\"y\":{\"field\":\"y\"}},\"id\":\"74347019-7d70-4b85-b450-5be15fed9694\",\"type\":\"ImageRGBA\"},{\"attributes\":{\"callback\":null,\"column_names\":[\"y\",\"x\",\"image\",\"dh\",\"dw\"],\"data\":{\"dh\":[10],\"dw\":[10],\"image\":[[[4278230528,4279016960,4279868928,4280720896,4281572864,4282359296,4283211264,4284063232,4284915200,4285701632,4286553600,4287405568,4288257536,4289043968,4289895936,4290747904,4291599872,4292386304,4293238272,4294090240],[4278230540,4279016972,4279868940,4280720908,4281572876,4282359308,4283211276,4284063244,4284915212,4285701644,4286553612,4287405580,4288257548,4289043980,4289895948,4290747916,4291599884,4292386316,4293238284,4294090252],[4278230553,4279016985,4279868953,4280720921,4281572889,4282359321,4283211289,4284063257,4284915225,4285701657,4286553625,4287405593,4288257561,4289043993,4289895961,4290747929,4291599897,4292386329,4293238297,4294090265],[4278230566,4279016998,4279868966,4280720934,4281572902,4282359334,4283211302,4284063270,4284915238,4285701670,4286553638,4287405606,4288257574,4289044006,4289895974,4290747942,4291599910,4292386342,4293238310,4294090278],[4278230579,4279017011,4279868979,4280720947,4281572915,4282359347,4283211315,4284063283,4284915251,4285701683,4286553651,4287405619,4288257587,4289044019,4289895987,4290747955,4291599923,4292386355,4293238323,4294090291],[4278230591,4279017023,4279868991,4280720959,4281572927,4282359359,4283211327,4284063295,4284915263,4285701695,4286553663,4287405631,4288257599,4289044031,4289895999,4290747967,4291599935,4292386367,4293238335,4294090303],[4278230604,4279017036,4279869004,4280720972,4281572940,4282359372,4283211340,4284063308,4284915276,4285701708,4286553676,4287405644,4288257612,4289044044,4289896012,4290747980,4291599948,4292386380,4293238348,4294090316],[4278230617,4279017049,4279869017,4280720985,4281572953,4282359385,4283211353,4284063321,4284915289,4285701721,4286553689,4287405657,4288257625,4289044057,4289896025,4290747993,4291599961,4292386393,4293238361,4294090329],[4278230630,4279017062,4279869030,4280720998,4281572966,4282359398,4283211366,4284063334,4284915302,4285701734,4286553702,4287405670,4288257638,4289044070,4289896038,4290748006,4291599974,4292386406,4293238374,4294090342],[4278230642,4279017074,4279869042,4280721010,4281572978,4282359410,4283211378,4284063346,4284915314,4285701746,4286553714,4287405682,4288257650,4289044082,4289896050,4290748018,4291599986,4292386418,4293238386,4294090354],[4278230655,4279017087,4279869055,4280721023,4281572991,4282359423,4283211391,4284063359,4284915327,4285701759,4286553727,4287405695,4288257663,4289044095,4289896063,4290748031,4291599999,4292386431,4293238399,4294090367],[4278230668,4279017100,4279869068,4280721036,4281573004,4282359436,4283211404,4284063372,4284915340,4285701772,4286553740,4287405708,4288257676,4289044108,4289896076,4290748044,4291600012,4292386444,4293238412,4294090380],[4278230681,4279017113,4279869081,4280721049,4281573017,4282359449,4283211417,4284063385,4284915353,4285701785,4286553753,4287405721,4288257689,4289044121,4289896089,4290748057,4291600025,4292386457,4293238425,4294090393],[4278230693,4279017125,4279869093,4280721061,4281573029,4282359461,4283211429,4284063397,4284915365,4285701797,4286553765,4287405733,4288257701,4289044133,4289896101,4290748069,4291600037,4292386469,4293238437,4294090405],[4278230706,4279017138,4279869106,4280721074,4281573042,4282359474,4283211442,4284063410,4284915378,4285701810,4286553778,4287405746,4288257714,4289044146,4289896114,4290748082,4291600050,4292386482,4293238450,4294090418],[4278230719,4279017151,4279869119,4280721087,4281573055,4282359487,4283211455,4284063423,4284915391,4285701823,4286553791,4287405759,4288257727,4289044159,4289896127,4290748095,4291600063,4292386495,4293238463,4294090431],[4278230732,4279017164,4279869132,4280721100,4281573068,4282359500,4283211468,4284063436,4284915404,4285701836,4286553804,4287405772,4288257740,4289044172,4289896140,4290748108,4291600076,4292386508,4293238476,4294090444],[4278230744,4279017176,4279869144,4280721112,4281573080,4282359512,4283211480,4284063448,4284915416,4285701848,4286553816,4287405784,4288257752,4289044184,4289896152,4290748120,4291600088,4292386520,4293238488,4294090456],[4278230757,4279017189,4279869157,4280721125,4281573093,4282359525,4283211493,4284063461,4284915429,4285701861,4286553829,4287405797,4288257765,4289044197,4289896165,4290748133,4291600101,4292386533,4293238501,4294090469],[4278230770,4279017202,4279869170,4280721138,4281573106,4282359538,4283211506,4284063474,4284915442,4285701874,4286553842,4287405810,4288257778,4289044210,4289896178,4290748146,4291600114,4292386546,4293238514,4294090482]]],\"x\":[0],\"y\":[0]}},\"id\":\"8026f549-700e-4507-88d8-62cfc02475cd\",\"type\":\"ColumnDataSource\"},{\"attributes\":{\"plot\":{\"id\":\"e6729df6-f09f-4a91-8bc5-b64d4c87f1b3\",\"subtype\":\"Figure\",\"type\":\"Plot\"}},\"id\":\"8d36ae8f-8df9-4f5a-816e-857f817794db\",\"type\":\"SaveTool\"},{\"attributes\":{},\"id\":\"2d801a3b-0a9b-43c0-9bad-7031e9db1aeb\",\"type\":\"BasicTickFormatter\"},{\"attributes\":{\"data_source\":{\"id\":\"8026f549-700e-4507-88d8-62cfc02475cd\",\"type\":\"ColumnDataSource\"},\"glyph\":{\"id\":\"d5ce8a96-cf5b-41d0-8176-5829ddc25af1\",\"type\":\"ImageRGBA\"},\"hover_glyph\":null,\"nonselection_glyph\":{\"id\":\"74347019-7d70-4b85-b450-5be15fed9694\",\"type\":\"ImageRGBA\"},\"selection_glyph\":null},\"id\":\"9b105f29-2c08-4eeb-bbe2-c53b7d5f560a\",\"type\":\"GlyphRenderer\"},{\"attributes\":{\"plot\":{\"id\":\"e6729df6-f09f-4a91-8bc5-b64d4c87f1b3\",\"subtype\":\"Figure\",\"type\":\"Plot\"}},\"id\":\"2c466196-1aba-41df-9d47-23a6b22f6112\",\"type\":\"PanTool\"},{\"attributes\":{\"formatter\":{\"id\":\"3848ca48-0409-4a93-8bca-29058e550164\",\"type\":\"BasicTickFormatter\"},\"plot\":{\"id\":\"e6729df6-f09f-4a91-8bc5-b64d4c87f1b3\",\"subtype\":\"Figure\",\"type\":\"Plot\"},\"ticker\":{\"id\":\"1ea53fd9-a945-41f5-99bc-1216b326c884\",\"type\":\"BasicTicker\"}},\"id\":\"5ff5f62a-e228-47ee-8098-d8fdc5e78746\",\"type\":\"LinearAxis\"},{\"attributes\":{\"overlay\":{\"id\":\"57051122-9f9f-481c-80b3-e53eb0456bff\",\"type\":\"BoxAnnotation\"},\"plot\":{\"id\":\"e6729df6-f09f-4a91-8bc5-b64d4c87f1b3\",\"subtype\":\"Figure\",\"type\":\"Plot\"}},\"id\":\"29804342-51bc-459a-b32c-341287fa199a\",\"type\":\"BoxZoomTool\"},{\"attributes\":{\"below\":[{\"id\":\"c5e45bbf-109c-4d75-b4a7-413bc6e2e7d0\",\"type\":\"LinearAxis\"}],\"left\":[{\"id\":\"5ff5f62a-e228-47ee-8098-d8fdc5e78746\",\"type\":\"LinearAxis\"}],\"renderers\":[{\"id\":\"c5e45bbf-109c-4d75-b4a7-413bc6e2e7d0\",\"type\":\"LinearAxis\"},{\"id\":\"f3a351fd-96df-416d-a5e4-658ce1ea4d29\",\"type\":\"Grid\"},{\"id\":\"5ff5f62a-e228-47ee-8098-d8fdc5e78746\",\"type\":\"LinearAxis\"},{\"id\":\"db4e5905-2f76-479f-b27d-6d639ce1f5df\",\"type\":\"Grid\"},{\"id\":\"57051122-9f9f-481c-80b3-e53eb0456bff\",\"type\":\"BoxAnnotation\"},{\"id\":\"9b105f29-2c08-4eeb-bbe2-c53b7d5f560a\",\"type\":\"GlyphRenderer\"}],\"title\":{\"id\":\"7b70cdba-d5b2-48c1-8949-7ec27e55994e\",\"type\":\"Title\"},\"tool_events\":{\"id\":\"c344272d-f367-4362-bae1-b53c39a4b1fe\",\"type\":\"ToolEvents\"},\"toolbar\":{\"id\":\"fc51fc54-e432-41e3-8182-28bf5cd7160f\",\"type\":\"Toolbar\"},\"x_range\":{\"id\":\"b2187331-9e7b-402a-908b-aae003227e3f\",\"type\":\"Range1d\"},\"y_range\":{\"id\":\"72cbc3f4-5e31-42c2-8a1d-3045d2a491da\",\"type\":\"Range1d\"}},\"id\":\"e6729df6-f09f-4a91-8bc5-b64d4c87f1b3\",\"subtype\":\"Figure\",\"type\":\"Plot\"},{\"attributes\":{\"callback\":null,\"end\":10},\"id\":\"b2187331-9e7b-402a-908b-aae003227e3f\",\"type\":\"Range1d\"},{\"attributes\":{},\"id\":\"c344272d-f367-4362-bae1-b53c39a4b1fe\",\"type\":\"ToolEvents\"},{\"attributes\":{\"plot\":{\"id\":\"e6729df6-f09f-4a91-8bc5-b64d4c87f1b3\",\"subtype\":\"Figure\",\"type\":\"Plot\"}},\"id\":\"db7084ad-6de5-48c9-b8fa-a2798bbb2c7d\",\"type\":\"HelpTool\"},{\"attributes\":{\"formatter\":{\"id\":\"2d801a3b-0a9b-43c0-9bad-7031e9db1aeb\",\"type\":\"BasicTickFormatter\"},\"plot\":{\"id\":\"e6729df6-f09f-4a91-8bc5-b64d4c87f1b3\",\"subtype\":\"Figure\",\"type\":\"Plot\"},\"ticker\":{\"id\":\"13adb042-0b21-40b2-8f64-f9336c8cdad6\",\"type\":\"BasicTicker\"}},\"id\":\"c5e45bbf-109c-4d75-b4a7-413bc6e2e7d0\",\"type\":\"LinearAxis\"},{\"attributes\":{},\"id\":\"3848ca48-0409-4a93-8bca-29058e550164\",\"type\":\"BasicTickFormatter\"},{\"attributes\":{\"dimension\":1,\"plot\":{\"id\":\"e6729df6-f09f-4a91-8bc5-b64d4c87f1b3\",\"subtype\":\"Figure\",\"type\":\"Plot\"},\"ticker\":{\"id\":\"1ea53fd9-a945-41f5-99bc-1216b326c884\",\"type\":\"BasicTicker\"}},\"id\":\"db4e5905-2f76-479f-b27d-6d639ce1f5df\",\"type\":\"Grid\"},{\"attributes\":{},\"id\":\"1ea53fd9-a945-41f5-99bc-1216b326c884\",\"type\":\"BasicTicker\"},{\"attributes\":{},\"id\":\"13adb042-0b21-40b2-8f64-f9336c8cdad6\",\"type\":\"BasicTicker\"},{\"attributes\":{\"plot\":{\"id\":\"e6729df6-f09f-4a91-8bc5-b64d4c87f1b3\",\"subtype\":\"Figure\",\"type\":\"Plot\"}},\"id\":\"25215ef8-5d7b-4b0b-941b-ed5a83cc4c85\",\"type\":\"ResetTool\"},{\"attributes\":{\"plot\":{\"id\":\"e6729df6-f09f-4a91-8bc5-b64d4c87f1b3\",\"subtype\":\"Figure\",\"type\":\"Plot\"},\"ticker\":{\"id\":\"13adb042-0b21-40b2-8f64-f9336c8cdad6\",\"type\":\"BasicTicker\"}},\"id\":\"f3a351fd-96df-416d-a5e4-658ce1ea4d29\",\"type\":\"Grid\"},{\"attributes\":{\"plot\":null,\"text\":null},\"id\":\"7b70cdba-d5b2-48c1-8949-7ec27e55994e\",\"type\":\"Title\"},{\"attributes\":{\"active_drag\":\"auto\",\"active_scroll\":\"auto\",\"active_tap\":\"auto\",\"tools\":[{\"id\":\"2c466196-1aba-41df-9d47-23a6b22f6112\",\"type\":\"PanTool\"},{\"id\":\"95ea5223-d4ce-4a9a-a65b-78066fa07d13\",\"type\":\"WheelZoomTool\"},{\"id\":\"29804342-51bc-459a-b32c-341287fa199a\",\"type\":\"BoxZoomTool\"},{\"id\":\"8d36ae8f-8df9-4f5a-816e-857f817794db\",\"type\":\"SaveTool\"},{\"id\":\"25215ef8-5d7b-4b0b-941b-ed5a83cc4c85\",\"type\":\"ResetTool\"},{\"id\":\"db7084ad-6de5-48c9-b8fa-a2798bbb2c7d\",\"type\":\"HelpTool\"}]},\"id\":\"fc51fc54-e432-41e3-8182-28bf5cd7160f\",\"type\":\"Toolbar\"},{\"attributes\":{\"callback\":null,\"end\":10},\"id\":\"72cbc3f4-5e31-42c2-8a1d-3045d2a491da\",\"type\":\"Range1d\"},{\"attributes\":{\"plot\":{\"id\":\"e6729df6-f09f-4a91-8bc5-b64d4c87f1b3\",\"subtype\":\"Figure\",\"type\":\"Plot\"}},\"id\":\"95ea5223-d4ce-4a9a-a65b-78066fa07d13\",\"type\":\"WheelZoomTool\"},{\"attributes\":{\"dh\":{\"field\":\"dh\",\"units\":\"data\"},\"dw\":{\"field\":\"dw\",\"units\":\"data\"},\"image\":{\"field\":\"image\"},\"x\":{\"field\":\"x\"},\"y\":{\"field\":\"y\"}},\"id\":\"d5ce8a96-cf5b-41d0-8176-5829ddc25af1\",\"type\":\"ImageRGBA\"},{\"attributes\":{\"bottom_units\":\"screen\",\"fill_alpha\":{\"value\":0.5},\"fill_color\":{\"value\":\"lightgrey\"},\"left_units\":\"screen\",\"level\":\"overlay\",\"line_alpha\":{\"value\":1.0},\"line_color\":{\"value\":\"black\"},\"line_dash\":[4,4],\"line_width\":{\"value\":2},\"plot\":null,\"render_mode\":\"css\",\"right_units\":\"screen\",\"top_units\":\"screen\"},\"id\":\"57051122-9f9f-481c-80b3-e53eb0456bff\",\"type\":\"BoxAnnotation\"}],\"root_ids\":[\"e6729df6-f09f-4a91-8bc5-b64d4c87f1b3\"]},\"title\":\"Bokeh Application\",\"version\":\"0.12.1\"}};\n",
       "            var render_items = [{\"docid\":\"03304076-8cf5-4362-8699-ab15105c99bc\",\"elementid\":\"36831398-4d96-4a87-a35c-31694425aae2\",\"modelid\":\"e6729df6-f09f-4a91-8bc5-b64d4c87f1b3\",\"notebook_comms_target\":\"c6f4fe6a-58d1-491b-81f3-cb270d4908e6\"}];\n",
       "            \n",
       "            Bokeh.embed.embed_items(docs_json, render_items);\n",
       "        });\n",
       "      },\n",
       "      function(Bokeh) {\n",
       "      }\n",
       "    ];\n",
       "  \n",
       "    function run_inline_js() {\n",
       "      for (var i = 0; i < inline_js.length; i++) {\n",
       "        inline_js[i](window.Bokeh);\n",
       "      }\n",
       "    }\n",
       "  \n",
       "    if (window._bokeh_is_loading === 0) {\n",
       "      console.log(\"Bokeh: BokehJS loaded, going straight to plotting\");\n",
       "      run_inline_js();\n",
       "    } else {\n",
       "      load_libs(js_urls, function() {\n",
       "        console.log(\"Bokeh: BokehJS plotting callback run at\", now());\n",
       "        run_inline_js();\n",
       "      });\n",
       "    }\n",
       "  }(this));\n",
       "</script>"
      ]
     },
     "metadata": {},
     "output_type": "display_data"
    },
    {
     "data": {
      "text/html": [
       "<p><code>&lt;Bokeh Notebook handle for <strong>In[7]</strong>&gt;</code></p>"
      ],
      "text/plain": [
       "<bokeh.io._CommsHandle at 0x8652438>"
      ]
     },
     "execution_count": 7,
     "metadata": {},
     "output_type": "execute_result"
    }
   ],
   "source": [
    "from __future__ import division\n",
    "import numpy as np\n",
    "\n",
    "# set up some data\n",
    "N = 20\n",
    "img = np.empty((N,N), dtype=np.uint32)\n",
    "view = img.view(dtype=np.uint8).reshape((N, N, 4))\n",
    "for i in range(N):\n",
    "    for j in range(N):\n",
    "        view[i, j, 0] = int(i/N*255) # red\n",
    "        view[i, j, 1] = 158          # green\n",
    "        view[i, j, 2] = int(j/N*255) # blue\n",
    "        view[i, j, 3] = 255          # alpha\n",
    "        \n",
    "# create a new plot (with a fixed range) using figure\n",
    "p = figure(x_range=[0,10], y_range=[0,10])\n",
    "\n",
    "# add an RGBA image renderer\n",
    "p.image_rgba(image=[img], x=[0], y=[0], dw=[10], dh=[10])\n",
    "\n",
    "show(p) # show the results"
   ]
  },
  {
   "cell_type": "markdown",
   "metadata": {},
   "source": [
    "# Other Kinds of Glyphs\n",
    "\n",
    "Bokeh supports many other kinds of glyphs. You can click on the User Guide links below to see how to create plots with these glyphs using the [`bokeh.plotting`](http://bokeh.pydata.org/en/latest/docs/user_guide/plotting.html) interface.\n",
    "\n",
    "* [Rectangles and Ovals](http://bokeh.pydata.org/en/latest/docs/user_guide/plotting.html#rectangles-and-ovals)\n",
    "* [Segments and Rays](http://bokeh.pydata.org/en/latest/docs/user_guide/plotting.html#segments-and-rays)\n",
    "* [Wedges and Arcs](http://bokeh.pydata.org/en/latest/docs/user_guide/plotting.html#wedges-and-arcs)\n",
    "* [Specialized Curves](http://bokeh.pydata.org/en/latest/docs/user_guide/plotting.html#specialized-curves)\n"
   ]
  },
  {
   "cell_type": "code",
   "execution_count": 9,
   "metadata": {
    "collapsed": true
   },
   "outputs": [],
   "source": [
    "# EXERCISE: Plot some of the other glyph types, following the examples in the User Guide. \n",
    "\n"
   ]
  },
  {
   "cell_type": "markdown",
   "metadata": {},
   "source": [
    "# Plots with Multiple Glyphs \n",
    "\n",
    "It is possible to combine more than one glyph on a single figure. You just need to call multiple glyph methods on one figure object:"
   ]
  },
  {
   "cell_type": "code",
   "execution_count": 8,
   "metadata": {
    "collapsed": false
   },
   "outputs": [
    {
     "data": {
      "text/html": [
       "\n",
       "\n",
       "    <div class=\"bk-root\">\n",
       "        <div class=\"plotdiv\" id=\"9f384524-ec25-4295-8ae6-04ec900e955a\"></div>\n",
       "    </div>\n",
       "<script type=\"text/javascript\">\n",
       "  \n",
       "  (function(global) {\n",
       "    function now() {\n",
       "      return new Date();\n",
       "    }\n",
       "  \n",
       "    var force = \"\";\n",
       "  \n",
       "    if (typeof (window._bokeh_onload_callbacks) === \"undefined\" || force !== \"\") {\n",
       "      window._bokeh_onload_callbacks = [];\n",
       "      window._bokeh_is_loading = undefined;\n",
       "    }\n",
       "  \n",
       "    function run_callbacks() {\n",
       "      window._bokeh_onload_callbacks.forEach(function(callback) { callback() });\n",
       "      delete window._bokeh_onload_callbacks\n",
       "      console.info(\"Bokeh: all callbacks have finished\");\n",
       "    }\n",
       "  \n",
       "    function load_libs(js_urls, callback) {\n",
       "      window._bokeh_onload_callbacks.push(callback);\n",
       "      if (window._bokeh_is_loading > 0) {\n",
       "        console.log(\"Bokeh: BokehJS is being loaded, scheduling callback at\", now());\n",
       "        return null;\n",
       "      }\n",
       "      if (js_urls == null || js_urls.length === 0) {\n",
       "        run_callbacks();\n",
       "        return null;\n",
       "      }\n",
       "      console.log(\"Bokeh: BokehJS not loaded, scheduling load and callback at\", now());\n",
       "      window._bokeh_is_loading = js_urls.length;\n",
       "      for (var i = 0; i < js_urls.length; i++) {\n",
       "        var url = js_urls[i];\n",
       "        var s = document.createElement('script');\n",
       "        s.src = url;\n",
       "        s.async = false;\n",
       "        s.onreadystatechange = s.onload = function() {\n",
       "          window._bokeh_is_loading--;\n",
       "          if (window._bokeh_is_loading === 0) {\n",
       "            console.log(\"Bokeh: all BokehJS libraries loaded\");\n",
       "            run_callbacks()\n",
       "          }\n",
       "        };\n",
       "        s.onerror = function() {\n",
       "          console.warn(\"failed to load library \" + url);\n",
       "        };\n",
       "        console.log(\"Bokeh: injecting script tag for BokehJS library: \", url);\n",
       "        document.getElementsByTagName(\"head\")[0].appendChild(s);\n",
       "      }\n",
       "    };var element = document.getElementById(\"9f384524-ec25-4295-8ae6-04ec900e955a\");\n",
       "    if (element == null) {\n",
       "      console.log(\"Bokeh: ERROR: autoload.js configured with elementid '9f384524-ec25-4295-8ae6-04ec900e955a' but no matching script tag was found. \")\n",
       "      return false;\n",
       "    }\n",
       "  \n",
       "    var js_urls = [];\n",
       "  \n",
       "    var inline_js = [\n",
       "      function(Bokeh) {\n",
       "        Bokeh.$(function() {\n",
       "            var docs_json = {\"e245b8f0-219c-4ff3-a04b-436858529f7a\":{\"roots\":{\"references\":[{\"attributes\":{\"callback\":null,\"column_names\":[\"y\",\"x\"],\"data\":{\"x\":[1,2,3,4,5],\"y\":[6,7,8,7,3]}},\"id\":\"2e73ca63-ef45-4d50-83bd-12c7b1172d29\",\"type\":\"ColumnDataSource\"},{\"attributes\":{\"plot\":{\"id\":\"3a7937b4-fc37-4b92-be58-18a3f12bb9d7\",\"subtype\":\"Figure\",\"type\":\"Plot\"}},\"id\":\"1d7af6e6-4f8a-4861-b7d2-7bc2f6749c68\",\"type\":\"ResetTool\"},{\"attributes\":{\"dimension\":1,\"plot\":{\"id\":\"3a7937b4-fc37-4b92-be58-18a3f12bb9d7\",\"subtype\":\"Figure\",\"type\":\"Plot\"},\"ticker\":{\"id\":\"8c04021e-008b-4d4e-9dea-2eb6fd21d932\",\"type\":\"BasicTicker\"}},\"id\":\"5bba83cd-96e6-46b9-ad95-8b299a44f5a7\",\"type\":\"Grid\"},{\"attributes\":{\"callback\":null,\"column_names\":[\"y\",\"x\"],\"data\":{\"x\":[1,2,3,4,5],\"y\":[6,7,8,7,3]}},\"id\":\"90ec6cfe-dd10-4ae2-b9b2-3ac8395d7b68\",\"type\":\"ColumnDataSource\"},{\"attributes\":{},\"id\":\"fae7357b-84a3-4984-b90b-710c5cf8a51a\",\"type\":\"BasicTickFormatter\"},{\"attributes\":{\"active_drag\":\"auto\",\"active_scroll\":\"auto\",\"active_tap\":\"auto\",\"tools\":[{\"id\":\"5f58d91b-c3a5-47a5-8a1d-999a431c72a3\",\"type\":\"PanTool\"},{\"id\":\"d216260f-6818-4103-8b7b-c43735ff441d\",\"type\":\"WheelZoomTool\"},{\"id\":\"a8f35077-0a8b-4fb0-a6c7-e31e0e85361e\",\"type\":\"BoxZoomTool\"},{\"id\":\"7a6d5afc-f54f-48f5-93be-9e702ce18da5\",\"type\":\"SaveTool\"},{\"id\":\"1d7af6e6-4f8a-4861-b7d2-7bc2f6749c68\",\"type\":\"ResetTool\"},{\"id\":\"a485ec4a-5915-431f-84cd-ac71465ad5f8\",\"type\":\"HelpTool\"}]},\"id\":\"29475100-9865-4b4e-87e2-1251e97b1de0\",\"type\":\"Toolbar\"},{\"attributes\":{\"formatter\":{\"id\":\"fae7357b-84a3-4984-b90b-710c5cf8a51a\",\"type\":\"BasicTickFormatter\"},\"plot\":{\"id\":\"3a7937b4-fc37-4b92-be58-18a3f12bb9d7\",\"subtype\":\"Figure\",\"type\":\"Plot\"},\"ticker\":{\"id\":\"d17aa1fa-ca63-484e-b93e-458bd6e137ec\",\"type\":\"BasicTicker\"}},\"id\":\"1b6d1223-044f-48e2-b430-107a0260c538\",\"type\":\"LinearAxis\"},{\"attributes\":{\"data_source\":{\"id\":\"90ec6cfe-dd10-4ae2-b9b2-3ac8395d7b68\",\"type\":\"ColumnDataSource\"},\"glyph\":{\"id\":\"e2a77eae-6bf5-45bc-b6ee-948035b9859f\",\"type\":\"Line\"},\"hover_glyph\":null,\"nonselection_glyph\":{\"id\":\"e81d9391-f01c-47a7-85c7-908ed0d53fcd\",\"type\":\"Line\"},\"selection_glyph\":null},\"id\":\"3e457a39-ca3a-404e-845a-9fda011cb893\",\"type\":\"GlyphRenderer\"},{\"attributes\":{\"plot\":{\"id\":\"3a7937b4-fc37-4b92-be58-18a3f12bb9d7\",\"subtype\":\"Figure\",\"type\":\"Plot\"}},\"id\":\"d216260f-6818-4103-8b7b-c43735ff441d\",\"type\":\"WheelZoomTool\"},{\"attributes\":{\"bottom_units\":\"screen\",\"fill_alpha\":{\"value\":0.5},\"fill_color\":{\"value\":\"lightgrey\"},\"left_units\":\"screen\",\"level\":\"overlay\",\"line_alpha\":{\"value\":1.0},\"line_color\":{\"value\":\"black\"},\"line_dash\":[4,4],\"line_width\":{\"value\":2},\"plot\":null,\"render_mode\":\"css\",\"right_units\":\"screen\",\"top_units\":\"screen\"},\"id\":\"4d2849b2-412c-4ae1-b069-47648d46a3bb\",\"type\":\"BoxAnnotation\"},{\"attributes\":{\"plot\":{\"id\":\"3a7937b4-fc37-4b92-be58-18a3f12bb9d7\",\"subtype\":\"Figure\",\"type\":\"Plot\"},\"ticker\":{\"id\":\"d17aa1fa-ca63-484e-b93e-458bd6e137ec\",\"type\":\"BasicTicker\"}},\"id\":\"7923e629-65eb-4345-8697-8b5496e7e776\",\"type\":\"Grid\"},{\"attributes\":{\"line_color\":{\"value\":\"#1f77b4\"},\"line_width\":{\"value\":2},\"x\":{\"field\":\"x\"},\"y\":{\"field\":\"y\"}},\"id\":\"e2a77eae-6bf5-45bc-b6ee-948035b9859f\",\"type\":\"Line\"},{\"attributes\":{\"plot\":{\"id\":\"3a7937b4-fc37-4b92-be58-18a3f12bb9d7\",\"subtype\":\"Figure\",\"type\":\"Plot\"}},\"id\":\"7a6d5afc-f54f-48f5-93be-9e702ce18da5\",\"type\":\"SaveTool\"},{\"attributes\":{\"data_source\":{\"id\":\"2e73ca63-ef45-4d50-83bd-12c7b1172d29\",\"type\":\"ColumnDataSource\"},\"glyph\":{\"id\":\"4077dd54-cc8f-43bc-bcfc-1b866f623ec7\",\"type\":\"Circle\"},\"hover_glyph\":null,\"nonselection_glyph\":{\"id\":\"4e2048f4-d79f-4b2b-8aa4-79a18ba3b25a\",\"type\":\"Circle\"},\"selection_glyph\":null},\"id\":\"25d5161d-76ee-4930-8d6c-3e2b0cb5c635\",\"type\":\"GlyphRenderer\"},{\"attributes\":{\"plot\":null,\"text\":null},\"id\":\"0b5ab1a6-0f04-4076-a367-ac6f58ae5cbf\",\"type\":\"Title\"},{\"attributes\":{},\"id\":\"dba9ca4f-06fe-444a-b892-9153ac61c212\",\"type\":\"ToolEvents\"},{\"attributes\":{},\"id\":\"8c04021e-008b-4d4e-9dea-2eb6fd21d932\",\"type\":\"BasicTicker\"},{\"attributes\":{\"callback\":null},\"id\":\"0c50a550-7aeb-4389-8a5e-87ae04ae2bc7\",\"type\":\"DataRange1d\"},{\"attributes\":{},\"id\":\"284001aa-47f1-47b9-b2c3-ae047975882d\",\"type\":\"BasicTickFormatter\"},{\"attributes\":{\"formatter\":{\"id\":\"284001aa-47f1-47b9-b2c3-ae047975882d\",\"type\":\"BasicTickFormatter\"},\"plot\":{\"id\":\"3a7937b4-fc37-4b92-be58-18a3f12bb9d7\",\"subtype\":\"Figure\",\"type\":\"Plot\"},\"ticker\":{\"id\":\"8c04021e-008b-4d4e-9dea-2eb6fd21d932\",\"type\":\"BasicTicker\"}},\"id\":\"25159f61-1c1e-453e-b894-cfd73256f538\",\"type\":\"LinearAxis\"},{\"attributes\":{\"fill_color\":{\"value\":\"white\"},\"line_color\":{\"value\":\"#1f77b4\"},\"size\":{\"units\":\"screen\",\"value\":8},\"x\":{\"field\":\"x\"},\"y\":{\"field\":\"y\"}},\"id\":\"4077dd54-cc8f-43bc-bcfc-1b866f623ec7\",\"type\":\"Circle\"},{\"attributes\":{\"callback\":null},\"id\":\"57def6de-5962-432e-935e-a56967c0d28e\",\"type\":\"DataRange1d\"},{\"attributes\":{},\"id\":\"d17aa1fa-ca63-484e-b93e-458bd6e137ec\",\"type\":\"BasicTicker\"},{\"attributes\":{\"below\":[{\"id\":\"1b6d1223-044f-48e2-b430-107a0260c538\",\"type\":\"LinearAxis\"}],\"left\":[{\"id\":\"25159f61-1c1e-453e-b894-cfd73256f538\",\"type\":\"LinearAxis\"}],\"plot_height\":400,\"plot_width\":400,\"renderers\":[{\"id\":\"1b6d1223-044f-48e2-b430-107a0260c538\",\"type\":\"LinearAxis\"},{\"id\":\"7923e629-65eb-4345-8697-8b5496e7e776\",\"type\":\"Grid\"},{\"id\":\"25159f61-1c1e-453e-b894-cfd73256f538\",\"type\":\"LinearAxis\"},{\"id\":\"5bba83cd-96e6-46b9-ad95-8b299a44f5a7\",\"type\":\"Grid\"},{\"id\":\"4d2849b2-412c-4ae1-b069-47648d46a3bb\",\"type\":\"BoxAnnotation\"},{\"id\":\"3e457a39-ca3a-404e-845a-9fda011cb893\",\"type\":\"GlyphRenderer\"},{\"id\":\"25d5161d-76ee-4930-8d6c-3e2b0cb5c635\",\"type\":\"GlyphRenderer\"}],\"title\":{\"id\":\"0b5ab1a6-0f04-4076-a367-ac6f58ae5cbf\",\"type\":\"Title\"},\"tool_events\":{\"id\":\"dba9ca4f-06fe-444a-b892-9153ac61c212\",\"type\":\"ToolEvents\"},\"toolbar\":{\"id\":\"29475100-9865-4b4e-87e2-1251e97b1de0\",\"type\":\"Toolbar\"},\"x_range\":{\"id\":\"57def6de-5962-432e-935e-a56967c0d28e\",\"type\":\"DataRange1d\"},\"y_range\":{\"id\":\"0c50a550-7aeb-4389-8a5e-87ae04ae2bc7\",\"type\":\"DataRange1d\"}},\"id\":\"3a7937b4-fc37-4b92-be58-18a3f12bb9d7\",\"subtype\":\"Figure\",\"type\":\"Plot\"},{\"attributes\":{\"plot\":{\"id\":\"3a7937b4-fc37-4b92-be58-18a3f12bb9d7\",\"subtype\":\"Figure\",\"type\":\"Plot\"}},\"id\":\"a485ec4a-5915-431f-84cd-ac71465ad5f8\",\"type\":\"HelpTool\"},{\"attributes\":{\"overlay\":{\"id\":\"4d2849b2-412c-4ae1-b069-47648d46a3bb\",\"type\":\"BoxAnnotation\"},\"plot\":{\"id\":\"3a7937b4-fc37-4b92-be58-18a3f12bb9d7\",\"subtype\":\"Figure\",\"type\":\"Plot\"}},\"id\":\"a8f35077-0a8b-4fb0-a6c7-e31e0e85361e\",\"type\":\"BoxZoomTool\"},{\"attributes\":{\"plot\":{\"id\":\"3a7937b4-fc37-4b92-be58-18a3f12bb9d7\",\"subtype\":\"Figure\",\"type\":\"Plot\"}},\"id\":\"5f58d91b-c3a5-47a5-8a1d-999a431c72a3\",\"type\":\"PanTool\"},{\"attributes\":{\"line_alpha\":{\"value\":0.1},\"line_color\":{\"value\":\"#1f77b4\"},\"line_width\":{\"value\":2},\"x\":{\"field\":\"x\"},\"y\":{\"field\":\"y\"}},\"id\":\"e81d9391-f01c-47a7-85c7-908ed0d53fcd\",\"type\":\"Line\"},{\"attributes\":{\"fill_alpha\":{\"value\":0.1},\"fill_color\":{\"value\":\"#1f77b4\"},\"line_alpha\":{\"value\":0.1},\"line_color\":{\"value\":\"#1f77b4\"},\"size\":{\"units\":\"screen\",\"value\":8},\"x\":{\"field\":\"x\"},\"y\":{\"field\":\"y\"}},\"id\":\"4e2048f4-d79f-4b2b-8aa4-79a18ba3b25a\",\"type\":\"Circle\"}],\"root_ids\":[\"3a7937b4-fc37-4b92-be58-18a3f12bb9d7\"]},\"title\":\"Bokeh Application\",\"version\":\"0.12.1\"}};\n",
       "            var render_items = [{\"docid\":\"e245b8f0-219c-4ff3-a04b-436858529f7a\",\"elementid\":\"9f384524-ec25-4295-8ae6-04ec900e955a\",\"modelid\":\"3a7937b4-fc37-4b92-be58-18a3f12bb9d7\",\"notebook_comms_target\":\"fe189c4f-51e3-439c-b4a8-3c0a0c53cb35\"}];\n",
       "            \n",
       "            Bokeh.embed.embed_items(docs_json, render_items);\n",
       "        });\n",
       "      },\n",
       "      function(Bokeh) {\n",
       "      }\n",
       "    ];\n",
       "  \n",
       "    function run_inline_js() {\n",
       "      for (var i = 0; i < inline_js.length; i++) {\n",
       "        inline_js[i](window.Bokeh);\n",
       "      }\n",
       "    }\n",
       "  \n",
       "    if (window._bokeh_is_loading === 0) {\n",
       "      console.log(\"Bokeh: BokehJS loaded, going straight to plotting\");\n",
       "      run_inline_js();\n",
       "    } else {\n",
       "      load_libs(js_urls, function() {\n",
       "        console.log(\"Bokeh: BokehJS plotting callback run at\", now());\n",
       "        run_inline_js();\n",
       "      });\n",
       "    }\n",
       "  }(this));\n",
       "</script>"
      ]
     },
     "metadata": {},
     "output_type": "display_data"
    },
    {
     "data": {
      "text/html": [
       "<p><code>&lt;Bokeh Notebook handle for <strong>In[8]</strong>&gt;</code></p>"
      ],
      "text/plain": [
       "<bokeh.io._CommsHandle at 0x86c8cc0>"
      ]
     },
     "execution_count": 8,
     "metadata": {},
     "output_type": "execute_result"
    }
   ],
   "source": [
    "# set up some data\n",
    "x = [1, 2, 3, 4, 5]\n",
    "y = [6, 7, 8, 7, 3]\n",
    "\n",
    "# create a new plot with figure\n",
    "p = figure(plot_width=400, plot_height=400)\n",
    "\n",
    "# add both a line and circles on the same plot\n",
    "p.line(x, y, line_width=2)\n",
    "p.circle(x, y, fill_color=\"white\", size=8)\n",
    "\n",
    "show(p) # show the results"
   ]
  },
  {
   "cell_type": "code",
   "execution_count": 11,
   "metadata": {
    "collapsed": true
   },
   "outputs": [],
   "source": [
    "# EXERCISE: create your own plot combining multiple glyphs together\n",
    "\n"
   ]
  },
  {
   "cell_type": "code",
   "execution_count": null,
   "metadata": {
    "collapsed": true
   },
   "outputs": [],
   "source": []
  }
 ],
 "metadata": {
  "kernelspec": {
   "display_name": "Python [Root]",
   "language": "python",
   "name": "Python [Root]"
  },
  "language_info": {
   "codemirror_mode": {
    "name": "ipython",
    "version": 2
   },
   "file_extension": ".py",
   "mimetype": "text/x-python",
   "name": "python",
   "nbconvert_exporter": "python",
   "pygments_lexer": "ipython2",
   "version": "2.7.12"
  }
 },
 "nbformat": 4,
 "nbformat_minor": 0
}
