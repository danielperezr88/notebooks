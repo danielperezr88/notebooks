{
 "cells": [
  {
   "cell_type": "code",
   "execution_count": null,
   "metadata": {
    "collapsed": true
   },
   "outputs": [],
   "source": [
    "# DATA SET CANCER DE MAMA https://archive.ics.uci.edu/ml/datasets/Breast+Cancer+Wisconsin+%28Original%29"
   ]
  },
  {
   "cell_type": "code",
   "execution_count": 1,
   "metadata": {
    "collapsed": false
   },
   "outputs": [],
   "source": [
    "import numpy as np\n",
    "# from sklearn import preprocessing, cross_validation, neighbors\n",
    "import pandas as pd\n",
    "\n",
    "df = pd.read_csv('breast-cancer-wisconsin.data_total.txt')\n",
    "df.drop(['id'], 1, inplace=True)\n",
    "\n",
    "df.replace('?',-99999, inplace=True)\n",
    "for col in df.columns:\n",
    "    df = df[df[col] != -99999]\n",
    "\n",
    "labels = {'benign': 2, 'malignant': 4}"
   ]
  },
  {
   "cell_type": "code",
   "execution_count": 4,
   "metadata": {
    "collapsed": false
   },
   "outputs": [
    {
     "data": {
      "text/html": [
       "<div>\n",
       "<table border=\"1\" class=\"dataframe\">\n",
       "  <thead>\n",
       "    <tr style=\"text-align: right;\">\n",
       "      <th></th>\n",
       "      <th>Clump_Thickness</th>\n",
       "      <th>Unifom_Cell_Size</th>\n",
       "      <th>Uniform_Cell_Shape</th>\n",
       "      <th>Marginal_Adhesion</th>\n",
       "      <th>Single_Epithelial_Cell_Size</th>\n",
       "      <th>Bare_Nuclei</th>\n",
       "      <th>Bland_Chromatin</th>\n",
       "      <th>Normal_Nucleoli</th>\n",
       "      <th>Mitoses</th>\n",
       "      <th>Class</th>\n",
       "    </tr>\n",
       "  </thead>\n",
       "  <tbody>\n",
       "    <tr>\n",
       "      <th>0</th>\n",
       "      <td>5</td>\n",
       "      <td>1</td>\n",
       "      <td>1</td>\n",
       "      <td>1</td>\n",
       "      <td>2</td>\n",
       "      <td>1</td>\n",
       "      <td>3</td>\n",
       "      <td>1</td>\n",
       "      <td>1</td>\n",
       "      <td>2</td>\n",
       "    </tr>\n",
       "    <tr>\n",
       "      <th>1</th>\n",
       "      <td>5</td>\n",
       "      <td>4</td>\n",
       "      <td>4</td>\n",
       "      <td>5</td>\n",
       "      <td>7</td>\n",
       "      <td>10</td>\n",
       "      <td>3</td>\n",
       "      <td>2</td>\n",
       "      <td>1</td>\n",
       "      <td>2</td>\n",
       "    </tr>\n",
       "    <tr>\n",
       "      <th>2</th>\n",
       "      <td>3</td>\n",
       "      <td>1</td>\n",
       "      <td>1</td>\n",
       "      <td>1</td>\n",
       "      <td>2</td>\n",
       "      <td>2</td>\n",
       "      <td>3</td>\n",
       "      <td>1</td>\n",
       "      <td>1</td>\n",
       "      <td>2</td>\n",
       "    </tr>\n",
       "    <tr>\n",
       "      <th>3</th>\n",
       "      <td>6</td>\n",
       "      <td>8</td>\n",
       "      <td>8</td>\n",
       "      <td>1</td>\n",
       "      <td>3</td>\n",
       "      <td>4</td>\n",
       "      <td>3</td>\n",
       "      <td>7</td>\n",
       "      <td>1</td>\n",
       "      <td>2</td>\n",
       "    </tr>\n",
       "    <tr>\n",
       "      <th>4</th>\n",
       "      <td>4</td>\n",
       "      <td>1</td>\n",
       "      <td>1</td>\n",
       "      <td>3</td>\n",
       "      <td>2</td>\n",
       "      <td>1</td>\n",
       "      <td>3</td>\n",
       "      <td>1</td>\n",
       "      <td>1</td>\n",
       "      <td>2</td>\n",
       "    </tr>\n",
       "  </tbody>\n",
       "</table>\n",
       "</div>"
      ],
      "text/plain": [
       "   Clump_Thickness  Unifom_Cell_Size  Uniform_Cell_Shape  Marginal_Adhesion  \\\n",
       "0                5                 1                   1                  1   \n",
       "1                5                 4                   4                  5   \n",
       "2                3                 1                   1                  1   \n",
       "3                6                 8                   8                  1   \n",
       "4                4                 1                   1                  3   \n",
       "\n",
       "   Single_Epithelial_Cell_Size Bare_Nuclei  Bland_Chromatin  Normal_Nucleoli  \\\n",
       "0                            2           1                3                1   \n",
       "1                            7          10                3                2   \n",
       "2                            2           2                3                1   \n",
       "3                            3           4                3                7   \n",
       "4                            2           1                3                1   \n",
       "\n",
       "   Mitoses  Class  \n",
       "0        1      2  \n",
       "1        1      2  \n",
       "2        1      2  \n",
       "3        1      2  \n",
       "4        1      2  "
      ]
     },
     "execution_count": 4,
     "metadata": {},
     "output_type": "execute_result"
    }
   ],
   "source": [
    "df.head()"
   ]
  },
  {
   "cell_type": "code",
   "execution_count": 3,
   "metadata": {
    "collapsed": false
   },
   "outputs": [
    {
     "name": "stdout",
     "output_type": "stream",
     "text": [
      "Index([u'Clump_Thickness', u'Unifom_Cell_Size', u'Uniform_Cell_Shape',\n",
      "       u'Marginal_Adhesion', u'Single_Epithelial_Cell_Size', u'Bare_Nuclei',\n",
      "       u'Bland_Chromatin', u'Normal_Nucleoli', u'Mitoses', u'Class'],\n",
      "      dtype='object')\n"
     ]
    }
   ],
   "source": [
    "print(df.columns)"
   ]
  },
  {
   "cell_type": "code",
   "execution_count": null,
   "metadata": {
    "collapsed": false
   },
   "outputs": [],
   "source": [
    "#print(df.values)"
   ]
  },
  {
   "cell_type": "code",
   "execution_count": null,
   "metadata": {
    "collapsed": false
   },
   "outputs": [],
   "source": [
    "#print(df.describe)"
   ]
  },
  {
   "cell_type": "code",
   "execution_count": null,
   "metadata": {
    "collapsed": false
   },
   "outputs": [],
   "source": [
    "#df['Class']"
   ]
  },
  {
   "cell_type": "code",
   "execution_count": null,
   "metadata": {
    "collapsed": false
   },
   "outputs": [],
   "source": [
    "#df[0:2]"
   ]
  },
  {
   "cell_type": "code",
   "execution_count": 116,
   "metadata": {
    "collapsed": false
   },
   "outputs": [
    {
     "data": {
      "text/plain": [
       "Clump_Thickness                3\n",
       "Unifom_Cell_Size               1\n",
       "Uniform_Cell_Shape             1\n",
       "Marginal_Adhesion              1\n",
       "Single_Epithelial_Cell_Size    2\n",
       "Bare_Nuclei                    2\n",
       "Bland_Chromatin                3\n",
       "Normal_Nucleoli                1\n",
       "Mitoses                        1\n",
       "Class                          2\n",
       "Name: 2, dtype: object"
      ]
     },
     "execution_count": 116,
     "metadata": {},
     "output_type": "execute_result"
    }
   ],
   "source": [
    "#df.iloc[2]"
   ]
  },
  {
   "cell_type": "code",
   "execution_count": null,
   "metadata": {
    "collapsed": false
   },
   "outputs": [],
   "source": [
    "# Ponemos condiciones así\n",
    "#df[df.Class > 3]"
   ]
  },
  {
   "cell_type": "code",
   "execution_count": 2,
   "metadata": {
    "collapsed": false
   },
   "outputs": [
    {
     "name": "stderr",
     "output_type": "stream",
     "text": [
      "C:\\WinPython-64bit-2.7.10.3\\python-2.7.10.amd64\\lib\\site-packages\\sklearn\\utils\\validation.py:498: UserWarning: StandardScaler assumes floating point values as input, got int32\n",
      "  \"got %s\" % (estimator, X.dtype))\n"
     ]
    }
   ],
   "source": [
    "# CLASIFICADOR montamos los arrays de NUMPY\n",
    "from sklearn.preprocessing import StandardScaler\n",
    "\n",
    "scaler = StandardScaler()\n",
    "\n",
    "X = np.array(df.drop(['Class'], 1), dtype=int)\n",
    "y = np.array(df['Class'], dtype=int)\n",
    "\n",
    "Xn = np.apply_along_axis(scaler.fit_transform,0,X)\n",
    "yn = np.apply_along_axis(scaler.fit_transform,0,y)"
   ]
  },
  {
   "cell_type": "markdown",
   "metadata": {},
   "source": [
    "### VARIOS CLASIFICADORES CON CROSSFOLDER "
   ]
  },
  {
   "cell_type": "code",
   "execution_count": 3,
   "metadata": {
    "collapsed": true
   },
   "outputs": [],
   "source": [
    "# -VARIOS CLASIFICADORES SVC, RF, KNN, LOG_REG ----------------------------\n",
    "\n",
    "from sklearn.cross_validation import KFold\n",
    "\n",
    "#  definimos la funcion de cross validation\n",
    "def run_cv(X,y,clf_class,**kwargs):\n",
    "    # Construimos el objeto kfolds \n",
    "    kf = KFold(len(y),n_folds=5,shuffle=True)\n",
    "    y_pred = y.copy()\n",
    "    \n",
    "    # tenemos  que iterar sobre todos los kfolds\n",
    "    for train_index, test_index in kf:\n",
    "        X_train, X_test = X[train_index], X[test_index]\n",
    "        y_train = y[train_index]\n",
    "        \n",
    "        \n",
    "        # Iniciamos el clasificador con los keywords arguments...\n",
    "        clf = clf_class(**kwargs)\n",
    "        clf.fit(X_train,y_train)\n",
    "        y_pred[test_index] = clf.predict(X_test)\n",
    "    return y_pred"
   ]
  },
  {
   "cell_type": "code",
   "execution_count": 4,
   "metadata": {
    "collapsed": false
   },
   "outputs": [
    {
     "name": "stdout",
     "output_type": "stream",
     "text": [
      "--------  Confianzas de los calsificadores: \n",
      " \n",
      " \n",
      "Confianza de SVC =  0.96925329429\n",
      "MATRIZ DE CONFUSION de SVC \n",
      "[[430  14]\n",
      " [  7 232]] \n",
      "\n",
      "Confianza de KNN =  0.96925329429\n",
      "MATRIZ DE CONFUSION de KNN \n",
      "[[433  11]\n",
      " [ 10 229]] \n",
      "\n",
      "Confianza de  Log. Regression =  0.96925329429\n",
      "MATRIZ DE CONFUSION de Log. Regression \n",
      "[[434  10]\n",
      " [ 11 228]] \n",
      "\n",
      "Confianza de Random forest: 0.966325036603\n",
      "MATRIZ DE CONFUSION de RANDOM FOREST \n",
      "[[432  12]\n",
      " [ 11 228]] \n",
      "\n"
     ]
    }
   ],
   "source": [
    "from sklearn.svm import SVC\n",
    "from sklearn.ensemble import RandomForestClassifier as RF\n",
    "from sklearn.neighbors import KNeighborsClassifier as KNN\n",
    "from sklearn.linear_model import LogisticRegression as LOG_REG\n",
    "\n",
    "from sklearn.metrics import accuracy_score as accuracy\n",
    "from sklearn.metrics import confusion_matrix\n",
    "\n",
    "lbls = {v: l for l, v in enumerate(np.unique(yn))}\n",
    "actual_values = [lbls[v] for v in yn]\n",
    "\n",
    "# ------- CONFIANZA, RECALL, PRECISION, ETC. ---------------\n",
    "print \"--------  Confianzas de los calsificadores: \\n \\n \"\n",
    "pred_SVC = run_cv(Xn,yn,SVC)\n",
    "pred_SVC = [lbls[v] for v in pred_SVC]\n",
    "print \"Confianza de SVC = \", accuracy(actual_values, pred_SVC)\n",
    "print \"MATRIZ DE CONFUSION de SVC \\n\", confusion_matrix(actual_values, pred_SVC), \"\\n\"\n",
    "\n",
    "pred_KNN = run_cv(Xn,yn,KNN)\n",
    "pred_KNN = [lbls[v] for v in pred_KNN]\n",
    "print \"Confianza de KNN = \", accuracy(actual_values, pred_KNN)\n",
    "print \"MATRIZ DE CONFUSION de KNN \\n\", confusion_matrix(actual_values, pred_KNN), \"\\n\"\n",
    "\n",
    "pred_LOG_REG = run_cv(Xn,yn,LOG_REG)\n",
    "pred_LOG_REG = [lbls[v] for v in pred_LOG_REG]\n",
    "print \"Confianza de  Log. Regression = \", accuracy(actual_values, pred_LOG_REG)\n",
    "print \"MATRIZ DE CONFUSION de Log. Regression \\n\", confusion_matrix(actual_values, pred_LOG_REG), \"\\n\"\n",
    "\n",
    "#print \"%.3f\" % accuracy(y, run_cv(X,y,RF))\n",
    "pred_RF = run_cv(Xn,yn,RF)\n",
    "pred_RF = [lbls[v] for v in pred_RF]\n",
    "print \"Confianza de Random forest:\", accuracy(actual_values, pred_RF)\n",
    "print \"MATRIZ DE CONFUSION de RANDOM FOREST \\n\", confusion_matrix(actual_values, pred_RF), \"\\n\""
   ]
  },
  {
   "cell_type": "markdown",
   "metadata": {},
   "source": [
    "### Calculamos los limites de los SLIDES de BOKEH para que estén derentro del margen de los valores del data set"
   ]
  },
  {
   "cell_type": "code",
   "execution_count": 5,
   "metadata": {
    "collapsed": false
   },
   "outputs": [
    {
     "name": "stdout",
     "output_type": "stream",
     "text": [
      "[-1.22119144 -0.70221201 -0.74177362 -0.63936553 -1.00576342 -0.69885309\n",
      " -0.99885314 -0.61292736 -0.34839971]\n",
      "[ 1.97177486  2.23617957  2.2718962   2.5047784   3.04563091  1.77286724\n",
      "  2.67776377  2.33747554  4.8496901 ]\n"
     ]
    }
   ],
   "source": [
    "print np.amin(Xn,axis=0)\n",
    "print np.amax(Xn,axis=0)"
   ]
  },
  {
   "cell_type": "code",
   "execution_count": 6,
   "metadata": {
    "collapsed": false
   },
   "outputs": [
    {
     "name": "stdout",
     "output_type": "stream",
     "text": [
      "[1 1 1 1 1 1 1 1 1]\n",
      "[10 10 10 10 10 10 10 10 10]\n"
     ]
    }
   ],
   "source": [
    "print np.amin(X,axis=0)\n",
    "print np.amax(X,axis=0)"
   ]
  },
  {
   "cell_type": "markdown",
   "metadata": {},
   "source": [
    "# Ahora calculamos los puntos cercanos a un punto dado para calcular donde están mas proximas los puntos de categoria diferente, (cancerosas). Esto nos ayudará a seleccionar las direcciones más relevantes a la hora de estudiar la evolución del punto en cuestión.\n",
    "##UTLIZAMOS UN EJEMPLO SENCILLO DE DATAFRAME EN SU LUGAR"
   ]
  },
  {
   "cell_type": "code",
   "execution_count": 22,
   "metadata": {
    "collapsed": false
   },
   "outputs": [
    {
     "name": "stdout",
     "output_type": "stream",
     "text": [
      "(458L, 9L)\n",
      "(241L, 9L)\n"
     ]
    }
   ],
   "source": [
    "print X[y==2].shape\n",
    "print X[y==4].shape"
   ]
  },
  {
   "cell_type": "code",
   "execution_count": 7,
   "metadata": {
    "collapsed": false
   },
   "outputs": [],
   "source": [
    "classes = {}\n",
    "for each in np.unique(y).tolist():\n",
    "    classes[each] = Xn[y==each]"
   ]
  },
  {
   "cell_type": "code",
   "execution_count": 8,
   "metadata": {
    "collapsed": false
   },
   "outputs": [],
   "source": [
    "from sklearn.metrics import silhouette_score\n",
    "from sklearn.cluster import KMeans\n",
    "\n",
    "# K-Means Cluster search on malignant cells\n",
    "silh = []\n",
    "c_min = 2\n",
    "c_max = 20\n",
    "km_model = [0] * c_max\n",
    "for t in range(2,20):\n",
    "    km_model[t-c_min] = KMeans(n_clusters=t).fit(classes[labels['malignant']])\n",
    "    silh.append(silhouette_score(classes[labels['malignant']], km_model[t-c_min].labels_, metric='sqeuclidean'))\n",
    "\n",
    "idx = np.argmax(silh)\n",
    "n_clusters = idx + c_min\n",
    "cluster_lbl = km_model[idx].labels_"
   ]
  },
  {
   "cell_type": "code",
   "execution_count": 9,
   "metadata": {
    "collapsed": false
   },
   "outputs": [
    {
     "data": {
      "text/plain": [
       "array([1, 1, 1, 1, 1, 1, 1, 1, 1, 1, 1, 1, 1, 1, 1, 1, 1, 1, 1, 1, 1, 0, 1,\n",
       "       1, 1, 1, 1, 1, 1, 1, 1, 0, 1, 0, 0, 1, 1, 0, 0, 1, 1, 0, 1, 1, 1, 1,\n",
       "       0, 1, 1, 1, 1, 1, 1, 1, 0, 1, 1, 1, 1, 1, 1, 1, 1, 0, 1, 1, 1, 0, 1,\n",
       "       1, 0, 0, 1, 1, 1, 1, 1, 1, 1, 0, 1, 1, 0, 1, 1, 0, 1, 0, 1, 0, 1, 1,\n",
       "       1, 1, 1, 1, 1, 1, 1, 1, 1, 1, 1, 0, 1, 0, 1, 1, 1, 1, 1, 1, 1, 1, 0,\n",
       "       1, 1, 1, 1, 1, 0, 1, 1, 1, 0, 1, 1, 1, 0, 0, 1, 1, 1, 1, 1, 1, 0, 1,\n",
       "       1, 1, 1, 1, 1, 1, 1, 1, 1, 1, 1, 1, 1, 1, 1, 1, 1, 1, 1, 0, 1, 0, 1,\n",
       "       1, 0, 1, 0, 1, 1, 1, 1, 0, 1, 1, 1, 1, 1, 1, 1, 1, 1, 1, 1, 1, 1, 1,\n",
       "       1, 1, 1, 1, 0, 1, 0, 1, 1, 1, 1, 0, 1, 1, 1, 1, 1, 1, 1, 1, 1, 1, 1,\n",
       "       1, 1, 1, 1, 1, 1, 1, 1, 1, 1, 1, 1, 1, 1, 1, 1, 1, 0, 1, 1, 1, 0, 1,\n",
       "       1, 1, 1, 0, 1, 1, 1, 1, 1])"
      ]
     },
     "execution_count": 9,
     "metadata": {},
     "output_type": "execute_result"
    }
   ],
   "source": [
    "cluster_lbl"
   ]
  },
  {
   "cell_type": "code",
   "execution_count": 10,
   "metadata": {
    "collapsed": false
   },
   "outputs": [
    {
     "data": {
      "text/plain": [
       "{0: array([ 4.94594595,  3.48648649,  3.64864865,  3.24324324,  4.02702703,\n",
       "         4.21621622,  4.05405405,  3.59459459,  1.86486486]),\n",
       " 1: array([ 4.74752475,  3.5049505 ,  3.60891089,  2.92079208,  3.66336634,\n",
       "         4.06435644,  3.88613861,  3.42079208,  1.91089109])}"
      ]
     },
     "execution_count": 10,
     "metadata": {},
     "output_type": "execute_result"
    }
   ],
   "source": [
    "centroid = {}\n",
    "for each in np.unique(cluster_lbl).tolist():\n",
    "    centroid[each] = np.mean(X[cluster_lbl==each],0)\n",
    "\n",
    "centroid"
   ]
  },
  {
   "cell_type": "code",
   "execution_count": null,
   "metadata": {
    "collapsed": true
   },
   "outputs": [],
   "source": [
    "def estimate_prognosis_weight_vector(cell, malignants, c_min=2, c_max=20, metric='euclidean'):\n",
    "    \n",
    "    # K-Means Cluster search on malignant cells\n",
    "    silh = []\n",
    "    km_model = [0] * c_max\n",
    "    for t in range(2,20):\n",
    "        km_model[t-c_min] = KMeans(n_clusters=t).fit(malignants)\n",
    "        silh.append(silhouette_score(malignants, km_model[t-c_min].labels_, metric=metric))\n",
    "\n",
    "    idx = np.argmax(silh)\n",
    "    n_clusters = idx + c_min\n",
    "    cluster_lbl = km_model[idx].labels_\n",
    "    \n",
    "    # Cluster centroid retrieval and distance calculation\n",
    "    distance, centroid = {}, {}\n",
    "    for each in np.unique(cluster_lbl).tolist():\n",
    "        centroid[each] = np.mean(malignants[cluster_lbl==each],0)\n",
    "        distance[each] = np.sqrt(np.sum(np.power(centroid[each] - cell,2)))\n",
    "    \n",
    "    return {k: (v, distance.keys()[k]) for k, v in enumerate(distance.values())}[np.argmin(distance.values())]\n",
    "\n",
    "estimate_prognosis_weight_vector([])## TODO: Continuar por aquí"
   ]
  },
  {
   "cell_type": "code",
   "execution_count": 19,
   "metadata": {
    "collapsed": false
   },
   "outputs": [
    {
     "data": {
      "text/plain": [
       "{2: array([[5, 1, 1, ..., 3, 1, 1],\n",
       "        [5, 4, 4, ..., 3, 2, 1],\n",
       "        [3, 1, 1, ..., 3, 1, 1],\n",
       "        ..., \n",
       "        [3, 1, 1, ..., 2, 1, 2],\n",
       "        [3, 1, 1, ..., 1, 1, 1],\n",
       "        [2, 1, 1, ..., 1, 1, 1]]), 4: array([[ 8, 10, 10, ...,  9,  7,  1],\n",
       "        [ 5,  3,  3, ...,  4,  4,  1],\n",
       "        [ 8,  7,  5, ...,  5,  5,  4],\n",
       "        ..., \n",
       "        [ 5, 10, 10, ...,  8, 10,  2],\n",
       "        [ 4,  8,  6, ..., 10,  6,  1],\n",
       "        [ 4,  8,  8, ..., 10,  4,  1]])}"
      ]
     },
     "execution_count": 19,
     "metadata": {},
     "output_type": "execute_result"
    }
   ],
   "source": [
    "## Esto posiblemente ya no sirva...\n",
    "classes = {}\n",
    "for each in np.unique(y).tolist():\n",
    "    classes[each] = X[y==each]\n",
    "\n",
    "benign = classes[labels['benign']]\n",
    "malignant = classes[labels['malignant']]\n",
    "\n",
    "b_dims = benign.shape\n",
    "m_dims = malignant.shape\n",
    "\n",
    "benign = np.reshape(benign, b_dims + (1,))\n",
    "malignant = np.reshape(malignant, m_dims + (1,))\n",
    "\n",
    "np.tile(benign, [1, 1, m_dims[0]]) - "
   ]
  },
  {
   "cell_type": "markdown",
   "metadata": {},
   "source": [
    "# PREDICCIONES CON INPUTS"
   ]
  },
  {
   "cell_type": "code",
   "execution_count": null,
   "metadata": {
    "collapsed": false
   },
   "outputs": [],
   "source": [
    "# vamos a hacer predicciones :\n",
    "\n",
    "example_measures = np.array([[10,5,5,3,6,7,7,10,1]])\n",
    "example_measures = example_measures.reshape(len(example_measures), -1)\n",
    "prediction = clf.predict(example_measures)\n",
    "print(prediction)"
   ]
  },
  {
   "cell_type": "code",
   "execution_count": 50,
   "metadata": {
    "collapsed": false
   },
   "outputs": [
    {
     "name": "stdout",
     "output_type": "stream",
     "text": [
      "[[5L 1L 1L ..., 1L 1L 2L]\n",
      " [5L 4L 4L ..., 2L 1L 2L]\n",
      " [3L 1L 1L ..., 1L 1L 2L]\n",
      " ..., \n",
      " [5L 10L 10L ..., 10L 2L 4L]\n",
      " [4L 8L 6L ..., 6L 1L 4L]\n",
      " [4L 8L 8L ..., 4L 1L 4L]]\n"
     ]
    }
   ],
   "source": [
    "print(df.values)"
   ]
  },
  {
   "cell_type": "markdown",
   "metadata": {
    "collapsed": true
   },
   "source": [
    "# 2 PARTE: gráficas-------------------------------------------------------------------------------------------------------------------------------------------------------------------------------------------------------------------------------------------------------------------------------------------------------------------------\n"
   ]
  },
  {
   "cell_type": "code",
   "execution_count": null,
   "metadata": {
    "collapsed": false
   },
   "outputs": [],
   "source": [
    "# condiciones que definen nuevos datasets\n",
    "df_tumoral = df[df.Class > 3]\n",
    "df_NO_tumoral = df[df.Class < 3]\n",
    "\n",
    "df_tumoral.head()"
   ]
  },
  {
   "cell_type": "code",
   "execution_count": null,
   "metadata": {
    "collapsed": false
   },
   "outputs": [],
   "source": [
    "# graficas scattered \n",
    "import matplotlib.pyplot as plt\n",
    "#scattercols = ['price','accommodates', 'number_of_reviews', 'reviews_per_month', 'beds', 'availability_30', 'review_scores_rating']\n",
    "scattercols = df.columns\n",
    "axs = pd.scatter_matrix(df[scattercols],\n",
    "                        figsize=(12, 12), c='red')\n",
    "\n",
    "plt.figure(figsize=(1920,1080))\n",
    "plt.show()"
   ]
  },
  {
   "cell_type": "code",
   "execution_count": null,
   "metadata": {
    "collapsed": true
   },
   "outputs": [],
   "source": [
    "# definimos una funcion distancia de un registro del data se"
   ]
  },
  {
   "cell_type": "code",
   "execution_count": null,
   "metadata": {
    "collapsed": false
   },
   "outputs": [],
   "source": [
    "df_NO_tumoral.head()"
   ]
  },
  {
   "cell_type": "code",
   "execution_count": null,
   "metadata": {
    "collapsed": false
   },
   "outputs": [],
   "source": [
    "from mpl_toolkits.mplot3d import axes3d\n",
    "import matplotlib.pyplot as plt\n",
    "from matplotlib import style\n",
    "\n",
    "style.use('ggplot')\n",
    "\n",
    "fig = plt.figure()\n",
    "ax1 = fig.add_subplot(111, projection='3d')\n",
    "\n",
    "x = df_tumoral.Clump_Thickness\n",
    "y = df_tumoral.Uniform_Cell_Shape\n",
    "z = df_tumoral.Unifom_Cell_Size\n",
    "\n",
    "x2 = df_NO_tumoral.Clump_Thickness\n",
    "y2 = df_NO_tumoral.Uniform_Cell_Shape\n",
    "z2 = df_NO_tumoral.Unifom_Cell_Size\n",
    "\n",
    "\n",
    "ax1.scatter(x, y, z, c='g', marker='o')\n",
    "ax1.scatter(x2, y2, z2, c ='r', marker='o')\n",
    "\n",
    "ax1.set_xlabel('Espesor')\n",
    "ax1.set_ylabel('Forma Celular')\n",
    "ax1.set_zlabel(u'Tamaño Celular')\n",
    "\n",
    "plt.show()"
   ]
  },
  {
   "cell_type": "code",
   "execution_count": null,
   "metadata": {
    "collapsed": false
   },
   "outputs": [],
   "source": [
    "#imprimimos las 3 primeras variables de prueba\n",
    "\n",
    "from mpl_toolkits.mplot3d import axes3d\n",
    "import matplotlib.pyplot as plt\n",
    "from matplotlib import style\n",
    "\n",
    "style.use('ggplot')\n",
    "\n",
    "fig = plt.figure()\n",
    "ax1 = fig.add_subplot(111, projection='3d')\n",
    "\n",
    "\n",
    "\n",
    "x = df_tumoral.eval(df_tumoral.columns[1])\n",
    "y =  df_tumoral.eval(df_tumoral.columns[2])\n",
    "z =  df_tumoral.eval(df_tumoral.columns[3])\n",
    "\n",
    "x2 = df_NO_tumoral.eval(df_NO_tumoral.columns[1])\n",
    "y2 = df_NO_tumoral.eval(df_NO_tumoral.columns[2])\n",
    "z2 = df_NO_tumoral.eval(df_NO_tumoral.columns[3])\n",
    "\n",
    "\n",
    "ax1.scatter(x, y, z, c='g', marker='o')\n",
    "ax1.scatter(x2, y2, z2, c ='r', marker='o')\n",
    "\n",
    "ax1.set_xlabel('Espesor')\n",
    "ax1.set_ylabel('Forma Celular')\n",
    "ax1.set_zlabel(u'Tamaño Celular')\n",
    "\n",
    "plt.show()"
   ]
  },
  {
   "cell_type": "code",
   "execution_count": null,
   "metadata": {
    "collapsed": false
   },
   "outputs": [],
   "source": [
    "print(df.columns)"
   ]
  },
  {
   "cell_type": "code",
   "execution_count": null,
   "metadata": {
    "collapsed": false
   },
   "outputs": [],
   "source": [
    "print(df.columns[9])\n",
    "print(len(df.columns))\n",
    "      "
   ]
  },
  {
   "cell_type": "code",
   "execution_count": null,
   "metadata": {
    "collapsed": false
   },
   "outputs": [],
   "source": [
    "# funcion GENERICA QUE DIBUJA UNA COMBINACION particulr de las variable\n",
    "\n",
    "from mpl_toolkits.mplot3d import axes3d\n",
    "import matplotlib.pyplot as plt\n",
    "from matplotlib import style\n",
    "\n",
    "def dibuja_grafica(i,j,k):\n",
    "\n",
    "    style.use('ggplot')\n",
    "\n",
    "    fig = plt.figure()\n",
    "    ax1 = fig.add_subplot(111, projection='3d')\n",
    "\n",
    "\n",
    "    x = df_tumoral.eval(df_tumoral.columns[i])\n",
    "    y =  df_tumoral.eval(df_tumoral.columns[j])\n",
    "    z =  df_tumoral.eval(df_tumoral.columns[k])\n",
    "\n",
    "    x2 = df_NO_tumoral.eval(df_NO_tumoral.columns[i])\n",
    "    y2 = df_NO_tumoral.eval(df_NO_tumoral.columns[j])\n",
    "    z2 = df_NO_tumoral.eval(df_NO_tumoral.columns[k])\n",
    "\n",
    "    ax1.scatter(x, y, z, c='g', label='TUMORALES', marker='o')\n",
    "    ax1.scatter(x2, y2, z2, c ='r', label='SANAS', marker='o')\n",
    "    \n",
    "    #plt.scatter(x,y, label='TUMORALES', color='g', s=25, marker=\"o\")\n",
    "    #plt.scatter(x2,y2, label='SANAS', color='r', s=25, marker=\"o\")\n",
    " \n",
    "    ax1.set_xlabel(df_tumoral.columns[i])\n",
    "    ax1.set_ylabel(df_tumoral.columns[j])\n",
    "    ax1.set_zlabel(df_tumoral.columns[k])\n",
    "    \n",
    "    plt.title('Breast Cancer Dataset Analysis               ')\n",
    "    plt.legend()\n",
    "\n",
    "    plt.show()  \n",
    "    #plt.savefig('graf_'+df_tumoral.columns[i]+df_tumoral.columns[j]+df_tumoral.columns[k]+'.png')\n",
    "\n",
    "dibuja_grafica(1,2,4)\n",
    "    \n",
    "    \n",
    "\n",
    "    "
   ]
  },
  {
   "cell_type": "code",
   "execution_count": null,
   "metadata": {
    "collapsed": false
   },
   "outputs": [],
   "source": [
    "df.columns[-1]"
   ]
  },
  {
   "cell_type": "code",
   "execution_count": null,
   "metadata": {
    "collapsed": false
   },
   "outputs": [],
   "source": [
    "# representacion de todas las GRAFICAS combinacion total de variables\n",
    "\n",
    "for counter1 in range(0,len(df.columns)-4):\n",
    "    for counter2 in range(counter1 + 1,len(df.columns)):\n",
    "        for counter3 in range(counter2 + 1,len(df.columns)):\n",
    "            try:\n",
    "                dibuja_grafica(counter1,counter2,counter3)\n",
    "                #print counter1,\",\", counter2,\",\", counter3\n",
    "            except Exception:\n",
    "                pass"
   ]
  },
  {
   "cell_type": "code",
   "execution_count": null,
   "metadata": {
    "collapsed": false
   },
   "outputs": [],
   "source": [
    "# recordatorio de graficas en 2D\n",
    "\n",
    "import matplotlib.pyplot as plt\n",
    "\n",
    "x = [1,2,3,4,5,6,7,8]\n",
    "y = [5,2,4,2,1,4,5,2]\n",
    "\n",
    "x2 = [2,3,3,7,5,2,5]\n",
    "y2 = [3,1,0,2,4,5,2]\n",
    "\n",
    "\n",
    "#style.use('ggplot')\n",
    "\n",
    "fig = plt.figure() \n",
    "\n",
    "# AÑADIMOS UN SUBPLOT sobre fig\n",
    "ax1 = fig.add_subplot(111)\n",
    "\n",
    "ax1.scatter(x, y, c='g', marker='o')\n",
    "ax1.scatter(x2, y2, c ='r', marker='o')\n",
    "\n",
    "plt.scatter(x,y, label='TUMORALES', color='g', s=25, marker=\"o\")\n",
    "plt.scatter(x2,y2, label='NORMALES', color='r', s=25, marker=\"o\")\n",
    "\n",
    "plt.xlabel('x')\n",
    "plt.ylabel('y')\n",
    "plt.title('Breast Cancer Analysis')\n",
    "plt.legend()\n",
    "plt.show()"
   ]
  },
  {
   "cell_type": "code",
   "execution_count": null,
   "metadata": {
    "collapsed": false
   },
   "outputs": [],
   "source": [
    "# GRAFICA EN 2D  con la clase como Z\n",
    "import matplotlib.pyplot as plt\n",
    "from matplotlib import style\n",
    "\n",
    "def dibuja_grafica2D(i,j,k):\n",
    "\n",
    "    style.use('ggplot')\n",
    "    \n",
    "    x = df_tumoral.eval(df_tumoral.columns[i])\n",
    "    y =  df_tumoral.eval(df_tumoral.columns[j])\n",
    "\n",
    "    x2 = df_NO_tumoral.eval(df_NO_tumoral.columns[i])\n",
    "    y2 = df_NO_tumoral.eval(df_NO_tumoral.columns[j])\n",
    "    \n",
    "    fig = plt.figure() \n",
    "\n",
    "    # AÑADIMOS UN SUBPLOT sobre fig\n",
    "    ax1 = fig.add_subplot(111)\n",
    "\n",
    "    ax1.scatter(x, y, c='g', marker='o')\n",
    "    ax1.scatter(x2, y2, c ='r', marker='o')\n",
    "\n",
    "    plt.scatter(x,y, label='TUMORALES', color='g', s=25, marker=\"o\")\n",
    "    plt.scatter(x2,y2, label='SANAS', color='r', s=25, marker=\"o\")\n",
    "\n",
    "    # ax1.scatter(x, y, z, c='g', marker='o')\n",
    "    # ax1.scatter(x2, y2, z2, c ='r', marker='o')\n",
    "\n",
    "    ax1.set_xlabel(df_tumoral.columns[i])\n",
    "    ax1.set_ylabel(df_tumoral.columns[j])\n",
    "\n",
    "\n",
    "    plt.title('Breast Cancer Dataset Analysis - Human Forecast')\n",
    "    plt.legend()\n",
    "    #plt.show()\n",
    "    plt.savefig('graficos/graf_'+df_tumoral.columns[i]+df_tumoral.columns[j]+'.png')\n",
    "\n",
    "\n",
    "dibuja_grafica2D(1,2,9)"
   ]
  },
  {
   "cell_type": "code",
   "execution_count": null,
   "metadata": {
    "collapsed": false
   },
   "outputs": [],
   "source": [
    "# pero ahora solo estamos interesados en combinar dos a dos \n",
    "# con z que sea la clase de tumor que es el indice 9\n",
    "\n",
    "for counter1 in range(0,len(df.columns)-2):\n",
    "    for counter2 in range(counter1 + 1,len(df.columns)-1):\n",
    "            try:\n",
    "                dibuja_grafica2D(counter1,counter2,9)\n",
    "                #print counter1,\",\", counter2\n",
    "            except Exception:\n",
    "                pass"
   ]
  },
  {
   "cell_type": "code",
   "execution_count": null,
   "metadata": {
    "collapsed": true
   },
   "outputs": [],
   "source": []
  }
 ],
 "metadata": {
  "anaconda-cloud": {},
  "kernelspec": {
   "display_name": "Python 2",
   "language": "python",
   "name": "python2"
  },
  "language_info": {
   "codemirror_mode": {
    "name": "ipython",
    "version": 2
   },
   "file_extension": ".py",
   "mimetype": "text/x-python",
   "name": "python",
   "nbconvert_exporter": "python",
   "pygments_lexer": "ipython2",
   "version": "2.7.10"
  }
 },
 "nbformat": 4,
 "nbformat_minor": 0
}
